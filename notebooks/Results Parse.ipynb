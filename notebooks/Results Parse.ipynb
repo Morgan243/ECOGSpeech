{
 "cells": [
  {
   "cell_type": "code",
   "execution_count": 1,
   "metadata": {},
   "outputs": [
    {
     "name": "stderr",
     "output_type": "stream",
     "text": [
      "/home/morgan/.conda/envs/venv/lib/python3.8/site-packages/torchaudio/backend/utils.py:53: UserWarning: \"sox\" backend is being deprecated. The default backend will be changed to \"sox_io\" backend in 0.8.0 and \"sox\" backend will be removed in 0.9.0. Please migrate to \"sox_io\" backend. Please refer to https://github.com/pytorch/audio/issues/903 for the detail.\n",
      "  warnings.warn(\n"
     ]
    }
   ],
   "source": [
    "import pandas as pd\n",
    "import numpy as np\n",
    "import matplotlib\n",
    "import torch\n",
    "from glob import glob\n",
    "import os\n",
    "import json\n",
    "from ecog_speech import datasets, feature_processing, experiments, utils\n",
    "from tqdm.auto import tqdm\n",
    "\n",
    "%matplotlib inline"
   ]
  },
  {
   "cell_type": "markdown",
   "metadata": {},
   "source": [
    "Load result JSON files into a list of objects"
   ]
  },
  {
   "cell_type": "code",
   "execution_count": 2,
   "metadata": {},
   "outputs": [
    {
     "data": {
      "application/vnd.jupyter.widget-view+json": {
       "model_id": "6989c210ee274c9b850e2a20c09b4983",
       "version_major": 2,
       "version_minor": 0
      },
      "text/plain": [
       "HBox(children=(HTML(value=''), FloatProgress(value=0.0, max=28.0), HTML(value='')))"
      ]
     },
     "metadata": {},
     "output_type": "display_data"
    },
    {
     "name": "stdout",
     "output_type": "stream",
     "text": [
      "\n"
     ]
    }
   ],
   "source": [
    "# Link a results dir in the project root\n",
    "base_path = \"../results/\"\n",
    "\n",
    "result_files = glob(os.path.join(base_path, '*.json'))\n",
    "\n",
    "json_result_data = [json.load(open(f)) for f in tqdm(result_files)]"
   ]
  },
  {
   "cell_type": "markdown",
   "metadata": {},
   "source": [
    "Parse into dataframe"
   ]
  },
  {
   "cell_type": "code",
   "execution_count": 3,
   "metadata": {},
   "outputs": [
    {
     "data": {
      "text/plain": [
       "Index(['name', 'datetime', 'uid', 'batch_losses', 'num_trainable_params',\n",
       "       'num_params', 'f1', 'accuracy', 'precision', 'recall', 'model_name',\n",
       "       'dataset', 'learning_rate', 'dense_width', 'sn_n_bands',\n",
       "       'sn_kernel_size', 'sn_padding', 'n_cnn_filters', 'dropout',\n",
       "       'dropout_2d', 'batchnorm', 'roll_channels', 'power_q', 'n_epochs',\n",
       "       'batch_size', 'device', 'save_model_path', 'tag', 'result_dir', 'path'],\n",
       "      dtype='object')"
      ]
     },
     "execution_count": 3,
     "metadata": {},
     "output_type": "execute_result"
    }
   ],
   "source": [
    "results_df = pd.DataFrame(json_result_data).sort_values('f1', ascending=False)\n",
    "\n",
    "results_df.columns"
   ]
  },
  {
   "cell_type": "code",
   "execution_count": 4,
   "metadata": {},
   "outputs": [
    {
     "data": {
      "text/html": [
       "<div>\n",
       "<style scoped>\n",
       "    .dataframe tbody tr th:only-of-type {\n",
       "        vertical-align: middle;\n",
       "    }\n",
       "\n",
       "    .dataframe tbody tr th {\n",
       "        vertical-align: top;\n",
       "    }\n",
       "\n",
       "    .dataframe thead th {\n",
       "        text-align: right;\n",
       "    }\n",
       "</style>\n",
       "<table border=\"1\" class=\"dataframe\">\n",
       "  <thead>\n",
       "    <tr style=\"text-align: right;\">\n",
       "      <th></th>\n",
       "      <th>count</th>\n",
       "      <th>mean</th>\n",
       "      <th>std</th>\n",
       "      <th>min</th>\n",
       "      <th>25%</th>\n",
       "      <th>50%</th>\n",
       "      <th>75%</th>\n",
       "      <th>max</th>\n",
       "    </tr>\n",
       "  </thead>\n",
       "  <tbody>\n",
       "    <tr>\n",
       "      <th>num_trainable_params</th>\n",
       "      <td>28.0</td>\n",
       "      <td>9563.928571</td>\n",
       "      <td>6.837153e+03</td>\n",
       "      <td>3163.000000</td>\n",
       "      <td>3361.000000</td>\n",
       "      <td>7606.000000</td>\n",
       "      <td>18019.000000</td>\n",
       "      <td>22123.000000</td>\n",
       "    </tr>\n",
       "    <tr>\n",
       "      <th>num_params</th>\n",
       "      <td>28.0</td>\n",
       "      <td>9563.928571</td>\n",
       "      <td>6.837153e+03</td>\n",
       "      <td>3163.000000</td>\n",
       "      <td>3361.000000</td>\n",
       "      <td>7606.000000</td>\n",
       "      <td>18019.000000</td>\n",
       "      <td>22123.000000</td>\n",
       "    </tr>\n",
       "    <tr>\n",
       "      <th>f1</th>\n",
       "      <td>28.0</td>\n",
       "      <td>0.920037</td>\n",
       "      <td>1.559990e-02</td>\n",
       "      <td>0.849631</td>\n",
       "      <td>0.916124</td>\n",
       "      <td>0.922422</td>\n",
       "      <td>0.926204</td>\n",
       "      <td>0.939230</td>\n",
       "    </tr>\n",
       "    <tr>\n",
       "      <th>accuracy</th>\n",
       "      <td>28.0</td>\n",
       "      <td>0.922693</td>\n",
       "      <td>1.539310e-02</td>\n",
       "      <td>0.851290</td>\n",
       "      <td>0.920138</td>\n",
       "      <td>0.925478</td>\n",
       "      <td>0.928598</td>\n",
       "      <td>0.940217</td>\n",
       "    </tr>\n",
       "    <tr>\n",
       "      <th>precision</th>\n",
       "      <td>28.0</td>\n",
       "      <td>0.953146</td>\n",
       "      <td>2.111599e-02</td>\n",
       "      <td>0.859213</td>\n",
       "      <td>0.952496</td>\n",
       "      <td>0.956974</td>\n",
       "      <td>0.962986</td>\n",
       "      <td>0.972029</td>\n",
       "    </tr>\n",
       "    <tr>\n",
       "      <th>recall</th>\n",
       "      <td>28.0</td>\n",
       "      <td>0.889504</td>\n",
       "      <td>1.994756e-02</td>\n",
       "      <td>0.840261</td>\n",
       "      <td>0.881587</td>\n",
       "      <td>0.888275</td>\n",
       "      <td>0.900290</td>\n",
       "      <td>0.931681</td>\n",
       "    </tr>\n",
       "    <tr>\n",
       "      <th>learning_rate</th>\n",
       "      <td>28.0</td>\n",
       "      <td>0.001000</td>\n",
       "      <td>6.624585e-19</td>\n",
       "      <td>0.001000</td>\n",
       "      <td>0.001000</td>\n",
       "      <td>0.001000</td>\n",
       "      <td>0.001000</td>\n",
       "      <td>0.001000</td>\n",
       "    </tr>\n",
       "    <tr>\n",
       "      <th>sn_n_bands</th>\n",
       "      <td>28.0</td>\n",
       "      <td>2.892857</td>\n",
       "      <td>1.423071e+00</td>\n",
       "      <td>1.000000</td>\n",
       "      <td>2.000000</td>\n",
       "      <td>3.000000</td>\n",
       "      <td>4.000000</td>\n",
       "      <td>5.000000</td>\n",
       "    </tr>\n",
       "    <tr>\n",
       "      <th>sn_kernel_size</th>\n",
       "      <td>28.0</td>\n",
       "      <td>31.000000</td>\n",
       "      <td>0.000000e+00</td>\n",
       "      <td>31.000000</td>\n",
       "      <td>31.000000</td>\n",
       "      <td>31.000000</td>\n",
       "      <td>31.000000</td>\n",
       "      <td>31.000000</td>\n",
       "    </tr>\n",
       "    <tr>\n",
       "      <th>sn_padding</th>\n",
       "      <td>28.0</td>\n",
       "      <td>0.000000</td>\n",
       "      <td>0.000000e+00</td>\n",
       "      <td>0.000000</td>\n",
       "      <td>0.000000</td>\n",
       "      <td>0.000000</td>\n",
       "      <td>0.000000</td>\n",
       "      <td>0.000000</td>\n",
       "    </tr>\n",
       "    <tr>\n",
       "      <th>n_cnn_filters</th>\n",
       "      <td>28.0</td>\n",
       "      <td>17.714286</td>\n",
       "      <td>9.823845e+00</td>\n",
       "      <td>8.000000</td>\n",
       "      <td>8.000000</td>\n",
       "      <td>16.000000</td>\n",
       "      <td>32.000000</td>\n",
       "      <td>32.000000</td>\n",
       "    </tr>\n",
       "    <tr>\n",
       "      <th>dropout</th>\n",
       "      <td>28.0</td>\n",
       "      <td>0.133929</td>\n",
       "      <td>1.269686e-01</td>\n",
       "      <td>0.000000</td>\n",
       "      <td>0.000000</td>\n",
       "      <td>0.250000</td>\n",
       "      <td>0.250000</td>\n",
       "      <td>0.250000</td>\n",
       "    </tr>\n",
       "    <tr>\n",
       "      <th>power_q</th>\n",
       "      <td>28.0</td>\n",
       "      <td>0.700000</td>\n",
       "      <td>3.391787e-16</td>\n",
       "      <td>0.700000</td>\n",
       "      <td>0.700000</td>\n",
       "      <td>0.700000</td>\n",
       "      <td>0.700000</td>\n",
       "      <td>0.700000</td>\n",
       "    </tr>\n",
       "    <tr>\n",
       "      <th>n_epochs</th>\n",
       "      <td>28.0</td>\n",
       "      <td>15.000000</td>\n",
       "      <td>0.000000e+00</td>\n",
       "      <td>15.000000</td>\n",
       "      <td>15.000000</td>\n",
       "      <td>15.000000</td>\n",
       "      <td>15.000000</td>\n",
       "      <td>15.000000</td>\n",
       "    </tr>\n",
       "    <tr>\n",
       "      <th>batch_size</th>\n",
       "      <td>28.0</td>\n",
       "      <td>256.000000</td>\n",
       "      <td>0.000000e+00</td>\n",
       "      <td>256.000000</td>\n",
       "      <td>256.000000</td>\n",
       "      <td>256.000000</td>\n",
       "      <td>256.000000</td>\n",
       "      <td>256.000000</td>\n",
       "    </tr>\n",
       "  </tbody>\n",
       "</table>\n",
       "</div>"
      ],
      "text/plain": [
       "                      count         mean           std          min  \\\n",
       "num_trainable_params   28.0  9563.928571  6.837153e+03  3163.000000   \n",
       "num_params             28.0  9563.928571  6.837153e+03  3163.000000   \n",
       "f1                     28.0     0.920037  1.559990e-02     0.849631   \n",
       "accuracy               28.0     0.922693  1.539310e-02     0.851290   \n",
       "precision              28.0     0.953146  2.111599e-02     0.859213   \n",
       "recall                 28.0     0.889504  1.994756e-02     0.840261   \n",
       "learning_rate          28.0     0.001000  6.624585e-19     0.001000   \n",
       "sn_n_bands             28.0     2.892857  1.423071e+00     1.000000   \n",
       "sn_kernel_size         28.0    31.000000  0.000000e+00    31.000000   \n",
       "sn_padding             28.0     0.000000  0.000000e+00     0.000000   \n",
       "n_cnn_filters          28.0    17.714286  9.823845e+00     8.000000   \n",
       "dropout                28.0     0.133929  1.269686e-01     0.000000   \n",
       "power_q                28.0     0.700000  3.391787e-16     0.700000   \n",
       "n_epochs               28.0    15.000000  0.000000e+00    15.000000   \n",
       "batch_size             28.0   256.000000  0.000000e+00   256.000000   \n",
       "\n",
       "                              25%          50%           75%           max  \n",
       "num_trainable_params  3361.000000  7606.000000  18019.000000  22123.000000  \n",
       "num_params            3361.000000  7606.000000  18019.000000  22123.000000  \n",
       "f1                       0.916124     0.922422      0.926204      0.939230  \n",
       "accuracy                 0.920138     0.925478      0.928598      0.940217  \n",
       "precision                0.952496     0.956974      0.962986      0.972029  \n",
       "recall                   0.881587     0.888275      0.900290      0.931681  \n",
       "learning_rate            0.001000     0.001000      0.001000      0.001000  \n",
       "sn_n_bands               2.000000     3.000000      4.000000      5.000000  \n",
       "sn_kernel_size          31.000000    31.000000     31.000000     31.000000  \n",
       "sn_padding               0.000000     0.000000      0.000000      0.000000  \n",
       "n_cnn_filters            8.000000    16.000000     32.000000     32.000000  \n",
       "dropout                  0.000000     0.250000      0.250000      0.250000  \n",
       "power_q                  0.700000     0.700000      0.700000      0.700000  \n",
       "n_epochs                15.000000    15.000000     15.000000     15.000000  \n",
       "batch_size             256.000000   256.000000    256.000000    256.000000  "
      ]
     },
     "execution_count": 4,
     "metadata": {},
     "output_type": "execute_result"
    }
   ],
   "source": [
    "results_df.describe().T"
   ]
  },
  {
   "cell_type": "markdown",
   "metadata": {},
   "source": [
    "Config params are those parameters we want to split by if experiments were run with different values\n",
    "- Use pandas to detect which config parameters were actually changed from the provided superset"
   ]
  },
  {
   "cell_type": "code",
   "execution_count": 5,
   "metadata": {},
   "outputs": [],
   "source": [
    "perf_col = 'f1'\n",
    "\n",
    "config_params = ['model_name', 'dataset', 'dense_width', 'sn_n_bands', 'sn_kernel_size', 'sn_padding',\n",
    "     'n_cnn_filters', 'dropout', 'dropout_2d', 'batchnorm', 'roll_channels', 'power_q', 'n_epochs']"
   ]
  },
  {
   "cell_type": "code",
   "execution_count": 6,
   "metadata": {},
   "outputs": [
    {
     "name": "stdout",
     "output_type": "stream",
     "text": [
      "Changing Params: sn_n_bands, n_cnn_filters, dropout\n"
     ]
    }
   ],
   "source": [
    "nun_config_params = results_df[config_params].nunique()\n",
    "\n",
    "config_cols = nun_config_params[nun_config_params > 1].index.tolist()\n",
    "\n",
    "print(f\"Changing Params: {', '.join(config_cols)}\")"
   ]
  },
  {
   "cell_type": "markdown",
   "metadata": {},
   "source": [
    "***"
   ]
  },
  {
   "cell_type": "markdown",
   "metadata": {},
   "source": [
    "Inspect and viz"
   ]
  },
  {
   "cell_type": "code",
   "execution_count": 9,
   "metadata": {},
   "outputs": [],
   "source": [
    "grp = results_df.groupby(config_cols)[perf_col]\n",
    "res_perf = grp.mean()\n",
    "res_n = grp.size()"
   ]
  },
  {
   "cell_type": "code",
   "execution_count": 10,
   "metadata": {},
   "outputs": [],
   "source": [
    "res_perf_df = res_perf.reset_index()"
   ]
  },
  {
   "cell_type": "code",
   "execution_count": 11,
   "metadata": {},
   "outputs": [
    {
     "data": {
      "text/html": [
       "<div>\n",
       "<style scoped>\n",
       "    .dataframe tbody tr th:only-of-type {\n",
       "        vertical-align: middle;\n",
       "    }\n",
       "\n",
       "    .dataframe tbody tr th {\n",
       "        vertical-align: top;\n",
       "    }\n",
       "\n",
       "    .dataframe thead th {\n",
       "        text-align: right;\n",
       "    }\n",
       "</style>\n",
       "<table border=\"1\" class=\"dataframe\">\n",
       "  <thead>\n",
       "    <tr style=\"text-align: right;\">\n",
       "      <th></th>\n",
       "      <th>sn_n_bands</th>\n",
       "      <th>n_cnn_filters</th>\n",
       "      <th>dropout</th>\n",
       "      <th>f1</th>\n",
       "    </tr>\n",
       "  </thead>\n",
       "  <tbody>\n",
       "    <tr>\n",
       "      <th>0</th>\n",
       "      <td>1</td>\n",
       "      <td>8</td>\n",
       "      <td>0.00</td>\n",
       "      <td>0.924488</td>\n",
       "    </tr>\n",
       "    <tr>\n",
       "      <th>1</th>\n",
       "      <td>1</td>\n",
       "      <td>8</td>\n",
       "      <td>0.25</td>\n",
       "      <td>0.907011</td>\n",
       "    </tr>\n",
       "    <tr>\n",
       "      <th>2</th>\n",
       "      <td>1</td>\n",
       "      <td>16</td>\n",
       "      <td>0.00</td>\n",
       "      <td>0.925289</td>\n",
       "    </tr>\n",
       "    <tr>\n",
       "      <th>3</th>\n",
       "      <td>1</td>\n",
       "      <td>16</td>\n",
       "      <td>0.25</td>\n",
       "      <td>0.939230</td>\n",
       "    </tr>\n",
       "    <tr>\n",
       "      <th>4</th>\n",
       "      <td>1</td>\n",
       "      <td>32</td>\n",
       "      <td>0.00</td>\n",
       "      <td>0.922222</td>\n",
       "    </tr>\n",
       "    <tr>\n",
       "      <th>5</th>\n",
       "      <td>1</td>\n",
       "      <td>32</td>\n",
       "      <td>0.25</td>\n",
       "      <td>0.937337</td>\n",
       "    </tr>\n",
       "    <tr>\n",
       "      <th>6</th>\n",
       "      <td>2</td>\n",
       "      <td>8</td>\n",
       "      <td>0.00</td>\n",
       "      <td>0.922622</td>\n",
       "    </tr>\n",
       "    <tr>\n",
       "      <th>7</th>\n",
       "      <td>2</td>\n",
       "      <td>8</td>\n",
       "      <td>0.25</td>\n",
       "      <td>0.920952</td>\n",
       "    </tr>\n",
       "    <tr>\n",
       "      <th>8</th>\n",
       "      <td>2</td>\n",
       "      <td>16</td>\n",
       "      <td>0.00</td>\n",
       "      <td>0.926361</td>\n",
       "    </tr>\n",
       "    <tr>\n",
       "      <th>9</th>\n",
       "      <td>2</td>\n",
       "      <td>16</td>\n",
       "      <td>0.25</td>\n",
       "      <td>0.929777</td>\n",
       "    </tr>\n",
       "    <tr>\n",
       "      <th>10</th>\n",
       "      <td>2</td>\n",
       "      <td>32</td>\n",
       "      <td>0.00</td>\n",
       "      <td>0.916133</td>\n",
       "    </tr>\n",
       "    <tr>\n",
       "      <th>11</th>\n",
       "      <td>2</td>\n",
       "      <td>32</td>\n",
       "      <td>0.25</td>\n",
       "      <td>0.920173</td>\n",
       "    </tr>\n",
       "    <tr>\n",
       "      <th>12</th>\n",
       "      <td>3</td>\n",
       "      <td>8</td>\n",
       "      <td>0.00</td>\n",
       "      <td>0.908884</td>\n",
       "    </tr>\n",
       "    <tr>\n",
       "      <th>13</th>\n",
       "      <td>3</td>\n",
       "      <td>8</td>\n",
       "      <td>0.25</td>\n",
       "      <td>0.923583</td>\n",
       "    </tr>\n",
       "    <tr>\n",
       "      <th>14</th>\n",
       "      <td>3</td>\n",
       "      <td>16</td>\n",
       "      <td>0.00</td>\n",
       "      <td>0.927561</td>\n",
       "    </tr>\n",
       "    <tr>\n",
       "      <th>15</th>\n",
       "      <td>3</td>\n",
       "      <td>16</td>\n",
       "      <td>0.25</td>\n",
       "      <td>0.929081</td>\n",
       "    </tr>\n",
       "    <tr>\n",
       "      <th>16</th>\n",
       "      <td>3</td>\n",
       "      <td>32</td>\n",
       "      <td>0.00</td>\n",
       "      <td>0.916081</td>\n",
       "    </tr>\n",
       "    <tr>\n",
       "      <th>17</th>\n",
       "      <td>3</td>\n",
       "      <td>32</td>\n",
       "      <td>0.25</td>\n",
       "      <td>0.926151</td>\n",
       "    </tr>\n",
       "    <tr>\n",
       "      <th>18</th>\n",
       "      <td>4</td>\n",
       "      <td>8</td>\n",
       "      <td>0.00</td>\n",
       "      <td>0.915608</td>\n",
       "    </tr>\n",
       "    <tr>\n",
       "      <th>19</th>\n",
       "      <td>4</td>\n",
       "      <td>8</td>\n",
       "      <td>0.25</td>\n",
       "      <td>0.920667</td>\n",
       "    </tr>\n",
       "    <tr>\n",
       "      <th>20</th>\n",
       "      <td>4</td>\n",
       "      <td>16</td>\n",
       "      <td>0.00</td>\n",
       "      <td>0.921910</td>\n",
       "    </tr>\n",
       "    <tr>\n",
       "      <th>21</th>\n",
       "      <td>4</td>\n",
       "      <td>16</td>\n",
       "      <td>0.25</td>\n",
       "      <td>0.923144</td>\n",
       "    </tr>\n",
       "    <tr>\n",
       "      <th>22</th>\n",
       "      <td>4</td>\n",
       "      <td>32</td>\n",
       "      <td>0.25</td>\n",
       "      <td>0.920524</td>\n",
       "    </tr>\n",
       "    <tr>\n",
       "      <th>23</th>\n",
       "      <td>5</td>\n",
       "      <td>8</td>\n",
       "      <td>0.00</td>\n",
       "      <td>0.916098</td>\n",
       "    </tr>\n",
       "    <tr>\n",
       "      <th>24</th>\n",
       "      <td>5</td>\n",
       "      <td>8</td>\n",
       "      <td>0.25</td>\n",
       "      <td>0.914028</td>\n",
       "    </tr>\n",
       "    <tr>\n",
       "      <th>25</th>\n",
       "      <td>5</td>\n",
       "      <td>16</td>\n",
       "      <td>0.00</td>\n",
       "      <td>0.925211</td>\n",
       "    </tr>\n",
       "    <tr>\n",
       "      <th>26</th>\n",
       "      <td>5</td>\n",
       "      <td>16</td>\n",
       "      <td>0.25</td>\n",
       "      <td>0.931277</td>\n",
       "    </tr>\n",
       "    <tr>\n",
       "      <th>27</th>\n",
       "      <td>5</td>\n",
       "      <td>32</td>\n",
       "      <td>0.25</td>\n",
       "      <td>0.849631</td>\n",
       "    </tr>\n",
       "  </tbody>\n",
       "</table>\n",
       "</div>"
      ],
      "text/plain": [
       "    sn_n_bands  n_cnn_filters  dropout        f1\n",
       "0            1              8     0.00  0.924488\n",
       "1            1              8     0.25  0.907011\n",
       "2            1             16     0.00  0.925289\n",
       "3            1             16     0.25  0.939230\n",
       "4            1             32     0.00  0.922222\n",
       "5            1             32     0.25  0.937337\n",
       "6            2              8     0.00  0.922622\n",
       "7            2              8     0.25  0.920952\n",
       "8            2             16     0.00  0.926361\n",
       "9            2             16     0.25  0.929777\n",
       "10           2             32     0.00  0.916133\n",
       "11           2             32     0.25  0.920173\n",
       "12           3              8     0.00  0.908884\n",
       "13           3              8     0.25  0.923583\n",
       "14           3             16     0.00  0.927561\n",
       "15           3             16     0.25  0.929081\n",
       "16           3             32     0.00  0.916081\n",
       "17           3             32     0.25  0.926151\n",
       "18           4              8     0.00  0.915608\n",
       "19           4              8     0.25  0.920667\n",
       "20           4             16     0.00  0.921910\n",
       "21           4             16     0.25  0.923144\n",
       "22           4             32     0.25  0.920524\n",
       "23           5              8     0.00  0.916098\n",
       "24           5              8     0.25  0.914028\n",
       "25           5             16     0.00  0.925211\n",
       "26           5             16     0.25  0.931277\n",
       "27           5             32     0.25  0.849631"
      ]
     },
     "execution_count": 11,
     "metadata": {},
     "output_type": "execute_result"
    }
   ],
   "source": [
    "res_perf_df"
   ]
  },
  {
   "cell_type": "code",
   "execution_count": 12,
   "metadata": {},
   "outputs": [
    {
     "data": {
      "text/plain": [
       "<AxesSubplot:xlabel='sn_n_bands', ylabel='n_cnn_filters-dropout'>"
      ]
     },
     "execution_count": 12,
     "metadata": {},
     "output_type": "execute_result"
    },
    {
     "data": {
      "image/png": "[encoded data removed]",
      "text/plain": [
       "<Figure size 432x288 with 2 Axes>"
      ]
     },
     "metadata": {
      "needs_background": "light"
     },
     "output_type": "display_data"
    }
   ],
   "source": [
    "import seaborn as sns\n",
    "sns.heatmap(res_n.unstack('sn_n_bands'), annot=True, cmap='Greens')"
   ]
  },
  {
   "cell_type": "code",
   "execution_count": 13,
   "metadata": {},
   "outputs": [],
   "source": [
    "from IPython.display import display\n",
    "def hplot(*args, **kwargs):\n",
    "    #print(args)\n",
    "    x = kwargs.pop('data')\n",
    "    plt_df = x.groupby(list(args[:-1])).mean().reset_index().pivot(*args)\n",
    "    #display(plt_df)\n",
    "    ax = sns.heatmap(plt_df.T, \n",
    "                     annot=True, **kwargs)\n",
    "    return ax"
   ]
  },
  {
   "cell_type": "code",
   "execution_count": 15,
   "metadata": {},
   "outputs": [
    {
     "data": {
      "text/plain": [
       "<seaborn.axisgrid.FacetGrid at 0x7ffb4f625fa0>"
      ]
     },
     "execution_count": 15,
     "metadata": {},
     "output_type": "execute_result"
    },
    {
     "data": {
      "image/png": "[encoded data removed]",
      "text/plain": [
       "<Figure size 432x216 with 2 Axes>"
      ]
     },
     "metadata": {
      "needs_background": "light"
     },
     "output_type": "display_data"
    }
   ],
   "source": [
    "g = sns.FacetGrid(res_perf_df, #row=\"roll_channels\", \n",
    "                  col=\"dropout\",\n",
    "                  # Sharing axis doesn't seem to work so well with sparse results - axes names and ticks get weird\n",
    "                  sharex=False, sharey=False)\n",
    "g.map_dataframe(hplot,'n_cnn_filters', 'sn_n_bands', 'f1',\n",
    "                cmap='Greens', vmax=1., vmin=0., cbar=False, linewidths=1, linecolor='grey')"
   ]
  },
  {
   "cell_type": "code",
   "execution_count": null,
   "metadata": {},
   "outputs": [],
   "source": []
  },
  {
   "cell_type": "code",
   "execution_count": null,
   "metadata": {},
   "outputs": [],
   "source": []
  },
  {
   "cell_type": "code",
   "execution_count": null,
   "metadata": {},
   "outputs": [],
   "source": []
  },
  {
   "cell_type": "code",
   "execution_count": null,
   "metadata": {},
   "outputs": [],
   "source": []
  }
 ],
 "metadata": {
  "kernelspec": {
   "display_name": "Python 3",
   "language": "python",
   "name": "python3"
  },
  "language_info": {
   "codemirror_mode": {
    "name": "ipython",
    "version": 3
   },
   "file_extension": ".py",
   "mimetype": "text/x-python",
   "name": "python",
   "nbconvert_exporter": "python",
   "pygments_lexer": "ipython3",
   "version": "3.8.5"
  }
 },
 "nbformat": 4,
 "nbformat_minor": 4
}
