{
 "cells": [
  {
   "cell_type": "code",
   "execution_count": 1,
   "metadata": {},
   "outputs": [
    {
     "name": "stderr",
     "output_type": "stream",
     "text": [
      "/home/morgan/.conda/envs/venv/lib/python3.8/site-packages/torchaudio/backend/utils.py:53: UserWarning: \"sox\" backend is being deprecated. The default backend will be changed to \"sox_io\" backend in 0.8.0 and \"sox\" backend will be removed in 0.9.0. Please migrate to \"sox_io\" backend. Please refer to https://github.com/pytorch/audio/issues/903 for the detail.\n",
      "  warnings.warn(\n"
     ]
    }
   ],
   "source": [
    "import pandas as pd\n",
    "import numpy as np\n",
    "import matplotlib\n",
    "import torch\n",
    "from glob import glob\n",
    "import os\n",
    "import json\n",
    "from ecog_speech import datasets, feature_processing, experiments, utils\n",
    "from tqdm.auto import tqdm\n",
    "\n",
    "%matplotlib inline"
   ]
  },
  {
   "cell_type": "markdown",
   "metadata": {},
   "source": [
    "Load result JSON files into a list of objects"
   ]
  },
  {
   "cell_type": "code",
   "execution_count": 2,
   "metadata": {},
   "outputs": [
    {
     "data": {
      "application/vnd.jupyter.widget-view+json": {
       "model_id": "9ddea64573ba42e4a1efd978a1f9173a",
       "version_major": 2,
       "version_minor": 0
      },
      "text/plain": [
       "HBox(children=(HTML(value=''), FloatProgress(value=0.0, max=13.0), HTML(value='')))"
      ]
     },
     "metadata": {},
     "output_type": "display_data"
    },
    {
     "name": "stdout",
     "output_type": "stream",
     "text": [
      "\n"
     ]
    }
   ],
   "source": [
    "# Link a results dir in the project root\n",
    "base_path = \"../results/\"\n",
    "\n",
    "result_files = glob(os.path.join(base_path, '*.json'))\n",
    "\n",
    "json_result_data = [json.load(open(f)) for f in tqdm(result_files)]"
   ]
  },
  {
   "cell_type": "markdown",
   "metadata": {},
   "source": [
    "Parse into dataframe"
   ]
  },
  {
   "cell_type": "code",
   "execution_count": 3,
   "metadata": {},
   "outputs": [
    {
     "data": {
      "text/plain": [
       "Index(['name', 'datetime', 'uid', 'batch_losses', 'num_trainable_params',\n",
       "       'num_params', 'f1', 'accuracy', 'precision', 'recall', 'model_name',\n",
       "       'dataset', 'dense_width', 'sn_n_bands', 'sn_kernel_size', 'sn_padding',\n",
       "       'n_cnn_filters', 'dropout', 'dropout_2d', 'batchnorm', 'roll_channels',\n",
       "       'power_q', 'n_epochs', 'batch_size', 'device', 'save_model_path', 'tag',\n",
       "       'result_dir', 'path'],\n",
       "      dtype='object')"
      ]
     },
     "execution_count": 3,
     "metadata": {},
     "output_type": "execute_result"
    }
   ],
   "source": [
    "results_df = pd.DataFrame(json_result_data).sort_values('f1', ascending=False)\n",
    "\n",
    "results_df.columns"
   ]
  },
  {
   "cell_type": "code",
   "execution_count": 4,
   "metadata": {},
   "outputs": [
    {
     "data": {
      "text/html": [
       "<div>\n",
       "<style scoped>\n",
       "    .dataframe tbody tr th:only-of-type {\n",
       "        vertical-align: middle;\n",
       "    }\n",
       "\n",
       "    .dataframe tbody tr th {\n",
       "        vertical-align: top;\n",
       "    }\n",
       "\n",
       "    .dataframe thead th {\n",
       "        text-align: right;\n",
       "    }\n",
       "</style>\n",
       "<table border=\"1\" class=\"dataframe\">\n",
       "  <thead>\n",
       "    <tr style=\"text-align: right;\">\n",
       "      <th></th>\n",
       "      <th>count</th>\n",
       "      <th>mean</th>\n",
       "      <th>std</th>\n",
       "      <th>min</th>\n",
       "      <th>25%</th>\n",
       "      <th>50%</th>\n",
       "      <th>75%</th>\n",
       "      <th>max</th>\n",
       "    </tr>\n",
       "  </thead>\n",
       "  <tbody>\n",
       "    <tr>\n",
       "      <th>num_trainable_params</th>\n",
       "      <td>13.0</td>\n",
       "      <td>48566.538462</td>\n",
       "      <td>73752.303115</td>\n",
       "      <td>1515.000000</td>\n",
       "      <td>3311.000000</td>\n",
       "      <td>19109.000000</td>\n",
       "      <td>43083.000000</td>\n",
       "      <td>205323.000000</td>\n",
       "    </tr>\n",
       "    <tr>\n",
       "      <th>num_params</th>\n",
       "      <td>13.0</td>\n",
       "      <td>48566.538462</td>\n",
       "      <td>73752.303115</td>\n",
       "      <td>1515.000000</td>\n",
       "      <td>3311.000000</td>\n",
       "      <td>19109.000000</td>\n",
       "      <td>43083.000000</td>\n",
       "      <td>205323.000000</td>\n",
       "    </tr>\n",
       "    <tr>\n",
       "      <th>f1</th>\n",
       "      <td>13.0</td>\n",
       "      <td>0.831413</td>\n",
       "      <td>0.114058</td>\n",
       "      <td>0.568978</td>\n",
       "      <td>0.750024</td>\n",
       "      <td>0.916505</td>\n",
       "      <td>0.922560</td>\n",
       "      <td>0.929297</td>\n",
       "    </tr>\n",
       "    <tr>\n",
       "      <th>accuracy</th>\n",
       "      <td>13.0</td>\n",
       "      <td>0.839281</td>\n",
       "      <td>0.099373</td>\n",
       "      <td>0.658091</td>\n",
       "      <td>0.758786</td>\n",
       "      <td>0.912074</td>\n",
       "      <td>0.925479</td>\n",
       "      <td>0.931792</td>\n",
       "    </tr>\n",
       "    <tr>\n",
       "      <th>precision</th>\n",
       "      <td>13.0</td>\n",
       "      <td>0.863810</td>\n",
       "      <td>0.106037</td>\n",
       "      <td>0.724827</td>\n",
       "      <td>0.769568</td>\n",
       "      <td>0.872545</td>\n",
       "      <td>0.964595</td>\n",
       "      <td>0.974362</td>\n",
       "    </tr>\n",
       "    <tr>\n",
       "      <th>recall</th>\n",
       "      <td>13.0</td>\n",
       "      <td>0.810353</td>\n",
       "      <td>0.135766</td>\n",
       "      <td>0.451336</td>\n",
       "      <td>0.776773</td>\n",
       "      <td>0.866272</td>\n",
       "      <td>0.887765</td>\n",
       "      <td>0.965131</td>\n",
       "    </tr>\n",
       "    <tr>\n",
       "      <th>dense_width</th>\n",
       "      <td>6.0</td>\n",
       "      <td>128.000000</td>\n",
       "      <td>0.000000</td>\n",
       "      <td>128.000000</td>\n",
       "      <td>128.000000</td>\n",
       "      <td>128.000000</td>\n",
       "      <td>128.000000</td>\n",
       "      <td>128.000000</td>\n",
       "    </tr>\n",
       "    <tr>\n",
       "      <th>sn_n_bands</th>\n",
       "      <td>13.0</td>\n",
       "      <td>3.692308</td>\n",
       "      <td>1.377474</td>\n",
       "      <td>1.000000</td>\n",
       "      <td>3.000000</td>\n",
       "      <td>3.000000</td>\n",
       "      <td>5.000000</td>\n",
       "      <td>5.000000</td>\n",
       "    </tr>\n",
       "    <tr>\n",
       "      <th>sn_kernel_size</th>\n",
       "      <td>13.0</td>\n",
       "      <td>31.000000</td>\n",
       "      <td>0.000000</td>\n",
       "      <td>31.000000</td>\n",
       "      <td>31.000000</td>\n",
       "      <td>31.000000</td>\n",
       "      <td>31.000000</td>\n",
       "      <td>31.000000</td>\n",
       "    </tr>\n",
       "    <tr>\n",
       "      <th>sn_padding</th>\n",
       "      <td>13.0</td>\n",
       "      <td>13.000000</td>\n",
       "      <td>0.000000</td>\n",
       "      <td>13.000000</td>\n",
       "      <td>13.000000</td>\n",
       "      <td>13.000000</td>\n",
       "      <td>13.000000</td>\n",
       "      <td>13.000000</td>\n",
       "    </tr>\n",
       "    <tr>\n",
       "      <th>n_cnn_filters</th>\n",
       "      <td>13.0</td>\n",
       "      <td>21.538462</td>\n",
       "      <td>20.946819</td>\n",
       "      <td>4.000000</td>\n",
       "      <td>8.000000</td>\n",
       "      <td>16.000000</td>\n",
       "      <td>32.000000</td>\n",
       "      <td>64.000000</td>\n",
       "    </tr>\n",
       "    <tr>\n",
       "      <th>dropout</th>\n",
       "      <td>13.0</td>\n",
       "      <td>0.192308</td>\n",
       "      <td>0.272982</td>\n",
       "      <td>0.000000</td>\n",
       "      <td>0.000000</td>\n",
       "      <td>0.000000</td>\n",
       "      <td>0.500000</td>\n",
       "      <td>0.750000</td>\n",
       "    </tr>\n",
       "    <tr>\n",
       "      <th>power_q</th>\n",
       "      <td>13.0</td>\n",
       "      <td>0.700000</td>\n",
       "      <td>0.000000</td>\n",
       "      <td>0.700000</td>\n",
       "      <td>0.700000</td>\n",
       "      <td>0.700000</td>\n",
       "      <td>0.700000</td>\n",
       "      <td>0.700000</td>\n",
       "    </tr>\n",
       "    <tr>\n",
       "      <th>n_epochs</th>\n",
       "      <td>13.0</td>\n",
       "      <td>10.000000</td>\n",
       "      <td>0.000000</td>\n",
       "      <td>10.000000</td>\n",
       "      <td>10.000000</td>\n",
       "      <td>10.000000</td>\n",
       "      <td>10.000000</td>\n",
       "      <td>10.000000</td>\n",
       "    </tr>\n",
       "    <tr>\n",
       "      <th>batch_size</th>\n",
       "      <td>13.0</td>\n",
       "      <td>256.000000</td>\n",
       "      <td>0.000000</td>\n",
       "      <td>256.000000</td>\n",
       "      <td>256.000000</td>\n",
       "      <td>256.000000</td>\n",
       "      <td>256.000000</td>\n",
       "      <td>256.000000</td>\n",
       "    </tr>\n",
       "  </tbody>\n",
       "</table>\n",
       "</div>"
      ],
      "text/plain": [
       "                      count          mean           std          min  \\\n",
       "num_trainable_params   13.0  48566.538462  73752.303115  1515.000000   \n",
       "num_params             13.0  48566.538462  73752.303115  1515.000000   \n",
       "f1                     13.0      0.831413      0.114058     0.568978   \n",
       "accuracy               13.0      0.839281      0.099373     0.658091   \n",
       "precision              13.0      0.863810      0.106037     0.724827   \n",
       "recall                 13.0      0.810353      0.135766     0.451336   \n",
       "dense_width             6.0    128.000000      0.000000   128.000000   \n",
       "sn_n_bands             13.0      3.692308      1.377474     1.000000   \n",
       "sn_kernel_size         13.0     31.000000      0.000000    31.000000   \n",
       "sn_padding             13.0     13.000000      0.000000    13.000000   \n",
       "n_cnn_filters          13.0     21.538462     20.946819     4.000000   \n",
       "dropout                13.0      0.192308      0.272982     0.000000   \n",
       "power_q                13.0      0.700000      0.000000     0.700000   \n",
       "n_epochs               13.0     10.000000      0.000000    10.000000   \n",
       "batch_size             13.0    256.000000      0.000000   256.000000   \n",
       "\n",
       "                              25%           50%           75%            max  \n",
       "num_trainable_params  3311.000000  19109.000000  43083.000000  205323.000000  \n",
       "num_params            3311.000000  19109.000000  43083.000000  205323.000000  \n",
       "f1                       0.750024      0.916505      0.922560       0.929297  \n",
       "accuracy                 0.758786      0.912074      0.925479       0.931792  \n",
       "precision                0.769568      0.872545      0.964595       0.974362  \n",
       "recall                   0.776773      0.866272      0.887765       0.965131  \n",
       "dense_width            128.000000    128.000000    128.000000     128.000000  \n",
       "sn_n_bands               3.000000      3.000000      5.000000       5.000000  \n",
       "sn_kernel_size          31.000000     31.000000     31.000000      31.000000  \n",
       "sn_padding              13.000000     13.000000     13.000000      13.000000  \n",
       "n_cnn_filters            8.000000     16.000000     32.000000      64.000000  \n",
       "dropout                  0.000000      0.000000      0.500000       0.750000  \n",
       "power_q                  0.700000      0.700000      0.700000       0.700000  \n",
       "n_epochs                10.000000     10.000000     10.000000      10.000000  \n",
       "batch_size             256.000000    256.000000    256.000000     256.000000  "
      ]
     },
     "execution_count": 4,
     "metadata": {},
     "output_type": "execute_result"
    }
   ],
   "source": [
    "results_df.describe().T"
   ]
  },
  {
   "cell_type": "markdown",
   "metadata": {},
   "source": [
    "Config params are those parameters we want to split by if experiments were run with different values\n",
    "- Use pandas to detect which config parameters were actually changed from the provided superset"
   ]
  },
  {
   "cell_type": "code",
   "execution_count": 5,
   "metadata": {},
   "outputs": [],
   "source": [
    "perf_col = 'f1'\n",
    "\n",
    "config_params = ['model_name', 'dataset', 'dense_width', 'sn_n_bands', 'sn_kernel_size', 'sn_padding',\n",
    "     'n_cnn_filters', 'dropout', 'dropout_2d', 'batchnorm', 'roll_channels', 'power_q', 'n_epochs']"
   ]
  },
  {
   "cell_type": "code",
   "execution_count": 6,
   "metadata": {},
   "outputs": [
    {
     "name": "stdout",
     "output_type": "stream",
     "text": [
      "Changing Params: sn_n_bands, n_cnn_filters, dropout, roll_channels\n"
     ]
    }
   ],
   "source": [
    "nun_config_params = results_df[config_params].nunique()\n",
    "\n",
    "config_cols = nun_config_params[nun_config_params > 1].index.tolist()\n",
    "\n",
    "print(f\"Changing Params: {', '.join(config_cols)}\")"
   ]
  },
  {
   "cell_type": "markdown",
   "metadata": {},
   "source": [
    "***"
   ]
  },
  {
   "cell_type": "markdown",
   "metadata": {},
   "source": [
    "Inspect and viz"
   ]
  },
  {
   "cell_type": "code",
   "execution_count": 10,
   "metadata": {},
   "outputs": [],
   "source": [
    "res_perf_df = res_perf.reset_index()"
   ]
  },
  {
   "cell_type": "code",
   "execution_count": 11,
   "metadata": {},
   "outputs": [
    {
     "data": {
      "text/html": [
       "<div>\n",
       "<style scoped>\n",
       "    .dataframe tbody tr th:only-of-type {\n",
       "        vertical-align: middle;\n",
       "    }\n",
       "\n",
       "    .dataframe tbody tr th {\n",
       "        vertical-align: top;\n",
       "    }\n",
       "\n",
       "    .dataframe thead th {\n",
       "        text-align: right;\n",
       "    }\n",
       "</style>\n",
       "<table border=\"1\" class=\"dataframe\">\n",
       "  <thead>\n",
       "    <tr style=\"text-align: right;\">\n",
       "      <th></th>\n",
       "      <th>sn_n_bands</th>\n",
       "      <th>n_cnn_filters</th>\n",
       "      <th>dropout</th>\n",
       "      <th>roll_channels</th>\n",
       "      <th>f1</th>\n",
       "    </tr>\n",
       "  </thead>\n",
       "  <tbody>\n",
       "    <tr>\n",
       "      <th>0</th>\n",
       "      <td>1</td>\n",
       "      <td>16</td>\n",
       "      <td>0.50</td>\n",
       "      <td>False</td>\n",
       "      <td>0.926808</td>\n",
       "    </tr>\n",
       "    <tr>\n",
       "      <th>1</th>\n",
       "      <td>2</td>\n",
       "      <td>32</td>\n",
       "      <td>0.25</td>\n",
       "      <td>False</td>\n",
       "      <td>0.929297</td>\n",
       "    </tr>\n",
       "    <tr>\n",
       "      <th>2</th>\n",
       "      <td>3</td>\n",
       "      <td>4</td>\n",
       "      <td>0.00</td>\n",
       "      <td>False</td>\n",
       "      <td>0.917143</td>\n",
       "    </tr>\n",
       "    <tr>\n",
       "      <th>3</th>\n",
       "      <td>3</td>\n",
       "      <td>4</td>\n",
       "      <td>0.50</td>\n",
       "      <td>False</td>\n",
       "      <td>0.916505</td>\n",
       "    </tr>\n",
       "    <tr>\n",
       "      <th>4</th>\n",
       "      <td>3</td>\n",
       "      <td>8</td>\n",
       "      <td>0.00</td>\n",
       "      <td>True</td>\n",
       "      <td>0.568978</td>\n",
       "    </tr>\n",
       "    <tr>\n",
       "      <th>5</th>\n",
       "      <td>3</td>\n",
       "      <td>8</td>\n",
       "      <td>0.50</td>\n",
       "      <td>False</td>\n",
       "      <td>0.922560</td>\n",
       "    </tr>\n",
       "    <tr>\n",
       "      <th>6</th>\n",
       "      <td>3</td>\n",
       "      <td>8</td>\n",
       "      <td>0.75</td>\n",
       "      <td>False</td>\n",
       "      <td>0.919181</td>\n",
       "    </tr>\n",
       "    <tr>\n",
       "      <th>7</th>\n",
       "      <td>5</td>\n",
       "      <td>8</td>\n",
       "      <td>0.00</td>\n",
       "      <td>True</td>\n",
       "      <td>0.750024</td>\n",
       "    </tr>\n",
       "    <tr>\n",
       "      <th>8</th>\n",
       "      <td>5</td>\n",
       "      <td>16</td>\n",
       "      <td>0.00</td>\n",
       "      <td>False</td>\n",
       "      <td>0.924067</td>\n",
       "    </tr>\n",
       "    <tr>\n",
       "      <th>9</th>\n",
       "      <td>5</td>\n",
       "      <td>16</td>\n",
       "      <td>0.00</td>\n",
       "      <td>True</td>\n",
       "      <td>0.771659</td>\n",
       "    </tr>\n",
       "    <tr>\n",
       "      <th>10</th>\n",
       "      <td>5</td>\n",
       "      <td>32</td>\n",
       "      <td>0.00</td>\n",
       "      <td>True</td>\n",
       "      <td>0.782310</td>\n",
       "    </tr>\n",
       "    <tr>\n",
       "      <th>11</th>\n",
       "      <td>5</td>\n",
       "      <td>64</td>\n",
       "      <td>0.00</td>\n",
       "      <td>True</td>\n",
       "      <td>0.739920</td>\n",
       "    </tr>\n",
       "  </tbody>\n",
       "</table>\n",
       "</div>"
      ],
      "text/plain": [
       "    sn_n_bands  n_cnn_filters  dropout  roll_channels        f1\n",
       "0            1             16     0.50          False  0.926808\n",
       "1            2             32     0.25          False  0.929297\n",
       "2            3              4     0.00          False  0.917143\n",
       "3            3              4     0.50          False  0.916505\n",
       "4            3              8     0.00           True  0.568978\n",
       "5            3              8     0.50          False  0.922560\n",
       "6            3              8     0.75          False  0.919181\n",
       "7            5              8     0.00           True  0.750024\n",
       "8            5             16     0.00          False  0.924067\n",
       "9            5             16     0.00           True  0.771659\n",
       "10           5             32     0.00           True  0.782310\n",
       "11           5             64     0.00           True  0.739920"
      ]
     },
     "execution_count": 11,
     "metadata": {},
     "output_type": "execute_result"
    }
   ],
   "source": [
    "res_perf_df"
   ]
  },
  {
   "cell_type": "code",
   "execution_count": 7,
   "metadata": {},
   "outputs": [],
   "source": [
    "grp = results_df.groupby(config_cols)[perf_col]\n",
    "res_perf = grp.mean()\n",
    "res_n = grp.size()"
   ]
  },
  {
   "cell_type": "code",
   "execution_count": 8,
   "metadata": {},
   "outputs": [
    {
     "data": {
      "text/plain": [
       "<AxesSubplot:xlabel='sn_n_bands', ylabel='n_cnn_filters-dropout-roll_channels'>"
      ]
     },
     "execution_count": 8,
     "metadata": {},
     "output_type": "execute_result"
    },
    {
     "data": {
      "image/png": "[encoded data removed]",
      "text/plain": [
       "<Figure size 432x288 with 2 Axes>"
      ]
     },
     "metadata": {
      "needs_background": "light"
     },
     "output_type": "display_data"
    }
   ],
   "source": [
    "import seaborn as sns\n",
    "sns.heatmap(res_n.unstack('sn_n_bands'), annot=True, cmap='Greens')"
   ]
  },
  {
   "cell_type": "code",
   "execution_count": 9,
   "metadata": {},
   "outputs": [],
   "source": [
    "from IPython.display import display\n",
    "def hplot(*args, **kwargs):\n",
    "    #print(args)\n",
    "    x = kwargs.pop('data')\n",
    "    plt_df = x.groupby(list(args[:-1])).mean().reset_index().pivot(*args)\n",
    "    #display(plt_df)\n",
    "    ax = sns.heatmap(plt_df.T, \n",
    "                     annot=True, **kwargs)\n",
    "    return ax"
   ]
  },
  {
   "cell_type": "code",
   "execution_count": 12,
   "metadata": {},
   "outputs": [
    {
     "data": {
      "text/plain": [
       "<seaborn.axisgrid.FacetGrid at 0x7f6027e45850>"
      ]
     },
     "execution_count": 12,
     "metadata": {},
     "output_type": "execute_result"
    },
    {
     "data": {
      "image/png": "[encoded data removed]",
      "text/plain": [
       "<Figure size 864x432 with 8 Axes>"
      ]
     },
     "metadata": {
      "needs_background": "light"
     },
     "output_type": "display_data"
    }
   ],
   "source": [
    "g = sns.FacetGrid(res_perf_df, row=\"roll_channels\", col=\"dropout\",\n",
    "                  # Sharing axis doesn't seem to work so well with sparse results - axes names and ticks get weird\n",
    "                  sharex=False, sharey=False)\n",
    "g.map_dataframe(hplot,'n_cnn_filters', 'sn_n_bands', 'f1',\n",
    "                cmap='Greens', vmax=1., vmin=0., cbar=False, linewidths=1, linecolor='grey')"
   ]
  },
  {
   "cell_type": "code",
   "execution_count": null,
   "metadata": {},
   "outputs": [],
   "source": []
  },
  {
   "cell_type": "code",
   "execution_count": null,
   "metadata": {},
   "outputs": [],
   "source": []
  },
  {
   "cell_type": "code",
   "execution_count": null,
   "metadata": {},
   "outputs": [],
   "source": []
  },
  {
   "cell_type": "code",
   "execution_count": null,
   "metadata": {},
   "outputs": [],
   "source": []
  }
 ],
 "metadata": {
  "kernelspec": {
   "display_name": "Python 3",
   "language": "python",
   "name": "python3"
  },
  "language_info": {
   "codemirror_mode": {
    "name": "ipython",
    "version": 3
   },
   "file_extension": ".py",
   "mimetype": "text/x-python",
   "name": "python",
   "nbconvert_exporter": "python",
   "pygments_lexer": "ipython3",
   "version": "3.8.5"
  }
 },
 "nbformat": 4,
 "nbformat_minor": 4
}
