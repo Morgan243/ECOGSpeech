{
 "cells": [
  {
   "cell_type": "code",
   "execution_count": 1,
   "metadata": {},
   "outputs": [],
   "source": [
    "import pandas as pd\n",
    "import numpy as np\n",
    "import matplotlib\n",
    "import torch\n",
    "from ecog_speech import datasets, feature_processing, experiments, pipeline\n",
    "from ecog_speech.models import chang2020 as chm\n",
    "from tqdm.auto import tqdm\n",
    "\n",
    "%matplotlib inline"
   ]
  },
  {
   "cell_type": "code",
   "execution_count": 2,
   "metadata": {},
   "outputs": [
    {
     "name": "stdout",
     "output_type": "stream",
     "text": [
      "2022-07-05 18:01:22,256 - ecog_speech.datasets.HarvardSentences.__attrs_post_init__:337 - DEBUG - preparing pipeline\n",
      "2022-07-05 18:01:22,257 - ecog_speech.datasets.HarvardSentences.__attrs_post_init__:340 - DEBUG - Available pipelines: ['random_sample', 'audio_gate', 'region_classification', 'region_classification_from_word_stim', 'audio_gate_speaking_only', 'default']\n"
     ]
    }
   ],
   "source": [
    "hvs_cls = datasets.BaseDataset.get_dataset_by_name('hvs')\n",
    "\n",
    "hvs_tuples = hvs_cls.make_tuples_from_sets_str('UCSD-4')\n",
    "\n",
    "hvs = hvs_cls(hvs_tuples, initialize_data=False)"
   ]
  },
  {
   "cell_type": "code",
   "execution_count": 5,
   "metadata": {},
   "outputs": [
    {
     "name": "stdout",
     "output_type": "stream",
     "text": [
      "2022-07-05 18:02:16,326 - ecog_speech.datasets.HarvardSentences.load_data:788 - INFO - -----------Subset: None------------\n",
      "2022-07-05 18:02:16,327 - ecog_speech.datasets.HarvardSentences.load_data:789 - INFO - ---4-1-1-UCSD---\n",
      "2022-07-05 18:02:16,327 - ecog_speech.datasets.HarvardSentences.make_filename:1221 - INFO - Harvard sentences only uses location and patient identifiers\n",
      "2022-07-05 18:02:16,328 - ecog_speech.datasets.HarvardSentences.load_data:792 - DEBUG - Path : /home/morgan/Projects/CMSCResearch/ECOGSpeech/ecog_speech/../data/HarvardSentences/UCSD/Data/UCSD04_Task_1.mat\n",
      "2022-07-05 18:02:16,476 - ecog_speech.datasets.HarvardSentences.load_mat_from_path:757 - INFO - Couldn't load UCSD04_Task_1.mat with scipy (vers > 7.3?) - using package 'mat73' to load\n",
      "2022-07-05 18:02:36,912 - ecog_speech.datasets.HarvardSentences.load_data:795 - DEBUG - Matlab keys : ['EKG_signal', 'Labels', 'audio', 'fs_audio', 'fs_signal', 'label_contact_common', 'label_contact_r_a_s', 'sEEG_signal', 'start_stop_word_ms', 'stimcode']\n"
     ]
    }
   ],
   "source": [
    "ucsd_data_map = hvs_cls.load_data(*hvs_tuples[0])#('UCSD', 4)"
   ]
  },
  {
   "cell_type": "code",
   "execution_count": 7,
   "metadata": {},
   "outputs": [],
   "source": [
    "from sklearn.pipeline import Pipeline\n",
    "from sklearn import set_config\n",
    "set_config(display=\"diagram\")"
   ]
  },
  {
   "cell_type": "code",
   "execution_count": 10,
   "metadata": {
    "collapsed": true,
    "jupyter": {
     "outputs_hidden": true
    },
    "tags": []
   },
   "outputs": [
    {
     "data": {
      "text/html": [
       "<style>#sk-7924de05-f2c4-41bd-b1a1-085e08906da7 {color: black;background-color: white;}#sk-7924de05-f2c4-41bd-b1a1-085e08906da7 pre{padding: 0;}#sk-7924de05-f2c4-41bd-b1a1-085e08906da7 div.sk-toggleable {background-color: white;}#sk-7924de05-f2c4-41bd-b1a1-085e08906da7 label.sk-toggleable__label {cursor: pointer;display: block;width: 100%;margin-bottom: 0;padding: 0.3em;box-sizing: border-box;text-align: center;}#sk-7924de05-f2c4-41bd-b1a1-085e08906da7 div.sk-toggleable__content {max-height: 0;max-width: 0;overflow: hidden;text-align: left;background-color: #f0f8ff;}#sk-7924de05-f2c4-41bd-b1a1-085e08906da7 div.sk-toggleable__content pre {margin: 0.2em;color: black;border-radius: 0.25em;background-color: #f0f8ff;}#sk-7924de05-f2c4-41bd-b1a1-085e08906da7 input.sk-toggleable__control:checked~div.sk-toggleable__content {max-height: 200px;max-width: 100%;overflow: auto;}#sk-7924de05-f2c4-41bd-b1a1-085e08906da7 div.sk-estimator input.sk-toggleable__control:checked~label.sk-toggleable__label {background-color: #d4ebff;}#sk-7924de05-f2c4-41bd-b1a1-085e08906da7 div.sk-label input.sk-toggleable__control:checked~label.sk-toggleable__label {background-color: #d4ebff;}#sk-7924de05-f2c4-41bd-b1a1-085e08906da7 input.sk-hidden--visually {border: 0;clip: rect(1px 1px 1px 1px);clip: rect(1px, 1px, 1px, 1px);height: 1px;margin: -1px;overflow: hidden;padding: 0;position: absolute;width: 1px;}#sk-7924de05-f2c4-41bd-b1a1-085e08906da7 div.sk-estimator {font-family: monospace;background-color: #f0f8ff;border: 1px dotted black;border-radius: 0.25em;box-sizing: border-box;margin-bottom: 0.5em;}#sk-7924de05-f2c4-41bd-b1a1-085e08906da7 div.sk-estimator:hover {background-color: #d4ebff;}#sk-7924de05-f2c4-41bd-b1a1-085e08906da7 div.sk-parallel-item::after {content: \"\";width: 100%;border-bottom: 1px solid gray;flex-grow: 1;}#sk-7924de05-f2c4-41bd-b1a1-085e08906da7 div.sk-label:hover label.sk-toggleable__label {background-color: #d4ebff;}#sk-7924de05-f2c4-41bd-b1a1-085e08906da7 div.sk-serial::before {content: \"\";position: absolute;border-left: 1px solid gray;box-sizing: border-box;top: 2em;bottom: 0;left: 50%;}#sk-7924de05-f2c4-41bd-b1a1-085e08906da7 div.sk-serial {display: flex;flex-direction: column;align-items: center;background-color: white;padding-right: 0.2em;padding-left: 0.2em;}#sk-7924de05-f2c4-41bd-b1a1-085e08906da7 div.sk-item {z-index: 1;}#sk-7924de05-f2c4-41bd-b1a1-085e08906da7 div.sk-parallel {display: flex;align-items: stretch;justify-content: center;background-color: white;}#sk-7924de05-f2c4-41bd-b1a1-085e08906da7 div.sk-parallel::before {content: \"\";position: absolute;border-left: 1px solid gray;box-sizing: border-box;top: 2em;bottom: 0;left: 50%;}#sk-7924de05-f2c4-41bd-b1a1-085e08906da7 div.sk-parallel-item {display: flex;flex-direction: column;position: relative;background-color: white;}#sk-7924de05-f2c4-41bd-b1a1-085e08906da7 div.sk-parallel-item:first-child::after {align-self: flex-end;width: 50%;}#sk-7924de05-f2c4-41bd-b1a1-085e08906da7 div.sk-parallel-item:last-child::after {align-self: flex-start;width: 50%;}#sk-7924de05-f2c4-41bd-b1a1-085e08906da7 div.sk-parallel-item:only-child::after {width: 0;}#sk-7924de05-f2c4-41bd-b1a1-085e08906da7 div.sk-dashed-wrapped {border: 1px dashed gray;margin: 0 0.4em 0.5em 0.4em;box-sizing: border-box;padding-bottom: 0.4em;background-color: white;position: relative;}#sk-7924de05-f2c4-41bd-b1a1-085e08906da7 div.sk-label label {font-family: monospace;font-weight: bold;background-color: white;display: inline-block;line-height: 1.2em;}#sk-7924de05-f2c4-41bd-b1a1-085e08906da7 div.sk-label-container {position: relative;z-index: 2;text-align: center;}#sk-7924de05-f2c4-41bd-b1a1-085e08906da7 div.sk-container {display: inline-block;position: relative;}</style><div id=\"sk-7924de05-f2c4-41bd-b1a1-085e08906da7\" class\"sk-top-container\"><div class=\"sk-container\"><div class=\"sk-item sk-dashed-wrapped\"><div class=\"sk-label-container\"><div class=\"sk-label sk-toggleable\"><input class=\"sk-toggleable__control sk-hidden--visually\" id=\"69de622e-2c56-4a4e-95da-b8e1807212b9\" type=\"checkbox\" ><label class=\"sk-toggleable__label\" for=\"69de622e-2c56-4a4e-95da-b8e1807212b9\">Pipeline</label><div class=\"sk-toggleable__content\"><pre>Pipeline(steps=[('parse_signal',\n",
       "                 ParseTimeSeriesArrToFrame(array_key='sEEG_signal', default_fs=1200, fs_key='fs_signal', output_key='signal')),\n",
       "                ('parse_audio',\n",
       "                 ParseTimeSeriesArrToFrame(array_key='audio', default_fs=48000, fs_key='fs_audio', reshape=-1)),\n",
       "                ('parse_stim',\n",
       "                 ParseTimeSeriesArrToFrame(array_key='stimcode', default_fs=1200, fs_key='fs_signal', output_k...\n",
       "                 WindowSampleIndicesFromStim(sample_n=1000, stim_key='mouthing_region_stim', stim_value_remap=2, target_offset_shift=Timedelta('-1 days +23:59:59.900000'), target_onset_shift=Timedelta('0 days 00:00:00.100000'))),\n",
       "                ('imagining_indices',\n",
       "                 WindowSampleIndicesFromStim(sample_n=1000, stim_key='imagining_region_stim', stim_value_remap=3, target_offset_shift=Timedelta('-1 days +23:59:59.900000'), target_onset_shift=Timedelta('0 days 00:00:00.100000'))),\n",
       "                ('output', 'passthrough')])</pre></div></div></div><div class=\"sk-serial\"><div class=\"sk-item\"><div class=\"sk-estimator sk-toggleable\"><input class=\"sk-toggleable__control sk-hidden--visually\" id=\"7c7f0310-75d1-47c1-915c-b07a6bb642ad\" type=\"checkbox\" ><label class=\"sk-toggleable__label\" for=\"7c7f0310-75d1-47c1-915c-b07a6bb642ad\">ParseTimeSeriesArrToFrame</label><div class=\"sk-toggleable__content\"><pre>ParseTimeSeriesArrToFrame(array_key='sEEG_signal', fs_key='fs_signal', default_fs=1200, dtype=None, reshape=None, output_key='signal')</pre></div></div></div><div class=\"sk-item\"><div class=\"sk-estimator sk-toggleable\"><input class=\"sk-toggleable__control sk-hidden--visually\" id=\"1e4253a6-46fd-4cad-a54e-e2ddc5b6fab9\" type=\"checkbox\" ><label class=\"sk-toggleable__label\" for=\"1e4253a6-46fd-4cad-a54e-e2ddc5b6fab9\">ParseTimeSeriesArrToFrame</label><div class=\"sk-toggleable__content\"><pre>ParseTimeSeriesArrToFrame(array_key='audio', fs_key='fs_audio', default_fs=48000, dtype=None, reshape=-1, output_key=None)</pre></div></div></div><div class=\"sk-item\"><div class=\"sk-estimator sk-toggleable\"><input class=\"sk-toggleable__control sk-hidden--visually\" id=\"022178ac-d120-4e20-aefe-66c2ab1e5710\" type=\"checkbox\" ><label class=\"sk-toggleable__label\" for=\"022178ac-d120-4e20-aefe-66c2ab1e5710\">ParseTimeSeriesArrToFrame</label><div class=\"sk-toggleable__content\"><pre>ParseTimeSeriesArrToFrame(array_key='stimcode', fs_key='fs_signal', default_fs=1200, dtype=None, reshape=-1, output_key='stim')</pre></div></div></div><div class=\"sk-item\"><div class=\"sk-estimator sk-toggleable\"><input class=\"sk-toggleable__control sk-hidden--visually\" id=\"8c28256c-6851-4629-a355-3584a8019523\" type=\"checkbox\" ><label class=\"sk-toggleable__label\" for=\"8c28256c-6851-4629-a355-3584a8019523\">ParseSensorRAS</label><div class=\"sk-toggleable__content\"><pre>ParseSensorRAS(ras_key='label_contact_common')</pre></div></div></div><div class=\"sk-item\"><div class=\"sk-estimator sk-toggleable\"><input class=\"sk-toggleable__control sk-hidden--visually\" id=\"d4c794bc-666d-4012-8a0e-712be9f94620\" type=\"checkbox\" ><label class=\"sk-toggleable__label\" for=\"d4c794bc-666d-4012-8a0e-712be9f94620\">ExtractMFCC</label><div class=\"sk-toggleable__content\"><pre>ExtractMFCC(n_fft=1024, win_length=None, hop_length=512, n_mels=13, fs=None, audio_key='audio', audio_fs_key='fs_audio')</pre></div></div></div><div class=\"sk-item\"><div class=\"sk-estimator sk-toggleable\"><input class=\"sk-toggleable__control sk-hidden--visually\" id=\"df3273a4-ba78-4b9c-86e8-ac21e1efd3ee\" type=\"checkbox\" ><label class=\"sk-toggleable__label\" for=\"df3273a4-ba78-4b9c-86e8-ac21e1efd3ee\">IdentifyGoodAndBadSensors</label><div class=\"sk-toggleable__content\"><pre>IdentifyGoodAndBadSensors(electrode_qual_key='electrodes', on_missing='ignore', sensor_selection=None, good_electrode_ind_column=0)</pre></div></div></div><div class=\"sk-item\"><div class=\"sk-estimator sk-toggleable\"><input class=\"sk-toggleable__control sk-hidden--visually\" id=\"a2f9d9c1-dd87-4148-a6f1-e8d001b43f89\" type=\"checkbox\" ><label class=\"sk-toggleable__label\" for=\"a2f9d9c1-dd87-4148-a6f1-e8d001b43f89\">StandardNormSignal</label><div class=\"sk-toggleable__content\"><pre>StandardNormSignal(signal_key='signal', output_key='signal', rate=2)</pre></div></div></div><div class=\"sk-item\"><div class=\"sk-estimator sk-toggleable\"><input class=\"sk-toggleable__control sk-hidden--visually\" id=\"cc6235af-5b09-4b39-a5b3-4125fb5e698f\" type=\"checkbox\" ><label class=\"sk-toggleable__label\" for=\"cc6235af-5b09-4b39-a5b3-4125fb5e698f\">SubsampleSignal</label><div class=\"sk-toggleable__content\"><pre>SubsampleSignal(signal_keys=('signal', 'stim'), signal_rate_key='fs_signal', rate=2)</pre></div></div></div><div class=\"sk-item\"><div class=\"sk-estimator sk-toggleable\"><input class=\"sk-toggleable__control sk-hidden--visually\" id=\"f9056533-43be-47e4-8134-a589b9224959\" type=\"checkbox\" ><label class=\"sk-toggleable__label\" for=\"f9056533-43be-47e4-8134-a589b9224959\">SentCodeFromStartStopWordTimes</label><div class=\"sk-toggleable__content\"><pre>SentCodeFromStartStopWordTimes(stim_speaking_value=51)</pre></div></div></div><div class=\"sk-item\"><div class=\"sk-estimator sk-toggleable\"><input class=\"sk-toggleable__control sk-hidden--visually\" id=\"200bc60d-1e49-4030-934d-e73c3a4a20f4\" type=\"checkbox\" ><label class=\"sk-toggleable__label\" for=\"200bc60d-1e49-4030-934d-e73c3a4a20f4\">NewNewMultiTaskStartStop</label><div class=\"sk-toggleable__content\"><pre>NewNewMultiTaskStartStop()</pre></div></div></div><div class=\"sk-item\"><div class=\"sk-estimator sk-toggleable\"><input class=\"sk-toggleable__control sk-hidden--visually\" id=\"bd254c4f-fd49-4c6a-89bf-1fe889ab3cbd\" type=\"checkbox\" ><label class=\"sk-toggleable__label\" for=\"bd254c4f-fd49-4c6a-89bf-1fe889ab3cbd\">NewStimFromRegionStartStopTimes</label><div class=\"sk-toggleable__content\"><pre>NewStimFromRegionStartStopTimes(start_t_column='start_t', stop_t_column='stop_t', label_column='word', group_code_column='stim_sentcode', stim_output_name='speaking_word_stim', start_stop_time_input_name='word_start_stop_times', series_with_timestamp_index='stim', default_stim_value=0)</pre></div></div></div><div class=\"sk-item\"><div class=\"sk-estimator sk-toggleable\"><input class=\"sk-toggleable__control sk-hidden--visually\" id=\"62a8976e-4d05-4643-955c-6190d85f1c10\" type=\"checkbox\" ><label class=\"sk-toggleable__label\" for=\"62a8976e-4d05-4643-955c-6190d85f1c10\">NewStimFromRegionStartStopTimes</label><div class=\"sk-toggleable__content\"><pre>NewStimFromRegionStartStopTimes(start_t_column='listening_word_start_t', stop_t_column='listening_word_stop_t', label_column='word', group_code_column='stim_sentcode', stim_output_name='listening_word_stim', start_stop_time_input_name='word_start_stop_times', series_with_timestamp_index='stim', default_stim_value=0)</pre></div></div></div><div class=\"sk-item\"><div class=\"sk-estimator sk-toggleable\"><input class=\"sk-toggleable__control sk-hidden--visually\" id=\"66b05347-38f8-4887-a36b-063857f9de8a\" type=\"checkbox\" ><label class=\"sk-toggleable__label\" for=\"66b05347-38f8-4887-a36b-063857f9de8a\">NewStimFromRegionStartStopTimes</label><div class=\"sk-toggleable__content\"><pre>NewStimFromRegionStartStopTimes(start_t_column='mouthing_word_start_t', stop_t_column='mouthing_word_stop_t', label_column='word', group_code_column='stim_sentcode', stim_output_name='mouthing_word_stim', start_stop_time_input_name='word_start_stop_times', series_with_timestamp_index='stim', default_stim_value=0)</pre></div></div></div><div class=\"sk-item\"><div class=\"sk-estimator sk-toggleable\"><input class=\"sk-toggleable__control sk-hidden--visually\" id=\"88befdbb-dae4-415e-a616-d7208246332c\" type=\"checkbox\" ><label class=\"sk-toggleable__label\" for=\"88befdbb-dae4-415e-a616-d7208246332c\">NewStimFromRegionStartStopTimes</label><div class=\"sk-toggleable__content\"><pre>NewStimFromRegionStartStopTimes(start_t_column='imagining_word_start_t', stop_t_column='imagining_word_stop_t', label_column='word', group_code_column='stim_sentcode', stim_output_name='imagining_word_stim', start_stop_time_input_name='word_start_stop_times', series_with_timestamp_index='stim', default_stim_value=0)</pre></div></div></div><div class=\"sk-item\"><div class=\"sk-estimator sk-toggleable\"><input class=\"sk-toggleable__control sk-hidden--visually\" id=\"bb18b1d3-7c59-4600-bacf-4899eeb11a36\" type=\"checkbox\" ><label class=\"sk-toggleable__label\" for=\"bb18b1d3-7c59-4600-bacf-4899eeb11a36\">NewStimFromRegionStartStopTimes</label><div class=\"sk-toggleable__content\"><pre>NewStimFromRegionStartStopTimes(start_t_column='speaking_region_start_t', stop_t_column='speaking_region_stop_t', label_column='word', group_code_column='stim_sentcode', stim_output_name='speaking_region_stim', start_stop_time_input_name='word_start_stop_times', series_with_timestamp_index='stim', default_stim_value=0)</pre></div></div></div><div class=\"sk-item\"><div class=\"sk-estimator sk-toggleable\"><input class=\"sk-toggleable__control sk-hidden--visually\" id=\"8645ebe9-88fb-4fb2-95ef-57cee3e40f6f\" type=\"checkbox\" ><label class=\"sk-toggleable__label\" for=\"8645ebe9-88fb-4fb2-95ef-57cee3e40f6f\">NewStimFromRegionStartStopTimes</label><div class=\"sk-toggleable__content\"><pre>NewStimFromRegionStartStopTimes(start_t_column='listening_region_start_t', stop_t_column='listening_region_stop_t', label_column='word', group_code_column='stim_sentcode', stim_output_name='listening_region_stim', start_stop_time_input_name='word_start_stop_times', series_with_timestamp_index='stim', default_stim_value=0)</pre></div></div></div><div class=\"sk-item\"><div class=\"sk-estimator sk-toggleable\"><input class=\"sk-toggleable__control sk-hidden--visually\" id=\"80a536b6-0f3c-41be-8456-b31db0db4111\" type=\"checkbox\" ><label class=\"sk-toggleable__label\" for=\"80a536b6-0f3c-41be-8456-b31db0db4111\">NewStimFromRegionStartStopTimes</label><div class=\"sk-toggleable__content\"><pre>NewStimFromRegionStartStopTimes(start_t_column='mouthing_region_start_t', stop_t_column='mouthing_region_stop_t', label_column='word', group_code_column='stim_sentcode', stim_output_name='mouthing_region_stim', start_stop_time_input_name='word_start_stop_times', series_with_timestamp_index='stim', default_stim_value=0)</pre></div></div></div><div class=\"sk-item\"><div class=\"sk-estimator sk-toggleable\"><input class=\"sk-toggleable__control sk-hidden--visually\" id=\"a48bdd7c-6972-4cde-a2b6-47b113a638de\" type=\"checkbox\" ><label class=\"sk-toggleable__label\" for=\"a48bdd7c-6972-4cde-a2b6-47b113a638de\">NewStimFromRegionStartStopTimes</label><div class=\"sk-toggleable__content\"><pre>NewStimFromRegionStartStopTimes(start_t_column='imagining_region_start_t', stop_t_column='imagining_region_stop_t', label_column='word', group_code_column='stim_sentcode', stim_output_name='imagining_region_stim', start_stop_time_input_name='word_start_stop_times', series_with_timestamp_index='stim', default_stim_value=0)</pre></div></div></div><div class=\"sk-item\"><div class=\"sk-estimator sk-toggleable\"><input class=\"sk-toggleable__control sk-hidden--visually\" id=\"a3b8efff-bd1c-4ea2-acc9-1f53876b2e04\" type=\"checkbox\" ><label class=\"sk-toggleable__label\" for=\"a3b8efff-bd1c-4ea2-acc9-1f53876b2e04\">WindowSampleIndicesFromStim</label><div class=\"sk-toggleable__content\"><pre>WindowSampleIndicesFromStim(stim_key='speaking_region_stim', fs_key='fs_signal', window_size=Timedelta('0 days 00:00:00.500000'), target_onset_reference='rising', target_offset_reference='falling', target_onset_shift=Timedelta('0 days 00:00:00.100000'), target_offset_shift=Timedelta('-1 days +23:59:59.900000'), sample_n=1000, max_target_region_size=600, stim_value_remap=0)</pre></div></div></div><div class=\"sk-item\"><div class=\"sk-estimator sk-toggleable\"><input class=\"sk-toggleable__control sk-hidden--visually\" id=\"c933b2dd-7bce-4f99-82d1-49102c8757c8\" type=\"checkbox\" ><label class=\"sk-toggleable__label\" for=\"c933b2dd-7bce-4f99-82d1-49102c8757c8\">WindowSampleIndicesFromStim</label><div class=\"sk-toggleable__content\"><pre>WindowSampleIndicesFromStim(stim_key='listening_region_stim', fs_key='fs_signal', window_size=Timedelta('0 days 00:00:00.500000'), target_onset_reference='rising', target_offset_reference='falling', target_onset_shift=Timedelta('0 days 00:00:00.100000'), target_offset_shift=Timedelta('-1 days +23:59:59.900000'), sample_n=1000, max_target_region_size=600, stim_value_remap=1)</pre></div></div></div><div class=\"sk-item\"><div class=\"sk-estimator sk-toggleable\"><input class=\"sk-toggleable__control sk-hidden--visually\" id=\"7a1e86c5-9bc1-4e9a-82f8-eed7a4b366f7\" type=\"checkbox\" ><label class=\"sk-toggleable__label\" for=\"7a1e86c5-9bc1-4e9a-82f8-eed7a4b366f7\">WindowSampleIndicesFromStim</label><div class=\"sk-toggleable__content\"><pre>WindowSampleIndicesFromStim(stim_key='mouthing_region_stim', fs_key='fs_signal', window_size=Timedelta('0 days 00:00:00.500000'), target_onset_reference='rising', target_offset_reference='falling', target_onset_shift=Timedelta('0 days 00:00:00.100000'), target_offset_shift=Timedelta('-1 days +23:59:59.900000'), sample_n=1000, max_target_region_size=600, stim_value_remap=2)</pre></div></div></div><div class=\"sk-item\"><div class=\"sk-estimator sk-toggleable\"><input class=\"sk-toggleable__control sk-hidden--visually\" id=\"8746a684-8d9a-488e-a3b2-55d6273723a0\" type=\"checkbox\" ><label class=\"sk-toggleable__label\" for=\"8746a684-8d9a-488e-a3b2-55d6273723a0\">WindowSampleIndicesFromStim</label><div class=\"sk-toggleable__content\"><pre>WindowSampleIndicesFromStim(stim_key='imagining_region_stim', fs_key='fs_signal', window_size=Timedelta('0 days 00:00:00.500000'), target_onset_reference='rising', target_offset_reference='falling', target_onset_shift=Timedelta('0 days 00:00:00.100000'), target_offset_shift=Timedelta('-1 days +23:59:59.900000'), sample_n=1000, max_target_region_size=600, stim_value_remap=3)</pre></div></div></div><div class=\"sk-item\"><div class=\"sk-estimator sk-toggleable\"><input class=\"sk-toggleable__control sk-hidden--visually\" id=\"04b0c554-a972-4134-a789-537f3d261d9e\" type=\"checkbox\" ><label class=\"sk-toggleable__label\" for=\"04b0c554-a972-4134-a789-537f3d261d9e\">passthrough</label><div class=\"sk-toggleable__content\"><pre>passthrough</pre></div></div></div></div></div></div></div>"
      ],
      "text/plain": [
       "Pipeline(steps=[('parse_signal',\n",
       "                 ParseTimeSeriesArrToFrame(array_key='sEEG_signal', default_fs=1200, fs_key='fs_signal', output_key='signal')),\n",
       "                ('parse_audio',\n",
       "                 ParseTimeSeriesArrToFrame(array_key='audio', default_fs=48000, fs_key='fs_audio', reshape=-1)),\n",
       "                ('parse_stim',\n",
       "                 ParseTimeSeriesArrToFrame(array_key='stimcode', default_fs=1200, fs_key='fs_signal', output_k...\n",
       "                 WindowSampleIndicesFromStim(sample_n=1000, stim_key='mouthing_region_stim', stim_value_remap=2, target_offset_shift=Timedelta('-1 days +23:59:59.900000'), target_onset_shift=Timedelta('0 days 00:00:00.100000'))),\n",
       "                ('imagining_indices',\n",
       "                 WindowSampleIndicesFromStim(sample_n=1000, stim_key='imagining_region_stim', stim_value_remap=3, target_offset_shift=Timedelta('-1 days +23:59:59.900000'), target_onset_shift=Timedelta('0 days 00:00:00.100000'))),\n",
       "                ('output', 'passthrough')])"
      ]
     },
     "execution_count": 10,
     "metadata": {},
     "output_type": "execute_result"
    }
   ],
   "source": [
    "t_pipeline = hvs.pipeline_map['region_classification']\n",
    "t_pipeline"
   ]
  },
  {
   "cell_type": "code",
   "execution_count": 12,
   "metadata": {
    "scrolled": true,
    "tags": []
   },
   "outputs": [
    {
     "name": "stdout",
     "output_type": "stream",
     "text": [
      "2022-07-05 18:05:26,335 - ecog_speech.pipeline.ParseTimeSeriesArrToFrame.process:45 - DEBUG - Accessing fs_signal\n",
      "2022-07-05 18:05:26,336 - ecog_speech.pipeline.ParseTimeSeriesArrToFrame.process:52 - DEBUG - Input source frequency, fs object: 1024.0\n",
      "2022-07-05 18:05:26,361 - ecog_speech.pipeline.ParseTimeSeriesArrToFrame.process:71 - INFO - sEEG_signal@1024, shape: (1050000, 90), [(Timedelta('0 days 00:00:00'), Timedelta('0 days 00:17:05.389648438'))]\n",
      "2022-07-05 18:05:26,416 - ecog_speech.pipeline.ParseTimeSeriesArrToFrame.transform:22 - DEBUG - Updated keys: {'fs_signal', 'signal'}\n",
      "2022-07-05 18:05:26,417 - ecog_speech.pipeline.ParseTimeSeriesArrToFrame.process:45 - DEBUG - Accessing fs_audio\n",
      "2022-07-05 18:05:26,417 - ecog_speech.pipeline.ParseTimeSeriesArrToFrame.process:52 - DEBUG - Input source frequency, fs object: 48000.0\n",
      "2022-07-05 18:05:37,492 - ecog_speech.pipeline.ParseTimeSeriesArrToFrame.process:71 - INFO - audio@48000, shape: (49218750,), [(Timedelta('0 days 00:00:00'), Timedelta('0 days 00:17:05.390604167'))]\n",
      "2022-07-05 18:05:48,425 - ecog_speech.pipeline.ParseTimeSeriesArrToFrame.transform:22 - DEBUG - Updated keys: {'fs_audio', 'audio'}\n",
      "2022-07-05 18:05:48,426 - ecog_speech.pipeline.ParseTimeSeriesArrToFrame.process:45 - DEBUG - Accessing fs_signal\n",
      "2022-07-05 18:05:48,427 - ecog_speech.pipeline.ParseTimeSeriesArrToFrame.process:52 - DEBUG - Input source frequency, fs object: 1024\n",
      "2022-07-05 18:05:48,457 - ecog_speech.pipeline.ParseTimeSeriesArrToFrame.process:71 - INFO - stimcode@1024, shape: (1050000,), [(Timedelta('0 days 00:00:00'), Timedelta('0 days 00:17:05.389648438'))]\n",
      "2022-07-05 18:05:48,503 - ecog_speech.pipeline.ParseTimeSeriesArrToFrame.transform:22 - DEBUG - Updated keys: {'fs_signal', 'stim'}\n",
      "2022-07-05 18:05:48,508 - ecog_speech.pipeline.ParseSensorRAS.transform:22 - DEBUG - Updated keys: {'sensor_ras_coord_arr', 'sensor_ras_df'}\n",
      "2022-07-05 18:05:49,378 - ecog_speech.pipeline.ExtractMFCC.transform:22 - DEBUG - Updated keys: {'audio_mel_spec'}\n",
      "2022-07-05 18:05:49,379 - ecog_speech.pipeline.IdentifyGoodAndBadSensors.process:90 - WARNING - Electrodes with key 'electrodes' not found among ['EKG_signal', 'Labels', 'audio', 'fs_audio', 'fs_signal', 'label_contact_common', 'label_contact_r_a_s', 'sEEG_signal', 'start_stop_word_ms', 'stimcode', 'signal', 'stim', 'sensor_ras_df', 'sensor_ras_coord_arr', 'audio_mel_spec'] - but on_missing=\"ignore\", so moving on\n",
      "2022-07-05 18:05:49,380 - ecog_speech.pipeline.IdentifyGoodAndBadSensors.transform:22 - DEBUG - Updated keys: {'good_sensor_columns', 'bad_sensor_columns'}\n",
      "2022-07-05 18:06:02,556 - ecog_speech.pipeline.StandardNormSignal.transform:22 - DEBUG - Updated keys: {'signal'}\n",
      "2022-07-05 18:06:02,557 - ecog_speech.pipeline.SubsampleSignal.transform:22 - DEBUG - Updated keys: {'fs_signal', 'signal', 'stim'}\n",
      "2022-07-05 18:06:02,615 - ecog_speech.pipeline.SentCodeFromStartStopWordTimes.transform:22 - DEBUG - Updated keys: {'word_start_stop_times', 'sent_start_stop_time', 'stim'}\n",
      "2022-07-05 18:06:02,639 - ecog_speech.pipeline.NewNewMultiTaskStartStop.process:504 - WARNING - Sent code 3.0 has no future sentence dodes in front of it\n",
      "2022-07-05 18:06:02,739 - ecog_speech.pipeline.NewNewMultiTaskStartStop.transform:22 - DEBUG - Updated keys: {'word_start_stop_times'}\n",
      "2022-07-05 18:06:03,324 - ecog_speech.pipeline.NewStimFromRegionStartStopTimes.transform:22 - DEBUG - Updated keys: {'speaking_word_stim', 'speaking_word_stim_mask'}\n",
      "2022-07-05 18:06:03,936 - ecog_speech.pipeline.NewStimFromRegionStartStopTimes.transform:22 - DEBUG - Updated keys: {'listening_word_stim', 'listening_word_stim_mask'}\n",
      "2022-07-05 18:06:04,558 - ecog_speech.pipeline.NewStimFromRegionStartStopTimes.transform:22 - DEBUG - Updated keys: {'mouthing_word_stim', 'mouthing_word_stim_mask'}\n",
      "2022-07-05 18:06:05,211 - ecog_speech.pipeline.NewStimFromRegionStartStopTimes.transform:22 - DEBUG - Updated keys: {'imagining_word_stim', 'imagining_word_stim_mask'}\n",
      "2022-07-05 18:06:05,493 - ecog_speech.pipeline.NewStimFromRegionStartStopTimes.transform:22 - DEBUG - Updated keys: {'speaking_region_stim_mask', 'speaking_region_stim'}\n",
      "2022-07-05 18:06:05,779 - ecog_speech.pipeline.NewStimFromRegionStartStopTimes.transform:22 - DEBUG - Updated keys: {'listening_region_stim', 'listening_region_stim_mask'}\n",
      "2022-07-05 18:06:06,054 - ecog_speech.pipeline.NewStimFromRegionStartStopTimes.transform:22 - DEBUG - Updated keys: {'mouthing_region_stim_mask', 'mouthing_region_stim'}\n",
      "2022-07-05 18:06:06,334 - ecog_speech.pipeline.NewStimFromRegionStartStopTimes.transform:22 - DEBUG - Updated keys: {'imagining_region_stim', 'imagining_region_stim_mask'}\n",
      "2022-07-05 18:06:06,335 - ecog_speech.pipeline.WindowSampleIndicesFromStim.process:1104 - INFO - (512, Timedelta('0 days 00:00:00.500000'))\n",
      "2022-07-05 18:06:06,335 - ecog_speech.pipeline.WindowSampleIndicesFromStim.process:1105 - INFO - Samples per window: 256\n"
     ]
    },
    {
     "data": {
      "application/vnd.jupyter.widget-view+json": {
       "model_id": "1e3c726e89334bb69d26369a5c05669e",
       "version_major": 2,
       "version_minor": 0
      },
      "text/plain": [
       "Processing stim regions:   0%|          | 0/25 [00:00<?, ?it/s]"
      ]
     },
     "metadata": {},
     "output_type": "display_data"
    },
    {
     "name": "stdout",
     "output_type": "stream",
     "text": [
      "2022-07-05 18:06:10,775 - ecog_speech.pipeline.WindowSampleIndicesFromStim.process:1167 - INFO - Number of samples keys in sample index: {25000: 1}\n",
      "2022-07-05 18:06:10,776 - ecog_speech.pipeline.WindowSampleIndicesFromStim.transform:22 - DEBUG - Updated keys: {'index_source_map', 'n_samples_per_window', 'sample_index_map'}\n",
      "2022-07-05 18:06:10,776 - ecog_speech.pipeline.WindowSampleIndicesFromStim.process:1104 - INFO - (512, Timedelta('0 days 00:00:00.500000'))\n",
      "2022-07-05 18:06:10,776 - ecog_speech.pipeline.WindowSampleIndicesFromStim.process:1105 - INFO - Samples per window: 256\n"
     ]
    },
    {
     "data": {
      "application/vnd.jupyter.widget-view+json": {
       "model_id": "3ee9081846d24fbc80e98a4b534ca2a4",
       "version_major": 2,
       "version_minor": 0
      },
      "text/plain": [
       "Processing stim regions:   0%|          | 0/25 [00:00<?, ?it/s]"
      ]
     },
     "metadata": {},
     "output_type": "display_data"
    },
    {
     "name": "stdout",
     "output_type": "stream",
     "text": [
      "2022-07-05 18:06:15,390 - ecog_speech.pipeline.WindowSampleIndicesFromStim.process:1167 - INFO - Number of samples keys in sample index: {25000: 1}\n",
      "2022-07-05 18:06:15,391 - ecog_speech.pipeline.WindowSampleIndicesFromStim.transform:22 - DEBUG - Updated keys: {'index_source_map', 'n_samples_per_window', 'sample_index_map'}\n",
      "2022-07-05 18:06:15,391 - ecog_speech.pipeline.WindowSampleIndicesFromStim.process:1104 - INFO - (512, Timedelta('0 days 00:00:00.500000'))\n",
      "2022-07-05 18:06:15,391 - ecog_speech.pipeline.WindowSampleIndicesFromStim.process:1105 - INFO - Samples per window: 256\n"
     ]
    },
    {
     "data": {
      "application/vnd.jupyter.widget-view+json": {
       "model_id": "5128c097e3bc4598b5c94d98162e2678",
       "version_major": 2,
       "version_minor": 0
      },
      "text/plain": [
       "Processing stim regions:   0%|          | 0/25 [00:00<?, ?it/s]"
      ]
     },
     "metadata": {},
     "output_type": "display_data"
    },
    {
     "name": "stdout",
     "output_type": "stream",
     "text": [
      "2022-07-05 18:06:20,067 - ecog_speech.pipeline.WindowSampleIndicesFromStim.process:1167 - INFO - Number of samples keys in sample index: {25000: 1}\n",
      "2022-07-05 18:06:20,068 - ecog_speech.pipeline.WindowSampleIndicesFromStim.transform:22 - DEBUG - Updated keys: {'index_source_map', 'n_samples_per_window', 'sample_index_map'}\n",
      "2022-07-05 18:06:20,068 - ecog_speech.pipeline.WindowSampleIndicesFromStim.process:1104 - INFO - (512, Timedelta('0 days 00:00:00.500000'))\n",
      "2022-07-05 18:06:20,069 - ecog_speech.pipeline.WindowSampleIndicesFromStim.process:1105 - INFO - Samples per window: 256\n"
     ]
    },
    {
     "data": {
      "application/vnd.jupyter.widget-view+json": {
       "model_id": "274bc343545945088cc0a5ad1a788b02",
       "version_major": 2,
       "version_minor": 0
      },
      "text/plain": [
       "Processing stim regions:   0%|          | 0/25 [00:00<?, ?it/s]"
      ]
     },
     "metadata": {},
     "output_type": "display_data"
    },
    {
     "name": "stdout",
     "output_type": "stream",
     "text": [
      "2022-07-05 18:06:24,729 - ecog_speech.pipeline.WindowSampleIndicesFromStim.process:1167 - INFO - Number of samples keys in sample index: {25000: 1}\n",
      "2022-07-05 18:06:24,730 - ecog_speech.pipeline.WindowSampleIndicesFromStim.transform:22 - DEBUG - Updated keys: {'index_source_map', 'n_samples_per_window', 'sample_index_map'}\n"
     ]
    }
   ],
   "source": [
    "region_data_map = t_pipeline.transform(ucsd_data_map)"
   ]
  },
  {
   "cell_type": "code",
   "execution_count": 13,
   "metadata": {},
   "outputs": [
    {
     "data": {
      "text/plain": [
       "dict_keys(['EKG_signal', 'Labels', 'audio', 'fs_audio', 'fs_signal', 'label_contact_common', 'label_contact_r_a_s', 'sEEG_signal', 'start_stop_word_ms', 'stimcode', 'signal', 'stim', 'sensor_ras_df', 'sensor_ras_coord_arr', 'audio_mel_spec', 'good_sensor_columns', 'bad_sensor_columns', 'word_start_stop_times', 'sent_start_stop_time', 'speaking_word_stim', 'speaking_word_stim_mask', 'listening_word_stim', 'listening_word_stim_mask', 'mouthing_word_stim', 'mouthing_word_stim_mask', 'imagining_word_stim', 'imagining_word_stim_mask', 'speaking_region_stim', 'speaking_region_stim_mask', 'listening_region_stim', 'listening_region_stim_mask', 'mouthing_region_stim', 'mouthing_region_stim_mask', 'imagining_region_stim', 'imagining_region_stim_mask', 'sample_index_map', 'n_samples_per_window', 'index_source_map'])"
      ]
     },
     "execution_count": 13,
     "metadata": {},
     "output_type": "execute_result"
    }
   ],
   "source": [
    "region_data_map.keys()"
   ]
  },
  {
   "cell_type": "markdown",
   "metadata": {},
   "source": [
    "### Example Dev: modifying or extending an existing pipelnie\n",
    "- Requires a passthrough output, so append to the steps that we want to pull out"
   ]
  },
  {
   "cell_type": "code",
   "execution_count": 16,
   "metadata": {},
   "outputs": [
    {
     "data": {
      "text/html": [
       "<style>#sk-55767c19-6dd0-43d1-8033-52dc57f45db3 {color: black;background-color: white;}#sk-55767c19-6dd0-43d1-8033-52dc57f45db3 pre{padding: 0;}#sk-55767c19-6dd0-43d1-8033-52dc57f45db3 div.sk-toggleable {background-color: white;}#sk-55767c19-6dd0-43d1-8033-52dc57f45db3 label.sk-toggleable__label {cursor: pointer;display: block;width: 100%;margin-bottom: 0;padding: 0.3em;box-sizing: border-box;text-align: center;}#sk-55767c19-6dd0-43d1-8033-52dc57f45db3 div.sk-toggleable__content {max-height: 0;max-width: 0;overflow: hidden;text-align: left;background-color: #f0f8ff;}#sk-55767c19-6dd0-43d1-8033-52dc57f45db3 div.sk-toggleable__content pre {margin: 0.2em;color: black;border-radius: 0.25em;background-color: #f0f8ff;}#sk-55767c19-6dd0-43d1-8033-52dc57f45db3 input.sk-toggleable__control:checked~div.sk-toggleable__content {max-height: 200px;max-width: 100%;overflow: auto;}#sk-55767c19-6dd0-43d1-8033-52dc57f45db3 div.sk-estimator input.sk-toggleable__control:checked~label.sk-toggleable__label {background-color: #d4ebff;}#sk-55767c19-6dd0-43d1-8033-52dc57f45db3 div.sk-label input.sk-toggleable__control:checked~label.sk-toggleable__label {background-color: #d4ebff;}#sk-55767c19-6dd0-43d1-8033-52dc57f45db3 input.sk-hidden--visually {border: 0;clip: rect(1px 1px 1px 1px);clip: rect(1px, 1px, 1px, 1px);height: 1px;margin: -1px;overflow: hidden;padding: 0;position: absolute;width: 1px;}#sk-55767c19-6dd0-43d1-8033-52dc57f45db3 div.sk-estimator {font-family: monospace;background-color: #f0f8ff;border: 1px dotted black;border-radius: 0.25em;box-sizing: border-box;margin-bottom: 0.5em;}#sk-55767c19-6dd0-43d1-8033-52dc57f45db3 div.sk-estimator:hover {background-color: #d4ebff;}#sk-55767c19-6dd0-43d1-8033-52dc57f45db3 div.sk-parallel-item::after {content: \"\";width: 100%;border-bottom: 1px solid gray;flex-grow: 1;}#sk-55767c19-6dd0-43d1-8033-52dc57f45db3 div.sk-label:hover label.sk-toggleable__label {background-color: #d4ebff;}#sk-55767c19-6dd0-43d1-8033-52dc57f45db3 div.sk-serial::before {content: \"\";position: absolute;border-left: 1px solid gray;box-sizing: border-box;top: 2em;bottom: 0;left: 50%;}#sk-55767c19-6dd0-43d1-8033-52dc57f45db3 div.sk-serial {display: flex;flex-direction: column;align-items: center;background-color: white;padding-right: 0.2em;padding-left: 0.2em;}#sk-55767c19-6dd0-43d1-8033-52dc57f45db3 div.sk-item {z-index: 1;}#sk-55767c19-6dd0-43d1-8033-52dc57f45db3 div.sk-parallel {display: flex;align-items: stretch;justify-content: center;background-color: white;}#sk-55767c19-6dd0-43d1-8033-52dc57f45db3 div.sk-parallel::before {content: \"\";position: absolute;border-left: 1px solid gray;box-sizing: border-box;top: 2em;bottom: 0;left: 50%;}#sk-55767c19-6dd0-43d1-8033-52dc57f45db3 div.sk-parallel-item {display: flex;flex-direction: column;position: relative;background-color: white;}#sk-55767c19-6dd0-43d1-8033-52dc57f45db3 div.sk-parallel-item:first-child::after {align-self: flex-end;width: 50%;}#sk-55767c19-6dd0-43d1-8033-52dc57f45db3 div.sk-parallel-item:last-child::after {align-self: flex-start;width: 50%;}#sk-55767c19-6dd0-43d1-8033-52dc57f45db3 div.sk-parallel-item:only-child::after {width: 0;}#sk-55767c19-6dd0-43d1-8033-52dc57f45db3 div.sk-dashed-wrapped {border: 1px dashed gray;margin: 0 0.4em 0.5em 0.4em;box-sizing: border-box;padding-bottom: 0.4em;background-color: white;position: relative;}#sk-55767c19-6dd0-43d1-8033-52dc57f45db3 div.sk-label label {font-family: monospace;font-weight: bold;background-color: white;display: inline-block;line-height: 1.2em;}#sk-55767c19-6dd0-43d1-8033-52dc57f45db3 div.sk-label-container {position: relative;z-index: 2;text-align: center;}#sk-55767c19-6dd0-43d1-8033-52dc57f45db3 div.sk-container {display: inline-block;position: relative;}</style><div id=\"sk-55767c19-6dd0-43d1-8033-52dc57f45db3\" class\"sk-top-container\"><div class=\"sk-container\"><div class=\"sk-item sk-dashed-wrapped\"><div class=\"sk-label-container\"><div class=\"sk-label sk-toggleable\"><input class=\"sk-toggleable__control sk-hidden--visually\" id=\"e97b1742-d815-456f-9843-885c24952823\" type=\"checkbox\" ><label class=\"sk-toggleable__label\" for=\"e97b1742-d815-456f-9843-885c24952823\">Pipeline</label><div class=\"sk-toggleable__content\"><pre>Pipeline(steps=[('parse_signal',\n",
       "                 ParseTimeSeriesArrToFrame(array_key='sEEG_signal', default_fs=1200, fs_key='fs_signal', output_key='signal')),\n",
       "                ('parse_audio',\n",
       "                 ParseTimeSeriesArrToFrame(array_key='audio', default_fs=48000, fs_key='fs_audio', reshape=-1)),\n",
       "                ('parse_stim',\n",
       "                 ParseTimeSeriesArrToFrame(array_key='stimcode', default_fs=1200, fs_key='fs_signal', output_key='stim', reshape=-1)),\n",
       "                ('parse_sensor_ras', ParseSensorRAS()),\n",
       "                ('extract_mfc', ExtractMFCC()),\n",
       "                ('sensor_selection', IdentifyGoodAndBadSensors()),\n",
       "                ('rescale_signal', StandardNormSignal()),\n",
       "                ('subsample', SubsampleSignal()), ('output', 'passthrough')])</pre></div></div></div><div class=\"sk-serial\"><div class=\"sk-item\"><div class=\"sk-estimator sk-toggleable\"><input class=\"sk-toggleable__control sk-hidden--visually\" id=\"b7d81956-046e-4725-afb3-2dc55617333a\" type=\"checkbox\" ><label class=\"sk-toggleable__label\" for=\"b7d81956-046e-4725-afb3-2dc55617333a\">ParseTimeSeriesArrToFrame</label><div class=\"sk-toggleable__content\"><pre>ParseTimeSeriesArrToFrame(array_key='sEEG_signal', fs_key='fs_signal', default_fs=1200, dtype=None, reshape=None, output_key='signal')</pre></div></div></div><div class=\"sk-item\"><div class=\"sk-estimator sk-toggleable\"><input class=\"sk-toggleable__control sk-hidden--visually\" id=\"381af3d3-a730-4990-8302-af9d4019abcc\" type=\"checkbox\" ><label class=\"sk-toggleable__label\" for=\"381af3d3-a730-4990-8302-af9d4019abcc\">ParseTimeSeriesArrToFrame</label><div class=\"sk-toggleable__content\"><pre>ParseTimeSeriesArrToFrame(array_key='audio', fs_key='fs_audio', default_fs=48000, dtype=None, reshape=-1, output_key=None)</pre></div></div></div><div class=\"sk-item\"><div class=\"sk-estimator sk-toggleable\"><input class=\"sk-toggleable__control sk-hidden--visually\" id=\"0d01eddb-dd91-4911-abbc-4dae766a871b\" type=\"checkbox\" ><label class=\"sk-toggleable__label\" for=\"0d01eddb-dd91-4911-abbc-4dae766a871b\">ParseTimeSeriesArrToFrame</label><div class=\"sk-toggleable__content\"><pre>ParseTimeSeriesArrToFrame(array_key='stimcode', fs_key='fs_signal', default_fs=1200, dtype=None, reshape=-1, output_key='stim')</pre></div></div></div><div class=\"sk-item\"><div class=\"sk-estimator sk-toggleable\"><input class=\"sk-toggleable__control sk-hidden--visually\" id=\"f0ab08a7-751f-473d-b45b-20b362edc6d8\" type=\"checkbox\" ><label class=\"sk-toggleable__label\" for=\"f0ab08a7-751f-473d-b45b-20b362edc6d8\">ParseSensorRAS</label><div class=\"sk-toggleable__content\"><pre>ParseSensorRAS(ras_key='label_contact_common')</pre></div></div></div><div class=\"sk-item\"><div class=\"sk-estimator sk-toggleable\"><input class=\"sk-toggleable__control sk-hidden--visually\" id=\"68ea0b57-a7a4-4316-9dcf-ac20534dc762\" type=\"checkbox\" ><label class=\"sk-toggleable__label\" for=\"68ea0b57-a7a4-4316-9dcf-ac20534dc762\">ExtractMFCC</label><div class=\"sk-toggleable__content\"><pre>ExtractMFCC(n_fft=1024, win_length=None, hop_length=512, n_mels=13, fs=None, audio_key='audio', audio_fs_key='fs_audio')</pre></div></div></div><div class=\"sk-item\"><div class=\"sk-estimator sk-toggleable\"><input class=\"sk-toggleable__control sk-hidden--visually\" id=\"7618d4d2-d1c8-481b-b352-261161053d45\" type=\"checkbox\" ><label class=\"sk-toggleable__label\" for=\"7618d4d2-d1c8-481b-b352-261161053d45\">IdentifyGoodAndBadSensors</label><div class=\"sk-toggleable__content\"><pre>IdentifyGoodAndBadSensors(electrode_qual_key='electrodes', on_missing='ignore', sensor_selection=None, good_electrode_ind_column=0)</pre></div></div></div><div class=\"sk-item\"><div class=\"sk-estimator sk-toggleable\"><input class=\"sk-toggleable__control sk-hidden--visually\" id=\"3a938702-166d-4f32-9fd4-e8e43baa7611\" type=\"checkbox\" ><label class=\"sk-toggleable__label\" for=\"3a938702-166d-4f32-9fd4-e8e43baa7611\">StandardNormSignal</label><div class=\"sk-toggleable__content\"><pre>StandardNormSignal(signal_key='signal', output_key='signal', rate=2)</pre></div></div></div><div class=\"sk-item\"><div class=\"sk-estimator sk-toggleable\"><input class=\"sk-toggleable__control sk-hidden--visually\" id=\"fff0d163-caa0-487f-81d3-7db627c6b0c9\" type=\"checkbox\" ><label class=\"sk-toggleable__label\" for=\"fff0d163-caa0-487f-81d3-7db627c6b0c9\">SubsampleSignal</label><div class=\"sk-toggleable__content\"><pre>SubsampleSignal(signal_keys=('signal', 'stim'), signal_rate_key='fs_signal', rate=2)</pre></div></div></div><div class=\"sk-item\"><div class=\"sk-estimator sk-toggleable\"><input class=\"sk-toggleable__control sk-hidden--visually\" id=\"5b1d833d-046f-425e-ba48-80adc90e7576\" type=\"checkbox\" ><label class=\"sk-toggleable__label\" for=\"5b1d833d-046f-425e-ba48-80adc90e7576\">passthrough</label><div class=\"sk-toggleable__content\"><pre>passthrough</pre></div></div></div></div></div></div></div>"
      ],
      "text/plain": [
       "Pipeline(steps=[('parse_signal',\n",
       "                 ParseTimeSeriesArrToFrame(array_key='sEEG_signal', default_fs=1200, fs_key='fs_signal', output_key='signal')),\n",
       "                ('parse_audio',\n",
       "                 ParseTimeSeriesArrToFrame(array_key='audio', default_fs=48000, fs_key='fs_audio', reshape=-1)),\n",
       "                ('parse_stim',\n",
       "                 ParseTimeSeriesArrToFrame(array_key='stimcode', default_fs=1200, fs_key='fs_signal', output_key='stim', reshape=-1)),\n",
       "                ('parse_sensor_ras', ParseSensorRAS()),\n",
       "                ('extract_mfc', ExtractMFCC()),\n",
       "                ('sensor_selection', IdentifyGoodAndBadSensors()),\n",
       "                ('rescale_signal', StandardNormSignal()),\n",
       "                ('subsample', SubsampleSignal()), ('output', 'passthrough')])"
      ]
     },
     "execution_count": 16,
     "metadata": {},
     "output_type": "execute_result"
    }
   ],
   "source": [
    "t_pipe = Pipeline(hvs.pipeline_map['audio_gate'].steps[:8] + [('output', 'passthrough')])\n",
    "t_pipe"
   ]
  }
 ],
 "metadata": {
  "kernelspec": {
   "display_name": "Python 3 (ipykernel)",
   "language": "python",
   "name": "python3"
  },
  "language_info": {
   "codemirror_mode": {
    "name": "ipython",
    "version": 3
   },
   "file_extension": ".py",
   "mimetype": "text/x-python",
   "name": "python",
   "nbconvert_exporter": "python",
   "pygments_lexer": "ipython3",
   "version": "3.9.9"
  }
 },
 "nbformat": 4,
 "nbformat_minor": 4
}
