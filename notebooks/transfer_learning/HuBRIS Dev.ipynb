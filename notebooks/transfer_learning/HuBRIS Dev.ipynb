{
 "cells": [
  {
   "cell_type": "code",
   "execution_count": 1,
   "id": "00fcda47-9f20-41b3-ac2b-daa26158cc12",
   "metadata": {},
   "outputs": [],
   "source": [
    "from ecog_speech import datasets, experiments, result_parsing, utils, feature_processing, pipeline\n",
    "import pandas as pd\n",
    "import h5py\n",
    "import numpy as np\n",
    "\n",
    "from scipy.io import loadmat\n",
    "\n",
    "from ecog_speech import plot_label_regions\n",
    "from ecog_speech import visuals as viz"
   ]
  },
  {
   "cell_type": "code",
   "execution_count": 2,
   "id": "5ce1ad92-0492-43ef-9139-e82751a45661",
   "metadata": {},
   "outputs": [
    {
     "data": {
      "text/plain": [
       "[('UCSD', 28, 1, 1)]"
      ]
     },
     "execution_count": 2,
     "metadata": {},
     "output_type": "execute_result"
    }
   ],
   "source": [
    "hvs_tuples = datasets.HarvardSentences.make_tuples_from_sets_str('UCSD-28')\n",
    "hvs_tuples"
   ]
  },
  {
   "cell_type": "code",
   "execution_count": 3,
   "id": "e88da9da-91c0-48c7-903b-4fa164fe86dc",
   "metadata": {
    "scrolled": true,
    "tags": []
   },
   "outputs": [
    {
     "name": "stdout",
     "output_type": "stream",
     "text": [
      "2022-03-17 21:59:50,375 - ecog_speech.datasets.HarvardSentences.__attrs_post_init__ - DEBUG - preparing pipeline\n",
      "2022-03-17 21:59:50,376 - ecog_speech.datasets.HarvardSentences.__attrs_post_init__ - DEBUG - Available pipelines: ['audio_gate', 'audio_gate_speaking_only', 'audio_gate_imagine', 'default']\n",
      "2022-03-17 21:59:50,376 - ecog_speech.datasets.HarvardSentences.__attrs_post_init__ - INFO - 'audio_gate_speaking_only' pipeline selected\n",
      "2022-03-17 21:59:50,377 - ecog_speech.datasets.HarvardSentences.__attrs_post_init__ - INFO - Loading data directly\n"
     ]
    },
    {
     "data": {
      "application/vnd.jupyter.widget-view+json": {
       "model_id": "a12947d0ac8b49df9d05ba532d6e52c6",
       "version_major": 2,
       "version_minor": 0
      },
      "text/plain": [
       "Loading data:   0%|          | 0/1 [00:00<?, ?it/s]"
      ]
     },
     "metadata": {},
     "output_type": "display_data"
    },
    {
     "name": "stdout",
     "output_type": "stream",
     "text": [
      "2022-03-17 21:59:50,388 - ecog_speech.datasets.HarvardSentences.load_data - INFO - ---28-1-1-UCSD---\n",
      "2022-03-17 21:59:50,389 - ecog_speech.datasets.HarvardSentences.load_data - INFO - |--->Using Subset: Data\n",
      "2022-03-17 21:59:50,389 - ecog_speech.datasets.HarvardSentences.make_filename - INFO - Harvard sentences only uses location and patient identifiers\n",
      "2022-03-17 21:59:50,389 - ecog_speech.datasets.HarvardSentences.load_data - DEBUG - Path : /export/Projects_GOLIATH/CMSCResearch/ECOGSpeech/ecog_speech/../data/HarvardSentences/UCSD/Data/UCSD28_Task_1.mat\n",
      "2022-03-17 21:59:50,393 - ecog_speech.datasets.HarvardSentences.load_mat_from_path - INFO - Couldn't load UCSD28_Task_1.mat with scipy (vers > 7.3?) - using package 'mat73' to load\n",
      "2022-03-17 21:59:55,157 - ecog_speech.datasets.HarvardSentences.load_data - DEBUG - Matlab keys : ['EKG_signal', 'Labels', 'audio', 'fs_audio', 'fs_signal', 'label_contact_r_a_s', 'sEEG_signal', 'start_stop_word_ms', 'stimcode']\n",
      "2022-03-17 21:59:55,159 - ecog_speech.pipeline.ParseTimeSeriesArrToFrame.process - DEBUG - Accessing fs_signal\n",
      "2022-03-17 21:59:55,159 - ecog_speech.pipeline.ParseTimeSeriesArrToFrame.process - DEBUG - Input source frequency, fs object: 1024.0\n",
      "2022-03-17 21:59:55,170 - ecog_speech.pipeline.ParseTimeSeriesArrToFrame.process - INFO - sEEG_signal@1024, shape: (900001, 108), [(Timedelta('0 days 00:00:00'), Timedelta('0 days 00:14:38.906250'))]\n",
      "2022-03-17 21:59:55,171 - ecog_speech.pipeline.ParseTimeSeriesArrToFrame.transform - DEBUG - Updated keys: {'signal', 'fs_signal'}\n",
      "2022-03-17 21:59:55,171 - ecog_speech.pipeline.ParseTimeSeriesArrToFrame.process - DEBUG - Accessing fs_audio\n",
      "2022-03-17 21:59:55,171 - ecog_speech.pipeline.ParseTimeSeriesArrToFrame.process - DEBUG - Input source frequency, fs object: 48000.0\n",
      "2022-03-17 21:59:55,725 - ecog_speech.pipeline.ParseTimeSeriesArrToFrame.process - INFO - audio@48000, shape: (42187547,), [(Timedelta('0 days 00:00:00'), Timedelta('0 days 00:14:38.907208333'))]\n",
      "2022-03-17 21:59:55,726 - ecog_speech.pipeline.ParseTimeSeriesArrToFrame.transform - DEBUG - Updated keys: {'fs_audio', 'audio'}\n",
      "2022-03-17 21:59:55,726 - ecog_speech.pipeline.ParseTimeSeriesArrToFrame.process - DEBUG - Accessing fs_signal\n",
      "2022-03-17 21:59:55,726 - ecog_speech.pipeline.ParseTimeSeriesArrToFrame.process - DEBUG - Input source frequency, fs object: 1024\n",
      "2022-03-17 21:59:55,737 - ecog_speech.pipeline.ParseTimeSeriesArrToFrame.process - INFO - stimcode@1024, shape: (900001,), [(Timedelta('0 days 00:00:00'), Timedelta('0 days 00:14:38.906250'))]\n",
      "2022-03-17 21:59:55,737 - ecog_speech.pipeline.ParseTimeSeriesArrToFrame.transform - DEBUG - Updated keys: {'stim', 'fs_signal'}\n",
      "2022-03-17 21:59:55,738 - ecog_speech.pipeline.IdentifyGoodAndBadSensors.process - WARNING - Electrodes with key electrodes not found among ['EKG_signal', 'Labels', 'audio', 'fs_audio', 'fs_signal', 'label_contact_r_a_s', 'sEEG_signal', 'start_stop_word_ms', 'stimcode', 'signal', 'stim']\n",
      "2022-03-17 21:59:55,738 - ecog_speech.pipeline.IdentifyGoodAndBadSensors.transform - DEBUG - Updated keys: {'bad_sensor_columns', 'good_sensor_columns'}\n",
      "2022-03-17 21:59:55,738 - ecog_speech.pipeline.SubsampleSignal.transform - DEBUG - Updated keys: {'signal', 'stim', 'fs_signal'}\n",
      "2022-03-17 21:59:56,433 - ecog_speech.pipeline.SentCodeFromStartStopWordTimes.process - WARNING - Sent code 45.0 has a time rang more than a minute: 0 days 00:01:20.365234375\n",
      "2022-03-17 21:59:56,469 - ecog_speech.pipeline.SentCodeFromStartStopWordTimes.transform - DEBUG - Updated keys: {'stim', 'sent_start_stop_time', 'word_start_stop_times'}\n",
      "2022-03-17 21:59:57,511 - ecog_speech.pipeline.StimFromStartStopTimes.transform - DEBUG - Updated keys: {'word_stim', 'sentence_stim'}\n",
      "2022-03-17 21:59:57,511 - ecog_speech.pipeline.PowerThreshold.power_threshold - INFO - Power threshold\n",
      "2022-03-17 22:00:21,284 - ecog_speech.pipeline.PowerThreshold.power_threshold - INFO - Using speaking quantile\n",
      "2022-03-17 22:00:54,682 - ecog_speech.pipeline.PowerThreshold.power_threshold - INFO - Using silence nsmallest on <class 'pandas.core.series.Series'>\n",
      "2022-03-17 22:00:54,692 - ecog_speech.pipeline.PowerThreshold.power_threshold - WARNING - stim_s and stim_auto not equal: 290 - 1 != 249\n",
      "2022-03-17 22:00:54,700 - ecog_speech.pipeline.PowerThreshold.transform - DEBUG - Updated keys: {'stim_pwrt_diff', 'silence_stim_pwrt_diff_s', 'rolling_audio_pwr', 'coded_silence_stim', 'stim_pwrt', 'silence_stim_pwrt_s'}\n",
      "2022-03-17 22:00:54,701 - ecog_speech.pipeline.WindowSampleIndicesFromStim.make_sample_indices - INFO - (512, Timedelta('0 days 00:00:00.500000'))\n",
      "2022-03-17 22:00:54,701 - ecog_speech.pipeline.WindowSampleIndicesFromStim.make_sample_indices - INFO - Samples per window: 256\n"
     ]
    },
    {
     "data": {
      "application/vnd.jupyter.widget-view+json": {
       "model_id": "ae1659e252c04e1685abcb2480767013",
       "version_major": 2,
       "version_minor": 0
      },
      "text/plain": [
       "Processing stim regions:   0%|          | 0/249 [00:00<?, ?it/s]"
      ]
     },
     "metadata": {},
     "output_type": "display_data"
    },
    {
     "name": "stdout",
     "output_type": "stream",
     "text": [
      "2022-03-17 22:01:01,628 - ecog_speech.pipeline.WindowSampleIndicesFromStim.transform - DEBUG - Updated keys: {'n_samples_per_window', 'sample_index_map'}\n",
      "2022-03-17 22:01:01,629 - ecog_speech.datasets.HarvardSentences.__attrs_post_init__ - INFO - N samples per window: 256\n",
      "2022-03-17 22:01:01,680 - ecog_speech.datasets.HarvardSentences.__attrs_post_init__ - INFO - GOOD AND BAD SENSORS: {('UCSD', 28, 1, 1): ([0, 1, 2, 3, 4, 5, 6, 7, 8, 9, 10, 11, 12, 13, 14, 15, 16, 17, 18, 19, 20, 21, 22, 23, 24, 25, 26, 27, 28, 29, 30, 31, 32, 33, 34, 35, 36, 37, 38, 39, 40, 41, 42, 43, 44, 45, 46, 47, 48, 49, 50, 51, 52, 53, 54, 55, 56, 57, 58, 59, 60, 61, 62, 63, 64, 65, 66, 67, 68, 69, 70, 71, 72, 73, 74, 75, 76, 77, 78, 79, 80, 81, 82, 83, 84, 85, 86, 87, 88, 89, 90, 91, 92, 93, 94, 95, 96, 97, 98, 99, 100, 101, 102, 103, 104, 105, 106, 107], None)}\n",
      "2022-03-17 22:01:01,680 - ecog_speech.datasets.HarvardSentences.__attrs_post_init__ - INFO - Selected columns with -union- method: 0, 1, 2, 3, 4, 5, 6, 7, 8, 9, 10, 11, 12, 13, 14, 15, 16, 17, 18, 19, 20, 21, 22, 23, 24, 25, 26, 27, 28, 29, 30, 31, 32, 33, 34, 35, 36, 37, 38, 39, 40, 41, 42, 43, 44, 45, 46, 47, 48, 49, 50, 51, 52, 53, 54, 55, 56, 57, 58, 59, 60, 61, 62, 63, 64, 65, 66, 67, 68, 69, 70, 71, 72, 73, 74, 75, 76, 77, 78, 79, 80, 81, 82, 83, 84, 85, 86, 87, 88, 89, 90, 91, 92, 93, 94, 95, 96, 97, 98, 99, 100, 101, 102, 103, 104, 105, 106, 107\n",
      "2022-03-17 22:01:01,680 - ecog_speech.datasets.HarvardSentences.__attrs_post_init__ - INFO - Selected 108 sensors\n"
     ]
    },
    {
     "data": {
      "application/vnd.jupyter.widget-view+json": {
       "model_id": "ad565b42ccc340299c254d349c116180",
       "version_major": 2,
       "version_minor": 0
      },
      "text/plain": [
       "Applying sensor selection:   0%|          | 0/1 [00:00<?, ?it/s]"
      ]
     },
     "metadata": {},
     "output_type": "display_data"
    },
    {
     "name": "stdout",
     "output_type": "stream",
     "text": [
      "2022-03-17 22:01:01,759 - ecog_speech.pipeline.ApplySensorSelection.transform - DEBUG - Updated keys: {'signal'}\n"
     ]
    }
   ],
   "source": [
    "hvs = datasets.HarvardSentences(hvs_tuples, pre_processing_pipeline='audio_gate_speaking_only')"
   ]
  },
  {
   "cell_type": "code",
   "execution_count": 4,
   "id": "5d7dfb20-cfa9-4802-a414-240007f239ff",
   "metadata": {},
   "outputs": [],
   "source": [
    "dl = hvs.to_dataloader(num_workers=4, batch_size=256)"
   ]
  },
  {
   "cell_type": "code",
   "execution_count": 5,
   "id": "eabd653b-786d-4ea4-a481-02418476e801",
   "metadata": {},
   "outputs": [
    {
     "name": "stderr",
     "output_type": "stream",
     "text": [
      "2022-03-17 22:01:02 | INFO | fairseq.tasks.text_to_speech | Please install tensorboardX: pip install tensorboardX\n"
     ]
    }
   ],
   "source": [
    "from ecog_speech.models import base_transformers\n",
    "\n",
    "cog2vec = base_transformers.CoG2Vec((1, 256), feature_model=None, context_model=None, projection_model=None)"
   ]
  },
  {
   "cell_type": "code",
   "execution_count": 7,
   "id": "23003605-4eb7-46e4-8dd3-9cfac654ea4c",
   "metadata": {},
   "outputs": [],
   "source": [
    "trainer = base_transformers.Cog2VecTrainer(model_map=dict(model=cog2vec), opt_map=dict(), train_data_gen=dl)"
   ]
  },
  {
   "cell_type": "code",
   "execution_count": null,
   "id": "d6c52d38-a05b-4fe9-b5a7-49a6f0760fb0",
   "metadata": {},
   "outputs": [
    {
     "data": {
      "application/vnd.jupyter.widget-view+json": {
       "model_id": "cabacb1f2bce437582893f8804ea22ca",
       "version_major": 2,
       "version_minor": 0
      },
      "text/plain": [
       "Training epoch:   0%|                                                                                         …"
      ]
     },
     "metadata": {},
     "output_type": "display_data"
    },
    {
     "data": {
      "application/vnd.jupyter.widget-view+json": {
       "model_id": "5b15f33997314e018f4b804a01c6f0a2",
       "version_major": 2,
       "version_minor": 0
      },
      "text/plain": [
       "-loss-:   0%|                                                                                                 …"
      ]
     },
     "metadata": {},
     "output_type": "display_data"
    },
    {
     "data": {
      "application/vnd.jupyter.widget-view+json": {
       "model_id": "7ead8416bfa544cf9b37fcfbfbc6f479",
       "version_major": 2,
       "version_minor": 0
      },
      "text/plain": [
       "-loss-:   0%|                                                                                                 …"
      ]
     },
     "metadata": {},
     "output_type": "display_data"
    }
   ],
   "source": [
    "res = trainer.train(5)"
   ]
  },
  {
   "cell_type": "code",
   "execution_count": 8,
   "id": "805af0be-e38c-4503-a482-d4dff49f9c41",
   "metadata": {},
   "outputs": [
    {
     "data": {
      "text/plain": [
       "<AxesSubplot:>"
      ]
     },
     "execution_count": 8,
     "metadata": {},
     "output_type": "execute_result"
    },
    {
     "data": {
      "image/png": "[encoded data removed]",
      "text/plain": [
       "<Figure size 432x288 with 1 Axes>"
      ]
     },
     "metadata": {
      "needs_background": "light"
     },
     "output_type": "display_data"
    }
   ],
   "source": [
    "pd.DataFrame(res).T.plot(logy=True)"
   ]
  },
  {
   "cell_type": "code",
   "execution_count": 12,
   "id": "b0388bd9-68b2-4328-96c1-883600b0447e",
   "metadata": {},
   "outputs": [
    {
     "data": {
      "text/plain": [
       "<AxesSubplot:>"
      ]
     },
     "execution_count": 12,
     "metadata": {},
     "output_type": "execute_result"
    },
    {
     "data": {
      "image/png": "[encoded data removed]",
      "text/plain": [
       "<Figure size 432x288 with 1 Axes>"
      ]
     },
     "metadata": {
      "needs_background": "light"
     },
     "output_type": "display_data"
    }
   ],
   "source": [
    "pd.DataFrame(res).T.plot(logy=True)"
   ]
  },
  {
   "cell_type": "code",
   "execution_count": 6,
   "id": "6caf07a8-6a39-4f8a-ae57-84c9071654a4",
   "metadata": {},
   "outputs": [],
   "source": [
    "batch_d = next(iter(dl))"
   ]
  },
  {
   "cell_type": "code",
   "execution_count": 7,
   "id": "5df171ad-4bc2-48be-92af-fb1330f634d5",
   "metadata": {
    "scrolled": true,
    "tags": []
   },
   "outputs": [
    {
     "data": {
      "text/plain": [
       "{'signal_arr': tensor([[[-6.6461e-01,  5.9815e+00,  1.3425e+01,  ...,  4.6655e+01,\n",
       "            5.0377e+01,  4.6921e+01],\n",
       "          [ 7.2442e+01,  8.6798e+01,  8.7595e+01,  ...,  1.1205e+02,\n",
       "            1.2056e+02,  1.1657e+02],\n",
       "          [-8.1215e+01, -7.9088e+01, -7.1645e+01,  ..., -4.4263e+01,\n",
       "           -3.8680e+01, -5.0643e+01],\n",
       "          ...,\n",
       "          [-1.3292e-01,  1.7280e+00,  2.7913e+00,  ...,  2.7249e+01,\n",
       "            2.4325e+01,  1.9539e+01],\n",
       "          [ 1.3957e+01,  1.8210e+01,  1.5286e+01,  ...,  4.0275e+01,\n",
       "            3.8414e+01,  3.4427e+01],\n",
       "          [ 2.5388e+01,  2.7249e+01,  2.7781e+01,  ...,  4.9048e+01,\n",
       "            4.7985e+01,  4.3997e+01]],\n",
       " \n",
       "         [[-1.1298e+01, -1.8742e+01, -2.0071e+01,  ...,  4.0102e+02,\n",
       "            4.1192e+02,  4.1086e+02],\n",
       "          [-1.4581e+02, -2.4843e+02, -2.5587e+02,  ...,  6.9372e+02,\n",
       "            7.0329e+02,  7.0568e+02],\n",
       "          [ 3.8241e+02,  4.6084e+02,  4.8131e+02,  ..., -4.6881e+02,\n",
       "           -5.0390e+02, -5.4697e+02],\n",
       "          ...,\n",
       "          [-2.0071e+01, -1.9805e+01, -2.3261e+01,  ...,  5.9150e+01,\n",
       "            6.2074e+01,  5.7289e+01],\n",
       "          [-9.1716e+00, -8.3740e+00, -7.8424e+00,  ...,  9.3975e+01,\n",
       "            9.9558e+01,  9.8229e+01],\n",
       "          [-3.0971e+01, -2.7515e+01, -2.9907e+01,  ...,  9.3444e+01,\n",
       "            1.0222e+02,  1.0328e+02]],\n",
       " \n",
       "         [[ 1.6549e+02,  1.6496e+02,  1.6363e+02,  ..., -1.2362e+01,\n",
       "           -6.7790e+00, -1.5020e+01],\n",
       "          [ 5.0151e+02,  4.9726e+02,  4.8902e+02,  ..., -8.8127e+01,\n",
       "           -8.8659e+01, -8.8924e+01],\n",
       "          [-9.3975e+01, -8.6798e+01, -9.2912e+01,  ...,  1.6349e+01,\n",
       "            2.1134e+01,  1.8742e+01],\n",
       "          ...,\n",
       "          [-7.9886e+01, -8.0949e+01, -8.7595e+01,  ..., -4.8516e+01,\n",
       "           -4.1870e+01, -4.1870e+01],\n",
       "          [-1.1604e+02, -1.1684e+02, -1.2428e+02,  ..., -4.7985e+01,\n",
       "           -3.8680e+01, -3.8414e+01],\n",
       "          [-1.4688e+02, -1.4980e+02, -1.5911e+02,  ..., -4.7985e+01,\n",
       "           -4.1604e+01, -4.0807e+01]],\n",
       " \n",
       "         ...,\n",
       " \n",
       "         [[ 5.6226e+01,  5.2770e+01,  4.9048e+01,  ..., -2.6186e+01,\n",
       "           -2.1400e+01, -1.0501e+01],\n",
       "          [ 1.0036e+02,  9.5836e+01,  9.3975e+01,  ...,  1.0567e+02,\n",
       "            1.1285e+02,  1.2667e+02],\n",
       "          [ 9.9824e+01,  9.5039e+01,  8.8924e+01,  ..., -5.9150e+01,\n",
       "           -5.5694e+01, -4.7719e+01],\n",
       "          ...,\n",
       "          [ 1.9819e+02,  1.9632e+02,  1.9872e+02,  ...,  2.1972e+02,\n",
       "            2.2078e+02,  2.3142e+02],\n",
       "          [ 7.4981e+02,  7.5061e+02,  7.5167e+02,  ...,  7.2801e+02,\n",
       "            7.3093e+02,  7.4104e+02],\n",
       "          [-5.4498e+00, -4.3864e+00, -3.0572e+00,  ..., -4.1604e+01,\n",
       "           -4.1870e+01, -3.1502e+01]],\n",
       " \n",
       "         [[ 1.3159e+01,  1.6881e+01,  1.1830e+01,  ...,  2.5122e+01,\n",
       "            1.9539e+01,  1.1564e+01],\n",
       "          [-5.1972e+01, -4.8250e+01, -5.6492e+01,  ...,  2.2464e+01,\n",
       "            1.9008e+01,  2.7913e+00],\n",
       "          [ 1.7825e+02,  1.8596e+02,  1.8303e+02,  ...,  1.1445e+02,\n",
       "            1.1790e+02,  1.1152e+02],\n",
       "          ...,\n",
       "          [-1.6615e+01, -1.7147e+01, -1.7944e+01,  ..., -4.9846e+01,\n",
       "           -5.2504e+01, -6.0479e+01],\n",
       "          [-1.1445e+02, -1.1285e+02, -1.1285e+02,  ..., -1.5592e+02,\n",
       "           -1.5937e+02, -1.6841e+02],\n",
       "          [ 6.1543e+01,  6.2872e+01,  6.0745e+01,  ..., -1.1298e+01,\n",
       "           -1.1564e+01, -2.2730e+01]],\n",
       " \n",
       "         [[-2.1400e+01, -1.5818e+01, -1.5552e+01,  ...,  3.2446e+02,\n",
       "            3.2313e+02,  3.2021e+02],\n",
       "          [-1.0541e+02, -9.7165e+01, -9.3710e+01,  ...,  8.6572e+02,\n",
       "            8.6093e+02,  8.5907e+02],\n",
       "          [-8.6399e+00,  5.1839e+00,  5.9815e+00,  ..., -9.8216e+02,\n",
       "           -9.5105e+02, -9.1437e+02],\n",
       "          ...,\n",
       "          [ 3.6819e+01,  3.8680e+01,  3.5756e+01,  ...,  8.5734e+01,\n",
       "            8.2810e+01,  7.9886e+01],\n",
       "          [ 3.9478e+01,  4.2668e+01,  4.0541e+01,  ...,  8.6266e+01,\n",
       "            8.2278e+01,  8.0683e+01],\n",
       "          [ 5.0111e+01,  5.4099e+01,  5.3301e+01,  ...,  9.1849e+01,\n",
       "            8.6000e+01,  8.7063e+01]]]),\n",
       " 'text_arr': tensor([[1.],\n",
       "         [1.],\n",
       "         [1.],\n",
       "         [0.],\n",
       "         [1.],\n",
       "         [1.],\n",
       "         [1.],\n",
       "         [0.],\n",
       "         [1.],\n",
       "         [1.],\n",
       "         [1.],\n",
       "         [1.],\n",
       "         [1.],\n",
       "         [1.],\n",
       "         [1.],\n",
       "         [1.],\n",
       "         [1.],\n",
       "         [1.],\n",
       "         [1.],\n",
       "         [1.],\n",
       "         [1.],\n",
       "         [1.],\n",
       "         [1.],\n",
       "         [1.],\n",
       "         [1.],\n",
       "         [1.],\n",
       "         [1.],\n",
       "         [1.],\n",
       "         [1.],\n",
       "         [1.],\n",
       "         [1.],\n",
       "         [1.],\n",
       "         [0.],\n",
       "         [1.],\n",
       "         [1.],\n",
       "         [1.],\n",
       "         [1.],\n",
       "         [1.],\n",
       "         [1.],\n",
       "         [1.],\n",
       "         [1.],\n",
       "         [1.],\n",
       "         [1.],\n",
       "         [1.],\n",
       "         [1.],\n",
       "         [1.],\n",
       "         [1.],\n",
       "         [1.],\n",
       "         [1.],\n",
       "         [1.],\n",
       "         [1.],\n",
       "         [1.],\n",
       "         [1.],\n",
       "         [1.],\n",
       "         [1.],\n",
       "         [1.],\n",
       "         [1.],\n",
       "         [0.],\n",
       "         [1.],\n",
       "         [1.],\n",
       "         [1.],\n",
       "         [1.],\n",
       "         [1.],\n",
       "         [1.]])}"
      ]
     },
     "execution_count": 7,
     "metadata": {},
     "output_type": "execute_result"
    }
   ],
   "source": [
    "batch_d"
   ]
  },
  {
   "cell_type": "markdown",
   "id": "a4681169-51b0-4ef2-9b73-3192b70621f8",
   "metadata": {},
   "source": [
    "Core challenge is adapting data loader to their expected? Where does our code start and fairseq end...?"
   ]
  },
  {
   "cell_type": "code",
   "execution_count": 8,
   "id": "13714756-ade7-40b0-b2f4-7f04a341f493",
   "metadata": {},
   "outputs": [
    {
     "data": {
      "text/plain": [
       "torch.Size([108, 256])"
      ]
     },
     "execution_count": 8,
     "metadata": {},
     "output_type": "execute_result"
    }
   ],
   "source": [
    "s_d = hvs[4]\n",
    "\n",
    "X = s_d['signal_arr']\n",
    "X.shape"
   ]
  },
  {
   "cell_type": "code",
   "execution_count": null,
   "id": "fee6f530-9088-4635-a098-6001ddbbc156",
   "metadata": {},
   "outputs": [],
   "source": []
  }
 ],
 "metadata": {
  "kernelspec": {
   "display_name": "Python 3 (ipykernel)",
   "language": "python",
   "name": "python3"
  },
  "language_info": {
   "codemirror_mode": {
    "name": "ipython",
    "version": 3
   },
   "file_extension": ".py",
   "mimetype": "text/x-python",
   "name": "python",
   "nbconvert_exporter": "python",
   "pygments_lexer": "ipython3",
   "version": "3.8.12"
  }
 },
 "nbformat": 4,
 "nbformat_minor": 5
}
