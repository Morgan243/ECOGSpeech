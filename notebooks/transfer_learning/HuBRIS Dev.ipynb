{
 "cells": [
  {
   "cell_type": "code",
   "execution_count": 1,
   "id": "00fcda47-9f20-41b3-ac2b-daa26158cc12",
   "metadata": {},
   "outputs": [],
   "source": [
    "from ecog_speech import datasets, experiments, result_parsing, utils, feature_processing, pipeline\n",
    "import pandas as pd\n",
    "import h5py\n",
    "import numpy as np\n",
    "\n",
    "from scipy.io import loadmat\n",
    "\n",
    "from ecog_speech import plot_label_regions\n",
    "from ecog_speech import visuals as viz"
   ]
  },
  {
   "cell_type": "code",
   "execution_count": 2,
   "id": "5ce1ad92-0492-43ef-9139-e82751a45661",
   "metadata": {},
   "outputs": [
    {
     "data": {
      "text/plain": [
       "[('UCSD', 28, 1, 1)]"
      ]
     },
     "execution_count": 2,
     "metadata": {},
     "output_type": "execute_result"
    }
   ],
   "source": [
    "hvs_tuples = datasets.HarvardSentences.make_tuples_from_sets_str('UCSD-28')\n",
    "hvs_tuples"
   ]
  },
  {
   "cell_type": "code",
   "execution_count": 3,
   "id": "e88da9da-91c0-48c7-903b-4fa164fe86dc",
   "metadata": {
    "scrolled": true,
    "tags": []
   },
   "outputs": [
    {
     "name": "stdout",
     "output_type": "stream",
     "text": [
      "2022-03-17 23:04:18,329 - ecog_speech.datasets.HarvardSentences.__attrs_post_init__ - DEBUG - preparing pipeline\n",
      "2022-03-17 23:04:18,333 - ecog_speech.datasets.HarvardSentences.__attrs_post_init__ - DEBUG - Available pipelines: ['audio_gate', 'audio_gate_speaking_only', 'audio_gate_imagine', 'default']\n",
      "2022-03-17 23:04:18,335 - ecog_speech.datasets.HarvardSentences.__attrs_post_init__ - INFO - 'audio_gate_speaking_only' pipeline selected\n",
      "2022-03-17 23:04:18,336 - ecog_speech.datasets.HarvardSentences.__attrs_post_init__ - INFO - Loading data directly\n"
     ]
    },
    {
     "data": {
      "application/vnd.jupyter.widget-view+json": {
       "model_id": "f1dba7561a8a431d9e1d9efbf16e9530",
       "version_major": 2,
       "version_minor": 0
      },
      "text/plain": [
       "Loading data:   0%|          | 0/1 [00:00<?, ?it/s]"
      ]
     },
     "metadata": {},
     "output_type": "display_data"
    },
    {
     "name": "stdout",
     "output_type": "stream",
     "text": [
      "2022-03-17 23:04:18,356 - ecog_speech.datasets.HarvardSentences.load_data - INFO - ---28-1-1-UCSD---\n",
      "2022-03-17 23:04:18,356 - ecog_speech.datasets.HarvardSentences.load_data - INFO - |--->Using Subset: Data\n",
      "2022-03-17 23:04:18,357 - ecog_speech.datasets.HarvardSentences.make_filename - INFO - Harvard sentences only uses location and patient identifiers\n",
      "2022-03-17 23:04:18,357 - ecog_speech.datasets.HarvardSentences.load_data - DEBUG - Path : /export/Projects_GOLIATH/CMSCResearch/ECOGSpeech/ecog_speech/../data/HarvardSentences/UCSD/Data/UCSD28_Task_1.mat\n",
      "2022-03-17 23:04:18,361 - ecog_speech.datasets.HarvardSentences.load_mat_from_path - INFO - Couldn't load UCSD28_Task_1.mat with scipy (vers > 7.3?) - using package 'mat73' to load\n",
      "2022-03-17 23:04:23,098 - ecog_speech.datasets.HarvardSentences.load_data - DEBUG - Matlab keys : ['EKG_signal', 'Labels', 'audio', 'fs_audio', 'fs_signal', 'label_contact_r_a_s', 'sEEG_signal', 'start_stop_word_ms', 'stimcode']\n",
      "2022-03-17 23:04:23,100 - ecog_speech.pipeline.ParseTimeSeriesArrToFrame.process - DEBUG - Accessing fs_signal\n",
      "2022-03-17 23:04:23,100 - ecog_speech.pipeline.ParseTimeSeriesArrToFrame.process - DEBUG - Input source frequency, fs object: 1024.0\n",
      "2022-03-17 23:04:23,112 - ecog_speech.pipeline.ParseTimeSeriesArrToFrame.process - INFO - sEEG_signal@1024, shape: (900001, 108), [(Timedelta('0 days 00:00:00'), Timedelta('0 days 00:14:38.906250'))]\n",
      "2022-03-17 23:04:23,112 - ecog_speech.pipeline.ParseTimeSeriesArrToFrame.transform - DEBUG - Updated keys: {'fs_signal', 'signal'}\n",
      "2022-03-17 23:04:23,112 - ecog_speech.pipeline.ParseTimeSeriesArrToFrame.process - DEBUG - Accessing fs_audio\n",
      "2022-03-17 23:04:23,113 - ecog_speech.pipeline.ParseTimeSeriesArrToFrame.process - DEBUG - Input source frequency, fs object: 48000.0\n",
      "2022-03-17 23:04:23,680 - ecog_speech.pipeline.ParseTimeSeriesArrToFrame.process - INFO - audio@48000, shape: (42187547,), [(Timedelta('0 days 00:00:00'), Timedelta('0 days 00:14:38.907208333'))]\n",
      "2022-03-17 23:04:23,680 - ecog_speech.pipeline.ParseTimeSeriesArrToFrame.transform - DEBUG - Updated keys: {'audio', 'fs_audio'}\n",
      "2022-03-17 23:04:23,680 - ecog_speech.pipeline.ParseTimeSeriesArrToFrame.process - DEBUG - Accessing fs_signal\n",
      "2022-03-17 23:04:23,680 - ecog_speech.pipeline.ParseTimeSeriesArrToFrame.process - DEBUG - Input source frequency, fs object: 1024\n",
      "2022-03-17 23:04:23,691 - ecog_speech.pipeline.ParseTimeSeriesArrToFrame.process - INFO - stimcode@1024, shape: (900001,), [(Timedelta('0 days 00:00:00'), Timedelta('0 days 00:14:38.906250'))]\n",
      "2022-03-17 23:04:23,692 - ecog_speech.pipeline.ParseTimeSeriesArrToFrame.transform - DEBUG - Updated keys: {'fs_signal', 'stim'}\n",
      "2022-03-17 23:04:23,692 - ecog_speech.pipeline.IdentifyGoodAndBadSensors.process - WARNING - Electrodes with key electrodes not found among ['EKG_signal', 'Labels', 'audio', 'fs_audio', 'fs_signal', 'label_contact_r_a_s', 'sEEG_signal', 'start_stop_word_ms', 'stimcode', 'signal', 'stim']\n",
      "2022-03-17 23:04:23,692 - ecog_speech.pipeline.IdentifyGoodAndBadSensors.transform - DEBUG - Updated keys: {'good_sensor_columns', 'bad_sensor_columns'}\n",
      "2022-03-17 23:04:23,693 - ecog_speech.pipeline.SubsampleSignal.transform - DEBUG - Updated keys: {'fs_signal', 'signal', 'stim'}\n",
      "2022-03-17 23:04:24,400 - ecog_speech.pipeline.SentCodeFromStartStopWordTimes.process - WARNING - Sent code 45.0 has a time rang more than a minute: 0 days 00:01:20.365234375\n",
      "2022-03-17 23:04:24,436 - ecog_speech.pipeline.SentCodeFromStartStopWordTimes.transform - DEBUG - Updated keys: {'word_start_stop_times', 'sent_start_stop_time', 'stim'}\n",
      "2022-03-17 23:04:25,478 - ecog_speech.pipeline.StimFromStartStopTimes.transform - DEBUG - Updated keys: {'word_stim', 'sentence_stim'}\n",
      "2022-03-17 23:04:25,478 - ecog_speech.pipeline.PowerThreshold.power_threshold - INFO - Power threshold\n",
      "2022-03-17 23:04:49,647 - ecog_speech.pipeline.PowerThreshold.power_threshold - INFO - Using speaking quantile\n",
      "2022-03-17 23:05:24,596 - ecog_speech.pipeline.PowerThreshold.power_threshold - INFO - Using silence nsmallest on <class 'pandas.core.series.Series'>\n",
      "2022-03-17 23:05:24,607 - ecog_speech.pipeline.PowerThreshold.power_threshold - WARNING - stim_s and stim_auto not equal: 290 - 1 != 249\n",
      "2022-03-17 23:05:24,614 - ecog_speech.pipeline.PowerThreshold.transform - DEBUG - Updated keys: {'silence_stim_pwrt_s', 'rolling_audio_pwr', 'stim_pwrt_diff', 'coded_silence_stim', 'stim_pwrt', 'silence_stim_pwrt_diff_s'}\n",
      "2022-03-17 23:05:24,615 - ecog_speech.pipeline.WindowSampleIndicesFromStim.make_sample_indices - INFO - (512, Timedelta('0 days 00:00:00.500000'))\n",
      "2022-03-17 23:05:24,615 - ecog_speech.pipeline.WindowSampleIndicesFromStim.make_sample_indices - INFO - Samples per window: 256\n"
     ]
    },
    {
     "data": {
      "application/vnd.jupyter.widget-view+json": {
       "model_id": "85e612bfa2f04208ab7fd130fc3ee93c",
       "version_major": 2,
       "version_minor": 0
      },
      "text/plain": [
       "Processing stim regions:   0%|          | 0/249 [00:00<?, ?it/s]"
      ]
     },
     "metadata": {},
     "output_type": "display_data"
    },
    {
     "name": "stdout",
     "output_type": "stream",
     "text": [
      "2022-03-17 23:05:31,318 - ecog_speech.pipeline.WindowSampleIndicesFromStim.transform - DEBUG - Updated keys: {'sample_index_map', 'n_samples_per_window'}\n",
      "2022-03-17 23:05:31,318 - ecog_speech.datasets.HarvardSentences.__attrs_post_init__ - INFO - N samples per window: 256\n",
      "2022-03-17 23:05:31,435 - ecog_speech.datasets.HarvardSentences.__attrs_post_init__ - INFO - GOOD AND BAD SENSORS: {('UCSD', 28, 1, 1): ([0, 1, 2, 3, 4, 5, 6, 7, 8, 9, 10, 11, 12, 13, 14, 15, 16, 17, 18, 19, 20, 21, 22, 23, 24, 25, 26, 27, 28, 29, 30, 31, 32, 33, 34, 35, 36, 37, 38, 39, 40, 41, 42, 43, 44, 45, 46, 47, 48, 49, 50, 51, 52, 53, 54, 55, 56, 57, 58, 59, 60, 61, 62, 63, 64, 65, 66, 67, 68, 69, 70, 71, 72, 73, 74, 75, 76, 77, 78, 79, 80, 81, 82, 83, 84, 85, 86, 87, 88, 89, 90, 91, 92, 93, 94, 95, 96, 97, 98, 99, 100, 101, 102, 103, 104, 105, 106, 107], None)}\n",
      "2022-03-17 23:05:31,435 - ecog_speech.datasets.HarvardSentences.__attrs_post_init__ - INFO - Selected columns with -union- method: 0, 1, 2, 3, 4, 5, 6, 7, 8, 9, 10, 11, 12, 13, 14, 15, 16, 17, 18, 19, 20, 21, 22, 23, 24, 25, 26, 27, 28, 29, 30, 31, 32, 33, 34, 35, 36, 37, 38, 39, 40, 41, 42, 43, 44, 45, 46, 47, 48, 49, 50, 51, 52, 53, 54, 55, 56, 57, 58, 59, 60, 61, 62, 63, 64, 65, 66, 67, 68, 69, 70, 71, 72, 73, 74, 75, 76, 77, 78, 79, 80, 81, 82, 83, 84, 85, 86, 87, 88, 89, 90, 91, 92, 93, 94, 95, 96, 97, 98, 99, 100, 101, 102, 103, 104, 105, 106, 107\n",
      "2022-03-17 23:05:31,436 - ecog_speech.datasets.HarvardSentences.__attrs_post_init__ - INFO - Selected 108 sensors\n"
     ]
    },
    {
     "data": {
      "application/vnd.jupyter.widget-view+json": {
       "model_id": "0533f45639fc4236b35ff1a62b8a9108",
       "version_major": 2,
       "version_minor": 0
      },
      "text/plain": [
       "Applying sensor selection:   0%|          | 0/1 [00:00<?, ?it/s]"
      ]
     },
     "metadata": {},
     "output_type": "display_data"
    },
    {
     "name": "stdout",
     "output_type": "stream",
     "text": [
      "2022-03-17 23:05:31,516 - ecog_speech.pipeline.ApplySensorSelection.transform - DEBUG - Updated keys: {'signal'}\n"
     ]
    }
   ],
   "source": [
    "hvs = datasets.HarvardSentences(hvs_tuples, pre_processing_pipeline='audio_gate_speaking_only')"
   ]
  },
  {
   "cell_type": "code",
   "execution_count": 4,
   "id": "5d7dfb20-cfa9-4802-a414-240007f239ff",
   "metadata": {},
   "outputs": [],
   "source": [
    "dl = hvs.to_dataloader(num_workers=6, batch_size=512)"
   ]
  },
  {
   "cell_type": "code",
   "execution_count": 5,
   "id": "eabd653b-786d-4ea4-a481-02418476e801",
   "metadata": {},
   "outputs": [
    {
     "name": "stderr",
     "output_type": "stream",
     "text": [
      "2022-03-17 23:05:32 | INFO | fairseq.tasks.text_to_speech | Please install tensorboardX: pip install tensorboardX\n"
     ]
    }
   ],
   "source": [
    "from ecog_speech.models import base_transformers\n",
    "\n",
    "cog2vec = base_transformers.CoG2Vec((1, 256), feature_model=None, context_model=None, projection_model=None)"
   ]
  },
  {
   "cell_type": "code",
   "execution_count": 6,
   "id": "23003605-4eb7-46e4-8dd3-9cfac654ea4c",
   "metadata": {},
   "outputs": [],
   "source": [
    "trainer = base_transformers.Cog2VecTrainer(model_map=dict(model=cog2vec), opt_map=dict(), train_data_gen=dl)"
   ]
  },
  {
   "cell_type": "code",
   "execution_count": 7,
   "id": "d6c52d38-a05b-4fe9-b5a7-49a6f0760fb0",
   "metadata": {},
   "outputs": [
    {
     "data": {
      "application/vnd.jupyter.widget-view+json": {
       "model_id": "db1565906f5243f3972be6c44ea6d1dd",
       "version_major": 2,
       "version_minor": 0
      },
      "text/plain": [
       "Training epoch:   0%|                                                                                         …"
      ]
     },
     "metadata": {},
     "output_type": "display_data"
    },
    {
     "data": {
      "application/vnd.jupyter.widget-view+json": {
       "model_id": "6d2b2eae4d2f43fe9230f2ab42779b40",
       "version_major": 2,
       "version_minor": 0
      },
      "text/plain": [
       "-loss-:   0%|                                                                                                 …"
      ]
     },
     "metadata": {},
     "output_type": "display_data"
    },
    {
     "data": {
      "application/vnd.jupyter.widget-view+json": {
       "model_id": "affa20f4bd1b4ae3b88673bd2e8a7f17",
       "version_major": 2,
       "version_minor": 0
      },
      "text/plain": [
       "-loss-:   0%|                                                                                                 …"
      ]
     },
     "metadata": {},
     "output_type": "display_data"
    },
    {
     "data": {
      "application/vnd.jupyter.widget-view+json": {
       "model_id": "70afd15ee62a4ac1acd8af22a9092ad9",
       "version_major": 2,
       "version_minor": 0
      },
      "text/plain": [
       "-loss-:   0%|                                                                                                 …"
      ]
     },
     "metadata": {},
     "output_type": "display_data"
    },
    {
     "data": {
      "application/vnd.jupyter.widget-view+json": {
       "model_id": "33b51df594a544619ff773dbe5a563ec",
       "version_major": 2,
       "version_minor": 0
      },
      "text/plain": [
       "-loss-:   0%|                                                                                                 …"
      ]
     },
     "metadata": {},
     "output_type": "display_data"
    },
    {
     "data": {
      "application/vnd.jupyter.widget-view+json": {
       "model_id": "447a5416abf0494ba9daf0768b16f8c6",
       "version_major": 2,
       "version_minor": 0
      },
      "text/plain": [
       "-loss-:   0%|                                                                                                 …"
      ]
     },
     "metadata": {},
     "output_type": "display_data"
    }
   ],
   "source": [
    "res = trainer.train(5)"
   ]
  },
  {
   "cell_type": "code",
   "execution_count": 8,
   "id": "805af0be-e38c-4503-a482-d4dff49f9c41",
   "metadata": {
    "tags": []
   },
   "outputs": [
    {
     "data": {
      "text/plain": [
       "<AxesSubplot:>"
      ]
     },
     "execution_count": 8,
     "metadata": {},
     "output_type": "execute_result"
    },
    {
     "data": {
      "image/png": "[encoded data removed]",
      "text/plain": [
       "<Figure size 432x288 with 1 Axes>"
      ]
     },
     "metadata": {
      "needs_background": "light"
     },
     "output_type": "display_data"
    }
   ],
   "source": [
    "pd.DataFrame(res).T.plot(logy=True)"
   ]
  },
  {
   "cell_type": "code",
   "execution_count": null,
   "id": "6caf07a8-6a39-4f8a-ae57-84c9071654a4",
   "metadata": {},
   "outputs": [],
   "source": [
    "batch_d = next(iter(dl))"
   ]
  },
  {
   "cell_type": "code",
   "execution_count": null,
   "id": "5df171ad-4bc2-48be-92af-fb1330f634d5",
   "metadata": {
    "scrolled": true,
    "tags": []
   },
   "outputs": [],
   "source": [
    "batch_d"
   ]
  },
  {
   "cell_type": "markdown",
   "id": "615f7dde-b196-4894-8848-8cd3b1ed8d24",
   "metadata": {},
   "source": [
    "****"
   ]
  },
  {
   "cell_type": "code",
   "execution_count": 9,
   "id": "fee6f530-9088-4635-a098-6001ddbbc156",
   "metadata": {
    "scrolled": true,
    "tags": []
   },
   "outputs": [
    {
     "name": "stdout",
     "output_type": "stream",
     "text": [
      "2022-03-17 23:13:00,003 - ecog_speech.datasets.HarvardSentences.__attrs_post_init__ - DEBUG - preparing pipeline\n"
     ]
    },
    {
     "name": "stderr",
     "output_type": "stream",
     "text": [
      "2022-03-17 23:13:00 | DEBUG | ecog_speech.datasets.HarvardSentences | preparing pipeline\n"
     ]
    },
    {
     "name": "stdout",
     "output_type": "stream",
     "text": [
      "2022-03-17 23:13:00,004 - ecog_speech.datasets.HarvardSentences.__attrs_post_init__ - DEBUG - Available pipelines: ['audio_gate', 'audio_gate_speaking_only', 'audio_gate_imagine', 'default']\n"
     ]
    },
    {
     "name": "stderr",
     "output_type": "stream",
     "text": [
      "2022-03-17 23:13:00 | DEBUG | ecog_speech.datasets.HarvardSentences | Available pipelines: ['audio_gate', 'audio_gate_speaking_only', 'audio_gate_imagine', 'default']\n"
     ]
    },
    {
     "name": "stdout",
     "output_type": "stream",
     "text": [
      "2022-03-17 23:13:00,005 - ecog_speech.datasets.HarvardSentences.__attrs_post_init__ - INFO - 'audio_gate' pipeline selected\n"
     ]
    },
    {
     "name": "stderr",
     "output_type": "stream",
     "text": [
      "2022-03-17 23:13:00 | INFO | ecog_speech.datasets.HarvardSentences | 'audio_gate' pipeline selected\n"
     ]
    },
    {
     "name": "stdout",
     "output_type": "stream",
     "text": [
      "2022-03-17 23:13:00,005 - ecog_speech.datasets.HarvardSentences.__attrs_post_init__ - INFO - Loading data directly\n"
     ]
    },
    {
     "name": "stderr",
     "output_type": "stream",
     "text": [
      "2022-03-17 23:13:00 | INFO | ecog_speech.datasets.HarvardSentences | Loading data directly\n"
     ]
    },
    {
     "data": {
      "application/vnd.jupyter.widget-view+json": {
       "model_id": "f1ff5e2069cc4422acc5750832e7c655",
       "version_major": 2,
       "version_minor": 0
      },
      "text/plain": [
       "Loading data:   0%|          | 0/1 [00:00<?, ?it/s]"
      ]
     },
     "metadata": {},
     "output_type": "display_data"
    },
    {
     "name": "stdout",
     "output_type": "stream",
     "text": [
      "2022-03-17 23:13:00,017 - ecog_speech.datasets.HarvardSentences.load_data - INFO - ---28-1-1-UCSD---\n"
     ]
    },
    {
     "name": "stderr",
     "output_type": "stream",
     "text": [
      "2022-03-17 23:13:00 | INFO | ecog_speech.datasets.HarvardSentences | ---28-1-1-UCSD---\n"
     ]
    },
    {
     "name": "stdout",
     "output_type": "stream",
     "text": [
      "2022-03-17 23:13:00,017 - ecog_speech.datasets.HarvardSentences.load_data - INFO - |--->Using Subset: Data\n"
     ]
    },
    {
     "name": "stderr",
     "output_type": "stream",
     "text": [
      "2022-03-17 23:13:00 | INFO | ecog_speech.datasets.HarvardSentences | |--->Using Subset: Data\n"
     ]
    },
    {
     "name": "stdout",
     "output_type": "stream",
     "text": [
      "2022-03-17 23:13:00,018 - ecog_speech.datasets.HarvardSentences.make_filename - INFO - Harvard sentences only uses location and patient identifiers\n"
     ]
    },
    {
     "name": "stderr",
     "output_type": "stream",
     "text": [
      "2022-03-17 23:13:00 | INFO | ecog_speech.datasets.HarvardSentences | Harvard sentences only uses location and patient identifiers\n"
     ]
    },
    {
     "name": "stdout",
     "output_type": "stream",
     "text": [
      "2022-03-17 23:13:00,018 - ecog_speech.datasets.HarvardSentences.load_data - DEBUG - Path : /export/Projects_GOLIATH/CMSCResearch/ECOGSpeech/ecog_speech/../data/HarvardSentences/UCSD/Data/UCSD28_Task_1.mat\n"
     ]
    },
    {
     "name": "stderr",
     "output_type": "stream",
     "text": [
      "2022-03-17 23:13:00 | DEBUG | ecog_speech.datasets.HarvardSentences | Path : /export/Projects_GOLIATH/CMSCResearch/ECOGSpeech/ecog_speech/../data/HarvardSentences/UCSD/Data/UCSD28_Task_1.mat\n"
     ]
    },
    {
     "name": "stdout",
     "output_type": "stream",
     "text": [
      "2022-03-17 23:13:00,023 - ecog_speech.datasets.HarvardSentences.load_mat_from_path - INFO - Couldn't load UCSD28_Task_1.mat with scipy (vers > 7.3?) - using package 'mat73' to load\n"
     ]
    },
    {
     "name": "stderr",
     "output_type": "stream",
     "text": [
      "2022-03-17 23:13:00 | INFO | ecog_speech.datasets.HarvardSentences | Couldn't load UCSD28_Task_1.mat with scipy (vers > 7.3?) - using package 'mat73' to load\n"
     ]
    },
    {
     "name": "stdout",
     "output_type": "stream",
     "text": [
      "2022-03-17 23:13:04,757 - ecog_speech.datasets.HarvardSentences.load_data - DEBUG - Matlab keys : ['EKG_signal', 'Labels', 'audio', 'fs_audio', 'fs_signal', 'label_contact_r_a_s', 'sEEG_signal', 'start_stop_word_ms', 'stimcode']\n"
     ]
    },
    {
     "name": "stderr",
     "output_type": "stream",
     "text": [
      "2022-03-17 23:13:04 | DEBUG | ecog_speech.datasets.HarvardSentences | Matlab keys : ['EKG_signal', 'Labels', 'audio', 'fs_audio', 'fs_signal', 'label_contact_r_a_s', 'sEEG_signal', 'start_stop_word_ms', 'stimcode']\n"
     ]
    },
    {
     "name": "stdout",
     "output_type": "stream",
     "text": [
      "2022-03-17 23:13:04,759 - ecog_speech.pipeline.ParseTimeSeriesArrToFrame.process - DEBUG - Accessing fs_signal\n"
     ]
    },
    {
     "name": "stderr",
     "output_type": "stream",
     "text": [
      "2022-03-17 23:13:04 | DEBUG | ecog_speech.pipeline.ParseTimeSeriesArrToFrame | Accessing fs_signal\n"
     ]
    },
    {
     "name": "stdout",
     "output_type": "stream",
     "text": [
      "2022-03-17 23:13:04,760 - ecog_speech.pipeline.ParseTimeSeriesArrToFrame.process - DEBUG - Input source frequency, fs object: 1024.0\n"
     ]
    },
    {
     "name": "stderr",
     "output_type": "stream",
     "text": [
      "2022-03-17 23:13:04 | DEBUG | ecog_speech.pipeline.ParseTimeSeriesArrToFrame | Input source frequency, fs object: 1024.0\n"
     ]
    },
    {
     "name": "stdout",
     "output_type": "stream",
     "text": [
      "2022-03-17 23:13:04,772 - ecog_speech.pipeline.ParseTimeSeriesArrToFrame.process - INFO - sEEG_signal@1024, shape: (900001, 108), [(Timedelta('0 days 00:00:00'), Timedelta('0 days 00:14:38.906250'))]\n"
     ]
    },
    {
     "name": "stderr",
     "output_type": "stream",
     "text": [
      "2022-03-17 23:13:04 | INFO | ecog_speech.pipeline.ParseTimeSeriesArrToFrame | sEEG_signal@1024, shape: (900001, 108), [(Timedelta('0 days 00:00:00'), Timedelta('0 days 00:14:38.906250'))]\n"
     ]
    },
    {
     "name": "stdout",
     "output_type": "stream",
     "text": [
      "2022-03-17 23:13:04,772 - ecog_speech.pipeline.ParseTimeSeriesArrToFrame.transform - DEBUG - Updated keys: {'fs_signal', 'signal'}\n"
     ]
    },
    {
     "name": "stderr",
     "output_type": "stream",
     "text": [
      "2022-03-17 23:13:04 | DEBUG | ecog_speech.pipeline.ParseTimeSeriesArrToFrame | Updated keys: {'fs_signal', 'signal'}\n"
     ]
    },
    {
     "name": "stdout",
     "output_type": "stream",
     "text": [
      "2022-03-17 23:13:04,773 - ecog_speech.pipeline.ParseTimeSeriesArrToFrame.process - DEBUG - Accessing fs_audio\n"
     ]
    },
    {
     "name": "stderr",
     "output_type": "stream",
     "text": [
      "2022-03-17 23:13:04 | DEBUG | ecog_speech.pipeline.ParseTimeSeriesArrToFrame | Accessing fs_audio\n"
     ]
    },
    {
     "name": "stdout",
     "output_type": "stream",
     "text": [
      "2022-03-17 23:13:04,773 - ecog_speech.pipeline.ParseTimeSeriesArrToFrame.process - DEBUG - Input source frequency, fs object: 48000.0\n"
     ]
    },
    {
     "name": "stderr",
     "output_type": "stream",
     "text": [
      "2022-03-17 23:13:04 | DEBUG | ecog_speech.pipeline.ParseTimeSeriesArrToFrame | Input source frequency, fs object: 48000.0\n"
     ]
    },
    {
     "name": "stdout",
     "output_type": "stream",
     "text": [
      "2022-03-17 23:13:05,355 - ecog_speech.pipeline.ParseTimeSeriesArrToFrame.process - INFO - audio@48000, shape: (42187547,), [(Timedelta('0 days 00:00:00'), Timedelta('0 days 00:14:38.907208333'))]\n"
     ]
    },
    {
     "name": "stderr",
     "output_type": "stream",
     "text": [
      "2022-03-17 23:13:05 | INFO | ecog_speech.pipeline.ParseTimeSeriesArrToFrame | audio@48000, shape: (42187547,), [(Timedelta('0 days 00:00:00'), Timedelta('0 days 00:14:38.907208333'))]\n"
     ]
    },
    {
     "name": "stdout",
     "output_type": "stream",
     "text": [
      "2022-03-17 23:13:05,356 - ecog_speech.pipeline.ParseTimeSeriesArrToFrame.transform - DEBUG - Updated keys: {'audio', 'fs_audio'}\n"
     ]
    },
    {
     "name": "stderr",
     "output_type": "stream",
     "text": [
      "2022-03-17 23:13:05 | DEBUG | ecog_speech.pipeline.ParseTimeSeriesArrToFrame | Updated keys: {'audio', 'fs_audio'}\n"
     ]
    },
    {
     "name": "stdout",
     "output_type": "stream",
     "text": [
      "2022-03-17 23:13:05,356 - ecog_speech.pipeline.ParseTimeSeriesArrToFrame.process - DEBUG - Accessing fs_signal\n"
     ]
    },
    {
     "name": "stderr",
     "output_type": "stream",
     "text": [
      "2022-03-17 23:13:05 | DEBUG | ecog_speech.pipeline.ParseTimeSeriesArrToFrame | Accessing fs_signal\n"
     ]
    },
    {
     "name": "stdout",
     "output_type": "stream",
     "text": [
      "2022-03-17 23:13:05,357 - ecog_speech.pipeline.ParseTimeSeriesArrToFrame.process - DEBUG - Input source frequency, fs object: 1024\n"
     ]
    },
    {
     "name": "stderr",
     "output_type": "stream",
     "text": [
      "2022-03-17 23:13:05 | DEBUG | ecog_speech.pipeline.ParseTimeSeriesArrToFrame | Input source frequency, fs object: 1024\n"
     ]
    },
    {
     "name": "stdout",
     "output_type": "stream",
     "text": [
      "2022-03-17 23:13:05,367 - ecog_speech.pipeline.ParseTimeSeriesArrToFrame.process - INFO - stimcode@1024, shape: (900001,), [(Timedelta('0 days 00:00:00'), Timedelta('0 days 00:14:38.906250'))]\n"
     ]
    },
    {
     "name": "stderr",
     "output_type": "stream",
     "text": [
      "2022-03-17 23:13:05 | INFO | ecog_speech.pipeline.ParseTimeSeriesArrToFrame | stimcode@1024, shape: (900001,), [(Timedelta('0 days 00:00:00'), Timedelta('0 days 00:14:38.906250'))]\n"
     ]
    },
    {
     "name": "stdout",
     "output_type": "stream",
     "text": [
      "2022-03-17 23:13:05,368 - ecog_speech.pipeline.ParseTimeSeriesArrToFrame.transform - DEBUG - Updated keys: {'fs_signal', 'stim'}\n"
     ]
    },
    {
     "name": "stderr",
     "output_type": "stream",
     "text": [
      "2022-03-17 23:13:05 | DEBUG | ecog_speech.pipeline.ParseTimeSeriesArrToFrame | Updated keys: {'fs_signal', 'stim'}\n"
     ]
    },
    {
     "name": "stdout",
     "output_type": "stream",
     "text": [
      "2022-03-17 23:13:05,368 - ecog_speech.pipeline.IdentifyGoodAndBadSensors.process - WARNING - Electrodes with key electrodes not found among ['EKG_signal', 'Labels', 'audio', 'fs_audio', 'fs_signal', 'label_contact_r_a_s', 'sEEG_signal', 'start_stop_word_ms', 'stimcode', 'signal', 'stim']\n"
     ]
    },
    {
     "name": "stderr",
     "output_type": "stream",
     "text": [
      "2022-03-17 23:13:05 | WARNING | ecog_speech.pipeline.IdentifyGoodAndBadSensors | Electrodes with key electrodes not found among ['EKG_signal', 'Labels', 'audio', 'fs_audio', 'fs_signal', 'label_contact_r_a_s', 'sEEG_signal', 'start_stop_word_ms', 'stimcode', 'signal', 'stim']\n"
     ]
    },
    {
     "name": "stdout",
     "output_type": "stream",
     "text": [
      "2022-03-17 23:13:05,369 - ecog_speech.pipeline.IdentifyGoodAndBadSensors.transform - DEBUG - Updated keys: {'good_sensor_columns', 'bad_sensor_columns'}\n"
     ]
    },
    {
     "name": "stderr",
     "output_type": "stream",
     "text": [
      "2022-03-17 23:13:05 | DEBUG | ecog_speech.pipeline.IdentifyGoodAndBadSensors | Updated keys: {'good_sensor_columns', 'bad_sensor_columns'}\n"
     ]
    },
    {
     "name": "stdout",
     "output_type": "stream",
     "text": [
      "2022-03-17 23:13:05,369 - ecog_speech.pipeline.SubsampleSignal.transform - DEBUG - Updated keys: {'fs_signal', 'signal', 'stim'}\n"
     ]
    },
    {
     "name": "stderr",
     "output_type": "stream",
     "text": [
      "2022-03-17 23:13:05 | DEBUG | ecog_speech.pipeline.SubsampleSignal | Updated keys: {'fs_signal', 'signal', 'stim'}\n"
     ]
    },
    {
     "name": "stdout",
     "output_type": "stream",
     "text": [
      "2022-03-17 23:13:06,075 - ecog_speech.pipeline.SentCodeFromStartStopWordTimes.process - WARNING - Sent code 45.0 has a time rang more than a minute: 0 days 00:01:20.365234375\n"
     ]
    },
    {
     "name": "stderr",
     "output_type": "stream",
     "text": [
      "2022-03-17 23:13:06 | WARNING | ecog_speech.pipeline.SentCodeFromStartStopWordTimes | Sent code 45.0 has a time rang more than a minute: 0 days 00:01:20.365234375\n"
     ]
    },
    {
     "name": "stdout",
     "output_type": "stream",
     "text": [
      "2022-03-17 23:13:06,139 - ecog_speech.pipeline.SentCodeFromStartStopWordTimes.transform - DEBUG - Updated keys: {'word_start_stop_times', 'sent_start_stop_time', 'stim'}\n"
     ]
    },
    {
     "name": "stderr",
     "output_type": "stream",
     "text": [
      "2022-03-17 23:13:06 | DEBUG | ecog_speech.pipeline.SentCodeFromStartStopWordTimes | Updated keys: {'word_start_stop_times', 'sent_start_stop_time', 'stim'}\n"
     ]
    },
    {
     "name": "stdout",
     "output_type": "stream",
     "text": [
      "2022-03-17 23:13:07,194 - ecog_speech.pipeline.StimFromStartStopTimes.transform - DEBUG - Updated keys: {'word_stim', 'sentence_stim'}\n"
     ]
    },
    {
     "name": "stderr",
     "output_type": "stream",
     "text": [
      "2022-03-17 23:13:07 | DEBUG | ecog_speech.pipeline.StimFromStartStopTimes | Updated keys: {'word_stim', 'sentence_stim'}\n"
     ]
    },
    {
     "name": "stdout",
     "output_type": "stream",
     "text": [
      "2022-03-17 23:13:07,194 - ecog_speech.pipeline.PowerThreshold.power_threshold - INFO - Power threshold\n"
     ]
    },
    {
     "name": "stderr",
     "output_type": "stream",
     "text": [
      "2022-03-17 23:13:07 | INFO | ecog_speech.pipeline.PowerThreshold | Power threshold\n"
     ]
    },
    {
     "name": "stdout",
     "output_type": "stream",
     "text": [
      "2022-03-17 23:13:31,205 - ecog_speech.pipeline.PowerThreshold.power_threshold - INFO - Using speaking quantile\n"
     ]
    },
    {
     "name": "stderr",
     "output_type": "stream",
     "text": [
      "2022-03-17 23:13:31 | INFO | ecog_speech.pipeline.PowerThreshold | Using speaking quantile\n"
     ]
    },
    {
     "name": "stdout",
     "output_type": "stream",
     "text": [
      "2022-03-17 23:14:06,178 - ecog_speech.pipeline.PowerThreshold.power_threshold - INFO - Using silence nsmallest on <class 'pandas.core.series.Series'>\n"
     ]
    },
    {
     "name": "stderr",
     "output_type": "stream",
     "text": [
      "2022-03-17 23:14:06 | INFO | ecog_speech.pipeline.PowerThreshold | Using silence nsmallest on <class 'pandas.core.series.Series'>\n"
     ]
    },
    {
     "name": "stdout",
     "output_type": "stream",
     "text": [
      "2022-03-17 23:14:06,189 - ecog_speech.pipeline.PowerThreshold.power_threshold - WARNING - stim_s and stim_auto not equal: 290 - 1 != 249\n"
     ]
    },
    {
     "name": "stderr",
     "output_type": "stream",
     "text": [
      "2022-03-17 23:14:06 | WARNING | ecog_speech.pipeline.PowerThreshold | stim_s and stim_auto not equal: 290 - 1 != 249\n"
     ]
    },
    {
     "name": "stdout",
     "output_type": "stream",
     "text": [
      "2022-03-17 23:14:06,196 - ecog_speech.pipeline.PowerThreshold.transform - DEBUG - Updated keys: {'silence_stim_pwrt_s', 'rolling_audio_pwr', 'stim_pwrt_diff', 'coded_silence_stim', 'stim_pwrt', 'silence_stim_pwrt_diff_s'}\n"
     ]
    },
    {
     "name": "stderr",
     "output_type": "stream",
     "text": [
      "2022-03-17 23:14:06 | DEBUG | ecog_speech.pipeline.PowerThreshold | Updated keys: {'silence_stim_pwrt_s', 'rolling_audio_pwr', 'stim_pwrt_diff', 'coded_silence_stim', 'stim_pwrt', 'silence_stim_pwrt_diff_s'}\n"
     ]
    },
    {
     "name": "stdout",
     "output_type": "stream",
     "text": [
      "2022-03-17 23:14:06,197 - ecog_speech.pipeline.WindowSampleIndicesFromStim.make_sample_indices - INFO - (512, Timedelta('0 days 00:00:00.500000'))\n"
     ]
    },
    {
     "name": "stderr",
     "output_type": "stream",
     "text": [
      "2022-03-17 23:14:06 | INFO | ecog_speech.pipeline.WindowSampleIndicesFromStim | (512, Timedelta('0 days 00:00:00.500000'))\n"
     ]
    },
    {
     "name": "stdout",
     "output_type": "stream",
     "text": [
      "2022-03-17 23:14:06,197 - ecog_speech.pipeline.WindowSampleIndicesFromStim.make_sample_indices - INFO - Samples per window: 256\n"
     ]
    },
    {
     "name": "stderr",
     "output_type": "stream",
     "text": [
      "2022-03-17 23:14:06 | INFO | ecog_speech.pipeline.WindowSampleIndicesFromStim | Samples per window: 256\n"
     ]
    },
    {
     "data": {
      "application/vnd.jupyter.widget-view+json": {
       "model_id": "efded3f2e2c243a2b85691d103d911f1",
       "version_major": 2,
       "version_minor": 0
      },
      "text/plain": [
       "Processing stim regions:   0%|          | 0/249 [00:00<?, ?it/s]"
      ]
     },
     "metadata": {},
     "output_type": "display_data"
    },
    {
     "name": "stdout",
     "output_type": "stream",
     "text": [
      "2022-03-17 23:14:12,974 - ecog_speech.pipeline.WindowSampleIndicesFromStim.transform - DEBUG - Updated keys: {'sample_index_map', 'n_samples_per_window'}\n"
     ]
    },
    {
     "name": "stderr",
     "output_type": "stream",
     "text": [
      "2022-03-17 23:14:12 | DEBUG | ecog_speech.pipeline.WindowSampleIndicesFromStim | Updated keys: {'sample_index_map', 'n_samples_per_window'}\n"
     ]
    },
    {
     "name": "stdout",
     "output_type": "stream",
     "text": [
      "2022-03-17 23:14:13,746 - ecog_speech.pipeline.WindowSampleIndicesFromIndex.transform - DEBUG - Updated keys: {'sample_index_map', 'n_samples_per_window'}\n"
     ]
    },
    {
     "name": "stderr",
     "output_type": "stream",
     "text": [
      "2022-03-17 23:14:13 | DEBUG | ecog_speech.pipeline.WindowSampleIndicesFromIndex | Updated keys: {'sample_index_map', 'n_samples_per_window'}\n"
     ]
    },
    {
     "name": "stdout",
     "output_type": "stream",
     "text": [
      "2022-03-17 23:14:13,747 - ecog_speech.datasets.HarvardSentences.__attrs_post_init__ - INFO - N samples per window: 256\n"
     ]
    },
    {
     "name": "stderr",
     "output_type": "stream",
     "text": [
      "2022-03-17 23:14:13 | INFO | ecog_speech.datasets.HarvardSentences | N samples per window: 256\n"
     ]
    },
    {
     "name": "stdout",
     "output_type": "stream",
     "text": [
      "2022-03-17 23:14:13,803 - ecog_speech.datasets.HarvardSentences.__attrs_post_init__ - INFO - GOOD AND BAD SENSORS: {('UCSD', 28, 1, 1): ([0, 1, 2, 3, 4, 5, 6, 7, 8, 9, 10, 11, 12, 13, 14, 15, 16, 17, 18, 19, 20, 21, 22, 23, 24, 25, 26, 27, 28, 29, 30, 31, 32, 33, 34, 35, 36, 37, 38, 39, 40, 41, 42, 43, 44, 45, 46, 47, 48, 49, 50, 51, 52, 53, 54, 55, 56, 57, 58, 59, 60, 61, 62, 63, 64, 65, 66, 67, 68, 69, 70, 71, 72, 73, 74, 75, 76, 77, 78, 79, 80, 81, 82, 83, 84, 85, 86, 87, 88, 89, 90, 91, 92, 93, 94, 95, 96, 97, 98, 99, 100, 101, 102, 103, 104, 105, 106, 107], None)}\n"
     ]
    },
    {
     "name": "stderr",
     "output_type": "stream",
     "text": [
      "2022-03-17 23:14:13 | INFO | ecog_speech.datasets.HarvardSentences | GOOD AND BAD SENSORS: {('UCSD', 28, 1, 1): ([0, 1, 2, 3, 4, 5, 6, 7, 8, 9, 10, 11, 12, 13, 14, 15, 16, 17, 18, 19, 20, 21, 22, 23, 24, 25, 26, 27, 28, 29, 30, 31, 32, 33, 34, 35, 36, 37, 38, 39, 40, 41, 42, 43, 44, 45, 46, 47, 48, 49, 50, 51, 52, 53, 54, 55, 56, 57, 58, 59, 60, 61, 62, 63, 64, 65, 66, 67, 68, 69, 70, 71, 72, 73, 74, 75, 76, 77, 78, 79, 80, 81, 82, 83, 84, 85, 86, 87, 88, 89, 90, 91, 92, 93, 94, 95, 96, 97, 98, 99, 100, 101, 102, 103, 104, 105, 106, 107], None)}\n"
     ]
    },
    {
     "name": "stdout",
     "output_type": "stream",
     "text": [
      "2022-03-17 23:14:13,804 - ecog_speech.datasets.HarvardSentences.__attrs_post_init__ - INFO - Selected columns with -union- method: 0, 1, 2, 3, 4, 5, 6, 7, 8, 9, 10, 11, 12, 13, 14, 15, 16, 17, 18, 19, 20, 21, 22, 23, 24, 25, 26, 27, 28, 29, 30, 31, 32, 33, 34, 35, 36, 37, 38, 39, 40, 41, 42, 43, 44, 45, 46, 47, 48, 49, 50, 51, 52, 53, 54, 55, 56, 57, 58, 59, 60, 61, 62, 63, 64, 65, 66, 67, 68, 69, 70, 71, 72, 73, 74, 75, 76, 77, 78, 79, 80, 81, 82, 83, 84, 85, 86, 87, 88, 89, 90, 91, 92, 93, 94, 95, 96, 97, 98, 99, 100, 101, 102, 103, 104, 105, 106, 107\n"
     ]
    },
    {
     "name": "stderr",
     "output_type": "stream",
     "text": [
      "2022-03-17 23:14:13 | INFO | ecog_speech.datasets.HarvardSentences | Selected columns with -union- method: 0, 1, 2, 3, 4, 5, 6, 7, 8, 9, 10, 11, 12, 13, 14, 15, 16, 17, 18, 19, 20, 21, 22, 23, 24, 25, 26, 27, 28, 29, 30, 31, 32, 33, 34, 35, 36, 37, 38, 39, 40, 41, 42, 43, 44, 45, 46, 47, 48, 49, 50, 51, 52, 53, 54, 55, 56, 57, 58, 59, 60, 61, 62, 63, 64, 65, 66, 67, 68, 69, 70, 71, 72, 73, 74, 75, 76, 77, 78, 79, 80, 81, 82, 83, 84, 85, 86, 87, 88, 89, 90, 91, 92, 93, 94, 95, 96, 97, 98, 99, 100, 101, 102, 103, 104, 105, 106, 107\n"
     ]
    },
    {
     "name": "stdout",
     "output_type": "stream",
     "text": [
      "2022-03-17 23:14:13,805 - ecog_speech.datasets.HarvardSentences.__attrs_post_init__ - INFO - Selected 108 sensors\n"
     ]
    },
    {
     "name": "stderr",
     "output_type": "stream",
     "text": [
      "2022-03-17 23:14:13 | INFO | ecog_speech.datasets.HarvardSentences | Selected 108 sensors\n"
     ]
    },
    {
     "data": {
      "application/vnd.jupyter.widget-view+json": {
       "model_id": "76fc94ab9eeb47beb3ce0008e988cbb1",
       "version_major": 2,
       "version_minor": 0
      },
      "text/plain": [
       "Applying sensor selection:   0%|          | 0/1 [00:00<?, ?it/s]"
      ]
     },
     "metadata": {},
     "output_type": "display_data"
    },
    {
     "name": "stdout",
     "output_type": "stream",
     "text": [
      "2022-03-17 23:14:13,885 - ecog_speech.pipeline.ApplySensorSelection.transform - DEBUG - Updated keys: {'signal'}\n"
     ]
    },
    {
     "name": "stderr",
     "output_type": "stream",
     "text": [
      "2022-03-17 23:14:13 | DEBUG | ecog_speech.pipeline.ApplySensorSelection | Updated keys: {'signal'}\n"
     ]
    }
   ],
   "source": [
    "hvs_all = datasets.HarvardSentences(hvs_tuples, pre_processing_pipeline='audio_gate')"
   ]
  },
  {
   "cell_type": "code",
   "execution_count": 10,
   "id": "e4fa28d4-009b-4843-ad12-23d78bf50731",
   "metadata": {},
   "outputs": [],
   "source": [
    "dl_all = hvs_all.to_dataloader(num_workers=4, batch_size=512, random_sample=False)"
   ]
  },
  {
   "cell_type": "code",
   "execution_count": 11,
   "id": "3022dc4f-07c4-4ef5-9c8c-7578219e7f18",
   "metadata": {},
   "outputs": [
    {
     "data": {
      "application/vnd.jupyter.widget-view+json": {
       "model_id": "468c0bfb6dd04cc6ac9ceeec31f18679",
       "version_major": 2,
       "version_minor": 0
      },
      "text/plain": [
       "Batching:   0%|          | 0/104 [00:00<?, ?it/s]"
      ]
     },
     "metadata": {},
     "output_type": "display_data"
    }
   ],
   "source": [
    "from tqdm.auto import tqdm\n",
    "import torch\n",
    "results_l = list()\n",
    "for batch_d in tqdm(dl_all, desc=\"Batching\"):\n",
    "    X_barr = batch_d['signal_arr'].to(trainer.device)\n",
    "    # Select a single sensor for now and remove the singleton dimension\n",
    "    X = X_barr.select(1, np.random.randint(0, X_barr.shape[1])).unsqueeze(1)\n",
    "    with torch.no_grad():\n",
    "        feat_d = cog2vec.forward(X, features_only=True, mask=False)\n",
    "        results_l.append(\n",
    "            dict(text_arr=batch_d['text_arr'],\n",
    "                **{n:arr.detach().cpu().numpy() for n, arr in feat_d.items()}))"
   ]
  },
  {
   "cell_type": "markdown",
   "id": "e08f4cbe-7705-4fb3-88b5-50ae5a16d601",
   "metadata": {},
   "source": [
    "TODO: Inspect model outputs"
   ]
  },
  {
   "cell_type": "code",
   "execution_count": null,
   "id": "1b03e9f9-be18-48a4-852b-1e43e52c27ef",
   "metadata": {},
   "outputs": [],
   "source": []
  },
  {
   "cell_type": "code",
   "execution_count": null,
   "id": "2d69ac55-b709-48e9-b3d1-ddfd52311b4e",
   "metadata": {},
   "outputs": [],
   "source": []
  },
  {
   "cell_type": "code",
   "execution_count": null,
   "id": "53968815-47a1-4b01-86b6-c200201b33d8",
   "metadata": {},
   "outputs": [],
   "source": []
  },
  {
   "cell_type": "code",
   "execution_count": null,
   "id": "ebfb60ce-f010-4107-8988-d02ff84f8cc5",
   "metadata": {},
   "outputs": [],
   "source": []
  }
 ],
 "metadata": {
  "kernelspec": {
   "display_name": "Python 3 (ipykernel)",
   "language": "python",
   "name": "python3"
  },
  "language_info": {
   "codemirror_mode": {
    "name": "ipython",
    "version": 3
   },
   "file_extension": ".py",
   "mimetype": "text/x-python",
   "name": "python",
   "nbconvert_exporter": "python",
   "pygments_lexer": "ipython3",
   "version": "3.8.12"
  }
 },
 "nbformat": 4,
 "nbformat_minor": 5
}
