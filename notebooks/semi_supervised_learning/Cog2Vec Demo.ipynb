{
 "cells": [
  {
   "cell_type": "markdown",
   "id": "48af89bc-baa2-41bc-b7b8-ceba11be3172",
   "metadata": {
    "pycharm": {
     "name": "#%% md\n"
    }
   },
   "source": [
    "TODO\n",
    "- Create pipeline that just samples some windows - for pretraining and not using the stims - don't want to bias them\n",
    "- Temporal and spatial position embedding"
   ]
  },
  {
   "cell_type": "code",
   "execution_count": 1,
   "id": "fab7607e-0180-4699-b802-4aacb1eb3a65",
   "metadata": {
    "pycharm": {
     "name": "#%%\n"
    }
   },
   "outputs": [],
   "source": [
    "import numpy as np\n",
    "import pandas as pd\n",
    "from sklearn import set_config\n",
    "import matplotlib\n",
    "from matplotlib import pyplot as plt\n",
    "plt.style.use('default')\n",
    "set_config(display=\"diagram\")"
   ]
  },
  {
   "cell_type": "markdown",
   "source": [],
   "metadata": {
    "collapsed": false,
    "pycharm": {
     "name": "#%% md\n"
    }
   }
  },
  {
   "cell_type": "code",
   "execution_count": 2,
   "id": "bc78b1b1-b95a-4c01-9d82-d160466a1b15",
   "metadata": {
    "pycharm": {
     "name": "#%%\n"
    }
   },
   "outputs": [
    {
     "name": "stderr",
     "output_type": "stream",
     "text": [
      "2022-10-01 14:51:22 | INFO | fairseq.tasks.text_to_speech | Please install tensorboardX: pip install tensorboardX\n"
     ]
    }
   ],
   "source": [
    "from ecog_speech import datasets, experiments, plot_label_regions\n",
    "from ecog_speech import visuals as viz\n",
    "from ecog_speech.experiments import semi_supervised, transfer_learning"
   ]
  },
  {
   "cell_type": "markdown",
   "id": "1947b135-0617-4dc8-8e12-d9e6bf1dcf0d",
   "metadata": {
    "pycharm": {
     "name": "#%% md\n"
    }
   },
   "source": [
    "*****"
   ]
  },
  {
   "cell_type": "markdown",
   "id": "c96cbbfc-f167-434f-9746-e71252c254cd",
   "metadata": {
    "pycharm": {
     "name": "#%% md\n"
    }
   },
   "source": [
    "output cleared to make views cleaner"
   ]
  },
  {
   "cell_type": "code",
   "execution_count": 3,
   "id": "06a1bbc0-17e3-494c-9ade-19fb5af055c6",
   "metadata": {
    "pycharm": {
     "name": "#%%\n"
    }
   },
   "outputs": [
    {
     "name": "stdout",
     "output_type": "stream",
     "text": [
      "2022-10-01 14:51:25,998 - ecog_speech.datasets.HarvardSentences.load_data:797 - INFO - -----------Subset: None------------\n",
      "2022-10-01 14:51:25,999 - ecog_speech.datasets.HarvardSentences.load_data:798 - INFO - ---28-1-1-UCSD---\n",
      "2022-10-01 14:51:25,999 - ecog_speech.datasets.HarvardSentences.make_filename:1284 - INFO - Harvard sentences only uses location and patient identifiers\n",
      "2022-10-01 14:51:26,000 - ecog_speech.datasets.HarvardSentences.load_data:801 - DEBUG - Path : /export/Projects_GOLIATH/CMSCResearch/ECOGSpeech/ecog_speech/../data/HarvardSentences/UCSD/Data/UCSD28_Task_1.mat\n",
      "2022-10-01 14:51:26,004 - ecog_speech.datasets.HarvardSentences.load_mat_from_path:766 - INFO - Couldn't load UCSD28_Task_1.mat with scipy (vers > 7.3?) - using package 'mat73' to load\n",
      "2022-10-01 14:51:30,805 - ecog_speech.datasets.HarvardSentences.load_data:804 - DEBUG - Matlab keys : ['EKG_signal', 'Labels', 'audio', 'fs_audio', 'fs_signal', 'label_contact_common', 'label_contact_r_a_s', 'sEEG_signal', 'start_stop_word_ms', 'stimcode']\n"
     ]
    }
   ],
   "source": [
    "hvs_tuples = datasets.HarvardSentences.make_tuples_from_sets_str('UCSD-28')\n",
    "in_data_map = datasets.HarvardSentences.load_data(*hvs_tuples[0])"
   ]
  },
  {
   "cell_type": "markdown",
   "id": "1fbf3a61-fa42-4bd6-80dd-531eafb0eadf",
   "metadata": {
    "pycharm": {
     "name": "#%% md\n"
    }
   },
   "source": [
    "****"
   ]
  },
  {
   "cell_type": "code",
   "execution_count": 6,
   "id": "39c219ee-3821-4711-b378-86bd1c1db874",
   "metadata": {
    "scrolled": true,
    "tags": [],
    "pycharm": {
     "name": "#%%\n"
    }
   },
   "outputs": [
    {
     "name": "stdout",
     "output_type": "stream",
     "text": [
      "2022-10-01 14:53:21,286 - ecog_speech.datasets.HarvardSentences.__attrs_post_init__:339 - DEBUG - preparing pipeline\n",
      "2022-10-01 14:53:21,287 - ecog_speech.datasets.HarvardSentences.__attrs_post_init__:342 - DEBUG - Available pipelines: ['random_sample', 'random_sample_pinknoise', 'audio_gate', 'region_classification', 'region_classification_from_word_stim', 'audio_gate_speaking_only', 'word_classification', 'default']\n",
      "2022-10-01 14:53:21,288 - ecog_speech.datasets.HarvardSentences.initialize:361 - INFO - 'region_classification' pipeline selected\n",
      "2022-10-01 14:53:21,289 - ecog_speech.datasets.HarvardSentences.initialize:375 - INFO - Loading data directly\n"
     ]
    },
    {
     "data": {
      "text/plain": "Loading data:   0%|          | 0/1 [00:00<?, ?it/s]",
      "application/vnd.jupyter.widget-view+json": {
       "version_major": 2,
       "version_minor": 0,
       "model_id": "dd5a396182f642488049f9b9f112cb08"
      }
     },
     "metadata": {},
     "output_type": "display_data"
    },
    {
     "name": "stdout",
     "output_type": "stream",
     "text": [
      "2022-10-01 14:53:21,300 - ecog_speech.datasets.HarvardSentences.load_data:797 - INFO - -----------Subset: Data------------\n",
      "2022-10-01 14:53:21,300 - ecog_speech.datasets.HarvardSentences.load_data:798 - INFO - ---28-1-1-UCSD---\n",
      "2022-10-01 14:53:21,300 - ecog_speech.datasets.HarvardSentences.make_filename:1284 - INFO - Harvard sentences only uses location and patient identifiers\n",
      "2022-10-01 14:53:21,301 - ecog_speech.datasets.HarvardSentences.load_data:801 - DEBUG - Path : /export/Projects_GOLIATH/CMSCResearch/ECOGSpeech/ecog_speech/../data/HarvardSentences/UCSD/Data/UCSD28_Task_1.mat\n",
      "2022-10-01 14:53:21,306 - ecog_speech.datasets.HarvardSentences.load_mat_from_path:766 - INFO - Couldn't load UCSD28_Task_1.mat with scipy (vers > 7.3?) - using package 'mat73' to load\n",
      "2022-10-01 14:53:25,960 - ecog_speech.datasets.HarvardSentences.load_data:804 - DEBUG - Matlab keys : ['EKG_signal', 'Labels', 'audio', 'fs_audio', 'fs_signal', 'label_contact_common', 'label_contact_r_a_s', 'sEEG_signal', 'start_stop_word_ms', 'stimcode']\n",
      "2022-10-01 14:53:25,961 - ecog_speech.pipeline.ParseTimeSeriesArrToFrame.process:45 - DEBUG - Accessing fs_signal\n",
      "2022-10-01 14:53:25,962 - ecog_speech.pipeline.ParseTimeSeriesArrToFrame.process:52 - DEBUG - Input source frequency, fs object: 1024.0\n",
      "2022-10-01 14:53:26,094 - ecog_speech.pipeline.ParseTimeSeriesArrToFrame.process:71 - INFO - sEEG_signal@1024, shape: (900001, 108), [(Timedelta('0 days 00:00:00'), Timedelta('0 days 00:14:38.906250'))]\n",
      "2022-10-01 14:53:26,095 - ecog_speech.pipeline.ParseTimeSeriesArrToFrame.transform:22 - DEBUG - Updated keys: {'signal', 'fs_signal'}\n",
      "2022-10-01 14:53:26,095 - ecog_speech.pipeline.ParseTimeSeriesArrToFrame.process:45 - DEBUG - Accessing fs_audio\n",
      "2022-10-01 14:53:26,096 - ecog_speech.pipeline.ParseTimeSeriesArrToFrame.process:52 - DEBUG - Input source frequency, fs object: 48000.0\n",
      "2022-10-01 14:53:27,206 - ecog_speech.pipeline.ParseTimeSeriesArrToFrame.process:71 - INFO - audio@48000, shape: (42187547,), [(Timedelta('0 days 00:00:00'), Timedelta('0 days 00:14:38.907208333'))]\n",
      "2022-10-01 14:53:27,207 - ecog_speech.pipeline.ParseTimeSeriesArrToFrame.transform:22 - DEBUG - Updated keys: {'fs_audio', 'audio'}\n",
      "2022-10-01 14:53:27,208 - ecog_speech.pipeline.ParseTimeSeriesArrToFrame.process:45 - DEBUG - Accessing fs_signal\n",
      "2022-10-01 14:53:27,208 - ecog_speech.pipeline.ParseTimeSeriesArrToFrame.process:52 - DEBUG - Input source frequency, fs object: 1024\n",
      "2022-10-01 14:53:27,219 - ecog_speech.pipeline.ParseTimeSeriesArrToFrame.process:71 - INFO - stimcode@1024, shape: (900001,), [(Timedelta('0 days 00:00:00'), Timedelta('0 days 00:14:38.906250'))]\n",
      "2022-10-01 14:53:27,219 - ecog_speech.pipeline.ParseTimeSeriesArrToFrame.transform:22 - DEBUG - Updated keys: {'stim', 'fs_signal'}\n",
      "2022-10-01 14:53:27,222 - ecog_speech.pipeline.ParseSensorRAS.transform:22 - DEBUG - Updated keys: {'sensor_ras_df', 'sensor_ras_coord_arr'}\n",
      "2022-10-01 14:53:27,642 - ecog_speech.pipeline.ExtractMFCC.transform:22 - DEBUG - Updated keys: {'audio_mel_spec'}\n",
      "2022-10-01 14:53:27,642 - ecog_speech.pipeline.IdentifyGoodAndBadSensors.process:90 - WARNING - Electrodes with key 'electrodes' not found among ['EKG_signal', 'Labels', 'audio', 'fs_audio', 'fs_signal', 'label_contact_common', 'label_contact_r_a_s', 'sEEG_signal', 'start_stop_word_ms', 'stimcode', 'signal', 'stim', 'sensor_ras_df', 'sensor_ras_coord_arr', 'audio_mel_spec'] - but on_missing=\"ignore\", so moving on\n",
      "2022-10-01 14:53:27,643 - ecog_speech.pipeline.IdentifyGoodAndBadSensors.transform:22 - DEBUG - Updated keys: {'good_sensor_columns', 'bad_sensor_columns'}\n",
      "2022-10-01 14:53:27,643 - ecog_speech.pipeline.SubsampleSignal.transform:22 - DEBUG - Updated keys: {'signal', 'stim', 'fs_signal'}\n",
      "2022-10-01 14:53:27,677 - ecog_speech.pipeline.SentCodeFromStartStopWordTimes.process:453 - WARNING - Sent code 45.0 has a time range more than a minute: 0 days 00:01:20.365234375\n",
      "2022-10-01 14:53:27,690 - ecog_speech.pipeline.SentCodeFromStartStopWordTimes.transform:22 - DEBUG - Updated keys: {'word_start_stop_times', 'stim', 'sent_start_stop_time'}\n",
      "2022-10-01 14:53:27,722 - ecog_speech.pipeline.AppendExtraMultiTaskStartStop.process:535 - WARNING - Sent code 20.0 has no future sentence codes in front of it\n",
      "2022-10-01 14:53:27,803 - ecog_speech.pipeline.AppendExtraMultiTaskStartStop.transform:22 - DEBUG - Updated keys: {'word_start_stop_times'}\n",
      "2022-10-01 14:53:28,577 - ecog_speech.pipeline.NewStimFromRegionStartStopTimes.transform:22 - DEBUG - Updated keys: {'speaking_word_stim_mask', 'speaking_word_stim'}\n",
      "2022-10-01 14:53:29,362 - ecog_speech.pipeline.NewStimFromRegionStartStopTimes.transform:22 - DEBUG - Updated keys: {'listening_word_stim_mask', 'listening_word_stim'}\n",
      "2022-10-01 14:53:30,145 - ecog_speech.pipeline.NewStimFromRegionStartStopTimes.transform:22 - DEBUG - Updated keys: {'mouthing_word_stim_mask', 'mouthing_word_stim'}\n",
      "2022-10-01 14:53:30,928 - ecog_speech.pipeline.NewStimFromRegionStartStopTimes.transform:22 - DEBUG - Updated keys: {'imagining_word_stim', 'imagining_word_stim_mask'}\n",
      "2022-10-01 14:53:31,315 - ecog_speech.pipeline.NewStimFromRegionStartStopTimes.transform:22 - DEBUG - Updated keys: {'speaking_region_stim_mask', 'speaking_region_stim'}\n",
      "2022-10-01 14:53:31,702 - ecog_speech.pipeline.NewStimFromRegionStartStopTimes.transform:22 - DEBUG - Updated keys: {'listening_region_stim', 'listening_region_stim_mask'}\n",
      "2022-10-01 14:53:32,125 - ecog_speech.pipeline.NewStimFromRegionStartStopTimes.transform:22 - DEBUG - Updated keys: {'mouthing_region_stim_mask', 'mouthing_region_stim'}\n",
      "2022-10-01 14:53:32,553 - ecog_speech.pipeline.NewStimFromRegionStartStopTimes.transform:22 - DEBUG - Updated keys: {'imagining_region_stim', 'imagining_region_stim_mask'}\n",
      "2022-10-01 14:53:32,553 - ecog_speech.pipeline.WindowSampleIndicesFromStim.process:881 - INFO - (512, Timedelta('0 days 00:00:00.500000'))\n",
      "2022-10-01 14:53:32,553 - ecog_speech.pipeline.WindowSampleIndicesFromStim.process:882 - INFO - Samples per window: 256\n"
     ]
    },
    {
     "data": {
      "text/plain": "Processing stim regions from 'speaking_region_stim':   0%|          | 0/50 [00:00<?, ?it/s]",
      "application/vnd.jupyter.widget-view+json": {
       "version_major": 2,
       "version_minor": 0,
       "model_id": "9cf1eab93c864b73845b219ce78e69e4"
      }
     },
     "metadata": {},
     "output_type": "display_data"
    },
    {
     "name": "stdout",
     "output_type": "stream",
     "text": [
      "2022-10-01 14:53:38,783 - ecog_speech.pipeline.WindowSampleIndicesFromStim.process:948 - INFO - Number of samples keys in sample index: {50000: 1}\n",
      "2022-10-01 14:53:38,783 - ecog_speech.pipeline.WindowSampleIndicesFromStim.process:949 - INFO - Windows coded to (i.e. target value): 0\n",
      "2022-10-01 14:53:38,784 - ecog_speech.pipeline.WindowSampleIndicesFromStim.transform:22 - DEBUG - Updated keys: {'n_samples_per_window', 'index_source_map', 'sample_index_map'}\n",
      "2022-10-01 14:53:38,784 - ecog_speech.pipeline.WindowSampleIndicesFromStim.process:881 - INFO - (512, Timedelta('0 days 00:00:00.500000'))\n",
      "2022-10-01 14:53:38,784 - ecog_speech.pipeline.WindowSampleIndicesFromStim.process:882 - INFO - Samples per window: 256\n"
     ]
    },
    {
     "data": {
      "text/plain": "Processing stim regions from 'listening_region_stim':   0%|          | 0/50 [00:00<?, ?it/s]",
      "application/vnd.jupyter.widget-view+json": {
       "version_major": 2,
       "version_minor": 0,
       "model_id": "32da7fc1008d439484e48c671cb1cc63"
      }
     },
     "metadata": {},
     "output_type": "display_data"
    },
    {
     "name": "stdout",
     "output_type": "stream",
     "text": [
      "2022-10-01 14:53:44,971 - ecog_speech.pipeline.WindowSampleIndicesFromStim.process:948 - INFO - Number of samples keys in sample index: {50000: 1}\n",
      "2022-10-01 14:53:44,971 - ecog_speech.pipeline.WindowSampleIndicesFromStim.process:949 - INFO - Windows coded to (i.e. target value): 1\n",
      "2022-10-01 14:53:44,971 - ecog_speech.pipeline.WindowSampleIndicesFromStim.transform:22 - DEBUG - Updated keys: {'n_samples_per_window', 'index_source_map', 'sample_index_map'}\n",
      "2022-10-01 14:53:44,972 - ecog_speech.pipeline.WindowSampleIndicesFromStim.process:881 - INFO - (512, Timedelta('0 days 00:00:00.500000'))\n",
      "2022-10-01 14:53:44,972 - ecog_speech.pipeline.WindowSampleIndicesFromStim.process:882 - INFO - Samples per window: 256\n"
     ]
    },
    {
     "data": {
      "text/plain": "Processing stim regions from 'mouthing_region_stim':   0%|          | 0/50 [00:00<?, ?it/s]",
      "application/vnd.jupyter.widget-view+json": {
       "version_major": 2,
       "version_minor": 0,
       "model_id": "ed114b91e5a247d29c959e362baf4d25"
      }
     },
     "metadata": {},
     "output_type": "display_data"
    },
    {
     "name": "stdout",
     "output_type": "stream",
     "text": [
      "2022-10-01 14:53:51,282 - ecog_speech.pipeline.WindowSampleIndicesFromStim.process:948 - INFO - Number of samples keys in sample index: {50000: 1}\n",
      "2022-10-01 14:53:51,283 - ecog_speech.pipeline.WindowSampleIndicesFromStim.process:949 - INFO - Windows coded to (i.e. target value): 2\n",
      "2022-10-01 14:53:51,283 - ecog_speech.pipeline.WindowSampleIndicesFromStim.transform:22 - DEBUG - Updated keys: {'n_samples_per_window', 'index_source_map', 'sample_index_map'}\n",
      "2022-10-01 14:53:51,283 - ecog_speech.pipeline.WindowSampleIndicesFromStim.process:881 - INFO - (512, Timedelta('0 days 00:00:00.500000'))\n",
      "2022-10-01 14:53:51,284 - ecog_speech.pipeline.WindowSampleIndicesFromStim.process:882 - INFO - Samples per window: 256\n"
     ]
    },
    {
     "data": {
      "text/plain": "Processing stim regions from 'imagining_region_stim':   0%|          | 0/50 [00:00<?, ?it/s]",
      "application/vnd.jupyter.widget-view+json": {
       "version_major": 2,
       "version_minor": 0,
       "model_id": "a6aaf859263d43988ca10485b1c24ec7"
      }
     },
     "metadata": {},
     "output_type": "display_data"
    },
    {
     "name": "stdout",
     "output_type": "stream",
     "text": [
      "2022-10-01 14:53:57,683 - ecog_speech.pipeline.WindowSampleIndicesFromStim.process:948 - INFO - Number of samples keys in sample index: {50000: 1}\n",
      "2022-10-01 14:53:57,683 - ecog_speech.pipeline.WindowSampleIndicesFromStim.process:949 - INFO - Windows coded to (i.e. target value): 3\n",
      "2022-10-01 14:53:57,683 - ecog_speech.pipeline.WindowSampleIndicesFromStim.transform:22 - DEBUG - Updated keys: {'n_samples_per_window', 'index_source_map', 'sample_index_map'}\n",
      "2022-10-01 14:53:57,684 - ecog_speech.datasets.HarvardSentences.initialize:405 - INFO - N samples per window: 256\n",
      "2022-10-01 14:53:57,684 - ecog_speech.datasets.HarvardSentences.initialize:426 - INFO - GOOD AND BAD SENSORS: {('UCSD', 28, 1, 1): ([0, 1, 2, 3, 4, 5, 6, 7, 8, 9, 10, 11, 12, 13, 14, 15, 16, 17, 18, 19, 20, 21, 22, 23, 24, 25, 26, 27, 28, 29, 30, 31, 32, 33, 34, 35, 36, 37, 38, 39, 40, 41, 42, 43, 44, 45, 46, 47, 48, 49, 50, 51, 52, 53, 54, 55, 56, 57, 58, 59, 60, 61, 62, 63, 64, 65, 66, 67, 68, 69, 70, 71, 72, 73, 74, 75, 76, 77, 78, 79, 80, 81, 82, 83, 84, 85, 86, 87, 88, 89, 90, 91, 92, 93, 94, 95, 96, 97, 98, 99, 100, 101, 102, 103, 104, 105, 106, 107], None)}\n",
      "2022-10-01 14:53:57,684 - ecog_speech.datasets.HarvardSentences.initialize:444 - INFO - Selected 108 columns using union method: 0, 1, 2, 3, 4, 5, 6, 7, 8, 9, 10, 11, 12, 13, 14, 15, 16, 17, 18, 19, 20, 21, 22, 23, 24, 25, 26, 27, 28, 29, 30, 31, 32, 33, 34, 35, 36, 37, 38, 39, 40, 41, 42, 43, 44, 45, 46, 47, 48, 49, 50, 51, 52, 53, 54, 55, 56, 57, 58, 59, 60, 61, 62, 63, 64, 65, 66, 67, 68, 69, 70, 71, 72, 73, 74, 75, 76, 77, 78, 79, 80, 81, 82, 83, 84, 85, 86, 87, 88, 89, 90, 91, 92, 93, 94, 95, 96, 97, 98, 99, 100, 101, 102, 103, 104, 105, 106, 107\n",
      "2022-10-01 14:53:57,684 - ecog_speech.datasets.HarvardSentences.initialize:460 - INFO - Processing participant ('UCSD', 28, 1, 1) index, having keys: [0, 1, 2, 3]\n",
      "2022-10-01 14:54:02,244 - ecog_speech.datasets.HarvardSentences.initialize:479 - INFO - word_start_stop_times found aligning all index start times to a sentence code\n",
      "2022-10-01 14:54:02,270 - ecog_speech.datasets.HarvardSentences.initialize:486 - INFO - Combining all of 1 index frames\n",
      "2022-10-01 14:54:02,281 - ecog_speech.datasets.HarvardSentences.initialize:490 - INFO - flatten_sensors_to_samples selected - creating channel/sensor labels for samples\n",
      "2022-10-01 14:54:02,292 - ecog_speech.datasets.HarvardSentences.initialize:494 - DEBUG - exploding sensor data - does this take a while?\n",
      "2022-10-01 14:54:04,612 - ecog_speech.datasets.HarvardSentences.initialize:499 - INFO - Converting dataframe to a flat list of key variables (self.flat_keys)\n",
      "2022-10-01 14:54:23,509 - ecog_speech.datasets.HarvardSentences.initialize:506 - INFO - Extracting mapping of (['label', 'sample_ix', 'channel', 'location', 'patient', 'session', 'trial'])->indices\n",
      "2022-10-01 14:54:23,510 - ecog_speech.datasets.HarvardSentences.initialize:512 - INFO - Length of flat index map: 21600000\n",
      "2022-10-01 14:54:23,510 - ecog_speech.datasets.HarvardSentences.initialize:516 - INFO - Selected 108 sensors\n"
     ]
    },
    {
     "data": {
      "text/plain": "Applying sensor selection:   0%|          | 0/1 [00:00<?, ?it/s]",
      "application/vnd.jupyter.widget-view+json": {
       "version_major": 2,
       "version_minor": 0,
       "model_id": "b8307be5271b4767b7ea0c0436f11733"
      }
     },
     "metadata": {},
     "output_type": "display_data"
    },
    {
     "name": "stdout",
     "output_type": "stream",
     "text": [
      "2022-10-01 14:54:23,521 - ecog_speech.pipeline.ApplySensorSelection.process:143 - INFO - Selection of columns passed to sensor selection\n",
      "2022-10-01 14:54:23,591 - ecog_speech.pipeline.ApplySensorSelection.process:168 - INFO - Selecting columns in RAS coordinate data\n",
      "2022-10-01 14:54:23,592 - ecog_speech.pipeline.ApplySensorSelection.transform:22 - DEBUG - Updated keys: {'signal', 'selected_columns', 'sensor_ras_df', 'bad_columns', 'bad_sensor_method', 'sensor_ras_coord_arr'}\n"
     ]
    }
   ],
   "source": [
    "hvs_tuples = datasets.HarvardSentences.make_tuples_from_sets_str('UCSD-28')\n",
    "hvs = datasets.HarvardSentences(hvs_tuples, \n",
    "                                #pre_processing_pipeline='audio_gate_speaking_only', \n",
    "                                pre_processing_pipeline='region_classification',\n",
    "                                flatten_sensors_to_samples=True,\n",
    "                                extra_output_keys='sensor_ras_coord_arr')"
   ]
  },
  {
   "cell_type": "code",
   "execution_count": 7,
   "id": "06f17a38-58c0-4e5e-96e7-c417f37f51fc",
   "metadata": {
    "pycharm": {
     "name": "#%%\n"
    }
   },
   "outputs": [],
   "source": [
    "data_map = hvs.data_maps[hvs_tuples[0]]"
   ]
  },
  {
   "cell_type": "code",
   "execution_count": 8,
   "id": "9d048c21-3b50-4c99-af86-95a32e3237af",
   "metadata": {
    "pycharm": {
     "name": "#%%\n"
    }
   },
   "outputs": [
    {
     "data": {
      "text/plain": "['stimcode',\n 'stim',\n 'speaking_word_stim',\n 'speaking_word_stim_mask',\n 'listening_word_stim',\n 'listening_word_stim_mask',\n 'mouthing_word_stim',\n 'mouthing_word_stim_mask',\n 'imagining_word_stim',\n 'imagining_word_stim_mask',\n 'speaking_region_stim',\n 'speaking_region_stim_mask',\n 'listening_region_stim',\n 'listening_region_stim_mask',\n 'mouthing_region_stim',\n 'mouthing_region_stim_mask',\n 'imagining_region_stim',\n 'imagining_region_stim_mask']"
     },
     "execution_count": 8,
     "metadata": {},
     "output_type": "execute_result"
    }
   ],
   "source": [
    "[k for k in data_map.keys() if 'stim' in k]"
   ]
  },
  {
   "cell_type": "code",
   "execution_count": 9,
   "id": "29e0b5df-1625-47d0-9874-1a6d80e7c020",
   "metadata": {
    "pycharm": {
     "name": "#%%\n"
    }
   },
   "outputs": [
    {
     "data": {
      "text/plain": "dict_keys(['signal_arr', 'sensor_ras_coord_arr', 'target_arr'])"
     },
     "execution_count": 9,
     "metadata": {},
     "output_type": "execute_result"
    }
   ],
   "source": [
    "hvs[0].keys()"
   ]
  },
  {
   "cell_type": "code",
   "execution_count": 10,
   "id": "fe2bebdd-2206-4bc3-8244-0d99f23db3a0",
   "metadata": {
    "tags": [],
    "pycharm": {
     "name": "#%%\n"
    }
   },
   "outputs": [],
   "source": [
    "dl = hvs.to_dataloader(num_workers=4, batch_size=128, batches_per_epoch=10)\n",
    "\n",
    "batch_d = next(iter(dl))"
   ]
  },
  {
   "cell_type": "code",
   "execution_count": 11,
   "id": "f47f651a-a0a0-4929-96d9-16aacfdbb4e6",
   "metadata": {
    "pycharm": {
     "name": "#%%\n"
    }
   },
   "outputs": [
    {
     "data": {
      "text/plain": "dict_keys(['signal_arr', 'sensor_ras_coord_arr', 'target_arr'])"
     },
     "execution_count": 11,
     "metadata": {},
     "output_type": "execute_result"
    }
   ],
   "source": [
    "batch_d.keys()"
   ]
  },
  {
   "cell_type": "markdown",
   "id": "d94188ad-4a71-48b8-86ff-00fdbf6987c2",
   "metadata": {
    "pycharm": {
     "name": "#%% md\n"
    }
   },
   "source": [
    "***\n",
    "Plot scratch\n",
    "- check if words codes are in the start_stop_time dataframe with the new pipeline"
   ]
  },
  {
   "cell_type": "code",
   "execution_count": 12,
   "id": "75f5b708-df7a-45aa-adf6-f89c9ee995fb",
   "metadata": {
    "tags": [],
    "pycharm": {
     "name": "#%%\n"
    }
   },
   "outputs": [],
   "source": [
    "data_map = hvs.data_maps[hvs_tuples[0]]"
   ]
  },
  {
   "cell_type": "code",
   "execution_count": 13,
   "id": "10708f46-e94e-4687-a84c-c284bfb14d77",
   "metadata": {
    "pycharm": {
     "name": "#%%\n"
    }
   },
   "outputs": [
    {
     "data": {
      "text/plain": "dict_keys(['EKG_signal', 'Labels', 'audio', 'fs_audio', 'fs_signal', 'label_contact_common', 'label_contact_r_a_s', 'sEEG_signal', 'start_stop_word_ms', 'stimcode', 'signal', 'stim', 'sensor_ras_df', 'sensor_ras_coord_arr', 'audio_mel_spec', 'good_sensor_columns', 'bad_sensor_columns', 'word_start_stop_times', 'sent_start_stop_time', 'speaking_word_stim', 'speaking_word_stim_mask', 'listening_word_stim', 'listening_word_stim_mask', 'mouthing_word_stim', 'mouthing_word_stim_mask', 'imagining_word_stim', 'imagining_word_stim_mask', 'speaking_region_stim', 'speaking_region_stim_mask', 'listening_region_stim', 'listening_region_stim_mask', 'mouthing_region_stim', 'mouthing_region_stim_mask', 'imagining_region_stim', 'imagining_region_stim_mask', 'sample_index_map', 'n_samples_per_window', 'index_source_map', 'selected_columns', 'bad_columns', 'bad_sensor_method'])"
     },
     "execution_count": 13,
     "metadata": {},
     "output_type": "execute_result"
    }
   ],
   "source": [
    "data_map.keys()"
   ]
  },
  {
   "cell_type": "code",
   "execution_count": 14,
   "id": "85b61cac-495c-4ee6-8a7d-c18f9f395c6c",
   "metadata": {
    "pycharm": {
     "name": "#%%\n"
    }
   },
   "outputs": [],
   "source": [
    "wsst_df = data_map['word_start_stop_times']"
   ]
  },
  {
   "cell_type": "code",
   "execution_count": 15,
   "id": "19f436d2-098a-4dd5-b29e-d39daa775600",
   "metadata": {
    "pycharm": {
     "name": "#%%\n"
    }
   },
   "outputs": [
    {
     "data": {
      "text/plain": "                                            start_t                    stop_t  \\\nstim_start_t                                                                    \n0 days 00:00:17.529073200 0 days 00:00:17.529073200 0 days 00:00:18.397100400   \n0 days 00:00:18.397100400 0 days 00:00:18.397100400    0 days 00:00:18.816148   \n0 days 00:00:18.816148       0 days 00:00:18.816148 0 days 00:00:18.995739900   \n0 days 00:00:18.995739900 0 days 00:00:18.995739900 0 days 00:00:19.514560700   \n0 days 00:00:19.514560700 0 days 00:00:19.514560700 0 days 00:00:20.113200200   \n\n                             word  stim_sentcode           stim_sentcode_t  \\\nstim_start_t                                                                 \n0 days 00:00:17.529073200      on            5.0 0 days 00:00:17.496093750   \n0 days 00:00:18.397100400    RICE            5.0 0 days 00:00:17.496093750   \n0 days 00:00:18.816148         IS            5.0 0 days 00:00:17.496093750   \n0 days 00:00:18.995739900   OFTEN            5.0 0 days 00:00:17.496093750   \n0 days 00:00:19.514560700  SERVED            5.0 0 days 00:00:17.496093750   \n\n                           stim    speaking_word_length_t  \\\nstim_start_t                                                \n0 days 00:00:17.529073200  51.0 0 days 00:00:00.868027200   \n0 days 00:00:18.397100400  51.0 0 days 00:00:00.419047600   \n0 days 00:00:18.816148     51.0 0 days 00:00:00.179591900   \n0 days 00:00:18.995739900  51.0 0 days 00:00:00.518820800   \n0 days 00:00:19.514560700  51.0 0 days 00:00:00.598639500   \n\n                           time_from_speaking_start          trial_start_t  \\\nstim_start_t                                                                 \n0 days 00:00:17.529073200           0 days 00:00:00 0 days 00:00:13.562500   \n0 days 00:00:18.397100400 0 days 00:00:00.868027200 0 days 00:00:13.562500   \n0 days 00:00:18.816148    0 days 00:00:01.287074800 0 days 00:00:13.562500   \n0 days 00:00:18.995739900 0 days 00:00:01.466666700 0 days 00:00:13.562500   \n0 days 00:00:19.514560700 0 days 00:00:01.985487500 0 days 00:00:13.562500   \n\n                                       trial_stop_t  ...  \\\nstim_start_t                                         ...   \n0 days 00:00:17.529073200 0 days 00:00:29.628906250  ...   \n0 days 00:00:18.397100400 0 days 00:00:29.628906250  ...   \n0 days 00:00:18.816148    0 days 00:00:29.628906250  ...   \n0 days 00:00:18.995739900 0 days 00:00:29.628906250  ...   \n0 days 00:00:19.514560700 0 days 00:00:29.628906250  ...   \n\n                            mouthing_region_start_t    mouthing_region_stop_t  \\\nstim_start_t                                                                    \n0 days 00:00:17.529073200 0 days 00:00:21.537109375 0 days 00:00:25.537109375   \n0 days 00:00:18.397100400 0 days 00:00:21.537109375 0 days 00:00:25.537109375   \n0 days 00:00:18.816148    0 days 00:00:21.537109375 0 days 00:00:25.537109375   \n0 days 00:00:18.995739900 0 days 00:00:21.537109375 0 days 00:00:25.537109375   \n0 days 00:00:19.514560700 0 days 00:00:21.537109375 0 days 00:00:25.537109375   \n\n                             listening_word_start_t     listening_word_stop_t  \\\nstim_start_t                                                                    \n0 days 00:00:17.529073200    0 days 00:00:13.562500 0 days 00:00:14.430527200   \n0 days 00:00:18.397100400 0 days 00:00:14.430527200 0 days 00:00:14.849574800   \n0 days 00:00:18.816148    0 days 00:00:14.849574800 0 days 00:00:15.029166700   \n0 days 00:00:18.995739900 0 days 00:00:15.029166700 0 days 00:00:15.547987500   \n0 days 00:00:19.514560700 0 days 00:00:15.547987500    0 days 00:00:16.146627   \n\n                              speaking_word_start_t      speaking_word_stop_t  \\\nstim_start_t                                                                    \n0 days 00:00:17.529073200 0 days 00:00:17.517578125 0 days 00:00:18.385605325   \n0 days 00:00:18.397100400 0 days 00:00:18.385605325 0 days 00:00:18.804652925   \n0 days 00:00:18.816148    0 days 00:00:18.804652925 0 days 00:00:18.984244825   \n0 days 00:00:18.995739900 0 days 00:00:18.984244825 0 days 00:00:19.503065625   \n0 days 00:00:19.514560700 0 days 00:00:19.503065625 0 days 00:00:20.101705125   \n\n                              mouthing_word_start_t      mouthing_word_stop_t  \\\nstim_start_t                                                                    \n0 days 00:00:17.529073200 0 days 00:00:21.537109375 0 days 00:00:22.405136575   \n0 days 00:00:18.397100400 0 days 00:00:22.405136575 0 days 00:00:22.824184175   \n0 days 00:00:18.816148    0 days 00:00:22.824184175 0 days 00:00:23.003776075   \n0 days 00:00:18.995739900 0 days 00:00:23.003776075 0 days 00:00:23.522596875   \n0 days 00:00:19.514560700 0 days 00:00:23.522596875 0 days 00:00:24.121236375   \n\n                             imagining_word_start_t     imagining_word_stop_t  \nstim_start_t                                                                   \n0 days 00:00:17.529073200 0 days 00:00:25.558593750 0 days 00:00:26.426620950  \n0 days 00:00:18.397100400 0 days 00:00:26.426620950 0 days 00:00:26.845668550  \n0 days 00:00:18.816148    0 days 00:00:26.845668550 0 days 00:00:27.025260450  \n0 days 00:00:18.995739900 0 days 00:00:27.025260450 0 days 00:00:27.544081250  \n0 days 00:00:19.514560700 0 days 00:00:27.544081250 0 days 00:00:28.142720750  \n\n[5 rows x 26 columns]",
      "text/html": "<div>\n<style scoped>\n    .dataframe tbody tr th:only-of-type {\n        vertical-align: middle;\n    }\n\n    .dataframe tbody tr th {\n        vertical-align: top;\n    }\n\n    .dataframe thead th {\n        text-align: right;\n    }\n</style>\n<table border=\"1\" class=\"dataframe\">\n  <thead>\n    <tr style=\"text-align: right;\">\n      <th></th>\n      <th>start_t</th>\n      <th>stop_t</th>\n      <th>word</th>\n      <th>stim_sentcode</th>\n      <th>stim_sentcode_t</th>\n      <th>stim</th>\n      <th>speaking_word_length_t</th>\n      <th>time_from_speaking_start</th>\n      <th>trial_start_t</th>\n      <th>trial_stop_t</th>\n      <th>...</th>\n      <th>mouthing_region_start_t</th>\n      <th>mouthing_region_stop_t</th>\n      <th>listening_word_start_t</th>\n      <th>listening_word_stop_t</th>\n      <th>speaking_word_start_t</th>\n      <th>speaking_word_stop_t</th>\n      <th>mouthing_word_start_t</th>\n      <th>mouthing_word_stop_t</th>\n      <th>imagining_word_start_t</th>\n      <th>imagining_word_stop_t</th>\n    </tr>\n    <tr>\n      <th>stim_start_t</th>\n      <th></th>\n      <th></th>\n      <th></th>\n      <th></th>\n      <th></th>\n      <th></th>\n      <th></th>\n      <th></th>\n      <th></th>\n      <th></th>\n      <th></th>\n      <th></th>\n      <th></th>\n      <th></th>\n      <th></th>\n      <th></th>\n      <th></th>\n      <th></th>\n      <th></th>\n      <th></th>\n      <th></th>\n    </tr>\n  </thead>\n  <tbody>\n    <tr>\n      <th>0 days 00:00:17.529073200</th>\n      <td>0 days 00:00:17.529073200</td>\n      <td>0 days 00:00:18.397100400</td>\n      <td>on</td>\n      <td>5.0</td>\n      <td>0 days 00:00:17.496093750</td>\n      <td>51.0</td>\n      <td>0 days 00:00:00.868027200</td>\n      <td>0 days 00:00:00</td>\n      <td>0 days 00:00:13.562500</td>\n      <td>0 days 00:00:29.628906250</td>\n      <td>...</td>\n      <td>0 days 00:00:21.537109375</td>\n      <td>0 days 00:00:25.537109375</td>\n      <td>0 days 00:00:13.562500</td>\n      <td>0 days 00:00:14.430527200</td>\n      <td>0 days 00:00:17.517578125</td>\n      <td>0 days 00:00:18.385605325</td>\n      <td>0 days 00:00:21.537109375</td>\n      <td>0 days 00:00:22.405136575</td>\n      <td>0 days 00:00:25.558593750</td>\n      <td>0 days 00:00:26.426620950</td>\n    </tr>\n    <tr>\n      <th>0 days 00:00:18.397100400</th>\n      <td>0 days 00:00:18.397100400</td>\n      <td>0 days 00:00:18.816148</td>\n      <td>RICE</td>\n      <td>5.0</td>\n      <td>0 days 00:00:17.496093750</td>\n      <td>51.0</td>\n      <td>0 days 00:00:00.419047600</td>\n      <td>0 days 00:00:00.868027200</td>\n      <td>0 days 00:00:13.562500</td>\n      <td>0 days 00:00:29.628906250</td>\n      <td>...</td>\n      <td>0 days 00:00:21.537109375</td>\n      <td>0 days 00:00:25.537109375</td>\n      <td>0 days 00:00:14.430527200</td>\n      <td>0 days 00:00:14.849574800</td>\n      <td>0 days 00:00:18.385605325</td>\n      <td>0 days 00:00:18.804652925</td>\n      <td>0 days 00:00:22.405136575</td>\n      <td>0 days 00:00:22.824184175</td>\n      <td>0 days 00:00:26.426620950</td>\n      <td>0 days 00:00:26.845668550</td>\n    </tr>\n    <tr>\n      <th>0 days 00:00:18.816148</th>\n      <td>0 days 00:00:18.816148</td>\n      <td>0 days 00:00:18.995739900</td>\n      <td>IS</td>\n      <td>5.0</td>\n      <td>0 days 00:00:17.496093750</td>\n      <td>51.0</td>\n      <td>0 days 00:00:00.179591900</td>\n      <td>0 days 00:00:01.287074800</td>\n      <td>0 days 00:00:13.562500</td>\n      <td>0 days 00:00:29.628906250</td>\n      <td>...</td>\n      <td>0 days 00:00:21.537109375</td>\n      <td>0 days 00:00:25.537109375</td>\n      <td>0 days 00:00:14.849574800</td>\n      <td>0 days 00:00:15.029166700</td>\n      <td>0 days 00:00:18.804652925</td>\n      <td>0 days 00:00:18.984244825</td>\n      <td>0 days 00:00:22.824184175</td>\n      <td>0 days 00:00:23.003776075</td>\n      <td>0 days 00:00:26.845668550</td>\n      <td>0 days 00:00:27.025260450</td>\n    </tr>\n    <tr>\n      <th>0 days 00:00:18.995739900</th>\n      <td>0 days 00:00:18.995739900</td>\n      <td>0 days 00:00:19.514560700</td>\n      <td>OFTEN</td>\n      <td>5.0</td>\n      <td>0 days 00:00:17.496093750</td>\n      <td>51.0</td>\n      <td>0 days 00:00:00.518820800</td>\n      <td>0 days 00:00:01.466666700</td>\n      <td>0 days 00:00:13.562500</td>\n      <td>0 days 00:00:29.628906250</td>\n      <td>...</td>\n      <td>0 days 00:00:21.537109375</td>\n      <td>0 days 00:00:25.537109375</td>\n      <td>0 days 00:00:15.029166700</td>\n      <td>0 days 00:00:15.547987500</td>\n      <td>0 days 00:00:18.984244825</td>\n      <td>0 days 00:00:19.503065625</td>\n      <td>0 days 00:00:23.003776075</td>\n      <td>0 days 00:00:23.522596875</td>\n      <td>0 days 00:00:27.025260450</td>\n      <td>0 days 00:00:27.544081250</td>\n    </tr>\n    <tr>\n      <th>0 days 00:00:19.514560700</th>\n      <td>0 days 00:00:19.514560700</td>\n      <td>0 days 00:00:20.113200200</td>\n      <td>SERVED</td>\n      <td>5.0</td>\n      <td>0 days 00:00:17.496093750</td>\n      <td>51.0</td>\n      <td>0 days 00:00:00.598639500</td>\n      <td>0 days 00:00:01.985487500</td>\n      <td>0 days 00:00:13.562500</td>\n      <td>0 days 00:00:29.628906250</td>\n      <td>...</td>\n      <td>0 days 00:00:21.537109375</td>\n      <td>0 days 00:00:25.537109375</td>\n      <td>0 days 00:00:15.547987500</td>\n      <td>0 days 00:00:16.146627</td>\n      <td>0 days 00:00:19.503065625</td>\n      <td>0 days 00:00:20.101705125</td>\n      <td>0 days 00:00:23.522596875</td>\n      <td>0 days 00:00:24.121236375</td>\n      <td>0 days 00:00:27.544081250</td>\n      <td>0 days 00:00:28.142720750</td>\n    </tr>\n  </tbody>\n</table>\n<p>5 rows × 26 columns</p>\n</div>"
     },
     "execution_count": 15,
     "metadata": {},
     "output_type": "execute_result"
    }
   ],
   "source": [
    "wsst_df.head()"
   ]
  },
  {
   "cell_type": "code",
   "execution_count": 23,
   "outputs": [
    {
     "data": {
      "text/plain": "Index(['start_t', 'stop_t', 'word', 'stim_sentcode', 'stim_sentcode_t', 'stim',\n       'speaking_word_length_t', 'time_from_speaking_start', 'trial_start_t',\n       'trial_stop_t', 'listening_region_start_t', 'listening_region_stop_t',\n       'speaking_region_start_t', 'speaking_region_stop_t',\n       'imagining_region_start_t', 'imagining_region_stop_t',\n       'mouthing_region_start_t', 'mouthing_region_stop_t',\n       'listening_word_start_t', 'listening_word_stop_t',\n       'speaking_word_start_t', 'speaking_word_stop_t',\n       'mouthing_word_start_t', 'mouthing_word_stop_t',\n       'imagining_word_start_t', 'imagining_word_stop_t'],\n      dtype='object')"
     },
     "execution_count": 23,
     "metadata": {},
     "output_type": "execute_result"
    }
   ],
   "source": [
    "wsst_df.columns"
   ],
   "metadata": {
    "collapsed": false,
    "pycharm": {
     "name": "#%%\n"
    }
   }
  },
  {
   "cell_type": "code",
   "execution_count": 17,
   "id": "70515df3-fecc-4767-95e6-872cc8193791",
   "metadata": {
    "pycharm": {
     "name": "#%%\n"
    }
   },
   "outputs": [
    {
     "data": {
      "text/plain": "A           8\nACROSS      1\nAND         9\nAPART       1\nAT          2\n         ... \nWRIST       1\nYOU         1\nYOUNG       2\nYOUR        1\non        161\nName: word, Length: 248, dtype: int64"
     },
     "execution_count": 17,
     "metadata": {},
     "output_type": "execute_result"
    }
   ],
   "source": [
    "wsst_df.word.value_counts(dropna=False).sort_index()"
   ]
  },
  {
   "cell_type": "code",
   "execution_count": 18,
   "id": "c65a115b-d86b-463e-8972-2e80f95de8ef",
   "metadata": {
    "pycharm": {
     "name": "#%%\n"
    }
   },
   "outputs": [
    {
     "data": {
      "text/plain": "0"
     },
     "execution_count": 18,
     "metadata": {},
     "output_type": "execute_result"
    }
   ],
   "source": [
    "hvs.selected_flat_keys[0][0]"
   ]
  },
  {
   "cell_type": "code",
   "execution_count": 21,
   "id": "f065c67a-8dee-4d2e-a5af-306f77374b6e",
   "metadata": {
    "pycharm": {
     "name": "#%%\n"
    }
   },
   "outputs": [
    {
     "ename": "KeyError",
     "evalue": "'[0] not found in axis'",
     "output_type": "error",
     "traceback": [
      "\u001B[0;31m---------------------------------------------------------------------------\u001B[0m",
      "\u001B[0;31mKeyError\u001B[0m                                  Traceback (most recent call last)",
      "Input \u001B[0;32mIn [21]\u001B[0m, in \u001B[0;36m<cell line: 1>\u001B[0;34m()\u001B[0m\n\u001B[0;32m----> 1\u001B[0m \u001B[43mdata_map\u001B[49m\u001B[43m[\u001B[49m\u001B[38;5;124;43m'\u001B[39;49m\u001B[38;5;124;43mword_start_stop_times\u001B[39;49m\u001B[38;5;124;43m'\u001B[39;49m\u001B[43m]\u001B[49m\u001B[38;5;241;43m.\u001B[39;49m\u001B[43mpipe\u001B[49m\u001B[43m(\u001B[49m\u001B[38;5;28;43;01mlambda\u001B[39;49;00m\u001B[43m \u001B[49m\u001B[43mo\u001B[49m\u001B[43m:\u001B[49m\u001B[43m \u001B[49m\u001B[43mo\u001B[49m\u001B[38;5;241;43m.\u001B[39;49m\u001B[43mset_index\u001B[49m\u001B[43m(\u001B[49m\u001B[38;5;124;43m'\u001B[39;49m\u001B[38;5;124;43mword\u001B[39;49m\u001B[38;5;124;43m'\u001B[39;49m\u001B[43m)\u001B[49m\u001B[38;5;241;43m.\u001B[39;49m\u001B[43mdrop\u001B[49m\u001B[43m(\u001B[49m\u001B[38;5;241;43m0\u001B[39;49m\u001B[43m)\u001B[49m\u001B[38;5;241;43m.\u001B[39;49m\u001B[43mword\u001B[49m\u001B[38;5;241;43m.\u001B[39;49m\u001B[43mto_dict\u001B[49m\u001B[43m(\u001B[49m\u001B[43m)\u001B[49m\u001B[43m)\u001B[49m[\u001B[38;5;241m9\u001B[39m]\n",
      "File \u001B[0;32m~/.conda/envs/venv_research/lib/python3.10/site-packages/pandas/core/generic.py:5520\u001B[0m, in \u001B[0;36mNDFrame.pipe\u001B[0;34m(self, func, *args, **kwargs)\u001B[0m\n\u001B[1;32m   5462\u001B[0m \u001B[38;5;129m@final\u001B[39m\n\u001B[1;32m   5463\u001B[0m \u001B[38;5;129m@doc\u001B[39m(klass\u001B[38;5;241m=\u001B[39m_shared_doc_kwargs[\u001B[38;5;124m\"\u001B[39m\u001B[38;5;124mklass\u001B[39m\u001B[38;5;124m\"\u001B[39m])\n\u001B[1;32m   5464\u001B[0m \u001B[38;5;28;01mdef\u001B[39;00m \u001B[38;5;21mpipe\u001B[39m(\n\u001B[0;32m   (...)\u001B[0m\n\u001B[1;32m   5468\u001B[0m     \u001B[38;5;241m*\u001B[39m\u001B[38;5;241m*\u001B[39mkwargs,\n\u001B[1;32m   5469\u001B[0m ) \u001B[38;5;241m-\u001B[39m\u001B[38;5;241m>\u001B[39m T:\n\u001B[1;32m   5470\u001B[0m     \u001B[38;5;124mr\u001B[39m\u001B[38;5;124;03m\"\"\"\u001B[39;00m\n\u001B[1;32m   5471\u001B[0m \u001B[38;5;124;03m    Apply chainable functions that expect Series or DataFrames.\u001B[39;00m\n\u001B[1;32m   5472\u001B[0m \n\u001B[0;32m   (...)\u001B[0m\n\u001B[1;32m   5518\u001B[0m \u001B[38;5;124;03m    ...  )  # doctest: +SKIP\u001B[39;00m\n\u001B[1;32m   5519\u001B[0m \u001B[38;5;124;03m    \"\"\"\u001B[39;00m\n\u001B[0;32m-> 5520\u001B[0m     \u001B[38;5;28;01mreturn\u001B[39;00m \u001B[43mcom\u001B[49m\u001B[38;5;241;43m.\u001B[39;49m\u001B[43mpipe\u001B[49m\u001B[43m(\u001B[49m\u001B[38;5;28;43mself\u001B[39;49m\u001B[43m,\u001B[49m\u001B[43m \u001B[49m\u001B[43mfunc\u001B[49m\u001B[43m,\u001B[49m\u001B[43m \u001B[49m\u001B[38;5;241;43m*\u001B[39;49m\u001B[43margs\u001B[49m\u001B[43m,\u001B[49m\u001B[43m \u001B[49m\u001B[38;5;241;43m*\u001B[39;49m\u001B[38;5;241;43m*\u001B[39;49m\u001B[43mkwargs\u001B[49m\u001B[43m)\u001B[49m\n",
      "File \u001B[0;32m~/.conda/envs/venv_research/lib/python3.10/site-packages/pandas/core/common.py:497\u001B[0m, in \u001B[0;36mpipe\u001B[0;34m(obj, func, *args, **kwargs)\u001B[0m\n\u001B[1;32m    495\u001B[0m     \u001B[38;5;28;01mreturn\u001B[39;00m func(\u001B[38;5;241m*\u001B[39margs, \u001B[38;5;241m*\u001B[39m\u001B[38;5;241m*\u001B[39mkwargs)\n\u001B[1;32m    496\u001B[0m \u001B[38;5;28;01melse\u001B[39;00m:\n\u001B[0;32m--> 497\u001B[0m     \u001B[38;5;28;01mreturn\u001B[39;00m \u001B[43mfunc\u001B[49m\u001B[43m(\u001B[49m\u001B[43mobj\u001B[49m\u001B[43m,\u001B[49m\u001B[43m \u001B[49m\u001B[38;5;241;43m*\u001B[39;49m\u001B[43margs\u001B[49m\u001B[43m,\u001B[49m\u001B[43m \u001B[49m\u001B[38;5;241;43m*\u001B[39;49m\u001B[38;5;241;43m*\u001B[39;49m\u001B[43mkwargs\u001B[49m\u001B[43m)\u001B[49m\n",
      "Input \u001B[0;32mIn [21]\u001B[0m, in \u001B[0;36m<lambda>\u001B[0;34m(o)\u001B[0m\n\u001B[0;32m----> 1\u001B[0m data_map[\u001B[38;5;124m'\u001B[39m\u001B[38;5;124mword_start_stop_times\u001B[39m\u001B[38;5;124m'\u001B[39m]\u001B[38;5;241m.\u001B[39mpipe(\u001B[38;5;28;01mlambda\u001B[39;00m o: \u001B[43mo\u001B[49m\u001B[38;5;241;43m.\u001B[39;49m\u001B[43mset_index\u001B[49m\u001B[43m(\u001B[49m\u001B[38;5;124;43m'\u001B[39;49m\u001B[38;5;124;43mword\u001B[39;49m\u001B[38;5;124;43m'\u001B[39;49m\u001B[43m)\u001B[49m\u001B[38;5;241;43m.\u001B[39;49m\u001B[43mdrop\u001B[49m\u001B[43m(\u001B[49m\u001B[38;5;241;43m0\u001B[39;49m\u001B[43m)\u001B[49m\u001B[38;5;241m.\u001B[39mword\u001B[38;5;241m.\u001B[39mto_dict())[\u001B[38;5;241m9\u001B[39m]\n",
      "File \u001B[0;32m~/.conda/envs/venv_research/lib/python3.10/site-packages/pandas/util/_decorators.py:311\u001B[0m, in \u001B[0;36mdeprecate_nonkeyword_arguments.<locals>.decorate.<locals>.wrapper\u001B[0;34m(*args, **kwargs)\u001B[0m\n\u001B[1;32m    305\u001B[0m \u001B[38;5;28;01mif\u001B[39;00m \u001B[38;5;28mlen\u001B[39m(args) \u001B[38;5;241m>\u001B[39m num_allow_args:\n\u001B[1;32m    306\u001B[0m     warnings\u001B[38;5;241m.\u001B[39mwarn(\n\u001B[1;32m    307\u001B[0m         msg\u001B[38;5;241m.\u001B[39mformat(arguments\u001B[38;5;241m=\u001B[39marguments),\n\u001B[1;32m    308\u001B[0m         \u001B[38;5;167;01mFutureWarning\u001B[39;00m,\n\u001B[1;32m    309\u001B[0m         stacklevel\u001B[38;5;241m=\u001B[39mstacklevel,\n\u001B[1;32m    310\u001B[0m     )\n\u001B[0;32m--> 311\u001B[0m \u001B[38;5;28;01mreturn\u001B[39;00m \u001B[43mfunc\u001B[49m\u001B[43m(\u001B[49m\u001B[38;5;241;43m*\u001B[39;49m\u001B[43margs\u001B[49m\u001B[43m,\u001B[49m\u001B[43m \u001B[49m\u001B[38;5;241;43m*\u001B[39;49m\u001B[38;5;241;43m*\u001B[39;49m\u001B[43mkwargs\u001B[49m\u001B[43m)\u001B[49m\n",
      "File \u001B[0;32m~/.conda/envs/venv_research/lib/python3.10/site-packages/pandas/core/frame.py:4948\u001B[0m, in \u001B[0;36mDataFrame.drop\u001B[0;34m(self, labels, axis, index, columns, level, inplace, errors)\u001B[0m\n\u001B[1;32m   4800\u001B[0m \u001B[38;5;129m@deprecate_nonkeyword_arguments\u001B[39m(version\u001B[38;5;241m=\u001B[39m\u001B[38;5;28;01mNone\u001B[39;00m, allowed_args\u001B[38;5;241m=\u001B[39m[\u001B[38;5;124m\"\u001B[39m\u001B[38;5;124mself\u001B[39m\u001B[38;5;124m\"\u001B[39m, \u001B[38;5;124m\"\u001B[39m\u001B[38;5;124mlabels\u001B[39m\u001B[38;5;124m\"\u001B[39m])\n\u001B[1;32m   4801\u001B[0m \u001B[38;5;28;01mdef\u001B[39;00m \u001B[38;5;21mdrop\u001B[39m(\n\u001B[1;32m   4802\u001B[0m     \u001B[38;5;28mself\u001B[39m,\n\u001B[0;32m   (...)\u001B[0m\n\u001B[1;32m   4809\u001B[0m     errors: \u001B[38;5;28mstr\u001B[39m \u001B[38;5;241m=\u001B[39m \u001B[38;5;124m\"\u001B[39m\u001B[38;5;124mraise\u001B[39m\u001B[38;5;124m\"\u001B[39m,\n\u001B[1;32m   4810\u001B[0m ):\n\u001B[1;32m   4811\u001B[0m     \u001B[38;5;124;03m\"\"\"\u001B[39;00m\n\u001B[1;32m   4812\u001B[0m \u001B[38;5;124;03m    Drop specified labels from rows or columns.\u001B[39;00m\n\u001B[1;32m   4813\u001B[0m \n\u001B[0;32m   (...)\u001B[0m\n\u001B[1;32m   4946\u001B[0m \u001B[38;5;124;03m            weight  1.0     0.8\u001B[39;00m\n\u001B[1;32m   4947\u001B[0m \u001B[38;5;124;03m    \"\"\"\u001B[39;00m\n\u001B[0;32m-> 4948\u001B[0m     \u001B[38;5;28;01mreturn\u001B[39;00m \u001B[38;5;28;43msuper\u001B[39;49m\u001B[43m(\u001B[49m\u001B[43m)\u001B[49m\u001B[38;5;241;43m.\u001B[39;49m\u001B[43mdrop\u001B[49m\u001B[43m(\u001B[49m\n\u001B[1;32m   4949\u001B[0m \u001B[43m        \u001B[49m\u001B[43mlabels\u001B[49m\u001B[38;5;241;43m=\u001B[39;49m\u001B[43mlabels\u001B[49m\u001B[43m,\u001B[49m\n\u001B[1;32m   4950\u001B[0m \u001B[43m        \u001B[49m\u001B[43maxis\u001B[49m\u001B[38;5;241;43m=\u001B[39;49m\u001B[43maxis\u001B[49m\u001B[43m,\u001B[49m\n\u001B[1;32m   4951\u001B[0m \u001B[43m        \u001B[49m\u001B[43mindex\u001B[49m\u001B[38;5;241;43m=\u001B[39;49m\u001B[43mindex\u001B[49m\u001B[43m,\u001B[49m\n\u001B[1;32m   4952\u001B[0m \u001B[43m        \u001B[49m\u001B[43mcolumns\u001B[49m\u001B[38;5;241;43m=\u001B[39;49m\u001B[43mcolumns\u001B[49m\u001B[43m,\u001B[49m\n\u001B[1;32m   4953\u001B[0m \u001B[43m        \u001B[49m\u001B[43mlevel\u001B[49m\u001B[38;5;241;43m=\u001B[39;49m\u001B[43mlevel\u001B[49m\u001B[43m,\u001B[49m\n\u001B[1;32m   4954\u001B[0m \u001B[43m        \u001B[49m\u001B[43minplace\u001B[49m\u001B[38;5;241;43m=\u001B[39;49m\u001B[43minplace\u001B[49m\u001B[43m,\u001B[49m\n\u001B[1;32m   4955\u001B[0m \u001B[43m        \u001B[49m\u001B[43merrors\u001B[49m\u001B[38;5;241;43m=\u001B[39;49m\u001B[43merrors\u001B[49m\u001B[43m,\u001B[49m\n\u001B[1;32m   4956\u001B[0m \u001B[43m    \u001B[49m\u001B[43m)\u001B[49m\n",
      "File \u001B[0;32m~/.conda/envs/venv_research/lib/python3.10/site-packages/pandas/core/generic.py:4279\u001B[0m, in \u001B[0;36mNDFrame.drop\u001B[0;34m(self, labels, axis, index, columns, level, inplace, errors)\u001B[0m\n\u001B[1;32m   4277\u001B[0m \u001B[38;5;28;01mfor\u001B[39;00m axis, labels \u001B[38;5;129;01min\u001B[39;00m axes\u001B[38;5;241m.\u001B[39mitems():\n\u001B[1;32m   4278\u001B[0m     \u001B[38;5;28;01mif\u001B[39;00m labels \u001B[38;5;129;01mis\u001B[39;00m \u001B[38;5;129;01mnot\u001B[39;00m \u001B[38;5;28;01mNone\u001B[39;00m:\n\u001B[0;32m-> 4279\u001B[0m         obj \u001B[38;5;241m=\u001B[39m \u001B[43mobj\u001B[49m\u001B[38;5;241;43m.\u001B[39;49m\u001B[43m_drop_axis\u001B[49m\u001B[43m(\u001B[49m\u001B[43mlabels\u001B[49m\u001B[43m,\u001B[49m\u001B[43m \u001B[49m\u001B[43maxis\u001B[49m\u001B[43m,\u001B[49m\u001B[43m \u001B[49m\u001B[43mlevel\u001B[49m\u001B[38;5;241;43m=\u001B[39;49m\u001B[43mlevel\u001B[49m\u001B[43m,\u001B[49m\u001B[43m \u001B[49m\u001B[43merrors\u001B[49m\u001B[38;5;241;43m=\u001B[39;49m\u001B[43merrors\u001B[49m\u001B[43m)\u001B[49m\n\u001B[1;32m   4281\u001B[0m \u001B[38;5;28;01mif\u001B[39;00m inplace:\n\u001B[1;32m   4282\u001B[0m     \u001B[38;5;28mself\u001B[39m\u001B[38;5;241m.\u001B[39m_update_inplace(obj)\n",
      "File \u001B[0;32m~/.conda/envs/venv_research/lib/python3.10/site-packages/pandas/core/generic.py:4352\u001B[0m, in \u001B[0;36mNDFrame._drop_axis\u001B[0;34m(self, labels, axis, level, errors, consolidate, only_slice)\u001B[0m\n\u001B[1;32m   4350\u001B[0m     labels_missing \u001B[38;5;241m=\u001B[39m (axis\u001B[38;5;241m.\u001B[39mget_indexer_for(labels) \u001B[38;5;241m==\u001B[39m \u001B[38;5;241m-\u001B[39m\u001B[38;5;241m1\u001B[39m)\u001B[38;5;241m.\u001B[39many()\n\u001B[1;32m   4351\u001B[0m     \u001B[38;5;28;01mif\u001B[39;00m errors \u001B[38;5;241m==\u001B[39m \u001B[38;5;124m\"\u001B[39m\u001B[38;5;124mraise\u001B[39m\u001B[38;5;124m\"\u001B[39m \u001B[38;5;129;01mand\u001B[39;00m labels_missing:\n\u001B[0;32m-> 4352\u001B[0m         \u001B[38;5;28;01mraise\u001B[39;00m \u001B[38;5;167;01mKeyError\u001B[39;00m(\u001B[38;5;124mf\u001B[39m\u001B[38;5;124m\"\u001B[39m\u001B[38;5;132;01m{\u001B[39;00mlabels\u001B[38;5;132;01m}\u001B[39;00m\u001B[38;5;124m not found in axis\u001B[39m\u001B[38;5;124m\"\u001B[39m)\n\u001B[1;32m   4354\u001B[0m indexer \u001B[38;5;241m=\u001B[39m mask\u001B[38;5;241m.\u001B[39mnonzero()[\u001B[38;5;241m0\u001B[39m]\n\u001B[1;32m   4355\u001B[0m new_axis \u001B[38;5;241m=\u001B[39m axis\u001B[38;5;241m.\u001B[39mtake(indexer)\n",
      "\u001B[0;31mKeyError\u001B[0m: '[0] not found in axis'"
     ]
    }
   ],
   "source": [
    "data_map['word_start_stop_times'].pipe(lambda o: o.set_index('word_code').drop(0).word.to_dict())[9]"
   ]
  },
  {
   "cell_type": "code",
   "execution_count": 22,
   "id": "af8b46e5-70fb-45ee-9ae2-ea1b73e960dd",
   "metadata": {
    "pycharm": {
     "name": "#%%\n"
    }
   },
   "outputs": [
    {
     "ename": "KeyError",
     "evalue": "'word_stim'",
     "output_type": "error",
     "traceback": [
      "\u001B[0;31m---------------------------------------------------------------------------\u001B[0m",
      "\u001B[0;31mKeyError\u001B[0m                                  Traceback (most recent call last)",
      "Input \u001B[0;32mIn [22]\u001B[0m, in \u001B[0;36m<cell line: 1>\u001B[0;34m()\u001B[0m\n\u001B[0;32m----> 1\u001B[0m \u001B[43mdata_map\u001B[49m\u001B[43m[\u001B[49m\u001B[38;5;124;43m'\u001B[39;49m\u001B[38;5;124;43mword_stim\u001B[39;49m\u001B[38;5;124;43m'\u001B[39;49m\u001B[43m]\u001B[49m\n",
      "\u001B[0;31mKeyError\u001B[0m: 'word_stim'"
     ]
    }
   ],
   "source": [
    "data_map['word_stim']#.value_counts()"
   ]
  },
  {
   "cell_type": "code",
   "execution_count": 24,
   "id": "64623a77-69dc-4ce9-b2f8-49b6aec3de91",
   "metadata": {
    "scrolled": true,
    "tags": [],
    "pycharm": {
     "name": "#%%\n"
    }
   },
   "outputs": [
    {
     "ename": "ValueError",
     "evalue": "too many values to unpack (expected 2)",
     "output_type": "error",
     "traceback": [
      "\u001B[0;31m---------------------------------------------------------------------------\u001B[0m",
      "\u001B[0;31mValueError\u001B[0m                                Traceback (most recent call last)",
      "Input \u001B[0;32mIn [24]\u001B[0m, in \u001B[0;36m<cell line: 1>\u001B[0;34m()\u001B[0m\n\u001B[0;32m----> 1\u001B[0m \u001B[43mhvs\u001B[49m\u001B[38;5;241;43m.\u001B[39;49m\u001B[43msample_plot\u001B[49m\u001B[43m(\u001B[49m\u001B[38;5;241;43m0\u001B[39;49m\u001B[43m)\u001B[49m\n",
      "File \u001B[0;32m/export/Projects_GOLIATH/CMSCResearch/ECOGSpeech/ecog_speech/datasets.py:937\u001B[0m, in \u001B[0;36mBaseASPEN.sample_plot\u001B[0;34m(self, i, band, offset_seconds, figsize, axs)\u001B[0m\n\u001B[1;32m    934\u001B[0m \u001B[38;5;28;01mfrom\u001B[39;00m \u001B[38;5;21;01mIPython\u001B[39;00m\u001B[38;5;21;01m.\u001B[39;00m\u001B[38;5;21;01mdisplay\u001B[39;00m \u001B[38;5;28;01mimport\u001B[39;00m display\n\u001B[1;32m    935\u001B[0m \u001B[38;5;66;03m# offs = pd.Timedelta(offset_seconds)\u001B[39;00m\n\u001B[1;32m    936\u001B[0m \u001B[38;5;66;03m# t_word_ix = self.word_index[self.word_index == i].index\u001B[39;00m\n\u001B[0;32m--> 937\u001B[0m ix_k, data_k \u001B[38;5;241m=\u001B[39m \u001B[38;5;28mself\u001B[39m\u001B[38;5;241m.\u001B[39mselected_flat_keys[i]\n\u001B[1;32m    938\u001B[0m t_word_ix \u001B[38;5;241m=\u001B[39m \u001B[38;5;28mself\u001B[39m\u001B[38;5;241m.\u001B[39mflat_index_map\u001B[38;5;241m.\u001B[39mat[ix_k]\n\u001B[1;32m    939\u001B[0m offs_td \u001B[38;5;241m=\u001B[39m pd\u001B[38;5;241m.\u001B[39mTimedelta(offset_seconds, \u001B[38;5;124m'\u001B[39m\u001B[38;5;124ms\u001B[39m\u001B[38;5;124m'\u001B[39m)\n",
      "\u001B[0;31mValueError\u001B[0m: too many values to unpack (expected 2)"
     ]
    }
   ],
   "source": [
    "hvs.sample_plot(0)"
   ]
  },
  {
   "cell_type": "code",
   "execution_count": 20,
   "id": "771e3027-fa06-428a-b60d-fafb77ad786b",
   "metadata": {
    "scrolled": true,
    "tags": [],
    "pycharm": {
     "name": "#%%\n"
    }
   },
   "outputs": [
    {
     "ename": "ValueError",
     "evalue": "too many values to unpack (expected 2)",
     "output_type": "error",
     "traceback": [
      "\u001B[0;31m---------------------------------------------------------------------------\u001B[0m",
      "\u001B[0;31mValueError\u001B[0m                                Traceback (most recent call last)",
      "Input \u001B[0;32mIn [20]\u001B[0m, in \u001B[0;36m<cell line: 1>\u001B[0;34m()\u001B[0m\n\u001B[0;32m----> 1\u001B[0m \u001B[43mhvs\u001B[49m\u001B[38;5;241;43m.\u001B[39;49m\u001B[43msample_plot\u001B[49m\u001B[43m(\u001B[49m\u001B[38;5;241;43m500\u001B[39;49m\u001B[43m)\u001B[49m\n",
      "File \u001B[0;32m/export/Projects_GOLIATH/CMSCResearch/ECOGSpeech/ecog_speech/datasets.py:937\u001B[0m, in \u001B[0;36mBaseASPEN.sample_plot\u001B[0;34m(self, i, band, offset_seconds, figsize, axs)\u001B[0m\n\u001B[1;32m    934\u001B[0m \u001B[38;5;28;01mfrom\u001B[39;00m \u001B[38;5;21;01mIPython\u001B[39;00m\u001B[38;5;21;01m.\u001B[39;00m\u001B[38;5;21;01mdisplay\u001B[39;00m \u001B[38;5;28;01mimport\u001B[39;00m display\n\u001B[1;32m    935\u001B[0m \u001B[38;5;66;03m# offs = pd.Timedelta(offset_seconds)\u001B[39;00m\n\u001B[1;32m    936\u001B[0m \u001B[38;5;66;03m# t_word_ix = self.word_index[self.word_index == i].index\u001B[39;00m\n\u001B[0;32m--> 937\u001B[0m ix_k, data_k \u001B[38;5;241m=\u001B[39m \u001B[38;5;28mself\u001B[39m\u001B[38;5;241m.\u001B[39mselected_flat_keys[i]\n\u001B[1;32m    938\u001B[0m t_word_ix \u001B[38;5;241m=\u001B[39m \u001B[38;5;28mself\u001B[39m\u001B[38;5;241m.\u001B[39mflat_index_map\u001B[38;5;241m.\u001B[39mat[ix_k]\n\u001B[1;32m    939\u001B[0m offs_td \u001B[38;5;241m=\u001B[39m pd\u001B[38;5;241m.\u001B[39mTimedelta(offset_seconds, \u001B[38;5;124m'\u001B[39m\u001B[38;5;124ms\u001B[39m\u001B[38;5;124m'\u001B[39m)\n",
      "\u001B[0;31mValueError\u001B[0m: too many values to unpack (expected 2)"
     ]
    }
   ],
   "source": [
    "hvs.sample_plot(500)"
   ]
  },
  {
   "cell_type": "code",
   "execution_count": null,
   "id": "0affdb20-9f1c-419b-b026-e96cd0900ff2",
   "metadata": {
    "pycharm": {
     "name": "#%%\n"
    }
   },
   "outputs": [],
   "source": []
  },
  {
   "cell_type": "markdown",
   "id": "6bada0d3-cad7-487d-aab6-8c9fe4514fa6",
   "metadata": {
    "pycharm": {
     "name": "#%% md\n"
    }
   },
   "source": [
    "***"
   ]
  },
  {
   "cell_type": "markdown",
   "id": "d85a67ea-47f1-4509-8c82-45f5296196c6",
   "metadata": {
    "pycharm": {
     "name": "#%% md\n"
    }
   },
   "source": [
    "output cleared to make views cleaner"
   ]
  },
  {
   "cell_type": "code",
   "execution_count": 25,
   "id": "f16a85fc-1b93-48e8-8544-8bf99da85331",
   "metadata": {
    "scrolled": true,
    "tags": [],
    "pycharm": {
     "name": "#%%\n"
    }
   },
   "outputs": [
    {
     "name": "stdout",
     "output_type": "stream",
     "text": [
      "2022-10-01 14:59:59,018 - ecog_speech.datasets.HarvardSentences.__attrs_post_init__:339 - DEBUG - preparing pipeline\n",
      "2022-10-01 14:59:59,019 - ecog_speech.datasets.HarvardSentences.__attrs_post_init__:342 - DEBUG - Available pipelines: ['random_sample', 'random_sample_pinknoise', 'audio_gate', 'region_classification', 'region_classification_from_word_stim', 'audio_gate_speaking_only', 'word_classification', 'default']\n",
      "2022-10-01 14:59:59,019 - ecog_speech.datasets.HarvardSentences.initialize:361 - INFO - 'audio_gate_speaking_only' pipeline selected\n",
      "2022-10-01 14:59:59,020 - ecog_speech.datasets.HarvardSentences.initialize:375 - INFO - Loading data directly\n"
     ]
    },
    {
     "data": {
      "text/plain": "Loading data:   0%|          | 0/1 [00:00<?, ?it/s]",
      "application/vnd.jupyter.widget-view+json": {
       "version_major": 2,
       "version_minor": 0,
       "model_id": "f2cc8e5818bb4a12a194797ea3a4a7c4"
      }
     },
     "metadata": {},
     "output_type": "display_data"
    },
    {
     "name": "stdout",
     "output_type": "stream",
     "text": [
      "2022-10-01 14:59:59,032 - ecog_speech.datasets.HarvardSentences.load_data:797 - INFO - -----------Subset: Data------------\n",
      "2022-10-01 14:59:59,032 - ecog_speech.datasets.HarvardSentences.load_data:798 - INFO - ---22-1-1-UCSD---\n",
      "2022-10-01 14:59:59,032 - ecog_speech.datasets.HarvardSentences.make_filename:1284 - INFO - Harvard sentences only uses location and patient identifiers\n",
      "2022-10-01 14:59:59,032 - ecog_speech.datasets.HarvardSentences.load_data:801 - DEBUG - Path : /export/Projects_GOLIATH/CMSCResearch/ECOGSpeech/ecog_speech/../data/HarvardSentences/UCSD/Data/UCSD22_Task_1.mat\n",
      "2022-10-01 14:59:59,054 - ecog_speech.datasets.HarvardSentences.load_mat_from_path:766 - INFO - Couldn't load UCSD22_Task_1.mat with scipy (vers > 7.3?) - using package 'mat73' to load\n",
      "2022-10-01 15:00:05,376 - ecog_speech.datasets.HarvardSentences.load_data:804 - DEBUG - Matlab keys : ['EEG_signal', 'EKG_signal', 'Labels', 'audio', 'fs_audio', 'fs_signal', 'label_contact_common', 'label_contact_r_a_s', 'sEEG_signal', 'start_stop_word_ms', 'stimcode']\n",
      "2022-10-01 15:00:05,377 - ecog_speech.pipeline.ParseTimeSeriesArrToFrame.process:45 - DEBUG - Accessing fs_signal\n",
      "2022-10-01 15:00:05,378 - ecog_speech.pipeline.ParseTimeSeriesArrToFrame.process:52 - DEBUG - Input source frequency, fs object: 1024.0\n",
      "2022-10-01 15:00:05,916 - ecog_speech.pipeline.ParseTimeSeriesArrToFrame.process:71 - INFO - sEEG_signal@1024, shape: (980000, 94), [(Timedelta('0 days 00:00:00'), Timedelta('0 days 00:15:57.030273438'))]\n",
      "2022-10-01 15:00:05,917 - ecog_speech.pipeline.ParseTimeSeriesArrToFrame.transform:22 - DEBUG - Updated keys: {'signal', 'fs_signal'}\n",
      "2022-10-01 15:00:05,917 - ecog_speech.pipeline.ParseTimeSeriesArrToFrame.process:45 - DEBUG - Accessing fs_audio\n",
      "2022-10-01 15:00:05,917 - ecog_speech.pipeline.ParseTimeSeriesArrToFrame.process:52 - DEBUG - Input source frequency, fs object: 44100.0\n",
      "2022-10-01 15:00:10,016 - ecog_speech.pipeline.ParseTimeSeriesArrToFrame.process:71 - INFO - audio@44100, shape: (42205078,), [(Timedelta('0 days 00:00:00'), Timedelta('0 days 00:15:57.031224490'))]\n",
      "2022-10-01 15:00:10,017 - ecog_speech.pipeline.ParseTimeSeriesArrToFrame.transform:22 - DEBUG - Updated keys: {'fs_audio', 'audio'}\n",
      "2022-10-01 15:00:10,023 - ecog_speech.pipeline.ParseTimeSeriesArrToFrame.process:45 - DEBUG - Accessing fs_signal\n",
      "2022-10-01 15:00:10,023 - ecog_speech.pipeline.ParseTimeSeriesArrToFrame.process:52 - DEBUG - Input source frequency, fs object: 1024\n",
      "2022-10-01 15:00:10,036 - ecog_speech.pipeline.ParseTimeSeriesArrToFrame.process:71 - INFO - stimcode@1024, shape: (980000,), [(Timedelta('0 days 00:00:00'), Timedelta('0 days 00:15:57.030273438'))]\n",
      "2022-10-01 15:00:10,037 - ecog_speech.pipeline.ParseTimeSeriesArrToFrame.transform:22 - DEBUG - Updated keys: {'stim', 'fs_signal'}\n",
      "2022-10-01 15:00:10,039 - ecog_speech.pipeline.ParseSensorRAS.transform:22 - DEBUG - Updated keys: {'sensor_ras_df', 'sensor_ras_coord_arr'}\n",
      "2022-10-01 15:00:10,495 - ecog_speech.pipeline.ExtractMFCC.transform:22 - DEBUG - Updated keys: {'audio_mel_spec'}\n",
      "2022-10-01 15:00:10,496 - ecog_speech.pipeline.IdentifyGoodAndBadSensors.process:90 - WARNING - Electrodes with key 'electrodes' not found among ['EEG_signal', 'EKG_signal', 'Labels', 'audio', 'fs_audio', 'fs_signal', 'label_contact_common', 'label_contact_r_a_s', 'sEEG_signal', 'start_stop_word_ms', 'stimcode', 'signal', 'stim', 'sensor_ras_df', 'sensor_ras_coord_arr', 'audio_mel_spec'] - but on_missing=\"ignore\", so moving on\n",
      "2022-10-01 15:00:10,497 - ecog_speech.pipeline.IdentifyGoodAndBadSensors.transform:22 - DEBUG - Updated keys: {'good_sensor_columns', 'bad_sensor_columns'}\n",
      "2022-10-01 15:00:10,497 - ecog_speech.pipeline.SubsampleSignal.transform:22 - DEBUG - Updated keys: {'signal', 'stim', 'fs_signal'}\n",
      "2022-10-01 15:00:10,550 - ecog_speech.pipeline.SentCodeFromStartStopWordTimes.transform:22 - DEBUG - Updated keys: {'word_start_stop_times', 'stim', 'sent_start_stop_time'}\n",
      "2022-10-01 15:00:10,584 - ecog_speech.pipeline.AppendExtraMultiTaskStartStop.process:535 - WARNING - Sent code 10.0 has no future sentence codes in front of it\n",
      "2022-10-01 15:00:10,681 - ecog_speech.pipeline.AppendExtraMultiTaskStartStop.transform:22 - DEBUG - Updated keys: {'word_start_stop_times'}\n",
      "2022-10-01 15:00:11,557 - ecog_speech.pipeline.NewStimFromRegionStartStopTimes.transform:22 - DEBUG - Updated keys: {'speaking_word_stim_mask', 'speaking_word_stim'}\n",
      "2022-10-01 15:00:12,421 - ecog_speech.pipeline.NewStimFromRegionStartStopTimes.transform:22 - DEBUG - Updated keys: {'listening_word_stim_mask', 'listening_word_stim'}\n",
      "2022-10-01 15:00:13,272 - ecog_speech.pipeline.NewStimFromRegionStartStopTimes.transform:22 - DEBUG - Updated keys: {'mouthing_word_stim_mask', 'mouthing_word_stim'}\n",
      "2022-10-01 15:00:14,120 - ecog_speech.pipeline.NewStimFromRegionStartStopTimes.transform:22 - DEBUG - Updated keys: {'imagining_word_stim', 'imagining_word_stim_mask'}\n",
      "2022-10-01 15:00:14,527 - ecog_speech.pipeline.NewStimFromRegionStartStopTimes.transform:22 - DEBUG - Updated keys: {'speaking_region_stim_mask', 'speaking_region_stim'}\n",
      "2022-10-01 15:00:14,935 - ecog_speech.pipeline.NewStimFromRegionStartStopTimes.transform:22 - DEBUG - Updated keys: {'listening_region_stim', 'listening_region_stim_mask'}\n",
      "2022-10-01 15:00:15,343 - ecog_speech.pipeline.NewStimFromRegionStartStopTimes.transform:22 - DEBUG - Updated keys: {'mouthing_region_stim_mask', 'mouthing_region_stim'}\n",
      "2022-10-01 15:00:15,762 - ecog_speech.pipeline.NewStimFromRegionStartStopTimes.transform:22 - DEBUG - Updated keys: {'imagining_region_stim', 'imagining_region_stim_mask'}\n",
      "2022-10-01 15:00:15,763 - ecog_speech.pipeline.PowerThreshold.power_threshold:307 - INFO - Power threshold\n",
      "2022-10-01 15:00:39,296 - ecog_speech.pipeline.PowerThreshold.power_threshold:315 - INFO - Using speaking quantile 0.85\n",
      "2022-10-01 15:01:17,580 - ecog_speech.pipeline.PowerThreshold.power_threshold:338 - INFO - Using silence quantile\n",
      "2022-10-01 15:01:17,584 - ecog_speech.pipeline.PowerThreshold.power_threshold:351 - INFO - Sampling 35000 from 181009\n",
      "2022-10-01 15:01:17,603 - ecog_speech.pipeline.PowerThreshold.transform:22 - DEBUG - Updated keys: {'stim_pwrt', 'rolling_audio_pwr', 'stim_pwrt_diff', 'silence_stim_pwrt_s', 'silence_stim_pwrt_diff_s', 'coded_silence_stim'}\n",
      "2022-10-01 15:01:18,988 - ecog_speech.pipeline.WindowSampleIndicesFromIndex.transform:22 - DEBUG - Updated keys: {'n_samples_per_window', 'index_source_map', 'sample_index_map'}\n",
      "2022-10-01 15:01:18,988 - ecog_speech.datasets.HarvardSentences.initialize:405 - INFO - N samples per window: 256\n",
      "2022-10-01 15:01:18,989 - ecog_speech.datasets.HarvardSentences.initialize:426 - INFO - GOOD AND BAD SENSORS: {('UCSD', 22, 1, 1): ([0, 1, 2, 3, 4, 5, 6, 7, 8, 9, 10, 11, 12, 13, 14, 15, 16, 17, 18, 19, 20, 21, 22, 23, 24, 25, 26, 27, 28, 29, 30, 31, 32, 33, 34, 35, 36, 37, 38, 39, 40, 41, 42, 43, 44, 45, 46, 47, 48, 49, 50, 51, 52, 53, 54, 55, 56, 57, 58, 59, 60, 61, 62, 63, 64, 65, 66, 67, 68, 69, 70, 71, 72, 73, 74, 75, 76, 77, 78, 79, 80, 81, 82, 83, 84, 85, 86, 87, 88, 89, 90, 91, 92, 93], None)}\n",
      "2022-10-01 15:01:18,989 - ecog_speech.datasets.HarvardSentences.initialize:444 - INFO - Selected 94 columns using union method: 0, 1, 2, 3, 4, 5, 6, 7, 8, 9, 10, 11, 12, 13, 14, 15, 16, 17, 18, 19, 20, 21, 22, 23, 24, 25, 26, 27, 28, 29, 30, 31, 32, 33, 34, 35, 36, 37, 38, 39, 40, 41, 42, 43, 44, 45, 46, 47, 48, 49, 50, 51, 52, 53, 54, 55, 56, 57, 58, 59, 60, 61, 62, 63, 64, 65, 66, 67, 68, 69, 70, 71, 72, 73, 74, 75, 76, 77, 78, 79, 80, 81, 82, 83, 84, 85, 86, 87, 88, 89, 90, 91, 92, 93\n",
      "2022-10-01 15:01:18,989 - ecog_speech.datasets.HarvardSentences.initialize:460 - INFO - Processing participant ('UCSD', 22, 1, 1) index, having keys: [1]\n",
      "2022-10-01 15:01:19,200 - ecog_speech.datasets.HarvardSentences.initialize:479 - INFO - word_start_stop_times found aligning all index start times to a sentence code\n",
      "2022-10-01 15:01:19,205 - ecog_speech.datasets.HarvardSentences.initialize:486 - INFO - Combining all of 1 index frames\n",
      "2022-10-01 15:01:19,206 - ecog_speech.datasets.HarvardSentences.initialize:490 - INFO - flatten_sensors_to_samples selected - creating channel/sensor labels for samples\n",
      "2022-10-01 15:01:19,207 - ecog_speech.datasets.HarvardSentences.initialize:494 - DEBUG - exploding sensor data - does this take a while?\n",
      "2022-10-01 15:01:19,285 - ecog_speech.datasets.HarvardSentences.initialize:499 - INFO - Converting dataframe to a flat list of key variables (self.flat_keys)\n",
      "2022-10-01 15:01:19,828 - ecog_speech.datasets.HarvardSentences.initialize:506 - INFO - Extracting mapping of (['label', 'sample_ix', 'channel', 'location', 'patient', 'session', 'trial'])->indices\n",
      "2022-10-01 15:01:19,829 - ecog_speech.datasets.HarvardSentences.initialize:512 - INFO - Length of flat index map: 940000\n",
      "2022-10-01 15:01:19,829 - ecog_speech.datasets.HarvardSentences.initialize:516 - INFO - Selected 94 sensors\n"
     ]
    },
    {
     "data": {
      "text/plain": "Applying sensor selection:   0%|          | 0/1 [00:00<?, ?it/s]",
      "application/vnd.jupyter.widget-view+json": {
       "version_major": 2,
       "version_minor": 0,
       "model_id": "3a379cbbaa534a33a9cab58d581c9a02"
      }
     },
     "metadata": {},
     "output_type": "display_data"
    },
    {
     "name": "stdout",
     "output_type": "stream",
     "text": [
      "2022-10-01 15:01:19,841 - ecog_speech.pipeline.ApplySensorSelection.process:143 - INFO - Selection of columns passed to sensor selection\n",
      "2022-10-01 15:01:20,174 - ecog_speech.pipeline.ApplySensorSelection.process:168 - INFO - Selecting columns in RAS coordinate data\n",
      "2022-10-01 15:01:20,175 - ecog_speech.pipeline.ApplySensorSelection.transform:22 - DEBUG - Updated keys: {'signal', 'selected_columns', 'sensor_ras_df', 'bad_columns', 'bad_sensor_method', 'sensor_ras_coord_arr'}\n"
     ]
    }
   ],
   "source": [
    "hvs_cv_tuples = datasets.HarvardSentences.make_tuples_from_sets_str('UCSD-22')\n",
    "hvs_cv = datasets.HarvardSentences(hvs_cv_tuples, pre_processing_pipeline='audio_gate_speaking_only', flatten_sensors_to_samples=True,\n",
    "                                   extra_output_keys='sensor_ras_coord_arr')"
   ]
  },
  {
   "cell_type": "code",
   "execution_count": 26,
   "id": "25244f79-b9f1-4e82-8696-4fbfb8c89bc7",
   "metadata": {
    "pycharm": {
     "name": "#%%\n"
    }
   },
   "outputs": [],
   "source": [
    "p = hvs_cv.make_pipeline_map()['default']"
   ]
  },
  {
   "cell_type": "code",
   "execution_count": 27,
   "id": "a6885d58-e0b9-49f7-b952-62936ef37afd",
   "metadata": {
    "pycharm": {
     "name": "#%%\n"
    }
   },
   "outputs": [
    {
     "data": {
      "text/plain": "Pipeline(steps=[('parse_signal',\n                 ParseTimeSeriesArrToFrame(array_key='sEEG_signal', default_fs=1200, fs_key='fs_signal', output_key='signal')),\n                ('parse_audio',\n                 ParseTimeSeriesArrToFrame(array_key='audio', default_fs=48000, fs_key='fs_audio', reshape=-1)),\n                ('parse_stim',\n                 ParseTimeSeriesArrToFrame(array_key='stimcode', default_fs=1200, fs_key='fs_signal', output_k...\n                 PowerThreshold(silence_quantile_threshold=0.05, silence_window_samples=72000, speaking_quantile_threshold=0.85, speaking_window_samples=3000, stim_key='speaking_region_stim_mask')),\n                ('speaking_indices',\n                 WindowSampleIndicesFromIndex(index_shift=Timedelta('-1 days +23:59:59.750000'), sample_n=10000, stim_key='stim_pwrt', stim_value_remap=1)),\n                ('silence_indices',\n                 WindowSampleIndicesFromIndex(index_shift=Timedelta('-1 days +23:59:59.750000'), sample_n=10000, stim_key='silence_stim_pwrt_s', stim_value_remap=0)),\n                ('output', 'passthrough')])",
      "text/html": "<style>#sk-0751c3fe-9227-4b7f-8287-1fc83c9ed5ad {color: black;background-color: white;}#sk-0751c3fe-9227-4b7f-8287-1fc83c9ed5ad pre{padding: 0;}#sk-0751c3fe-9227-4b7f-8287-1fc83c9ed5ad div.sk-toggleable {background-color: white;}#sk-0751c3fe-9227-4b7f-8287-1fc83c9ed5ad label.sk-toggleable__label {cursor: pointer;display: block;width: 100%;margin-bottom: 0;padding: 0.3em;box-sizing: border-box;text-align: center;}#sk-0751c3fe-9227-4b7f-8287-1fc83c9ed5ad label.sk-toggleable__label-arrow:before {content: \"▸\";float: left;margin-right: 0.25em;color: #696969;}#sk-0751c3fe-9227-4b7f-8287-1fc83c9ed5ad label.sk-toggleable__label-arrow:hover:before {color: black;}#sk-0751c3fe-9227-4b7f-8287-1fc83c9ed5ad div.sk-estimator:hover label.sk-toggleable__label-arrow:before {color: black;}#sk-0751c3fe-9227-4b7f-8287-1fc83c9ed5ad div.sk-toggleable__content {max-height: 0;max-width: 0;overflow: hidden;text-align: left;background-color: #f0f8ff;}#sk-0751c3fe-9227-4b7f-8287-1fc83c9ed5ad div.sk-toggleable__content pre {margin: 0.2em;color: black;border-radius: 0.25em;background-color: #f0f8ff;}#sk-0751c3fe-9227-4b7f-8287-1fc83c9ed5ad input.sk-toggleable__control:checked~div.sk-toggleable__content {max-height: 200px;max-width: 100%;overflow: auto;}#sk-0751c3fe-9227-4b7f-8287-1fc83c9ed5ad input.sk-toggleable__control:checked~label.sk-toggleable__label-arrow:before {content: \"▾\";}#sk-0751c3fe-9227-4b7f-8287-1fc83c9ed5ad div.sk-estimator input.sk-toggleable__control:checked~label.sk-toggleable__label {background-color: #d4ebff;}#sk-0751c3fe-9227-4b7f-8287-1fc83c9ed5ad div.sk-label input.sk-toggleable__control:checked~label.sk-toggleable__label {background-color: #d4ebff;}#sk-0751c3fe-9227-4b7f-8287-1fc83c9ed5ad input.sk-hidden--visually {border: 0;clip: rect(1px 1px 1px 1px);clip: rect(1px, 1px, 1px, 1px);height: 1px;margin: -1px;overflow: hidden;padding: 0;position: absolute;width: 1px;}#sk-0751c3fe-9227-4b7f-8287-1fc83c9ed5ad div.sk-estimator {font-family: monospace;background-color: #f0f8ff;border: 1px dotted black;border-radius: 0.25em;box-sizing: border-box;margin-bottom: 0.5em;}#sk-0751c3fe-9227-4b7f-8287-1fc83c9ed5ad div.sk-estimator:hover {background-color: #d4ebff;}#sk-0751c3fe-9227-4b7f-8287-1fc83c9ed5ad div.sk-parallel-item::after {content: \"\";width: 100%;border-bottom: 1px solid gray;flex-grow: 1;}#sk-0751c3fe-9227-4b7f-8287-1fc83c9ed5ad div.sk-label:hover label.sk-toggleable__label {background-color: #d4ebff;}#sk-0751c3fe-9227-4b7f-8287-1fc83c9ed5ad div.sk-serial::before {content: \"\";position: absolute;border-left: 1px solid gray;box-sizing: border-box;top: 2em;bottom: 0;left: 50%;}#sk-0751c3fe-9227-4b7f-8287-1fc83c9ed5ad div.sk-serial {display: flex;flex-direction: column;align-items: center;background-color: white;padding-right: 0.2em;padding-left: 0.2em;}#sk-0751c3fe-9227-4b7f-8287-1fc83c9ed5ad div.sk-item {z-index: 1;}#sk-0751c3fe-9227-4b7f-8287-1fc83c9ed5ad div.sk-parallel {display: flex;align-items: stretch;justify-content: center;background-color: white;}#sk-0751c3fe-9227-4b7f-8287-1fc83c9ed5ad div.sk-parallel::before {content: \"\";position: absolute;border-left: 1px solid gray;box-sizing: border-box;top: 2em;bottom: 0;left: 50%;}#sk-0751c3fe-9227-4b7f-8287-1fc83c9ed5ad div.sk-parallel-item {display: flex;flex-direction: column;position: relative;background-color: white;}#sk-0751c3fe-9227-4b7f-8287-1fc83c9ed5ad div.sk-parallel-item:first-child::after {align-self: flex-end;width: 50%;}#sk-0751c3fe-9227-4b7f-8287-1fc83c9ed5ad div.sk-parallel-item:last-child::after {align-self: flex-start;width: 50%;}#sk-0751c3fe-9227-4b7f-8287-1fc83c9ed5ad div.sk-parallel-item:only-child::after {width: 0;}#sk-0751c3fe-9227-4b7f-8287-1fc83c9ed5ad div.sk-dashed-wrapped {border: 1px dashed gray;margin: 0 0.4em 0.5em 0.4em;box-sizing: border-box;padding-bottom: 0.4em;background-color: white;position: relative;}#sk-0751c3fe-9227-4b7f-8287-1fc83c9ed5ad div.sk-label label {font-family: monospace;font-weight: bold;background-color: white;display: inline-block;line-height: 1.2em;}#sk-0751c3fe-9227-4b7f-8287-1fc83c9ed5ad div.sk-label-container {position: relative;z-index: 2;text-align: center;}#sk-0751c3fe-9227-4b7f-8287-1fc83c9ed5ad div.sk-container {/* jupyter's `normalize.less` sets `[hidden] { display: none; }` but bootstrap.min.css set `[hidden] { display: none !important; }` so we also need the `!important` here to be able to override the default hidden behavior on the sphinx rendered scikit-learn.org. See: https://github.com/scikit-learn/scikit-learn/issues/21755 */display: inline-block !important;position: relative;}#sk-0751c3fe-9227-4b7f-8287-1fc83c9ed5ad div.sk-text-repr-fallback {display: none;}</style><div id=\"sk-0751c3fe-9227-4b7f-8287-1fc83c9ed5ad\" class=\"sk-top-container\"><div class=\"sk-text-repr-fallback\"><pre>Pipeline(steps=[(&#x27;parse_signal&#x27;,\n                 ParseTimeSeriesArrToFrame(array_key=&#x27;sEEG_signal&#x27;, default_fs=1200, fs_key=&#x27;fs_signal&#x27;, output_key=&#x27;signal&#x27;)),\n                (&#x27;parse_audio&#x27;,\n                 ParseTimeSeriesArrToFrame(array_key=&#x27;audio&#x27;, default_fs=48000, fs_key=&#x27;fs_audio&#x27;, reshape=-1)),\n                (&#x27;parse_stim&#x27;,\n                 ParseTimeSeriesArrToFrame(array_key=&#x27;stimcode&#x27;, default_fs=1200, fs_key=&#x27;fs_signal&#x27;, output_k...\n                 PowerThreshold(silence_quantile_threshold=0.05, silence_window_samples=72000, speaking_quantile_threshold=0.85, speaking_window_samples=3000, stim_key=&#x27;speaking_region_stim_mask&#x27;)),\n                (&#x27;speaking_indices&#x27;,\n                 WindowSampleIndicesFromIndex(index_shift=Timedelta(&#x27;-1 days +23:59:59.750000&#x27;), sample_n=10000, stim_key=&#x27;stim_pwrt&#x27;, stim_value_remap=1)),\n                (&#x27;silence_indices&#x27;,\n                 WindowSampleIndicesFromIndex(index_shift=Timedelta(&#x27;-1 days +23:59:59.750000&#x27;), sample_n=10000, stim_key=&#x27;silence_stim_pwrt_s&#x27;, stim_value_remap=0)),\n                (&#x27;output&#x27;, &#x27;passthrough&#x27;)])</pre><b>Please rerun this cell to show the HTML repr or trust the notebook.</b></div><div class=\"sk-container\" hidden><div class=\"sk-item sk-dashed-wrapped\"><div class=\"sk-label-container\"><div class=\"sk-label sk-toggleable\"><input class=\"sk-toggleable__control sk-hidden--visually\" id=\"02c18655-b53a-47c1-9ace-792eaa8ed7dd\" type=\"checkbox\" ><label for=\"02c18655-b53a-47c1-9ace-792eaa8ed7dd\" class=\"sk-toggleable__label sk-toggleable__label-arrow\">Pipeline</label><div class=\"sk-toggleable__content\"><pre>Pipeline(steps=[(&#x27;parse_signal&#x27;,\n                 ParseTimeSeriesArrToFrame(array_key=&#x27;sEEG_signal&#x27;, default_fs=1200, fs_key=&#x27;fs_signal&#x27;, output_key=&#x27;signal&#x27;)),\n                (&#x27;parse_audio&#x27;,\n                 ParseTimeSeriesArrToFrame(array_key=&#x27;audio&#x27;, default_fs=48000, fs_key=&#x27;fs_audio&#x27;, reshape=-1)),\n                (&#x27;parse_stim&#x27;,\n                 ParseTimeSeriesArrToFrame(array_key=&#x27;stimcode&#x27;, default_fs=1200, fs_key=&#x27;fs_signal&#x27;, output_k...\n                 PowerThreshold(silence_quantile_threshold=0.05, silence_window_samples=72000, speaking_quantile_threshold=0.85, speaking_window_samples=3000, stim_key=&#x27;speaking_region_stim_mask&#x27;)),\n                (&#x27;speaking_indices&#x27;,\n                 WindowSampleIndicesFromIndex(index_shift=Timedelta(&#x27;-1 days +23:59:59.750000&#x27;), sample_n=10000, stim_key=&#x27;stim_pwrt&#x27;, stim_value_remap=1)),\n                (&#x27;silence_indices&#x27;,\n                 WindowSampleIndicesFromIndex(index_shift=Timedelta(&#x27;-1 days +23:59:59.750000&#x27;), sample_n=10000, stim_key=&#x27;silence_stim_pwrt_s&#x27;, stim_value_remap=0)),\n                (&#x27;output&#x27;, &#x27;passthrough&#x27;)])</pre></div></div></div><div class=\"sk-serial\"><div class=\"sk-item\"><div class=\"sk-estimator sk-toggleable\"><input class=\"sk-toggleable__control sk-hidden--visually\" id=\"ef2db722-1329-4633-8638-365f6f6af26a\" type=\"checkbox\" ><label for=\"ef2db722-1329-4633-8638-365f6f6af26a\" class=\"sk-toggleable__label sk-toggleable__label-arrow\">ParseTimeSeriesArrToFrame</label><div class=\"sk-toggleable__content\"><pre>ParseTimeSeriesArrToFrame(array_key=&#x27;sEEG_signal&#x27;, fs_key=&#x27;fs_signal&#x27;, default_fs=1200, dtype=None, reshape=None, output_key=&#x27;signal&#x27;)</pre></div></div></div><div class=\"sk-item\"><div class=\"sk-estimator sk-toggleable\"><input class=\"sk-toggleable__control sk-hidden--visually\" id=\"f42c8738-b4d0-47c2-8a12-3166f7e9c72e\" type=\"checkbox\" ><label for=\"f42c8738-b4d0-47c2-8a12-3166f7e9c72e\" class=\"sk-toggleable__label sk-toggleable__label-arrow\">ParseTimeSeriesArrToFrame</label><div class=\"sk-toggleable__content\"><pre>ParseTimeSeriesArrToFrame(array_key=&#x27;audio&#x27;, fs_key=&#x27;fs_audio&#x27;, default_fs=48000, dtype=None, reshape=-1, output_key=None)</pre></div></div></div><div class=\"sk-item\"><div class=\"sk-estimator sk-toggleable\"><input class=\"sk-toggleable__control sk-hidden--visually\" id=\"2d3fbadc-c0cc-4938-9000-a3f5de00ad45\" type=\"checkbox\" ><label for=\"2d3fbadc-c0cc-4938-9000-a3f5de00ad45\" class=\"sk-toggleable__label sk-toggleable__label-arrow\">ParseTimeSeriesArrToFrame</label><div class=\"sk-toggleable__content\"><pre>ParseTimeSeriesArrToFrame(array_key=&#x27;stimcode&#x27;, fs_key=&#x27;fs_signal&#x27;, default_fs=1200, dtype=None, reshape=-1, output_key=&#x27;stim&#x27;)</pre></div></div></div><div class=\"sk-item\"><div class=\"sk-estimator sk-toggleable\"><input class=\"sk-toggleable__control sk-hidden--visually\" id=\"4b09dce4-cd11-43f8-9f5c-290ba1497ab9\" type=\"checkbox\" ><label for=\"4b09dce4-cd11-43f8-9f5c-290ba1497ab9\" class=\"sk-toggleable__label sk-toggleable__label-arrow\">ParseSensorRAS</label><div class=\"sk-toggleable__content\"><pre>ParseSensorRAS(ras_key=&#x27;label_contact_common&#x27;)</pre></div></div></div><div class=\"sk-item\"><div class=\"sk-estimator sk-toggleable\"><input class=\"sk-toggleable__control sk-hidden--visually\" id=\"bc1bd818-4bd9-48a7-804e-3fc1c5304fc6\" type=\"checkbox\" ><label for=\"bc1bd818-4bd9-48a7-804e-3fc1c5304fc6\" class=\"sk-toggleable__label sk-toggleable__label-arrow\">ExtractMFCC</label><div class=\"sk-toggleable__content\"><pre>ExtractMFCC(n_fft=1024, win_length=None, hop_length=512, n_mels=13, fs=None, audio_key=&#x27;audio&#x27;, audio_fs_key=&#x27;fs_audio&#x27;)</pre></div></div></div><div class=\"sk-item\"><div class=\"sk-estimator sk-toggleable\"><input class=\"sk-toggleable__control sk-hidden--visually\" id=\"7d8f3572-26be-4f6f-b85b-9db5738d8328\" type=\"checkbox\" ><label for=\"7d8f3572-26be-4f6f-b85b-9db5738d8328\" class=\"sk-toggleable__label sk-toggleable__label-arrow\">IdentifyGoodAndBadSensors</label><div class=\"sk-toggleable__content\"><pre>IdentifyGoodAndBadSensors(electrode_qual_key=&#x27;electrodes&#x27;, on_missing=&#x27;ignore&#x27;, sensor_selection=None, good_electrode_ind_column=0)</pre></div></div></div><div class=\"sk-item\"><div class=\"sk-estimator sk-toggleable\"><input class=\"sk-toggleable__control sk-hidden--visually\" id=\"2031bee1-0da9-4f3e-9ca5-2f64485c3228\" type=\"checkbox\" ><label for=\"2031bee1-0da9-4f3e-9ca5-2f64485c3228\" class=\"sk-toggleable__label sk-toggleable__label-arrow\">SubsampleSignal</label><div class=\"sk-toggleable__content\"><pre>SubsampleSignal(signal_keys=(&#x27;signal&#x27;, &#x27;stim&#x27;), signal_rate_key=&#x27;fs_signal&#x27;, rate=2)</pre></div></div></div><div class=\"sk-item\"><div class=\"sk-estimator sk-toggleable\"><input class=\"sk-toggleable__control sk-hidden--visually\" id=\"0627b081-6f5f-449a-932b-ec280173700e\" type=\"checkbox\" ><label for=\"0627b081-6f5f-449a-932b-ec280173700e\" class=\"sk-toggleable__label sk-toggleable__label-arrow\">SentCodeFromStartStopWordTimes</label><div class=\"sk-toggleable__content\"><pre>SentCodeFromStartStopWordTimes(stim_speaking_value=51, stim_key=&#x27;stim&#x27;)</pre></div></div></div><div class=\"sk-item\"><div class=\"sk-estimator sk-toggleable\"><input class=\"sk-toggleable__control sk-hidden--visually\" id=\"c10881d4-972b-4772-ab52-646f89c747b9\" type=\"checkbox\" ><label for=\"c10881d4-972b-4772-ab52-646f89c747b9\" class=\"sk-toggleable__label sk-toggleable__label-arrow\">AppendExtraMultiTaskStartStop</label><div class=\"sk-toggleable__content\"><pre>AppendExtraMultiTaskStartStop()</pre></div></div></div><div class=\"sk-item\"><div class=\"sk-estimator sk-toggleable\"><input class=\"sk-toggleable__control sk-hidden--visually\" id=\"e8655c99-1246-4de0-84ff-875b43cb1d0d\" type=\"checkbox\" ><label for=\"e8655c99-1246-4de0-84ff-875b43cb1d0d\" class=\"sk-toggleable__label sk-toggleable__label-arrow\">NewStimFromRegionStartStopTimes</label><div class=\"sk-toggleable__content\"><pre>NewStimFromRegionStartStopTimes(start_t_column=&#x27;start_t&#x27;, stop_t_column=&#x27;stop_t&#x27;, label_column=&#x27;word&#x27;, code_column=None, group_code_column=&#x27;stim_sentcode&#x27;, stim_output_name=&#x27;speaking_word_stim&#x27;, start_stop_time_input_name=&#x27;word_start_stop_times&#x27;, series_with_timestamp_index=&#x27;stim&#x27;, default_stim_value=0)</pre></div></div></div><div class=\"sk-item\"><div class=\"sk-estimator sk-toggleable\"><input class=\"sk-toggleable__control sk-hidden--visually\" id=\"523b14e2-a3f7-4723-b2e0-3f0fb6688256\" type=\"checkbox\" ><label for=\"523b14e2-a3f7-4723-b2e0-3f0fb6688256\" class=\"sk-toggleable__label sk-toggleable__label-arrow\">NewStimFromRegionStartStopTimes</label><div class=\"sk-toggleable__content\"><pre>NewStimFromRegionStartStopTimes(start_t_column=&#x27;listening_word_start_t&#x27;, stop_t_column=&#x27;listening_word_stop_t&#x27;, label_column=&#x27;word&#x27;, code_column=None, group_code_column=&#x27;stim_sentcode&#x27;, stim_output_name=&#x27;listening_word_stim&#x27;, start_stop_time_input_name=&#x27;word_start_stop_times&#x27;, series_with_timestamp_index=&#x27;stim&#x27;, default_stim_value=0)</pre></div></div></div><div class=\"sk-item\"><div class=\"sk-estimator sk-toggleable\"><input class=\"sk-toggleable__control sk-hidden--visually\" id=\"f1aff036-332a-4654-b94f-24dd4ca5a073\" type=\"checkbox\" ><label for=\"f1aff036-332a-4654-b94f-24dd4ca5a073\" class=\"sk-toggleable__label sk-toggleable__label-arrow\">NewStimFromRegionStartStopTimes</label><div class=\"sk-toggleable__content\"><pre>NewStimFromRegionStartStopTimes(start_t_column=&#x27;mouthing_word_start_t&#x27;, stop_t_column=&#x27;mouthing_word_stop_t&#x27;, label_column=&#x27;word&#x27;, code_column=None, group_code_column=&#x27;stim_sentcode&#x27;, stim_output_name=&#x27;mouthing_word_stim&#x27;, start_stop_time_input_name=&#x27;word_start_stop_times&#x27;, series_with_timestamp_index=&#x27;stim&#x27;, default_stim_value=0)</pre></div></div></div><div class=\"sk-item\"><div class=\"sk-estimator sk-toggleable\"><input class=\"sk-toggleable__control sk-hidden--visually\" id=\"7ac74e0a-c737-49c3-be57-a6a3c9d3d894\" type=\"checkbox\" ><label for=\"7ac74e0a-c737-49c3-be57-a6a3c9d3d894\" class=\"sk-toggleable__label sk-toggleable__label-arrow\">NewStimFromRegionStartStopTimes</label><div class=\"sk-toggleable__content\"><pre>NewStimFromRegionStartStopTimes(start_t_column=&#x27;imagining_word_start_t&#x27;, stop_t_column=&#x27;imagining_word_stop_t&#x27;, label_column=&#x27;word&#x27;, code_column=None, group_code_column=&#x27;stim_sentcode&#x27;, stim_output_name=&#x27;imagining_word_stim&#x27;, start_stop_time_input_name=&#x27;word_start_stop_times&#x27;, series_with_timestamp_index=&#x27;stim&#x27;, default_stim_value=0)</pre></div></div></div><div class=\"sk-item\"><div class=\"sk-estimator sk-toggleable\"><input class=\"sk-toggleable__control sk-hidden--visually\" id=\"b36d0bbe-1a2e-47f1-9e0a-c770cecb78f2\" type=\"checkbox\" ><label for=\"b36d0bbe-1a2e-47f1-9e0a-c770cecb78f2\" class=\"sk-toggleable__label sk-toggleable__label-arrow\">NewStimFromRegionStartStopTimes</label><div class=\"sk-toggleable__content\"><pre>NewStimFromRegionStartStopTimes(start_t_column=&#x27;speaking_region_start_t&#x27;, stop_t_column=&#x27;speaking_region_stop_t&#x27;, label_column=&#x27;word&#x27;, code_column=None, group_code_column=&#x27;stim_sentcode&#x27;, stim_output_name=&#x27;speaking_region_stim&#x27;, start_stop_time_input_name=&#x27;word_start_stop_times&#x27;, series_with_timestamp_index=&#x27;stim&#x27;, default_stim_value=0)</pre></div></div></div><div class=\"sk-item\"><div class=\"sk-estimator sk-toggleable\"><input class=\"sk-toggleable__control sk-hidden--visually\" id=\"96c5ee9c-72e9-4ce6-875f-eae37700f9ba\" type=\"checkbox\" ><label for=\"96c5ee9c-72e9-4ce6-875f-eae37700f9ba\" class=\"sk-toggleable__label sk-toggleable__label-arrow\">NewStimFromRegionStartStopTimes</label><div class=\"sk-toggleable__content\"><pre>NewStimFromRegionStartStopTimes(start_t_column=&#x27;listening_region_start_t&#x27;, stop_t_column=&#x27;listening_region_stop_t&#x27;, label_column=&#x27;word&#x27;, code_column=None, group_code_column=&#x27;stim_sentcode&#x27;, stim_output_name=&#x27;listening_region_stim&#x27;, start_stop_time_input_name=&#x27;word_start_stop_times&#x27;, series_with_timestamp_index=&#x27;stim&#x27;, default_stim_value=0)</pre></div></div></div><div class=\"sk-item\"><div class=\"sk-estimator sk-toggleable\"><input class=\"sk-toggleable__control sk-hidden--visually\" id=\"dd4aea4d-bf00-4307-8e88-46297766bafa\" type=\"checkbox\" ><label for=\"dd4aea4d-bf00-4307-8e88-46297766bafa\" class=\"sk-toggleable__label sk-toggleable__label-arrow\">NewStimFromRegionStartStopTimes</label><div class=\"sk-toggleable__content\"><pre>NewStimFromRegionStartStopTimes(start_t_column=&#x27;mouthing_region_start_t&#x27;, stop_t_column=&#x27;mouthing_region_stop_t&#x27;, label_column=&#x27;word&#x27;, code_column=None, group_code_column=&#x27;stim_sentcode&#x27;, stim_output_name=&#x27;mouthing_region_stim&#x27;, start_stop_time_input_name=&#x27;word_start_stop_times&#x27;, series_with_timestamp_index=&#x27;stim&#x27;, default_stim_value=0)</pre></div></div></div><div class=\"sk-item\"><div class=\"sk-estimator sk-toggleable\"><input class=\"sk-toggleable__control sk-hidden--visually\" id=\"f20ddd4e-dc7f-4f0c-a6fa-2d61bb598d71\" type=\"checkbox\" ><label for=\"f20ddd4e-dc7f-4f0c-a6fa-2d61bb598d71\" class=\"sk-toggleable__label sk-toggleable__label-arrow\">NewStimFromRegionStartStopTimes</label><div class=\"sk-toggleable__content\"><pre>NewStimFromRegionStartStopTimes(start_t_column=&#x27;imagining_region_start_t&#x27;, stop_t_column=&#x27;imagining_region_stop_t&#x27;, label_column=&#x27;word&#x27;, code_column=None, group_code_column=&#x27;stim_sentcode&#x27;, stim_output_name=&#x27;imagining_region_stim&#x27;, start_stop_time_input_name=&#x27;word_start_stop_times&#x27;, series_with_timestamp_index=&#x27;stim&#x27;, default_stim_value=0)</pre></div></div></div><div class=\"sk-item\"><div class=\"sk-estimator sk-toggleable\"><input class=\"sk-toggleable__control sk-hidden--visually\" id=\"cfc58467-4c0e-4b29-a97d-4b977bf3cce1\" type=\"checkbox\" ><label for=\"cfc58467-4c0e-4b29-a97d-4b977bf3cce1\" class=\"sk-toggleable__label sk-toggleable__label-arrow\">PowerThreshold</label><div class=\"sk-toggleable__content\"><pre>PowerThreshold(stim_key=&#x27;speaking_region_stim_mask&#x27;, audio_key=&#x27;audio&#x27;, speaking_threshold=0.005, silence_threshold=0.002, speaking_window_samples=3000, silence_window_samples=72000, stim_silence_value=0, silence_quantile_threshold=0.05, silence_n_smallest=None, n_silence_windows=35000, speaking_quantile_threshold=0.85)</pre></div></div></div><div class=\"sk-item\"><div class=\"sk-estimator sk-toggleable\"><input class=\"sk-toggleable__control sk-hidden--visually\" id=\"69a69409-4bf6-4bcf-b6b2-d3aa99497221\" type=\"checkbox\" ><label for=\"69a69409-4bf6-4bcf-b6b2-d3aa99497221\" class=\"sk-toggleable__label sk-toggleable__label-arrow\">WindowSampleIndicesFromIndex</label><div class=\"sk-toggleable__content\"><pre>WindowSampleIndicesFromIndex(stim_key=&#x27;stim_pwrt&#x27;, fs_key=&#x27;fs_signal&#x27;, index_shift=Timedelta(&#x27;-1 days +23:59:59.750000&#x27;), stim_target_value=1, method=&#x27;target_equality&#x27;, window_size=Timedelta(&#x27;0 days 00:00:00.500000&#x27;), sample_n=10000, stim_value_remap=1, stim_pre_process_f=None)</pre></div></div></div><div class=\"sk-item\"><div class=\"sk-estimator sk-toggleable\"><input class=\"sk-toggleable__control sk-hidden--visually\" id=\"74737e60-a40a-45c3-8784-3b0a00bd7d3a\" type=\"checkbox\" ><label for=\"74737e60-a40a-45c3-8784-3b0a00bd7d3a\" class=\"sk-toggleable__label sk-toggleable__label-arrow\">WindowSampleIndicesFromIndex</label><div class=\"sk-toggleable__content\"><pre>WindowSampleIndicesFromIndex(stim_key=&#x27;silence_stim_pwrt_s&#x27;, fs_key=&#x27;fs_signal&#x27;, index_shift=Timedelta(&#x27;-1 days +23:59:59.750000&#x27;), stim_target_value=1, method=&#x27;target_equality&#x27;, window_size=Timedelta(&#x27;0 days 00:00:00.500000&#x27;), sample_n=10000, stim_value_remap=0, stim_pre_process_f=None)</pre></div></div></div><div class=\"sk-item\"><div class=\"sk-estimator sk-toggleable\"><input class=\"sk-toggleable__control sk-hidden--visually\" id=\"adf034e7-d5ee-49f4-b27e-f46fbb74fd1b\" type=\"checkbox\" ><label for=\"adf034e7-d5ee-49f4-b27e-f46fbb74fd1b\" class=\"sk-toggleable__label sk-toggleable__label-arrow\">passthrough</label><div class=\"sk-toggleable__content\"><pre>passthrough</pre></div></div></div></div></div></div></div>"
     },
     "execution_count": 27,
     "metadata": {},
     "output_type": "execute_result"
    }
   ],
   "source": [
    "hvs_cv.pipeline_map['default']"
   ]
  },
  {
   "cell_type": "code",
   "execution_count": 28,
   "id": "4e8ed5f6-be26-4c00-acd6-6c2a9b00ac5a",
   "metadata": {
    "pycharm": {
     "name": "#%%\n"
    }
   },
   "outputs": [
    {
     "data": {
      "text/plain": "Pipeline(steps=[('parse_signal',\n                 ParseTimeSeriesArrToFrame(array_key='sEEG_signal', default_fs=1200, fs_key='fs_signal', output_key='signal')),\n                ('parse_audio',\n                 ParseTimeSeriesArrToFrame(array_key='audio', default_fs=48000, fs_key='fs_audio', reshape=-1)),\n                ('parse_stim',\n                 ParseTimeSeriesArrToFrame(array_key='stimcode', default_fs=1200, fs_key='fs_signal', output_k...\n                 PowerThreshold(silence_quantile_threshold=0.05, silence_window_samples=72000, speaking_quantile_threshold=0.85, speaking_window_samples=3000, stim_key='speaking_region_stim_mask')),\n                ('speaking_indices',\n                 WindowSampleIndicesFromIndex(index_shift=Timedelta('-1 days +23:59:59.750000'), sample_n=10000, stim_key='stim_pwrt', stim_value_remap=1)),\n                ('output', 'passthrough')])",
      "text/html": "<style>#sk-1915507f-2436-4041-8ac9-6080d75a7f4b {color: black;background-color: white;}#sk-1915507f-2436-4041-8ac9-6080d75a7f4b pre{padding: 0;}#sk-1915507f-2436-4041-8ac9-6080d75a7f4b div.sk-toggleable {background-color: white;}#sk-1915507f-2436-4041-8ac9-6080d75a7f4b label.sk-toggleable__label {cursor: pointer;display: block;width: 100%;margin-bottom: 0;padding: 0.3em;box-sizing: border-box;text-align: center;}#sk-1915507f-2436-4041-8ac9-6080d75a7f4b label.sk-toggleable__label-arrow:before {content: \"▸\";float: left;margin-right: 0.25em;color: #696969;}#sk-1915507f-2436-4041-8ac9-6080d75a7f4b label.sk-toggleable__label-arrow:hover:before {color: black;}#sk-1915507f-2436-4041-8ac9-6080d75a7f4b div.sk-estimator:hover label.sk-toggleable__label-arrow:before {color: black;}#sk-1915507f-2436-4041-8ac9-6080d75a7f4b div.sk-toggleable__content {max-height: 0;max-width: 0;overflow: hidden;text-align: left;background-color: #f0f8ff;}#sk-1915507f-2436-4041-8ac9-6080d75a7f4b div.sk-toggleable__content pre {margin: 0.2em;color: black;border-radius: 0.25em;background-color: #f0f8ff;}#sk-1915507f-2436-4041-8ac9-6080d75a7f4b input.sk-toggleable__control:checked~div.sk-toggleable__content {max-height: 200px;max-width: 100%;overflow: auto;}#sk-1915507f-2436-4041-8ac9-6080d75a7f4b input.sk-toggleable__control:checked~label.sk-toggleable__label-arrow:before {content: \"▾\";}#sk-1915507f-2436-4041-8ac9-6080d75a7f4b div.sk-estimator input.sk-toggleable__control:checked~label.sk-toggleable__label {background-color: #d4ebff;}#sk-1915507f-2436-4041-8ac9-6080d75a7f4b div.sk-label input.sk-toggleable__control:checked~label.sk-toggleable__label {background-color: #d4ebff;}#sk-1915507f-2436-4041-8ac9-6080d75a7f4b input.sk-hidden--visually {border: 0;clip: rect(1px 1px 1px 1px);clip: rect(1px, 1px, 1px, 1px);height: 1px;margin: -1px;overflow: hidden;padding: 0;position: absolute;width: 1px;}#sk-1915507f-2436-4041-8ac9-6080d75a7f4b div.sk-estimator {font-family: monospace;background-color: #f0f8ff;border: 1px dotted black;border-radius: 0.25em;box-sizing: border-box;margin-bottom: 0.5em;}#sk-1915507f-2436-4041-8ac9-6080d75a7f4b div.sk-estimator:hover {background-color: #d4ebff;}#sk-1915507f-2436-4041-8ac9-6080d75a7f4b div.sk-parallel-item::after {content: \"\";width: 100%;border-bottom: 1px solid gray;flex-grow: 1;}#sk-1915507f-2436-4041-8ac9-6080d75a7f4b div.sk-label:hover label.sk-toggleable__label {background-color: #d4ebff;}#sk-1915507f-2436-4041-8ac9-6080d75a7f4b div.sk-serial::before {content: \"\";position: absolute;border-left: 1px solid gray;box-sizing: border-box;top: 2em;bottom: 0;left: 50%;}#sk-1915507f-2436-4041-8ac9-6080d75a7f4b div.sk-serial {display: flex;flex-direction: column;align-items: center;background-color: white;padding-right: 0.2em;padding-left: 0.2em;}#sk-1915507f-2436-4041-8ac9-6080d75a7f4b div.sk-item {z-index: 1;}#sk-1915507f-2436-4041-8ac9-6080d75a7f4b div.sk-parallel {display: flex;align-items: stretch;justify-content: center;background-color: white;}#sk-1915507f-2436-4041-8ac9-6080d75a7f4b div.sk-parallel::before {content: \"\";position: absolute;border-left: 1px solid gray;box-sizing: border-box;top: 2em;bottom: 0;left: 50%;}#sk-1915507f-2436-4041-8ac9-6080d75a7f4b div.sk-parallel-item {display: flex;flex-direction: column;position: relative;background-color: white;}#sk-1915507f-2436-4041-8ac9-6080d75a7f4b div.sk-parallel-item:first-child::after {align-self: flex-end;width: 50%;}#sk-1915507f-2436-4041-8ac9-6080d75a7f4b div.sk-parallel-item:last-child::after {align-self: flex-start;width: 50%;}#sk-1915507f-2436-4041-8ac9-6080d75a7f4b div.sk-parallel-item:only-child::after {width: 0;}#sk-1915507f-2436-4041-8ac9-6080d75a7f4b div.sk-dashed-wrapped {border: 1px dashed gray;margin: 0 0.4em 0.5em 0.4em;box-sizing: border-box;padding-bottom: 0.4em;background-color: white;position: relative;}#sk-1915507f-2436-4041-8ac9-6080d75a7f4b div.sk-label label {font-family: monospace;font-weight: bold;background-color: white;display: inline-block;line-height: 1.2em;}#sk-1915507f-2436-4041-8ac9-6080d75a7f4b div.sk-label-container {position: relative;z-index: 2;text-align: center;}#sk-1915507f-2436-4041-8ac9-6080d75a7f4b div.sk-container {/* jupyter's `normalize.less` sets `[hidden] { display: none; }` but bootstrap.min.css set `[hidden] { display: none !important; }` so we also need the `!important` here to be able to override the default hidden behavior on the sphinx rendered scikit-learn.org. See: https://github.com/scikit-learn/scikit-learn/issues/21755 */display: inline-block !important;position: relative;}#sk-1915507f-2436-4041-8ac9-6080d75a7f4b div.sk-text-repr-fallback {display: none;}</style><div id=\"sk-1915507f-2436-4041-8ac9-6080d75a7f4b\" class=\"sk-top-container\"><div class=\"sk-text-repr-fallback\"><pre>Pipeline(steps=[(&#x27;parse_signal&#x27;,\n                 ParseTimeSeriesArrToFrame(array_key=&#x27;sEEG_signal&#x27;, default_fs=1200, fs_key=&#x27;fs_signal&#x27;, output_key=&#x27;signal&#x27;)),\n                (&#x27;parse_audio&#x27;,\n                 ParseTimeSeriesArrToFrame(array_key=&#x27;audio&#x27;, default_fs=48000, fs_key=&#x27;fs_audio&#x27;, reshape=-1)),\n                (&#x27;parse_stim&#x27;,\n                 ParseTimeSeriesArrToFrame(array_key=&#x27;stimcode&#x27;, default_fs=1200, fs_key=&#x27;fs_signal&#x27;, output_k...\n                 PowerThreshold(silence_quantile_threshold=0.05, silence_window_samples=72000, speaking_quantile_threshold=0.85, speaking_window_samples=3000, stim_key=&#x27;speaking_region_stim_mask&#x27;)),\n                (&#x27;speaking_indices&#x27;,\n                 WindowSampleIndicesFromIndex(index_shift=Timedelta(&#x27;-1 days +23:59:59.750000&#x27;), sample_n=10000, stim_key=&#x27;stim_pwrt&#x27;, stim_value_remap=1)),\n                (&#x27;output&#x27;, &#x27;passthrough&#x27;)])</pre><b>Please rerun this cell to show the HTML repr or trust the notebook.</b></div><div class=\"sk-container\" hidden><div class=\"sk-item sk-dashed-wrapped\"><div class=\"sk-label-container\"><div class=\"sk-label sk-toggleable\"><input class=\"sk-toggleable__control sk-hidden--visually\" id=\"ab0e4991-f002-4129-9bc1-728bf603a934\" type=\"checkbox\" ><label for=\"ab0e4991-f002-4129-9bc1-728bf603a934\" class=\"sk-toggleable__label sk-toggleable__label-arrow\">Pipeline</label><div class=\"sk-toggleable__content\"><pre>Pipeline(steps=[(&#x27;parse_signal&#x27;,\n                 ParseTimeSeriesArrToFrame(array_key=&#x27;sEEG_signal&#x27;, default_fs=1200, fs_key=&#x27;fs_signal&#x27;, output_key=&#x27;signal&#x27;)),\n                (&#x27;parse_audio&#x27;,\n                 ParseTimeSeriesArrToFrame(array_key=&#x27;audio&#x27;, default_fs=48000, fs_key=&#x27;fs_audio&#x27;, reshape=-1)),\n                (&#x27;parse_stim&#x27;,\n                 ParseTimeSeriesArrToFrame(array_key=&#x27;stimcode&#x27;, default_fs=1200, fs_key=&#x27;fs_signal&#x27;, output_k...\n                 PowerThreshold(silence_quantile_threshold=0.05, silence_window_samples=72000, speaking_quantile_threshold=0.85, speaking_window_samples=3000, stim_key=&#x27;speaking_region_stim_mask&#x27;)),\n                (&#x27;speaking_indices&#x27;,\n                 WindowSampleIndicesFromIndex(index_shift=Timedelta(&#x27;-1 days +23:59:59.750000&#x27;), sample_n=10000, stim_key=&#x27;stim_pwrt&#x27;, stim_value_remap=1)),\n                (&#x27;output&#x27;, &#x27;passthrough&#x27;)])</pre></div></div></div><div class=\"sk-serial\"><div class=\"sk-item\"><div class=\"sk-estimator sk-toggleable\"><input class=\"sk-toggleable__control sk-hidden--visually\" id=\"7417ed73-de64-4934-93ed-429df401c0b1\" type=\"checkbox\" ><label for=\"7417ed73-de64-4934-93ed-429df401c0b1\" class=\"sk-toggleable__label sk-toggleable__label-arrow\">ParseTimeSeriesArrToFrame</label><div class=\"sk-toggleable__content\"><pre>ParseTimeSeriesArrToFrame(array_key=&#x27;sEEG_signal&#x27;, fs_key=&#x27;fs_signal&#x27;, default_fs=1200, dtype=None, reshape=None, output_key=&#x27;signal&#x27;)</pre></div></div></div><div class=\"sk-item\"><div class=\"sk-estimator sk-toggleable\"><input class=\"sk-toggleable__control sk-hidden--visually\" id=\"f8baec4d-40f1-4b43-adaa-09125b5afbaf\" type=\"checkbox\" ><label for=\"f8baec4d-40f1-4b43-adaa-09125b5afbaf\" class=\"sk-toggleable__label sk-toggleable__label-arrow\">ParseTimeSeriesArrToFrame</label><div class=\"sk-toggleable__content\"><pre>ParseTimeSeriesArrToFrame(array_key=&#x27;audio&#x27;, fs_key=&#x27;fs_audio&#x27;, default_fs=48000, dtype=None, reshape=-1, output_key=None)</pre></div></div></div><div class=\"sk-item\"><div class=\"sk-estimator sk-toggleable\"><input class=\"sk-toggleable__control sk-hidden--visually\" id=\"488bff45-6ff7-4a62-8b7f-d9519bc51cfc\" type=\"checkbox\" ><label for=\"488bff45-6ff7-4a62-8b7f-d9519bc51cfc\" class=\"sk-toggleable__label sk-toggleable__label-arrow\">ParseTimeSeriesArrToFrame</label><div class=\"sk-toggleable__content\"><pre>ParseTimeSeriesArrToFrame(array_key=&#x27;stimcode&#x27;, fs_key=&#x27;fs_signal&#x27;, default_fs=1200, dtype=None, reshape=-1, output_key=&#x27;stim&#x27;)</pre></div></div></div><div class=\"sk-item\"><div class=\"sk-estimator sk-toggleable\"><input class=\"sk-toggleable__control sk-hidden--visually\" id=\"3ae3f15e-969a-4897-88b2-7e2436dfa7f0\" type=\"checkbox\" ><label for=\"3ae3f15e-969a-4897-88b2-7e2436dfa7f0\" class=\"sk-toggleable__label sk-toggleable__label-arrow\">ParseSensorRAS</label><div class=\"sk-toggleable__content\"><pre>ParseSensorRAS(ras_key=&#x27;label_contact_common&#x27;)</pre></div></div></div><div class=\"sk-item\"><div class=\"sk-estimator sk-toggleable\"><input class=\"sk-toggleable__control sk-hidden--visually\" id=\"a933576c-5d0e-407f-b312-0b19480ce99c\" type=\"checkbox\" ><label for=\"a933576c-5d0e-407f-b312-0b19480ce99c\" class=\"sk-toggleable__label sk-toggleable__label-arrow\">ExtractMFCC</label><div class=\"sk-toggleable__content\"><pre>ExtractMFCC(n_fft=1024, win_length=None, hop_length=512, n_mels=13, fs=None, audio_key=&#x27;audio&#x27;, audio_fs_key=&#x27;fs_audio&#x27;)</pre></div></div></div><div class=\"sk-item\"><div class=\"sk-estimator sk-toggleable\"><input class=\"sk-toggleable__control sk-hidden--visually\" id=\"f741d6af-6ec3-40a6-b78c-008b77172dd2\" type=\"checkbox\" ><label for=\"f741d6af-6ec3-40a6-b78c-008b77172dd2\" class=\"sk-toggleable__label sk-toggleable__label-arrow\">IdentifyGoodAndBadSensors</label><div class=\"sk-toggleable__content\"><pre>IdentifyGoodAndBadSensors(electrode_qual_key=&#x27;electrodes&#x27;, on_missing=&#x27;ignore&#x27;, sensor_selection=None, good_electrode_ind_column=0)</pre></div></div></div><div class=\"sk-item\"><div class=\"sk-estimator sk-toggleable\"><input class=\"sk-toggleable__control sk-hidden--visually\" id=\"5896fcd1-68cb-46a4-8dfa-dddb33b71722\" type=\"checkbox\" ><label for=\"5896fcd1-68cb-46a4-8dfa-dddb33b71722\" class=\"sk-toggleable__label sk-toggleable__label-arrow\">SubsampleSignal</label><div class=\"sk-toggleable__content\"><pre>SubsampleSignal(signal_keys=(&#x27;signal&#x27;, &#x27;stim&#x27;), signal_rate_key=&#x27;fs_signal&#x27;, rate=2)</pre></div></div></div><div class=\"sk-item\"><div class=\"sk-estimator sk-toggleable\"><input class=\"sk-toggleable__control sk-hidden--visually\" id=\"c143e2ab-73cb-408e-9da4-11de51aae60d\" type=\"checkbox\" ><label for=\"c143e2ab-73cb-408e-9da4-11de51aae60d\" class=\"sk-toggleable__label sk-toggleable__label-arrow\">SentCodeFromStartStopWordTimes</label><div class=\"sk-toggleable__content\"><pre>SentCodeFromStartStopWordTimes(stim_speaking_value=51, stim_key=&#x27;stim&#x27;)</pre></div></div></div><div class=\"sk-item\"><div class=\"sk-estimator sk-toggleable\"><input class=\"sk-toggleable__control sk-hidden--visually\" id=\"17f6f1e7-fefb-490b-be82-4e3b509e5b3c\" type=\"checkbox\" ><label for=\"17f6f1e7-fefb-490b-be82-4e3b509e5b3c\" class=\"sk-toggleable__label sk-toggleable__label-arrow\">AppendExtraMultiTaskStartStop</label><div class=\"sk-toggleable__content\"><pre>AppendExtraMultiTaskStartStop()</pre></div></div></div><div class=\"sk-item\"><div class=\"sk-estimator sk-toggleable\"><input class=\"sk-toggleable__control sk-hidden--visually\" id=\"187742a9-5c68-448b-ac02-b31db19dafb4\" type=\"checkbox\" ><label for=\"187742a9-5c68-448b-ac02-b31db19dafb4\" class=\"sk-toggleable__label sk-toggleable__label-arrow\">NewStimFromRegionStartStopTimes</label><div class=\"sk-toggleable__content\"><pre>NewStimFromRegionStartStopTimes(start_t_column=&#x27;start_t&#x27;, stop_t_column=&#x27;stop_t&#x27;, label_column=&#x27;word&#x27;, code_column=None, group_code_column=&#x27;stim_sentcode&#x27;, stim_output_name=&#x27;speaking_word_stim&#x27;, start_stop_time_input_name=&#x27;word_start_stop_times&#x27;, series_with_timestamp_index=&#x27;stim&#x27;, default_stim_value=0)</pre></div></div></div><div class=\"sk-item\"><div class=\"sk-estimator sk-toggleable\"><input class=\"sk-toggleable__control sk-hidden--visually\" id=\"a6b254b3-8096-44a0-9373-88d077700ca2\" type=\"checkbox\" ><label for=\"a6b254b3-8096-44a0-9373-88d077700ca2\" class=\"sk-toggleable__label sk-toggleable__label-arrow\">NewStimFromRegionStartStopTimes</label><div class=\"sk-toggleable__content\"><pre>NewStimFromRegionStartStopTimes(start_t_column=&#x27;listening_word_start_t&#x27;, stop_t_column=&#x27;listening_word_stop_t&#x27;, label_column=&#x27;word&#x27;, code_column=None, group_code_column=&#x27;stim_sentcode&#x27;, stim_output_name=&#x27;listening_word_stim&#x27;, start_stop_time_input_name=&#x27;word_start_stop_times&#x27;, series_with_timestamp_index=&#x27;stim&#x27;, default_stim_value=0)</pre></div></div></div><div class=\"sk-item\"><div class=\"sk-estimator sk-toggleable\"><input class=\"sk-toggleable__control sk-hidden--visually\" id=\"91ccc78f-34c3-48ab-a8f4-213b8d7aa5c0\" type=\"checkbox\" ><label for=\"91ccc78f-34c3-48ab-a8f4-213b8d7aa5c0\" class=\"sk-toggleable__label sk-toggleable__label-arrow\">NewStimFromRegionStartStopTimes</label><div class=\"sk-toggleable__content\"><pre>NewStimFromRegionStartStopTimes(start_t_column=&#x27;mouthing_word_start_t&#x27;, stop_t_column=&#x27;mouthing_word_stop_t&#x27;, label_column=&#x27;word&#x27;, code_column=None, group_code_column=&#x27;stim_sentcode&#x27;, stim_output_name=&#x27;mouthing_word_stim&#x27;, start_stop_time_input_name=&#x27;word_start_stop_times&#x27;, series_with_timestamp_index=&#x27;stim&#x27;, default_stim_value=0)</pre></div></div></div><div class=\"sk-item\"><div class=\"sk-estimator sk-toggleable\"><input class=\"sk-toggleable__control sk-hidden--visually\" id=\"188e1a85-f5db-4d3c-8976-a0ac72af53c1\" type=\"checkbox\" ><label for=\"188e1a85-f5db-4d3c-8976-a0ac72af53c1\" class=\"sk-toggleable__label sk-toggleable__label-arrow\">NewStimFromRegionStartStopTimes</label><div class=\"sk-toggleable__content\"><pre>NewStimFromRegionStartStopTimes(start_t_column=&#x27;imagining_word_start_t&#x27;, stop_t_column=&#x27;imagining_word_stop_t&#x27;, label_column=&#x27;word&#x27;, code_column=None, group_code_column=&#x27;stim_sentcode&#x27;, stim_output_name=&#x27;imagining_word_stim&#x27;, start_stop_time_input_name=&#x27;word_start_stop_times&#x27;, series_with_timestamp_index=&#x27;stim&#x27;, default_stim_value=0)</pre></div></div></div><div class=\"sk-item\"><div class=\"sk-estimator sk-toggleable\"><input class=\"sk-toggleable__control sk-hidden--visually\" id=\"dabcb74d-f981-4103-97b8-20dcb111bd5d\" type=\"checkbox\" ><label for=\"dabcb74d-f981-4103-97b8-20dcb111bd5d\" class=\"sk-toggleable__label sk-toggleable__label-arrow\">NewStimFromRegionStartStopTimes</label><div class=\"sk-toggleable__content\"><pre>NewStimFromRegionStartStopTimes(start_t_column=&#x27;speaking_region_start_t&#x27;, stop_t_column=&#x27;speaking_region_stop_t&#x27;, label_column=&#x27;word&#x27;, code_column=None, group_code_column=&#x27;stim_sentcode&#x27;, stim_output_name=&#x27;speaking_region_stim&#x27;, start_stop_time_input_name=&#x27;word_start_stop_times&#x27;, series_with_timestamp_index=&#x27;stim&#x27;, default_stim_value=0)</pre></div></div></div><div class=\"sk-item\"><div class=\"sk-estimator sk-toggleable\"><input class=\"sk-toggleable__control sk-hidden--visually\" id=\"0fa4385d-1108-46f3-a3ba-eb5c4892ff92\" type=\"checkbox\" ><label for=\"0fa4385d-1108-46f3-a3ba-eb5c4892ff92\" class=\"sk-toggleable__label sk-toggleable__label-arrow\">NewStimFromRegionStartStopTimes</label><div class=\"sk-toggleable__content\"><pre>NewStimFromRegionStartStopTimes(start_t_column=&#x27;listening_region_start_t&#x27;, stop_t_column=&#x27;listening_region_stop_t&#x27;, label_column=&#x27;word&#x27;, code_column=None, group_code_column=&#x27;stim_sentcode&#x27;, stim_output_name=&#x27;listening_region_stim&#x27;, start_stop_time_input_name=&#x27;word_start_stop_times&#x27;, series_with_timestamp_index=&#x27;stim&#x27;, default_stim_value=0)</pre></div></div></div><div class=\"sk-item\"><div class=\"sk-estimator sk-toggleable\"><input class=\"sk-toggleable__control sk-hidden--visually\" id=\"1c14509e-24e6-4032-8b9c-b4d04b5ea553\" type=\"checkbox\" ><label for=\"1c14509e-24e6-4032-8b9c-b4d04b5ea553\" class=\"sk-toggleable__label sk-toggleable__label-arrow\">NewStimFromRegionStartStopTimes</label><div class=\"sk-toggleable__content\"><pre>NewStimFromRegionStartStopTimes(start_t_column=&#x27;mouthing_region_start_t&#x27;, stop_t_column=&#x27;mouthing_region_stop_t&#x27;, label_column=&#x27;word&#x27;, code_column=None, group_code_column=&#x27;stim_sentcode&#x27;, stim_output_name=&#x27;mouthing_region_stim&#x27;, start_stop_time_input_name=&#x27;word_start_stop_times&#x27;, series_with_timestamp_index=&#x27;stim&#x27;, default_stim_value=0)</pre></div></div></div><div class=\"sk-item\"><div class=\"sk-estimator sk-toggleable\"><input class=\"sk-toggleable__control sk-hidden--visually\" id=\"01879eeb-a4a3-418a-93cf-dbf901872f73\" type=\"checkbox\" ><label for=\"01879eeb-a4a3-418a-93cf-dbf901872f73\" class=\"sk-toggleable__label sk-toggleable__label-arrow\">NewStimFromRegionStartStopTimes</label><div class=\"sk-toggleable__content\"><pre>NewStimFromRegionStartStopTimes(start_t_column=&#x27;imagining_region_start_t&#x27;, stop_t_column=&#x27;imagining_region_stop_t&#x27;, label_column=&#x27;word&#x27;, code_column=None, group_code_column=&#x27;stim_sentcode&#x27;, stim_output_name=&#x27;imagining_region_stim&#x27;, start_stop_time_input_name=&#x27;word_start_stop_times&#x27;, series_with_timestamp_index=&#x27;stim&#x27;, default_stim_value=0)</pre></div></div></div><div class=\"sk-item\"><div class=\"sk-estimator sk-toggleable\"><input class=\"sk-toggleable__control sk-hidden--visually\" id=\"cd0ca38f-ebcc-4875-9c28-c60dd0ad6dd5\" type=\"checkbox\" ><label for=\"cd0ca38f-ebcc-4875-9c28-c60dd0ad6dd5\" class=\"sk-toggleable__label sk-toggleable__label-arrow\">PowerThreshold</label><div class=\"sk-toggleable__content\"><pre>PowerThreshold(stim_key=&#x27;speaking_region_stim_mask&#x27;, audio_key=&#x27;audio&#x27;, speaking_threshold=0.005, silence_threshold=0.002, speaking_window_samples=3000, silence_window_samples=72000, stim_silence_value=0, silence_quantile_threshold=0.05, silence_n_smallest=None, n_silence_windows=35000, speaking_quantile_threshold=0.85)</pre></div></div></div><div class=\"sk-item\"><div class=\"sk-estimator sk-toggleable\"><input class=\"sk-toggleable__control sk-hidden--visually\" id=\"cf43ff2f-b084-4b52-b9b3-2a1ae09b7a00\" type=\"checkbox\" ><label for=\"cf43ff2f-b084-4b52-b9b3-2a1ae09b7a00\" class=\"sk-toggleable__label sk-toggleable__label-arrow\">WindowSampleIndicesFromIndex</label><div class=\"sk-toggleable__content\"><pre>WindowSampleIndicesFromIndex(stim_key=&#x27;stim_pwrt&#x27;, fs_key=&#x27;fs_signal&#x27;, index_shift=Timedelta(&#x27;-1 days +23:59:59.750000&#x27;), stim_target_value=1, method=&#x27;target_equality&#x27;, window_size=Timedelta(&#x27;0 days 00:00:00.500000&#x27;), sample_n=10000, stim_value_remap=1, stim_pre_process_f=None)</pre></div></div></div><div class=\"sk-item\"><div class=\"sk-estimator sk-toggleable\"><input class=\"sk-toggleable__control sk-hidden--visually\" id=\"3e2c85be-15b6-483e-a85c-8f15ca13d66b\" type=\"checkbox\" ><label for=\"3e2c85be-15b6-483e-a85c-8f15ca13d66b\" class=\"sk-toggleable__label sk-toggleable__label-arrow\">passthrough</label><div class=\"sk-toggleable__content\"><pre>passthrough</pre></div></div></div></div></div></div></div>"
     },
     "execution_count": 28,
     "metadata": {},
     "output_type": "execute_result"
    }
   ],
   "source": [
    "hvs_cv.pipeline_map['audio_gate_speaking_only']"
   ]
  },
  {
   "cell_type": "code",
   "execution_count": 29,
   "id": "8deb8a03-ee6c-42f1-b168-f80513c1e5c6",
   "metadata": {
    "pycharm": {
     "name": "#%%\n"
    }
   },
   "outputs": [
    {
     "data": {
      "text/plain": "'sensor_ras_coord_arr'"
     },
     "execution_count": 29,
     "metadata": {},
     "output_type": "execute_result"
    }
   ],
   "source": [
    "hvs_cv.extra_output_keys"
   ]
  },
  {
   "cell_type": "code",
   "execution_count": 30,
   "id": "098e5d26-a288-4961-997b-c848f942a5c4",
   "metadata": {
    "pycharm": {
     "name": "#%%\n"
    }
   },
   "outputs": [
    {
     "data": {
      "text/plain": "dict_keys(['signal_arr', 'sensor_ras_coord_arr', 'target_arr'])"
     },
     "execution_count": 30,
     "metadata": {},
     "output_type": "execute_result"
    }
   ],
   "source": [
    "hvs_cv[0].keys()"
   ]
  },
  {
   "cell_type": "code",
   "execution_count": 31,
   "id": "c1961591-72b7-421a-a43f-16614617d99e",
   "metadata": {
    "pycharm": {
     "name": "#%%\n"
    }
   },
   "outputs": [],
   "source": [
    "cv_dl = hvs_cv.to_dataloader(num_workers=4, batch_size=128)\n",
    "\n",
    "cv_batch_d = next(iter(dl))"
   ]
  },
  {
   "cell_type": "code",
   "execution_count": 32,
   "id": "166ca548-1bc6-443e-b18d-13c17f42f96e",
   "metadata": {
    "pycharm": {
     "name": "#%%\n"
    }
   },
   "outputs": [
    {
     "data": {
      "text/plain": "dict_keys(['signal_arr', 'sensor_ras_coord_arr', 'target_arr'])"
     },
     "execution_count": 32,
     "metadata": {},
     "output_type": "execute_result"
    }
   ],
   "source": [
    "batch_d.keys()"
   ]
  },
  {
   "cell_type": "markdown",
   "id": "1a9c96fd-3720-410f-830b-7795d061cf6b",
   "metadata": {
    "pycharm": {
     "name": "#%% md\n"
    }
   },
   "source": [
    "****"
   ]
  },
  {
   "cell_type": "code",
   "execution_count": 52,
   "id": "f9977f26-b3fc-42ae-8adb-c2914d9ab633",
   "metadata": {
    "pycharm": {
     "name": "#%%\n"
    }
   },
   "outputs": [
    {
     "name": "stdout",
     "output_type": "stream",
     "text": [
      "Feature extractor output shape: torch.Size([16, 32, 6])\n"
     ]
    },
    {
     "data": {
      "text/plain": "torch.Size([16, 32, 6])"
     },
     "execution_count": 52,
     "metadata": {},
     "output_type": "execute_result"
    }
   ],
   "source": [
    "from ecog_speech.models import base_transformers\n",
    "\n",
    "cog2vec = base_transformers.CoG2Vec((1, 256), feature_model=None, context_model=None, projection_model=None, \n",
    "                                    #feature_extractor_layers='[(128, 7, 3)] + [(128, 3, 2)] * 2 + [(128, 3, 1)]',\n",
    "                                    feature_extractor_layers='[(128, 7, 2)] + [(64, 3, 2)] * 2 + [(32, 3, 2)] * 2',\n",
    "                                    negatives_from_everywhere=True, feature_grad_mult=.1,\n",
    "                                    n_negatives=50, codebook_negatives=25, cross_sample_negatives=25,\n",
    "                                    #n_negatives=50, codebook_negatives=25, cross_sample_negatives=25,\n",
    "                                    mask_length=4,\n",
    "                                    # adjust this (and perhaps quant_num_groups) to tweak t\n",
    "                                    # the complexity of underlying encoding\n",
    "                                    quant_num_vars=50, quant_num_groups=2\n",
    "                                   )\n",
    "init_mask_embed = cog2vec.mask_embedding.detach().cpu().clone()\n",
    "cog2vec.t_feat_o.shape"
   ]
  },
  {
   "cell_type": "code",
   "execution_count": 53,
   "outputs": [],
   "source": [
    "C, T = cog2vec.C, cog2vec.T"
   ],
   "metadata": {
    "collapsed": false,
    "pycharm": {
     "name": "#%%\n"
    }
   }
  },
  {
   "cell_type": "code",
   "execution_count": 163,
   "outputs": [],
   "source": [
    "viz_mask = base_transformers._compute_mask_indices((5, T), padding_mask=None, mask_prob=0.3, mask_length=2, min_masks=1)"
   ],
   "metadata": {
    "collapsed": false,
    "pycharm": {
     "name": "#%%\n"
    }
   }
  },
  {
   "cell_type": "code",
   "execution_count": 165,
   "outputs": [
    {
     "data": {
      "text/plain": "6"
     },
     "execution_count": 165,
     "metadata": {},
     "output_type": "execute_result"
    }
   ],
   "source": [
    "T"
   ],
   "metadata": {
    "collapsed": false,
    "pycharm": {
     "name": "#%%\n"
    }
   }
  },
  {
   "cell_type": "code",
   "execution_count": 164,
   "outputs": [
    {
     "data": {
      "text/plain": "Text(0.5, 0, 'Temporal Dimension')"
     },
     "execution_count": 164,
     "metadata": {},
     "output_type": "execute_result"
    },
    {
     "data": {
      "text/plain": "<Figure size 1000x400 with 1 Axes>",
      "image/png": "[encoded data removed]"
     },
     "metadata": {},
     "output_type": "display_data"
    }
   ],
   "source": [
    "import matplotlib\n",
    "from matplotlib import pyplot as plt\n",
    "fig, ax = plt.subplots( figsize=(10, 4))\n",
    "ax.imshow(viz_mask.cpu().detach().numpy())\n",
    "ax.set_yticks([])\n",
    "ax.set_xticks(range(0, 6))\n",
    "ax.grid(True, which='both')\n",
    "\n",
    "ax.set_ylabel('Samples in Batch', fontsize=15)\n",
    "ax.set_xlabel('Temporal Dimension', fontsize=15)\n",
    "#ax.ann('foo')"
   ],
   "metadata": {
    "collapsed": false,
    "pycharm": {
     "name": "#%%\n"
    }
   }
  },
  {
   "cell_type": "markdown",
   "id": "dd38d766-d2f9-4152-8a9c-359b26a7cd60",
   "metadata": {
    "pycharm": {
     "name": "#%% md\n"
    }
   },
   "source": [
    "****"
   ]
  },
  {
   "cell_type": "code",
   "execution_count": 10,
   "id": "92eb06c9-691f-478f-b8d8-e9de1636a7ba",
   "metadata": {
    "pycharm": {
     "name": "#%%\n"
    }
   },
   "outputs": [],
   "source": [
    "from ecog_speech.models import base_transformers\n",
    "\n",
    "trainer = base_transformers.Cog2VecTrainer(model_map=dict(model=cog2vec), opt_map=dict(),\n",
    "                                           train_data_gen=dl, #cv_data_gen=cv_dl, \n",
    "                                           lr_adjust_on_cv_loss=True,\n",
    "                                           lr_adjust_on_plateau_kws=dict(verbose=True, patience=5),\n",
    "                                           learning_rate=0.0001)\n",
    "# These are just static attrs - may make them ctor params\n",
    "trainer.squeeze_first=False # Need to remove the channel dim when using fairseq wave2vec2 feature extractor\n",
    "\n",
    "# Current thinking:\n",
    "#   The codebook will collapse and return all the same values unless the loss is competative and the code is\n",
    "#   not too big. So weight code book usage high\n",
    "trainer.ppl_weight = 100"
   ]
  },
  {
   "cell_type": "code",
   "execution_count": 11,
   "id": "dcaf4556-d74e-4d0e-bfb5-0413ad54a88a",
   "metadata": {
    "scrolled": true,
    "tags": [],
    "pycharm": {
     "name": "#%%\n"
    }
   },
   "outputs": [
    {
     "data": {
      "application/vnd.jupyter.widget-view+json": {
       "model_id": "c9efca96b9284dbaba0e3210f8dc2830",
       "version_major": 2,
       "version_minor": 0
      },
      "text/plain": [
       "Training epoch:   0%|          | 0/5 [00:00<?, ?it/s]"
      ]
     },
     "metadata": {},
     "output_type": "display_data"
    },
    {
     "data": {
      "application/vnd.jupyter.widget-view+json": {
       "model_id": "0ea4bf564fa54b5a81e069976556f07e",
       "version_major": 2,
       "version_minor": 0
      },
      "text/plain": [
       "-loss-:   0%|                 | 0/10 [00:00<?, ?it/s]"
      ]
     },
     "metadata": {},
     "output_type": "display_data"
    },
    {
     "data": {
      "application/vnd.jupyter.widget-view+json": {
       "model_id": "d49e74bb72264cbb945ea0cc24d3b7bb",
       "version_major": 2,
       "version_minor": 0
      },
      "text/plain": [
       "-loss-:   0%|                 | 0/10 [00:00<?, ?it/s]"
      ]
     },
     "metadata": {},
     "output_type": "display_data"
    },
    {
     "data": {
      "application/vnd.jupyter.widget-view+json": {
       "model_id": "a24eda3b940d4d2f80bb149eed434735",
       "version_major": 2,
       "version_minor": 0
      },
      "text/plain": [
       "-loss-:   0%|                 | 0/10 [00:00<?, ?it/s]"
      ]
     },
     "metadata": {},
     "output_type": "display_data"
    },
    {
     "data": {
      "application/vnd.jupyter.widget-view+json": {
       "model_id": "1c848d0a23454a6882817ac645fde04d",
       "version_major": 2,
       "version_minor": 0
      },
      "text/plain": [
       "-loss-:   0%|                 | 0/10 [00:00<?, ?it/s]"
      ]
     },
     "metadata": {},
     "output_type": "display_data"
    },
    {
     "data": {
      "application/vnd.jupyter.widget-view+json": {
       "model_id": "ba248f2e1242454a8c6759b007a62be3",
       "version_major": 2,
       "version_minor": 0
      },
      "text/plain": [
       "-loss-:   0%|                 | 0/10 [00:00<?, ?it/s]"
      ]
     },
     "metadata": {},
     "output_type": "display_data"
    }
   ],
   "source": [
    "res = trainer.train(5)"
   ]
  },
  {
   "cell_type": "markdown",
   "id": "9a82d6b4-e106-4e45-ae22-932b64b8f289",
   "metadata": {
    "pycharm": {
     "name": "#%% md\n"
    }
   },
   "source": [
    "losses and results "
   ]
  },
  {
   "cell_type": "code",
   "execution_count": 12,
   "id": "21eb1e37-83da-4b9f-8678-746e910dde46",
   "metadata": {
    "pycharm": {
     "name": "#%%\n"
    }
   },
   "outputs": [
    {
     "data": {
      "image/png": "[encoded data removed]",
      "text/plain": [
       "<Figure size 640x480 with 1 Axes>"
      ]
     },
     "metadata": {},
     "output_type": "display_data"
    }
   ],
   "source": [
    "res_df = pd.DataFrame(res).T\n",
    "ax = res_df.plot(logy=True, grid=True)"
   ]
  },
  {
   "cell_type": "code",
   "execution_count": 13,
   "id": "3b071f2b-0345-46b8-94e5-d0d8f9ed49ed",
   "metadata": {
    "pycharm": {
     "name": "#%%\n"
    }
   },
   "outputs": [
    {
     "data": {
      "text/html": [
       "<div>\n",
       "<style scoped>\n",
       "    .dataframe tbody tr th:only-of-type {\n",
       "        vertical-align: middle;\n",
       "    }\n",
       "\n",
       "    .dataframe tbody tr th {\n",
       "        vertical-align: top;\n",
       "    }\n",
       "\n",
       "    .dataframe thead th {\n",
       "        text-align: right;\n",
       "    }\n",
       "</style>\n",
       "<table border=\"1\" class=\"dataframe\">\n",
       "  <thead>\n",
       "    <tr style=\"text-align: right;\">\n",
       "      <th></th>\n",
       "      <th>accuracy</th>\n",
       "      <th>total_loss</th>\n",
       "      <th>bce_loss</th>\n",
       "      <th>perplexity</th>\n",
       "      <th>feature_pen</th>\n",
       "    </tr>\n",
       "  </thead>\n",
       "  <tbody>\n",
       "    <tr>\n",
       "      <th>0</th>\n",
       "      <td>0.056055</td>\n",
       "      <td>2321.950269</td>\n",
       "      <td>2256.362378</td>\n",
       "      <td>65.167421</td>\n",
       "      <td>0.420420</td>\n",
       "    </tr>\n",
       "    <tr>\n",
       "      <th>1</th>\n",
       "      <td>0.070117</td>\n",
       "      <td>2244.282349</td>\n",
       "      <td>2185.422900</td>\n",
       "      <td>58.444308</td>\n",
       "      <td>0.415131</td>\n",
       "    </tr>\n",
       "    <tr>\n",
       "      <th>2</th>\n",
       "      <td>0.048047</td>\n",
       "      <td>2236.309204</td>\n",
       "      <td>2189.607178</td>\n",
       "      <td>46.292835</td>\n",
       "      <td>0.409139</td>\n",
       "    </tr>\n",
       "    <tr>\n",
       "      <th>3</th>\n",
       "      <td>0.039258</td>\n",
       "      <td>2228.999194</td>\n",
       "      <td>2192.254517</td>\n",
       "      <td>36.339466</td>\n",
       "      <td>0.405208</td>\n",
       "    </tr>\n",
       "    <tr>\n",
       "      <th>4</th>\n",
       "      <td>0.046289</td>\n",
       "      <td>2217.942212</td>\n",
       "      <td>2188.746631</td>\n",
       "      <td>28.792036</td>\n",
       "      <td>0.403525</td>\n",
       "    </tr>\n",
       "  </tbody>\n",
       "</table>\n",
       "</div>"
      ],
      "text/plain": [
       "   accuracy   total_loss     bce_loss  perplexity  feature_pen\n",
       "0  0.056055  2321.950269  2256.362378   65.167421     0.420420\n",
       "1  0.070117  2244.282349  2185.422900   58.444308     0.415131\n",
       "2  0.048047  2236.309204  2189.607178   46.292835     0.409139\n",
       "3  0.039258  2228.999194  2192.254517   36.339466     0.405208\n",
       "4  0.046289  2217.942212  2188.746631   28.792036     0.403525"
      ]
     },
     "execution_count": 13,
     "metadata": {},
     "output_type": "execute_result"
    }
   ],
   "source": [
    "res_df"
   ]
  },
  {
   "cell_type": "markdown",
   "id": "8df0fb73-eccb-48a9-9479-794caa6a2d9b",
   "metadata": {
    "pycharm": {
     "name": "#%% md\n"
    }
   },
   "source": [
    "acc is on training data"
   ]
  },
  {
   "cell_type": "code",
   "execution_count": null,
   "id": "ebc38d14-f028-4d1c-afee-b79b66aee7b6",
   "metadata": {
    "pycharm": {
     "name": "#%%\n"
    }
   },
   "outputs": [],
   "source": [
    "res_df[['total_loss', 'cv_loss', 'acc']].plot(secondary_y='acc')"
   ]
  },
  {
   "cell_type": "markdown",
   "id": "766e3337-9021-4e81-a883-c58b87e12f98",
   "metadata": {
    "pycharm": {
     "name": "#%% md\n"
    }
   },
   "source": [
    "### dist of change in mask embedding elements"
   ]
  },
  {
   "cell_type": "code",
   "execution_count": null,
   "id": "e9e42000-12bf-4561-9ff2-c48335301274",
   "metadata": {
    "pycharm": {
     "name": "#%%\n"
    }
   },
   "outputs": [],
   "source": [
    "mask_embed = cog2vec.mask_embedding.detach().cpu().clone()\n",
    "\n",
    "ax = pd.Series((init_mask_embed - mask_embed).detach().cpu()).hist()"
   ]
  },
  {
   "cell_type": "markdown",
   "id": "0dac6ee3-7d9f-42d2-9e08-4d44fe4792e2",
   "metadata": {
    "pycharm": {
     "name": "#%% md\n"
    }
   },
   "source": [
    "***"
   ]
  },
  {
   "cell_type": "markdown",
   "id": "16e1d954-7136-49ae-a77f-9bc08ab78933",
   "metadata": {
    "pycharm": {
     "name": "#%% md\n"
    }
   },
   "source": [
    "### Run on all data, not just speaking"
   ]
  },
  {
   "cell_type": "code",
   "execution_count": 14,
   "id": "7d376437-4636-48f2-9df8-45802d9b931a",
   "metadata": {
    "scrolled": true,
    "tags": [],
    "pycharm": {
     "name": "#%%\n"
    }
   },
   "outputs": [
    {
     "name": "stdout",
     "output_type": "stream",
     "text": [
      "2022-07-02 22:00:49,822 - ecog_speech.datasets.HarvardSentences.__attrs_post_init__:336 - DEBUG - preparing pipeline\n",
      "2022-07-02 22:00:49,835 - ecog_speech.datasets.HarvardSentences.__attrs_post_init__:339 - DEBUG - Available pipelines: ['audio_gate', 'region_classification', 'region_classification_from_word_stim', 'audio_gate_speaking_only', 'default']\n",
      "2022-07-02 22:00:49,836 - ecog_speech.datasets.HarvardSentences.__attrs_post_init__:347 - INFO - 'audio_gate' pipeline selected\n",
      "2022-07-02 22:00:49,836 - ecog_speech.datasets.HarvardSentences.__attrs_post_init__:361 - INFO - Loading data directly\n"
     ]
    },
    {
     "data": {
      "application/vnd.jupyter.widget-view+json": {
       "model_id": "f8554c63731c4ec3809f299c4bdfad79",
       "version_major": 2,
       "version_minor": 0
      },
      "text/plain": [
       "Loading data:   0%|          | 0/1 [00:00<?, ?it/s]"
      ]
     },
     "metadata": {},
     "output_type": "display_data"
    },
    {
     "name": "stdout",
     "output_type": "stream",
     "text": [
      "2022-07-02 22:00:49,854 - ecog_speech.datasets.HarvardSentences.load_data:777 - INFO - ---28-1-1-UCSD---\n",
      "2022-07-02 22:00:49,854 - ecog_speech.datasets.HarvardSentences.load_data:778 - INFO - |--->Using Subset: Data\n",
      "2022-07-02 22:00:49,855 - ecog_speech.datasets.HarvardSentences.make_filename:1233 - INFO - Harvard sentences only uses location and patient identifiers\n",
      "2022-07-02 22:00:49,855 - ecog_speech.datasets.HarvardSentences.load_data:781 - DEBUG - Path : /home/morgan/Projects/CMSCResearch/ECOGSpeech/ecog_speech/../data/HarvardSentences/UCSD/Data/UCSD28_Task_1.mat\n",
      "2022-07-02 22:00:49,953 - ecog_speech.datasets.HarvardSentences.load_mat_from_path:746 - INFO - Couldn't load UCSD28_Task_1.mat with scipy (vers > 7.3?) - using package 'mat73' to load\n",
      "2022-07-02 22:01:07,841 - ecog_speech.datasets.HarvardSentences.load_data:784 - DEBUG - Matlab keys : ['EKG_signal', 'Labels', 'audio', 'fs_audio', 'fs_signal', 'label_contact_common', 'label_contact_r_a_s', 'sEEG_signal', 'start_stop_word_ms', 'stimcode']\n",
      "2022-07-02 22:01:07,843 - ecog_speech.pipeline.ParseTimeSeriesArrToFrame.process:45 - DEBUG - Accessing fs_signal\n",
      "2022-07-02 22:01:07,844 - ecog_speech.pipeline.ParseTimeSeriesArrToFrame.process:52 - DEBUG - Input source frequency, fs object: 1024.0\n",
      "2022-07-02 22:01:07,861 - ecog_speech.pipeline.ParseTimeSeriesArrToFrame.process:71 - INFO - sEEG_signal@1024, shape: (900001, 108), [(Timedelta('0 days 00:00:00'), Timedelta('0 days 00:14:38.906250'))]\n",
      "2022-07-02 22:01:07,900 - ecog_speech.pipeline.ParseTimeSeriesArrToFrame.transform:22 - DEBUG - Updated keys: {'fs_signal', 'signal'}\n",
      "2022-07-02 22:01:07,900 - ecog_speech.pipeline.ParseTimeSeriesArrToFrame.process:45 - DEBUG - Accessing fs_audio\n",
      "2022-07-02 22:01:07,901 - ecog_speech.pipeline.ParseTimeSeriesArrToFrame.process:52 - DEBUG - Input source frequency, fs object: 48000.0\n",
      "2022-07-02 22:01:11,836 - ecog_speech.pipeline.ParseTimeSeriesArrToFrame.process:71 - INFO - audio@48000, shape: (42187547,), [(Timedelta('0 days 00:00:00'), Timedelta('0 days 00:14:38.907208333'))]\n",
      "2022-07-02 22:01:20,427 - ecog_speech.pipeline.ParseTimeSeriesArrToFrame.transform:22 - DEBUG - Updated keys: {'audio', 'fs_audio'}\n",
      "2022-07-02 22:01:20,428 - ecog_speech.pipeline.ParseTimeSeriesArrToFrame.process:45 - DEBUG - Accessing fs_signal\n",
      "2022-07-02 22:01:20,428 - ecog_speech.pipeline.ParseTimeSeriesArrToFrame.process:52 - DEBUG - Input source frequency, fs object: 1024\n",
      "2022-07-02 22:01:20,446 - ecog_speech.pipeline.ParseTimeSeriesArrToFrame.process:71 - INFO - stimcode@1024, shape: (900001,), [(Timedelta('0 days 00:00:00'), Timedelta('0 days 00:14:38.906250'))]\n",
      "2022-07-02 22:01:20,487 - ecog_speech.pipeline.ParseTimeSeriesArrToFrame.transform:22 - DEBUG - Updated keys: {'stim', 'fs_signal'}\n",
      "2022-07-02 22:01:20,492 - ecog_speech.pipeline.ParseSensorRAS.transform:22 - DEBUG - Updated keys: {'sensor_ras_coord_arr', 'sensor_ras_df'}\n",
      "2022-07-02 22:01:21,226 - ecog_speech.pipeline.ExtractMFCC.transform:22 - DEBUG - Updated keys: {'audio_mel_spec'}\n",
      "2022-07-02 22:01:21,227 - ecog_speech.pipeline.IdentifyGoodAndBadSensors.process:90 - WARNING - Electrodes with key 'electrodes' not found among ['EKG_signal', 'Labels', 'audio', 'fs_audio', 'fs_signal', 'label_contact_common', 'label_contact_r_a_s', 'sEEG_signal', 'start_stop_word_ms', 'stimcode', 'signal', 'stim', 'sensor_ras_df', 'sensor_ras_coord_arr', 'audio_mel_spec'] - but on_missing=\"ignore\", so moving on\n",
      "2022-07-02 22:01:21,227 - ecog_speech.pipeline.IdentifyGoodAndBadSensors.transform:22 - DEBUG - Updated keys: {'bad_sensor_columns', 'good_sensor_columns'}\n",
      "2022-07-02 22:01:26,504 - ecog_speech.pipeline.StandardNormSignal.transform:22 - DEBUG - Updated keys: {'signal'}\n",
      "2022-07-02 22:01:26,505 - ecog_speech.pipeline.SubsampleSignal.transform:22 - DEBUG - Updated keys: {'stim', 'fs_signal', 'signal'}\n",
      "2022-07-02 22:01:26,587 - ecog_speech.pipeline.SentCodeFromStartStopWordTimes.process:410 - WARNING - Sent code 45.0 has a time range more than a minute: 0 days 00:01:20.365234375\n",
      "2022-07-02 22:01:26,624 - ecog_speech.pipeline.SentCodeFromStartStopWordTimes.transform:22 - DEBUG - Updated keys: {'stim', 'word_start_stop_times', 'sent_start_stop_time'}\n",
      "2022-07-02 22:01:26,687 - ecog_speech.pipeline.NewNewMultiTaskStartStop.process:504 - WARNING - Sent code 20.0 has no future sentence dodes in front of it\n",
      "2022-07-02 22:01:26,847 - ecog_speech.pipeline.NewNewMultiTaskStartStop.transform:22 - DEBUG - Updated keys: {'word_start_stop_times'}\n",
      "2022-07-02 22:01:27,982 - ecog_speech.pipeline.NewStimFromRegionStartStopTimes.transform:22 - DEBUG - Updated keys: {'speaking_word_stim'}\n",
      "2022-07-02 22:01:29,108 - ecog_speech.pipeline.NewStimFromRegionStartStopTimes.transform:22 - DEBUG - Updated keys: {'listening_word_stim'}\n",
      "2022-07-02 22:01:30,230 - ecog_speech.pipeline.NewStimFromRegionStartStopTimes.transform:22 - DEBUG - Updated keys: {'mouthing_word_stim'}\n",
      "2022-07-02 22:01:31,349 - ecog_speech.pipeline.NewStimFromRegionStartStopTimes.transform:22 - DEBUG - Updated keys: {'imagining_word_stim'}\n",
      "2022-07-02 22:01:31,846 - ecog_speech.pipeline.NewStimFromRegionStartStopTimes.transform:22 - DEBUG - Updated keys: {'speaking_region_stim'}\n",
      "2022-07-02 22:01:32,349 - ecog_speech.pipeline.NewStimFromRegionStartStopTimes.transform:22 - DEBUG - Updated keys: {'listening_region_stim'}\n",
      "2022-07-02 22:01:32,851 - ecog_speech.pipeline.NewStimFromRegionStartStopTimes.transform:22 - DEBUG - Updated keys: {'mouthing_region_stim'}\n",
      "2022-07-02 22:01:33,352 - ecog_speech.pipeline.NewStimFromRegionStartStopTimes.transform:22 - DEBUG - Updated keys: {'imagining_region_stim'}\n",
      "2022-07-02 22:01:33,353 - ecog_speech.pipeline.PowerThreshold.power_threshold:281 - INFO - Power threshold\n",
      "2022-07-02 22:02:03,076 - ecog_speech.pipeline.PowerThreshold.power_threshold:289 - INFO - Using speaking quantile 0.9\n",
      "2022-07-02 22:02:57,215 - ecog_speech.pipeline.PowerThreshold.power_threshold:312 - INFO - Using silence quantile\n",
      "2022-07-02 22:02:57,220 - ecog_speech.pipeline.PowerThreshold.power_threshold:325 - INFO - Sampling 35000 from 276844\n",
      "2022-07-02 22:02:57,260 - ecog_speech.pipeline.PowerThreshold.power_threshold:343 - WARNING - stim_s and stim_auto not equal: 51 - 1 != 47\n",
      "2022-07-02 22:02:57,273 - ecog_speech.pipeline.PowerThreshold.transform:22 - DEBUG - Updated keys: {'silence_stim_pwrt_s', 'stim_pwrt', 'coded_silence_stim', 'stim_pwrt_diff', 'rolling_audio_pwr', 'silence_stim_pwrt_diff_s'}\n",
      "2022-07-02 22:02:57,273 - ecog_speech.pipeline.WindowSampleIndicesFromStim.make_sample_indices:1095 - INFO - (512, Timedelta('0 days 00:00:00.500000'))\n",
      "2022-07-02 22:02:57,274 - ecog_speech.pipeline.WindowSampleIndicesFromStim.make_sample_indices:1096 - INFO - Samples per window: 256\n"
     ]
    },
    {
     "data": {
      "application/vnd.jupyter.widget-view+json": {
       "model_id": "14320a62e04449f092f3a0b0823190ce",
       "version_major": 2,
       "version_minor": 0
      },
      "text/plain": [
       "Processing stim regions:   0%|          | 0/47 [00:00<?, ?it/s]"
      ]
     },
     "metadata": {},
     "output_type": "display_data"
    },
    {
     "name": "stdout",
     "output_type": "stream",
     "text": [
      "2022-07-02 22:02:59,434 - ecog_speech.pipeline.WindowSampleIndicesFromStim.make_sample_indices:1152 - INFO - Number of samples keys in sample index: {300: 47}\n",
      "2022-07-02 22:02:59,434 - ecog_speech.pipeline.WindowSampleIndicesFromStim.transform:22 - DEBUG - Updated keys: {'index_source_map', 'n_samples_per_window', 'sample_index_map'}\n",
      "2022-07-02 22:03:04,930 - ecog_speech.pipeline.WindowSampleIndicesFromIndex.transform:22 - DEBUG - Updated keys: {'n_samples_per_window', 'sample_index_map'}\n",
      "2022-07-02 22:03:04,931 - ecog_speech.datasets.HarvardSentences.__attrs_post_init__:396 - INFO - N samples per window: 256\n",
      "2022-07-02 22:03:04,931 - ecog_speech.datasets.HarvardSentences.__attrs_post_init__:416 - INFO - GOOD AND BAD SENSORS: {('UCSD', 28, 1, 1): ([0, 1, 2, 3, 4, 5, 6, 7, 8, 9, 10, 11, 12, 13, 14, 15, 16, 17, 18, 19, 20, 21, 22, 23, 24, 25, 26, 27, 28, 29, 30, 31, 32, 33, 34, 35, 36, 37, 38, 39, 40, 41, 42, 43, 44, 45, 46, 47, 48, 49, 50, 51, 52, 53, 54, 55, 56, 57, 58, 59, 60, 61, 62, 63, 64, 65, 66, 67, 68, 69, 70, 71, 72, 73, 74, 75, 76, 77, 78, 79, 80, 81, 82, 83, 84, 85, 86, 87, 88, 89, 90, 91, 92, 93, 94, 95, 96, 97, 98, 99, 100, 101, 102, 103, 104, 105, 106, 107], None)}\n",
      "2022-07-02 22:03:04,931 - ecog_speech.datasets.HarvardSentences.__attrs_post_init__:433 - INFO - Selected columns with -union- method: 0, 1, 2, 3, 4, 5, 6, 7, 8, 9, 10, 11, 12, 13, 14, 15, 16, 17, 18, 19, 20, 21, 22, 23, 24, 25, 26, 27, 28, 29, 30, 31, 32, 33, 34, 35, 36, 37, 38, 39, 40, 41, 42, 43, 44, 45, 46, 47, 48, 49, 50, 51, 52, 53, 54, 55, 56, 57, 58, 59, 60, 61, 62, 63, 64, 65, 66, 67, 68, 69, 70, 71, 72, 73, 74, 75, 76, 77, 78, 79, 80, 81, 82, 83, 84, 85, 86, 87, 88, 89, 90, 91, 92, 93, 94, 95, 96, 97, 98, 99, 100, 101, 102, 103, 104, 105, 106, 107\n",
      "2022-07-02 22:03:30,678 - ecog_speech.datasets.HarvardSentences.__attrs_post_init__:512 - INFO - Length of flat index map: 5302800\n",
      "2022-07-02 22:03:30,678 - ecog_speech.datasets.HarvardSentences.__attrs_post_init__:520 - INFO - Selected 108 sensors\n"
     ]
    },
    {
     "data": {
      "application/vnd.jupyter.widget-view+json": {
       "model_id": "43fddd30e6b848018d73c339db146f42",
       "version_major": 2,
       "version_minor": 0
      },
      "text/plain": [
       "Applying sensor selection:   0%|          | 0/1 [00:00<?, ?it/s]"
      ]
     },
     "metadata": {},
     "output_type": "display_data"
    },
    {
     "name": "stdout",
     "output_type": "stream",
     "text": [
      "2022-07-02 22:03:30,808 - ecog_speech.pipeline.ApplySensorSelection.process:142 - INFO - Selection of columns passed to sensor selection\n",
      "2022-07-02 22:03:31,456 - ecog_speech.pipeline.ApplySensorSelection.process:167 - INFO - Selecting columns in RAS coordinate data\n",
      "2022-07-02 22:03:31,458 - ecog_speech.pipeline.ApplySensorSelection.transform:22 - DEBUG - Updated keys: {'selected_columns', 'bad_sensor_method', 'sensor_ras_df', 'bad_columns', 'sensor_ras_coord_arr', 'signal'}\n"
     ]
    }
   ],
   "source": [
    "hvs_all_tuples = datasets.HarvardSentences.make_tuples_from_sets_str('UCSD-28')\n",
    "\n",
    "hvs_all = datasets.HarvardSentences(hvs_all_tuples, pre_processing_pipeline='audio_gate',\n",
    "                                   flatten_sensors_to_samples=True,\n",
    "                                extra_output_keys='sensor_ras_coord_arr'\n",
    "                                   )"
   ]
  },
  {
   "cell_type": "code",
   "execution_count": null,
   "id": "0b067a18-df71-4f96-b536-e9cf143d5978",
   "metadata": {
    "pycharm": {
     "name": "#%%\n"
    }
   },
   "outputs": [],
   "source": [
    "# Take best model instead of last model\n",
    "#cog2vec.load_state_dict(trainer.best_model_state)"
   ]
  },
  {
   "cell_type": "code",
   "execution_count": 15,
   "id": "9911c719-62dc-472c-a37b-8ed8f90e1d67",
   "metadata": {
    "pycharm": {
     "name": "#%%\n"
    }
   },
   "outputs": [
    {
     "data": {
      "text/plain": [
       "dict_keys(['signal_arr', 'sensor_ras_coord_arr', 'target_arr'])"
      ]
     },
     "execution_count": 15,
     "metadata": {},
     "output_type": "execute_result"
    }
   ],
   "source": [
    "batch_d.keys()"
   ]
  },
  {
   "cell_type": "code",
   "execution_count": 16,
   "id": "3958b5bc-1984-4842-8af9-e4214da6f1e5",
   "metadata": {
    "pycharm": {
     "name": "#%%\n"
    }
   },
   "outputs": [
    {
     "data": {
      "text/plain": [
       "torch.Size([128, 1, 256])"
      ]
     },
     "execution_count": 16,
     "metadata": {},
     "output_type": "execute_result"
    }
   ],
   "source": [
    "batch_d['signal_arr'].shape"
   ]
  },
  {
   "cell_type": "code",
   "execution_count": 20,
   "id": "d74f978d-6e50-48c9-bf3e-b25a06c54a10",
   "metadata": {
    "pycharm": {
     "name": "#%%\n"
    }
   },
   "outputs": [
    {
     "data": {
      "text/plain": [
       "dict_keys(['signal_arr', 'sensor_ras_coord_arr', 'target_arr'])"
      ]
     },
     "execution_count": 20,
     "metadata": {},
     "output_type": "execute_result"
    }
   ],
   "source": [
    "batch_d.keys()"
   ]
  },
  {
   "cell_type": "code",
   "execution_count": 19,
   "id": "df505abe-70f2-450e-ad79-228bc38f6558",
   "metadata": {
    "collapsed": true,
    "jupyter": {
     "outputs_hidden": true
    },
    "tags": [],
    "pycharm": {
     "name": "#%%\n"
    }
   },
   "outputs": [
    {
     "data": {
      "text/plain": [
       "{'x': tensor([[[-0.9804,  0.1127, -0.6559,  ..., -0.5955, -0.2850,  0.2457],\n",
       "          [-0.9856,  0.1389, -0.6478,  ..., -0.5903, -0.2853,  0.2539],\n",
       "          [-0.9868,  0.1340, -0.6624,  ..., -0.5961, -0.2825,  0.2645],\n",
       "          [-0.9876,  0.1277, -0.6708,  ..., -0.5916, -0.2884,  0.2568]],\n",
       " \n",
       "         [[-0.6012, -0.0689, -0.2017,  ..., -0.1944,  0.1670,  0.2711],\n",
       "          [-0.6041, -0.0801, -0.2279,  ..., -0.1857,  0.1678,  0.2531],\n",
       "          [-0.5961, -0.0819, -0.2146,  ..., -0.1817,  0.1641,  0.2561],\n",
       "          [-0.5959, -0.0928, -0.2122,  ..., -0.1783,  0.1759,  0.2435]],\n",
       " \n",
       "         [[-0.9938,  0.1242, -0.6819,  ..., -0.5908, -0.3001,  0.2652],\n",
       "          [-1.0003,  0.1182, -0.6824,  ..., -0.5939, -0.2840,  0.2623],\n",
       "          [-0.9952,  0.1265, -0.6773,  ..., -0.5957, -0.2857,  0.2638],\n",
       "          [-1.0056,  0.1230, -0.6859,  ..., -0.5925, -0.2883,  0.2606]],\n",
       " \n",
       "         ...,\n",
       " \n",
       "         [[ 0.6033, -0.2626,  0.2865,  ...,  0.5287,  0.4201,  0.2437],\n",
       "          [ 0.6082, -0.2710,  0.2760,  ...,  0.5358,  0.4195,  0.2522],\n",
       "          [ 0.6241, -0.2630,  0.2604,  ...,  0.5365,  0.4265,  0.2620],\n",
       "          [ 0.6172, -0.2834,  0.2672,  ...,  0.5404,  0.4278,  0.2316]],\n",
       " \n",
       "         [[-0.9943,  0.1274, -0.6756,  ..., -0.5953, -0.2886,  0.2656],\n",
       "          [-1.0040,  0.1234, -0.6843,  ..., -0.5925, -0.2914,  0.2625],\n",
       "          [-0.9926,  0.1246, -0.6765,  ..., -0.5936, -0.2971,  0.2605],\n",
       "          [-0.9953,  0.1318, -0.6709,  ..., -0.5873, -0.2915,  0.2648]],\n",
       " \n",
       "         [[-1.0167,  0.1123, -0.6430,  ..., -0.5670, -0.2527,  0.2515],\n",
       "          [-1.0205,  0.1243, -0.6352,  ..., -0.5571, -0.2483,  0.2574],\n",
       "          [-1.0278,  0.1182, -0.6377,  ..., -0.5726, -0.2479,  0.2651],\n",
       "          [-1.0274,  0.1255, -0.6309,  ..., -0.5643, -0.2544,  0.2558]]],\n",
       "        grad_fn=<AddBackward0>),\n",
       " 'y': tensor([[[-1.9300e-01,  2.9451e-01, -5.7872e-02,  ...,  1.6339e-01,\n",
       "            7.5982e-01,  1.2232e-02],\n",
       "          [-8.3663e-02,  7.8086e-02, -3.8909e-01,  ...,  5.6153e-02,\n",
       "            5.9745e-01,  9.7525e-02],\n",
       "          [ 1.6861e-01,  1.7261e-01, -3.2974e-02,  ..., -1.6995e-01,\n",
       "            8.8575e-01,  2.5821e-01],\n",
       "          [ 2.7692e-01, -1.8100e-01, -3.8369e-01,  ..., -4.8208e-03,\n",
       "            1.8908e-02,  1.1080e-01]],\n",
       " \n",
       "         [[ 1.7565e-01,  7.2048e-02, -2.4371e-01,  ...,  7.0308e-02,\n",
       "            1.7365e-01,  4.3477e-02],\n",
       "          [ 4.3160e-01,  2.2208e-02, -1.2735e-01,  ..., -2.5159e-01,\n",
       "            5.1940e-01, -1.3230e-01],\n",
       "          [-8.4662e-02, -1.7054e-01, -2.1580e-02,  ..., -5.5753e-02,\n",
       "            2.9639e-01,  1.2504e-01],\n",
       "          [ 1.6031e-02,  3.5104e-01,  1.3717e-01,  ...,  9.6129e-02,\n",
       "            5.4368e-01, -7.9225e-02]],\n",
       " \n",
       "         [[-1.9300e-01,  2.9451e-01, -5.7872e-02,  ...,  1.6339e-01,\n",
       "            7.5982e-01,  1.2232e-02],\n",
       "          [-1.9300e-01,  2.9451e-01, -5.7872e-02,  ...,  1.6339e-01,\n",
       "            7.5982e-01,  1.2232e-02],\n",
       "          [-1.9300e-01,  2.9451e-01, -5.7872e-02,  ...,  1.6339e-01,\n",
       "            7.5982e-01,  1.2232e-02],\n",
       "          [-2.4167e-01,  2.2963e-01, -3.0081e-01,  ...,  4.9376e-02,\n",
       "            6.7857e-01, -2.1122e-02]],\n",
       " \n",
       "         ...,\n",
       " \n",
       "         [[ 4.2017e-02, -2.4157e-01, -2.4015e-01,  ..., -2.1949e-01,\n",
       "            5.1984e-01,  2.0226e-01],\n",
       "          [ 2.1034e-01, -1.6740e-02, -2.5102e-01,  ..., -1.6440e-01,\n",
       "            3.4177e-01, -6.8939e-02],\n",
       "          [-1.2418e-01,  8.0651e-02, -2.9403e-01,  ..., -2.8859e-01,\n",
       "            8.3439e-01,  1.6209e-01],\n",
       "          [ 7.1891e-02, -2.2103e-01, -3.7157e-01,  ...,  9.3953e-02,\n",
       "            1.7268e-01,  1.8813e-02]],\n",
       " \n",
       "         [[-1.9300e-01,  2.9451e-01, -5.7872e-02,  ...,  1.6339e-01,\n",
       "            7.5982e-01,  1.2232e-02],\n",
       "          [-1.9300e-01,  2.9451e-01, -5.7872e-02,  ...,  1.6339e-01,\n",
       "            7.5982e-01,  1.2232e-02],\n",
       "          [-1.9300e-01,  2.9451e-01, -5.7872e-02,  ...,  1.6339e-01,\n",
       "            7.5982e-01,  1.2232e-02],\n",
       "          [-1.9300e-01,  2.9451e-01, -5.7872e-02,  ...,  1.6339e-01,\n",
       "            7.5982e-01,  1.2232e-02]],\n",
       " \n",
       "         [[-8.5194e-02, -3.7704e-04, -2.9129e-01,  ..., -1.2010e-01,\n",
       "            4.6013e-01, -1.0087e-01],\n",
       "          [ 1.8280e-01,  1.8433e-01, -1.7102e-01,  ...,  1.0461e-01,\n",
       "            6.2707e-01,  3.2576e-01],\n",
       "          [ 6.9183e-02, -3.7546e-01,  1.7846e-02,  ..., -3.8670e-01,\n",
       "            4.4118e-01, -1.3866e-01],\n",
       "          [ 4.9875e-03, -9.0743e-02, -2.1806e-01,  ..., -2.3358e-01,\n",
       "            3.6281e-01, -1.4077e-01]]], grad_fn=<ViewBackward0>),\n",
       " 'negs': tensor([[[[-0.0158,  0.1963, -0.3574,  ...,  0.0460,  0.3602, -0.1680],\n",
       "           [ 0.2769, -0.1810, -0.3837,  ..., -0.0048,  0.0189,  0.1108],\n",
       "           [-0.1930,  0.2945, -0.0579,  ...,  0.1634,  0.7598,  0.0122],\n",
       "           [ 0.4261, -0.2488, -0.0638,  ..., -0.2842,  0.3067,  0.0917]],\n",
       " \n",
       "          [[ 0.0947,  0.2758, -0.2619,  ...,  0.1855,  0.4994,  0.1438],\n",
       "           [-0.2833, -0.0187, -0.3271,  ..., -0.1426,  0.6391,  0.0074],\n",
       "           [ 0.0160,  0.3510,  0.1372,  ...,  0.0961,  0.5437, -0.0792],\n",
       "           [ 0.0075, -0.3041, -0.2601,  ..., -0.1110,  0.3550, -0.1413]],\n",
       " \n",
       "          [[-0.1930,  0.2945, -0.0579,  ...,  0.1634,  0.7598,  0.0122],\n",
       "           [-0.1930,  0.2945, -0.0579,  ...,  0.1634,  0.7598,  0.0122],\n",
       "           [-0.1930,  0.2945, -0.0579,  ...,  0.1634,  0.7598,  0.0122],\n",
       "           [-0.2417,  0.2296, -0.3008,  ...,  0.0494,  0.6786, -0.0211]],\n",
       " \n",
       "          ...,\n",
       " \n",
       "          [[ 0.0075, -0.3041, -0.2601,  ..., -0.1110,  0.3550, -0.1413],\n",
       "           [ 0.0420, -0.2416, -0.2401,  ..., -0.2195,  0.5198,  0.2023],\n",
       "           [-0.0365, -0.3781, -0.5241,  ..., -0.0442,  0.3692,  0.1106],\n",
       "           [-0.1171, -0.3409, -0.2732,  ..., -0.0735,  0.3245,  0.0476]],\n",
       " \n",
       "          [[-0.1930,  0.2945, -0.0579,  ...,  0.1634,  0.7598,  0.0122],\n",
       "           [-0.1930,  0.2945, -0.0579,  ...,  0.1634,  0.7598,  0.0122],\n",
       "           [-0.1930,  0.2945, -0.0579,  ...,  0.1634,  0.7598,  0.0122],\n",
       "           [ 0.0616,  0.0345, -0.2770,  ..., -0.0698,  0.4463, -0.1307]],\n",
       " \n",
       "          [[ 0.2468, -0.1713, -0.4256,  ..., -0.2027,  0.3277, -0.1366],\n",
       "           [-0.1609,  0.2524, -0.1377,  ...,  0.1861,  0.5198, -0.2841],\n",
       "           [ 0.1828,  0.1843, -0.1710,  ...,  0.1046,  0.6271,  0.3258],\n",
       "           [-0.1002,  0.0747,  0.0835,  ..., -0.0694,  0.5799,  0.2016]]],\n",
       " \n",
       " \n",
       "         [[[-0.0158,  0.1963, -0.3574,  ...,  0.0460,  0.3602, -0.1680],\n",
       "           [ 0.1102, -0.2742, -0.2369,  ..., -0.2820,  0.5732,  0.0553],\n",
       "           [-0.1379,  0.2679, -0.3408,  ...,  0.0841,  0.5125, -0.1086],\n",
       "           [-0.1421, -0.0417, -0.3855,  ...,  0.1243,  0.4647,  0.0990]],\n",
       " \n",
       "          [[ 0.1071,  0.0268, -0.4065,  ..., -0.0168,  0.3676,  0.1438],\n",
       "           [ 0.2779, -0.0438, -0.3642,  ..., -0.2772,  0.7234,  0.3435],\n",
       "           [ 0.1003,  0.2036,  0.0183,  ..., -0.1030,  0.8006, -0.2865],\n",
       "           [ 0.0420, -0.2416, -0.2401,  ..., -0.2195,  0.5198,  0.2023]],\n",
       " \n",
       "          [[-0.1930,  0.2945, -0.0579,  ...,  0.1634,  0.7598,  0.0122],\n",
       "           [-0.1930,  0.2945, -0.0579,  ...,  0.1634,  0.7598,  0.0122],\n",
       "           [-0.1930,  0.2945, -0.0579,  ...,  0.1634,  0.7598,  0.0122],\n",
       "           [ 0.1412, -0.3544, -0.4174,  ...,  0.1199,  0.1075,  0.2449]],\n",
       " \n",
       "          ...,\n",
       " \n",
       "          [[ 0.0420, -0.2416, -0.2401,  ..., -0.2195,  0.5198,  0.2023],\n",
       "           [ 0.0186, -0.2491, -0.4226,  ..., -0.0507,  0.1293, -0.0227],\n",
       "           [ 0.0075, -0.3041, -0.2601,  ..., -0.1110,  0.3550, -0.1413],\n",
       "           [-0.2791,  0.3519, -0.4435,  ...,  0.2181,  0.4844, -0.0587]],\n",
       " \n",
       "          [[-0.1930,  0.2945, -0.0579,  ...,  0.1634,  0.7598,  0.0122],\n",
       "           [-0.1930,  0.2945, -0.0579,  ...,  0.1634,  0.7598,  0.0122],\n",
       "           [-0.1930,  0.2945, -0.0579,  ...,  0.1634,  0.7598,  0.0122],\n",
       "           [-0.0488, -0.0029, -0.5332,  ...,  0.0719,  0.6724, -0.1517]],\n",
       " \n",
       "          [[ 0.0692, -0.3755,  0.0178,  ..., -0.3867,  0.4412, -0.1387],\n",
       "           [ 0.0369, -0.0460, -0.3829,  ..., -0.2391,  0.3082,  0.2966],\n",
       "           [-0.0158,  0.1963, -0.3574,  ...,  0.0460,  0.3602, -0.1680],\n",
       "           [-0.0158,  0.1963, -0.3574,  ...,  0.0460,  0.3602, -0.1680]]],\n",
       " \n",
       " \n",
       "         [[[-0.1379,  0.2679, -0.3408,  ...,  0.0841,  0.5125, -0.1086],\n",
       "           [ 0.2769, -0.1810, -0.3837,  ..., -0.0048,  0.0189,  0.1108],\n",
       "           [ 0.2769, -0.1810, -0.3837,  ..., -0.0048,  0.0189,  0.1108],\n",
       "           [-0.0162, -0.0624, -0.1511,  ...,  0.0454,  0.4131,  0.0703]],\n",
       " \n",
       "          [[ 0.1071,  0.0268, -0.4065,  ..., -0.0168,  0.3676,  0.1438],\n",
       "           [ 0.4316,  0.0222, -0.1274,  ..., -0.2516,  0.5194, -0.1323],\n",
       "           [ 0.1182, -0.4709, -0.4506,  ..., -0.0520,  0.2237, -0.0770],\n",
       "           [-0.0488, -0.0029, -0.5332,  ...,  0.0719,  0.6724, -0.1517]],\n",
       " \n",
       "          [[-0.1930,  0.2945, -0.0579,  ...,  0.1634,  0.7598,  0.0122],\n",
       "           [-0.1930,  0.2945, -0.0579,  ...,  0.1634,  0.7598,  0.0122],\n",
       "           [-0.1930,  0.2945, -0.0579,  ...,  0.1634,  0.7598,  0.0122],\n",
       "           [ 0.3876, -0.0519, -0.3913,  ..., -0.1847,  0.5336,  0.1196]],\n",
       " \n",
       "          ...,\n",
       " \n",
       "          [[ 0.0075, -0.3041, -0.2601,  ..., -0.1110,  0.3550, -0.1413],\n",
       "           [ 0.0013,  0.2755, -0.2386,  ..., -0.1557,  0.5753,  0.0861],\n",
       "           [ 0.0420, -0.2416, -0.2401,  ..., -0.2195,  0.5198,  0.2023],\n",
       "           [-0.0158,  0.1963, -0.3574,  ...,  0.0460,  0.3602, -0.1680]],\n",
       " \n",
       "          [[-0.1930,  0.2945, -0.0579,  ...,  0.1634,  0.7598,  0.0122],\n",
       "           [-0.1930,  0.2945, -0.0579,  ...,  0.1634,  0.7598,  0.0122],\n",
       "           [-0.1930,  0.2945, -0.0579,  ...,  0.1634,  0.7598,  0.0122],\n",
       "           [ 0.0091,  0.3169, -0.0951,  ..., -0.2375,  0.8091,  0.1907]],\n",
       " \n",
       "          [[ 0.0050, -0.0907, -0.2181,  ..., -0.2336,  0.3628, -0.1408],\n",
       "           [-0.2417,  0.2296, -0.3008,  ...,  0.0494,  0.6786, -0.0211],\n",
       "           [ 0.2166,  0.0752, -0.1630,  ..., -0.0911,  0.7853,  0.0282],\n",
       "           [-0.0837,  0.0781, -0.3891,  ...,  0.0562,  0.5974,  0.0975]]],\n",
       " \n",
       " \n",
       "         ...,\n",
       " \n",
       " \n",
       "         [[[ 0.4949,  0.7842,  0.9935,  ...,  0.4511,  0.6587,  0.5369],\n",
       "           [ 0.4949,  0.7842,  0.9935,  ...,  0.2214,  0.9368,  0.1574],\n",
       "           [ 0.5983,  0.0880,  0.3348,  ...,  0.3031,  0.0075,  0.3237],\n",
       "           [ 0.7771,  0.8710,  0.6586,  ...,  0.0362,  0.9739,  0.6242]],\n",
       " \n",
       "          [[ 0.8136,  0.4539,  0.7833,  ...,  0.6391,  0.8022,  0.0736],\n",
       "           [ 0.0316,  0.8811,  0.8826,  ...,  0.1023,  0.2130,  0.1486],\n",
       "           [ 0.4536,  0.0289,  0.8820,  ...,  0.6520,  0.1694,  0.1538],\n",
       "           [ 0.8557,  0.5085,  0.4094,  ...,  0.5765,  0.7067,  0.5356]],\n",
       " \n",
       "          [[ 0.2214,  0.5896,  0.2915,  ...,  0.3067,  0.7975,  0.1260],\n",
       "           [ 0.8505,  0.5242,  0.0662,  ...,  0.5295,  0.4862,  0.8898],\n",
       "           [ 0.0481,  0.0570,  0.2326,  ...,  0.1657,  0.5158,  0.1334],\n",
       "           [ 0.5983,  0.0880,  0.3348,  ...,  0.8274,  0.8568,  0.1689]],\n",
       " \n",
       "          ...,\n",
       " \n",
       "          [[ 0.3563,  0.3172,  0.8339,  ...,  0.5592,  0.8739,  0.0415],\n",
       "           [ 0.7668,  0.7890,  0.5304,  ...,  0.1583,  0.5615,  0.2791],\n",
       "           [ 0.0481,  0.0570,  0.2326,  ...,  0.6391,  0.8022,  0.0736],\n",
       "           [ 0.0481,  0.0570,  0.2326,  ...,  0.4632,  0.4724,  0.6095]],\n",
       " \n",
       "          [[ 0.7668,  0.7890,  0.5304,  ...,  0.6279,  0.9877,  0.1949],\n",
       "           [ 0.3563,  0.3172,  0.8339,  ...,  0.5765,  0.7067,  0.5356],\n",
       "           [ 0.8026,  0.5732,  0.8036,  ...,  0.6520,  0.1694,  0.1538],\n",
       "           [ 0.7771,  0.8710,  0.6586,  ...,  0.1072,  0.9665,  0.0313]],\n",
       " \n",
       "          [[ 0.2331,  0.4348,  0.5170,  ...,  0.3031,  0.0075,  0.3237],\n",
       "           [ 0.0084,  0.6907,  0.5056,  ...,  0.1936,  0.4663,  0.2149],\n",
       "           [ 0.4949,  0.7842,  0.9935,  ...,  0.0437,  0.6818,  0.1968],\n",
       "           [ 0.8382,  0.2066,  0.6998,  ...,  0.8327,  0.7585,  0.6562]]],\n",
       " \n",
       " \n",
       "         [[[ 0.3563,  0.3172,  0.8339,  ...,  0.6547,  0.7599,  0.4896],\n",
       "           [ 0.4922,  0.8471,  0.5627,  ...,  0.3031,  0.0075,  0.3237],\n",
       "           [ 0.5498,  0.2870,  0.1331,  ...,  0.0570,  0.1836,  0.8044],\n",
       "           [ 0.4102,  0.3971,  0.7441,  ...,  0.5112,  0.7312,  0.7223]],\n",
       " \n",
       "          [[ 0.4832,  0.9881,  0.9825,  ...,  0.1936,  0.4663,  0.2149],\n",
       "           [ 0.7407,  0.7272,  0.0445,  ...,  0.2732,  0.8613,  0.7942],\n",
       "           [ 0.9578,  0.6248,  0.7823,  ...,  0.7972,  0.5191,  0.4027],\n",
       "           [ 0.4102,  0.3971,  0.7441,  ...,  0.3864,  0.7464,  0.9909]],\n",
       " \n",
       "          [[ 0.8382,  0.2066,  0.6998,  ...,  0.1936,  0.4663,  0.2149],\n",
       "           [ 0.2331,  0.4348,  0.5170,  ...,  0.1583,  0.5615,  0.2791],\n",
       "           [ 0.8557,  0.5085,  0.4094,  ...,  0.0437,  0.6818,  0.1968],\n",
       "           [ 0.9266,  0.1195,  0.9764,  ...,  0.5859,  0.7433,  0.3491]],\n",
       " \n",
       "          ...,\n",
       " \n",
       "          [[ 0.3311,  0.6169,  0.1642,  ...,  0.3031,  0.0075,  0.3237],\n",
       "           [ 0.8382,  0.2066,  0.6998,  ...,  0.4511,  0.6587,  0.5369],\n",
       "           [ 0.8454,  0.4787,  0.4232,  ...,  0.8580,  0.8002,  0.0396],\n",
       "           [ 0.1763,  0.4297,  0.8079,  ...,  0.3031,  0.0075,  0.3237]],\n",
       " \n",
       "          [[ 0.4488,  0.0986,  0.1290,  ...,  0.2732,  0.8613,  0.7942],\n",
       "           [ 0.1763,  0.4297,  0.8079,  ...,  0.9075,  0.5772,  0.6836],\n",
       "           [ 0.3563,  0.3172,  0.8339,  ...,  0.6188,  0.0508,  0.8658],\n",
       "           [ 0.8557,  0.5085,  0.4094,  ...,  0.4632,  0.4724,  0.6095]],\n",
       " \n",
       "          [[ 0.2214,  0.5896,  0.2915,  ...,  0.8580,  0.8002,  0.0396],\n",
       "           [ 0.0316,  0.8811,  0.8826,  ...,  0.5112,  0.7312,  0.7223],\n",
       "           [ 0.9627,  0.3829,  0.8462,  ...,  0.7003,  0.5431,  0.4136],\n",
       "           [ 0.7234,  0.1035,  0.1942,  ...,  0.2632,  0.7551,  0.6330]]],\n",
       " \n",
       " \n",
       "         [[[ 0.0084,  0.6907,  0.5056,  ...,  0.6662,  0.6011,  0.5118],\n",
       "           [ 0.1763,  0.4297,  0.8079,  ...,  0.8274,  0.8568,  0.1689],\n",
       "           [ 0.8505,  0.5242,  0.0662,  ...,  0.6188,  0.0508,  0.8658],\n",
       "           [ 0.8454,  0.4787,  0.4232,  ...,  0.4273,  0.7394,  0.4041]],\n",
       " \n",
       "          [[ 0.2675,  0.9523,  0.8277,  ...,  0.8086,  0.0919,  0.3531],\n",
       "           [ 0.7407,  0.7272,  0.0445,  ...,  0.2214,  0.9368,  0.1574],\n",
       "           [ 0.8382,  0.2066,  0.6998,  ...,  0.6520,  0.1694,  0.1538],\n",
       "           [ 0.8557,  0.5085,  0.4094,  ...,  0.4708,  0.0375,  0.1328]],\n",
       " \n",
       "          [[ 0.9578,  0.6248,  0.7823,  ...,  0.1657,  0.5158,  0.1334],\n",
       "           [ 0.2214,  0.5896,  0.2915,  ...,  0.3864,  0.7464,  0.9909],\n",
       "           [ 0.4102,  0.3971,  0.7441,  ...,  0.5721,  0.5035,  0.6121],\n",
       "           [ 0.2214,  0.5896,  0.2915,  ...,  0.5707,  0.4920,  0.7754]],\n",
       " \n",
       "          ...,\n",
       " \n",
       "          [[ 0.9266,  0.1195,  0.9764,  ...,  0.2214,  0.9368,  0.1574],\n",
       "           [ 0.9266,  0.1195,  0.9764,  ...,  0.8086,  0.0919,  0.3531],\n",
       "           [ 0.7668,  0.7890,  0.5304,  ...,  0.1023,  0.2130,  0.1486],\n",
       "           [ 0.4623,  0.5824,  0.4424,  ...,  0.2030,  0.9030,  0.4655]],\n",
       " \n",
       "          [[ 0.0084,  0.6907,  0.5056,  ...,  0.6188,  0.0508,  0.8658],\n",
       "           [ 0.4922,  0.8471,  0.5627,  ...,  0.5765,  0.7067,  0.5356],\n",
       "           [ 0.7407,  0.7272,  0.0445,  ...,  0.8460,  0.4480,  0.8860],\n",
       "           [ 0.4488,  0.0986,  0.1290,  ...,  0.1023,  0.2130,  0.1486]],\n",
       " \n",
       "          [[ 0.7668,  0.7890,  0.5304,  ...,  0.4708,  0.0375,  0.1328],\n",
       "           [ 0.7407,  0.7272,  0.0445,  ...,  0.1936,  0.4663,  0.2149],\n",
       "           [ 0.4922,  0.8471,  0.5627,  ...,  0.8460,  0.4480,  0.8860],\n",
       "           [ 0.0481,  0.0570,  0.2326,  ...,  0.6378,  0.1254,  0.7086]]]],\n",
       "        grad_fn=<CatBackward0>),\n",
       " 'preds': tensor([[[   3.0341,    3.0860,    2.7312,    2.9504],\n",
       "          [   3.3067,    3.3032,    3.2060,    2.9794],\n",
       "          [   3.0391,    3.0372,    3.0430,    3.2176],\n",
       "          ...,\n",
       "          [   2.9874,    2.9305,    2.9086,    2.2273],\n",
       "          [   3.0523,    3.0435,    3.0494,    3.0535],\n",
       "          [   3.0359,    3.0057,    2.3693,    2.6610]],\n",
       " \n",
       "         [[   3.1491,    2.9420,    3.0299,    2.7932],\n",
       "          [   3.0226,    3.2347,    2.9934,    3.2649],\n",
       "          [-100.0000, -100.0000, -100.0000, -100.0000],\n",
       "          ...,\n",
       "          [   2.9492,    2.9618,    2.4814,    2.7587],\n",
       "          [-100.0000, -100.0000, -100.0000,    3.4062],\n",
       "          [   3.2186,    3.0975,    3.0006,    2.5077]],\n",
       " \n",
       "         [[   3.1491,    2.9963,    3.3365,    2.5500],\n",
       "          [   3.1759,    3.2322,    3.2393,    3.2771],\n",
       "          [-100.0000, -100.0000, -100.0000,    3.1978],\n",
       "          ...,\n",
       "          [-100.0000,    2.8227,    2.9287,    1.5275],\n",
       "          [-100.0000, -100.0000, -100.0000,    2.2848],\n",
       "          [   2.3879,    3.0518,    3.1893,    3.1978]],\n",
       " \n",
       "         ...,\n",
       " \n",
       "         [[  -1.8208,   -2.0742,   -2.1533,   -2.7665],\n",
       "          [  -3.4852,   -2.8267,   -3.3055,   -3.2855],\n",
       "          [  -2.3698,   -2.7463,   -1.9031,   -1.9967],\n",
       "          ...,\n",
       "          [  -2.6130,   -1.2248,   -1.6656,   -2.5330],\n",
       "          [  -2.6094,   -2.5543,   -2.1490,   -2.6989],\n",
       "          [  -2.4230,   -1.9916,   -1.8413,   -3.2007]],\n",
       " \n",
       "         [[  -2.4964,   -1.5974,   -2.1952,   -2.7187],\n",
       "          [  -2.5745,   -2.6328,   -2.5292,   -3.0217],\n",
       "          [  -2.7456,   -2.9045,   -2.2369,   -2.1316],\n",
       "          ...,\n",
       "          [  -2.5477,   -2.4087,   -2.0738,   -2.2653],\n",
       "          [  -2.3875,   -2.5053,   -2.3107,   -2.0978],\n",
       "          [  -2.3880,   -2.9971,   -2.0528,   -2.4819]],\n",
       " \n",
       "         [[  -2.3049,   -2.0711,   -2.7843,   -2.3097],\n",
       "          [  -3.1116,   -2.8591,   -4.1014,   -3.2988],\n",
       "          [  -2.1443,   -2.3424,   -1.8194,   -2.3226],\n",
       "          ...,\n",
       "          [  -1.8601,   -1.3052,   -1.5007,   -2.0650],\n",
       "          [  -1.9702,   -1.7289,   -2.2480,   -1.9755],\n",
       "          [  -2.8569,   -1.8573,   -2.0063,   -1.9037]]], grad_fn=<CopySlices>),\n",
       " 'mask_indices': tensor([[False, False, False,  ..., False, False, False],\n",
       "         [False, False, False,  ..., False, False, False],\n",
       "         [False, False, False,  ..., False, False, False],\n",
       "         ...,\n",
       "         [False, False,  True,  ..., False, False, False],\n",
       "         [False, False, False,  ..., False, False, False],\n",
       "         [False, False, False,  ...,  True,  True, False]]),\n",
       " 'unmasked_features': tensor([[[ 0.3987,  0.3901,  1.6176,  ..., -0.5024, -0.7557, -0.7102],\n",
       "          [-0.4854,  0.1070,  2.1785,  ..., -0.5701, -0.7341, -0.7529],\n",
       "          [-0.0367, -0.1209,  1.9720,  ..., -0.5501, -0.7750, -0.7343],\n",
       "          ...,\n",
       "          [-0.2426,  0.7114,  1.3880,  ..., -0.5410, -0.7682, -0.7455],\n",
       "          [-0.2470,  0.1804,  1.2879,  ..., -0.6061, -0.7454, -0.7875],\n",
       "          [ 0.2273, -0.2764,  2.9819,  ..., -0.6371, -0.6618, -0.7588]],\n",
       " \n",
       "         [[-0.2312, -0.7122, -0.6933,  ..., -0.6955, -0.5622, -0.1203],\n",
       "          [-0.1117,  0.3079,  0.5101,  ..., -0.5861, -0.6733,  0.6975],\n",
       "          [-0.7747,  0.0646,  0.6539,  ..., -0.8476, -0.6634, -0.5808],\n",
       "          ...,\n",
       "          [ 0.6284, -0.7722, -0.8114,  ..., -0.8211, -0.6276, -0.5755],\n",
       "          [ 1.8777, -0.8117, -0.7883,  ..., -0.8072, -0.6790,  0.9926],\n",
       "          [ 0.6197, -0.8422, -0.7829,  ..., -0.8167, -0.5600,  0.3412]],\n",
       " \n",
       "         [[-0.3998,  0.5121,  2.0246,  ..., -0.5438, -0.7406, -0.7417],\n",
       "          [-0.3142,  0.3918,  2.0428,  ..., -0.5612, -0.7090, -0.7440],\n",
       "          [-0.2157,  0.3778,  1.8397,  ..., -0.5434, -0.7626, -0.7527],\n",
       "          ...,\n",
       "          [-0.3783,  0.4421,  2.0169,  ..., -0.5479, -0.7123, -0.7290],\n",
       "          [-0.3229,  0.3508,  1.9797,  ..., -0.5577, -0.7505, -0.7435],\n",
       "          [-0.3194,  0.4523,  1.9119,  ..., -0.5494, -0.7573, -0.7220]],\n",
       " \n",
       "         ...,\n",
       " \n",
       "         [[ 0.5043, -0.8365, -0.8685,  ..., -0.8360, -0.7101, -0.1360],\n",
       "          [-0.2884, -0.7902, -0.7940,  ..., -0.7217, -0.6006, -0.3193],\n",
       "          [ 1.0135, -0.8441, -0.8119,  ..., -0.8368, -0.6896, -0.1591],\n",
       "          ...,\n",
       "          [ 0.6476, -0.8545, -0.7617,  ..., -0.8305, -0.6907,  0.2736],\n",
       "          [ 0.4878, -0.8456, -0.7563,  ..., -0.8261, -0.6866,  0.2000],\n",
       "          [ 0.7416, -0.8510, -0.7600,  ..., -0.8288, -0.6909,  0.2048]],\n",
       " \n",
       "         [[-0.3391,  0.2776,  2.0768,  ..., -0.5756, -0.7413, -0.7574],\n",
       "          [-0.2411,  0.4799,  1.9181,  ..., -0.5482, -0.7597, -0.7216],\n",
       "          [-0.3771,  0.4480,  2.0243,  ..., -0.5529, -0.7495, -0.7509],\n",
       "          ...,\n",
       "          [-0.3177,  0.2941,  2.0715,  ..., -0.5604, -0.7335, -0.7516],\n",
       "          [-0.2142,  0.5036,  2.0011,  ..., -0.5395, -0.7510, -0.7320],\n",
       "          [-0.3851,  0.3349,  1.9991,  ..., -0.5626, -0.7423, -0.7478]],\n",
       " \n",
       "         [[ 0.0364,  0.6196,  1.8495,  ..., -0.4984, -0.7483, -0.6798],\n",
       "          [-0.5570,  0.2332,  1.2167,  ..., -0.5595, -0.7362, -0.7400],\n",
       "          [ 0.0439, -0.2779,  2.1370,  ..., -0.5828, -0.7276, -0.7410],\n",
       "          ...,\n",
       "          [ 0.3240, -0.7665, -0.7594,  ..., -0.6069, -0.6404,  0.6055],\n",
       "          [-0.3702, -0.9016, -0.4928,  ..., -0.9061, -0.5971, -0.8605],\n",
       "          [ 2.3457, -0.5934, -0.4856,  ..., -0.5299,  0.5994, -0.7065]]],\n",
       "        grad_fn=<NativeLayerNormBackward0>),\n",
       " 'features_pen': tensor(0.3935, grad_fn=<MeanBackward0>),\n",
       " 'num_vars': 100,\n",
       " 'code_perplexity': tensor(34.4553),\n",
       " 'prob_perplexity': tensor(37.8126, grad_fn=<SumBackward0>),\n",
       " 'temp': 2}"
      ]
     },
     "execution_count": 19,
     "metadata": {},
     "output_type": "execute_result"
    }
   ],
   "source": [
    "m.forward(batch_d)"
   ]
  },
  {
   "cell_type": "code",
   "execution_count": 29,
   "id": "0e0737fc-ea8f-425c-847b-cb1203ac7b78",
   "metadata": {
    "collapsed": true,
    "jupyter": {
     "outputs_hidden": true
    },
    "tags": [],
    "pycharm": {
     "name": "#%%\n"
    }
   },
   "outputs": [
    {
     "data": {
      "application/vnd.jupyter.widget-view+json": {
       "model_id": "b3e2f41d3b524be388fb58a0ea81c9af",
       "version_major": 2,
       "version_minor": 0
      },
      "text/plain": [
       "Batching:   0%|          | 0/20715 [00:00<?, ?it/s]"
      ]
     },
     "metadata": {},
     "output_type": "display_data"
    },
    {
     "name": "stderr",
     "output_type": "stream",
     "text": [
      "Exception ignored in: <function _MultiProcessingDataLoaderIter.__del__ at 0x7f9f1f284310>\n",
      "Traceback (most recent call last):\n",
      "  File \"/home/morgan/.conda/envs/venv_research/lib/python3.9/site-packages/torch/utils/data/dataloader.py\", line 1358, in __del__\n",
      "    self._shutdown_workers()\n",
      "  File \"/home/morgan/.conda/envs/venv_research/lib/python3.9/site-packages/torch/utils/data/dataloader.py\", line 1341, in _shutdown_workers\n",
      "    if w.is_alive():\n",
      "  File \"/home/morgan/.conda/envs/venv_research/lib/python3.9/multiprocessing/process.py\", line 160, in is_alive\n",
      "    assert self._parent_pid == os.getpid(), 'can only test a child process'\n",
      "AssertionError: can only test a child process\n",
      "Exception ignored in: <function _MultiProcessingDataLoaderIter.__del__ at 0x7f9f1f284310>\n",
      "Traceback (most recent call last):\n",
      "  File \"/home/morgan/.conda/envs/venv_research/lib/python3.9/site-packages/torch/utils/data/dataloader.py\", line 1358, in __del__\n",
      "    self._shutdown_workers()Exception ignored in: <function _MultiProcessingDataLoaderIter.__del__ at 0x7f9f1f284310>\n",
      "Traceback (most recent call last):\n",
      "  File \"/home/morgan/.conda/envs/venv_research/lib/python3.9/site-packages/torch/utils/data/dataloader.py\", line 1358, in __del__\n",
      "\n",
      "  File \"/home/morgan/.conda/envs/venv_research/lib/python3.9/site-packages/torch/utils/data/dataloader.py\", line 1341, in _shutdown_workers\n",
      "    self._shutdown_workers()\n",
      "      File \"/home/morgan/.conda/envs/venv_research/lib/python3.9/site-packages/torch/utils/data/dataloader.py\", line 1341, in _shutdown_workers\n",
      "    if w.is_alive():\n",
      "  File \"/home/morgan/.conda/envs/venv_research/lib/python3.9/multiprocessing/process.py\", line 160, in is_alive\n",
      "    assert self._parent_pid == os.getpid(), 'can only test a child process'if w.is_alive():\n",
      "AssertionError: can only test a child process\n",
      "    \n",
      "  File \"/home/morgan/.conda/envs/venv_research/lib/python3.9/multiprocessing/process.py\", line 160, in is_alive\n",
      "assert self._parent_pid == os.getpid(), 'can only test a child process'Exception ignored in: <function _MultiProcessingDataLoaderIter.__del__ at 0x7f9f1f284310>\n",
      "\n",
      "AssertionError: can only test a child processTraceback (most recent call last):\n",
      "\n",
      "  File \"/home/morgan/.conda/envs/venv_research/lib/python3.9/site-packages/torch/utils/data/dataloader.py\", line 1358, in __del__\n",
      "    self._shutdown_workers()\n",
      "  File \"/home/morgan/.conda/envs/venv_research/lib/python3.9/site-packages/torch/utils/data/dataloader.py\", line 1341, in _shutdown_workers\n",
      "    if w.is_alive():\n",
      "  File \"/home/morgan/.conda/envs/venv_research/lib/python3.9/multiprocessing/process.py\", line 160, in is_alive\n",
      "    assert self._parent_pid == os.getpid(), 'can only test a child process'\n",
      "AssertionError: can only test a child process\n",
      "Exception ignored in: <function _MultiProcessingDataLoaderIter.__del__ at 0x7f9f1f284310>\n",
      "Traceback (most recent call last):\n",
      "  File \"/home/morgan/.conda/envs/venv_research/lib/python3.9/site-packages/torch/utils/data/dataloader.py\", line 1358, in __del__\n",
      "    self._shutdown_workers()\n",
      "  File \"/home/morgan/.conda/envs/venv_research/lib/python3.9/site-packages/torch/utils/data/dataloader.py\", line 1341, in _shutdown_workers\n",
      "    if w.is_alive():\n",
      "  File \"/home/morgan/.conda/envs/venv_research/lib/python3.9/multiprocessing/process.py\", line 160, in is_alive\n",
      "    assert self._parent_pid == os.getpid(), 'can only test a child process'\n",
      "AssertionError: can only test a child process\n",
      "Exception ignored in: <function _MultiProcessingDataLoaderIter.__del__ at 0x7f9f1f284310>\n",
      "Traceback (most recent call last):\n",
      "  File \"/home/morgan/.conda/envs/venv_research/lib/python3.9/site-packages/torch/utils/data/dataloader.py\", line 1358, in __del__\n",
      "    self._shutdown_workers()\n",
      "  File \"/home/morgan/.conda/envs/venv_research/lib/python3.9/site-packages/torch/utils/data/dataloader.py\", line 1341, in _shutdown_workers\n",
      "    if w.is_alive():\n",
      "  File \"/home/morgan/.conda/envs/venv_research/lib/python3.9/multiprocessing/process.py\", line 160, in is_alive\n",
      "    assert self._parent_pid == os.getpid(), 'can only test a child process'\n",
      "AssertionError: can only test a child process\n",
      "Exception ignored in: <function _MultiProcessingDataLoaderIter.__del__ at 0x7f9f1f284310>\n",
      "Traceback (most recent call last):\n",
      "  File \"/home/morgan/.conda/envs/venv_research/lib/python3.9/site-packages/torch/utils/data/dataloader.py\", line 1358, in __del__\n",
      "    self._shutdown_workers()\n",
      "  File \"/home/morgan/.conda/envs/venv_research/lib/python3.9/site-packages/torch/utils/data/dataloader.py\", line 1341, in _shutdown_workers\n",
      "    if w.is_alive():\n",
      "  File \"/home/morgan/.conda/envs/venv_research/lib/python3.9/multiprocessing/process.py\", line 160, in is_alive\n",
      "    assert self._parent_pid == os.getpid(), 'can only test a child process'\n",
      "AssertionError: can only test a child process\n",
      "Exception ignored in: <function _MultiProcessingDataLoaderIter.__del__ at 0x7f9f1f284310>\n",
      "Traceback (most recent call last):\n",
      "  File \"/home/morgan/.conda/envs/venv_research/lib/python3.9/site-packages/torch/utils/data/dataloader.py\", line 1358, in __del__\n",
      "    self._shutdown_workers()\n",
      "      File \"/home/morgan/.conda/envs/venv_research/lib/python3.9/site-packages/torch/utils/data/dataloader.py\", line 1341, in _shutdown_workers\n",
      "if w.is_alive():\n",
      "  File \"/home/morgan/.conda/envs/venv_research/lib/python3.9/multiprocessing/process.py\", line 160, in is_alive\n",
      "    assert self._parent_pid == os.getpid(), 'can only test a child process'\n",
      "AssertionError: can only test a child process\n"
     ]
    },
    {
     "ename": "KeyboardInterrupt",
     "evalue": "",
     "output_type": "error",
     "traceback": [
      "\u001B[0;31m---------------------------------------------------------------------------\u001B[0m",
      "\u001B[0;31mKeyboardInterrupt\u001B[0m                         Traceback (most recent call last)",
      "\u001B[0;32m/tmp/ipykernel_3203904/3833130617.py\u001B[0m in \u001B[0;36m<module>\u001B[0;34m\u001B[0m\n\u001B[1;32m     17\u001B[0m \u001B[0;34m\u001B[0m\u001B[0m\n\u001B[1;32m     18\u001B[0m     \u001B[0;32mwith\u001B[0m \u001B[0mtorch\u001B[0m\u001B[0;34m.\u001B[0m\u001B[0mno_grad\u001B[0m\u001B[0;34m(\u001B[0m\u001B[0;34m)\u001B[0m\u001B[0;34m:\u001B[0m\u001B[0;34m\u001B[0m\u001B[0;34m\u001B[0m\u001B[0m\n\u001B[0;32m---> 19\u001B[0;31m         \u001B[0mfeat_d\u001B[0m \u001B[0;34m=\u001B[0m \u001B[0mm\u001B[0m\u001B[0;34m.\u001B[0m\u001B[0mforward\u001B[0m\u001B[0;34m(\u001B[0m\u001B[0mbatch_d\u001B[0m\u001B[0;34m,\u001B[0m \u001B[0mfeatures_only\u001B[0m\u001B[0;34m=\u001B[0m\u001B[0;32mTrue\u001B[0m\u001B[0;34m,\u001B[0m \u001B[0mmask\u001B[0m\u001B[0;34m=\u001B[0m\u001B[0;32mFalse\u001B[0m\u001B[0;34m)\u001B[0m\u001B[0;34m\u001B[0m\u001B[0;34m\u001B[0m\u001B[0m\n\u001B[0m\u001B[1;32m     20\u001B[0m         results_l.append(\n\u001B[1;32m     21\u001B[0m             dict(signal_arr=batch_d['signal_arr'],\n",
      "\u001B[0;32m~/Projects/CMSCResearch/ECOGSpeech/ecog_speech/models/base_transformers.py\u001B[0m in \u001B[0;36mforward\u001B[0;34m(self, X, features_only, mask)\u001B[0m\n\u001B[1;32m    484\u001B[0m                 \u001B[0min_to_context\u001B[0m \u001B[0;34m=\u001B[0m \u001B[0mself\u001B[0m\u001B[0;34m.\u001B[0m\u001B[0mpositional_enc\u001B[0m\u001B[0;34m(\u001B[0m\u001B[0min_to_context\u001B[0m\u001B[0;34m)\u001B[0m\u001B[0;34m\u001B[0m\u001B[0;34m\u001B[0m\u001B[0m\n\u001B[1;32m    485\u001B[0m \u001B[0;34m\u001B[0m\u001B[0m\n\u001B[0;32m--> 486\u001B[0;31m         \u001B[0mx\u001B[0m \u001B[0;34m=\u001B[0m \u001B[0mself\u001B[0m\u001B[0;34m.\u001B[0m\u001B[0mcontext_model\u001B[0m\u001B[0;34m(\u001B[0m\u001B[0min_to_context\u001B[0m\u001B[0;34m)\u001B[0m\u001B[0;34m\u001B[0m\u001B[0;34m\u001B[0m\u001B[0m\n\u001B[0m\u001B[1;32m    487\u001B[0m \u001B[0;34m\u001B[0m\u001B[0m\n\u001B[1;32m    488\u001B[0m         \u001B[0;31m# #################################\u001B[0m\u001B[0;34m\u001B[0m\u001B[0;34m\u001B[0m\u001B[0m\n",
      "\u001B[0;32m~/.conda/envs/venv_research/lib/python3.9/site-packages/torch/nn/modules/module.py\u001B[0m in \u001B[0;36m_call_impl\u001B[0;34m(self, *input, **kwargs)\u001B[0m\n\u001B[1;32m   1108\u001B[0m         if not (self._backward_hooks or self._forward_hooks or self._forward_pre_hooks or _global_backward_hooks\n\u001B[1;32m   1109\u001B[0m                 or _global_forward_hooks or _global_forward_pre_hooks):\n\u001B[0;32m-> 1110\u001B[0;31m             \u001B[0;32mreturn\u001B[0m \u001B[0mforward_call\u001B[0m\u001B[0;34m(\u001B[0m\u001B[0;34m*\u001B[0m\u001B[0minput\u001B[0m\u001B[0;34m,\u001B[0m \u001B[0;34m**\u001B[0m\u001B[0mkwargs\u001B[0m\u001B[0;34m)\u001B[0m\u001B[0;34m\u001B[0m\u001B[0;34m\u001B[0m\u001B[0m\n\u001B[0m\u001B[1;32m   1111\u001B[0m         \u001B[0;31m# Do not call functions when jit is used\u001B[0m\u001B[0;34m\u001B[0m\u001B[0;34m\u001B[0m\u001B[0m\n\u001B[1;32m   1112\u001B[0m         \u001B[0mfull_backward_hooks\u001B[0m\u001B[0;34m,\u001B[0m \u001B[0mnon_full_backward_hooks\u001B[0m \u001B[0;34m=\u001B[0m \u001B[0;34m[\u001B[0m\u001B[0;34m]\u001B[0m\u001B[0;34m,\u001B[0m \u001B[0;34m[\u001B[0m\u001B[0;34m]\u001B[0m\u001B[0;34m\u001B[0m\u001B[0;34m\u001B[0m\u001B[0m\n",
      "\u001B[0;32m~/.conda/envs/venv_research/lib/python3.9/site-packages/torch/nn/modules/transformer.py\u001B[0m in \u001B[0;36mforward\u001B[0;34m(self, src, mask, src_key_padding_mask)\u001B[0m\n\u001B[1;32m    200\u001B[0m \u001B[0;34m\u001B[0m\u001B[0m\n\u001B[1;32m    201\u001B[0m         \u001B[0;32mfor\u001B[0m \u001B[0mmod\u001B[0m \u001B[0;32min\u001B[0m \u001B[0mself\u001B[0m\u001B[0;34m.\u001B[0m\u001B[0mlayers\u001B[0m\u001B[0;34m:\u001B[0m\u001B[0;34m\u001B[0m\u001B[0;34m\u001B[0m\u001B[0m\n\u001B[0;32m--> 202\u001B[0;31m             \u001B[0moutput\u001B[0m \u001B[0;34m=\u001B[0m \u001B[0mmod\u001B[0m\u001B[0;34m(\u001B[0m\u001B[0moutput\u001B[0m\u001B[0;34m,\u001B[0m \u001B[0msrc_mask\u001B[0m\u001B[0;34m=\u001B[0m\u001B[0mmask\u001B[0m\u001B[0;34m,\u001B[0m \u001B[0msrc_key_padding_mask\u001B[0m\u001B[0;34m=\u001B[0m\u001B[0msrc_key_padding_mask\u001B[0m\u001B[0;34m)\u001B[0m\u001B[0;34m\u001B[0m\u001B[0;34m\u001B[0m\u001B[0m\n\u001B[0m\u001B[1;32m    203\u001B[0m \u001B[0;34m\u001B[0m\u001B[0m\n\u001B[1;32m    204\u001B[0m         \u001B[0;32mif\u001B[0m \u001B[0mself\u001B[0m\u001B[0;34m.\u001B[0m\u001B[0mnorm\u001B[0m \u001B[0;32mis\u001B[0m \u001B[0;32mnot\u001B[0m \u001B[0;32mNone\u001B[0m\u001B[0;34m:\u001B[0m\u001B[0;34m\u001B[0m\u001B[0;34m\u001B[0m\u001B[0m\n",
      "\u001B[0;32m~/.conda/envs/venv_research/lib/python3.9/site-packages/torch/nn/modules/module.py\u001B[0m in \u001B[0;36m_call_impl\u001B[0;34m(self, *input, **kwargs)\u001B[0m\n\u001B[1;32m   1108\u001B[0m         if not (self._backward_hooks or self._forward_hooks or self._forward_pre_hooks or _global_backward_hooks\n\u001B[1;32m   1109\u001B[0m                 or _global_forward_hooks or _global_forward_pre_hooks):\n\u001B[0;32m-> 1110\u001B[0;31m             \u001B[0;32mreturn\u001B[0m \u001B[0mforward_call\u001B[0m\u001B[0;34m(\u001B[0m\u001B[0;34m*\u001B[0m\u001B[0minput\u001B[0m\u001B[0;34m,\u001B[0m \u001B[0;34m**\u001B[0m\u001B[0mkwargs\u001B[0m\u001B[0;34m)\u001B[0m\u001B[0;34m\u001B[0m\u001B[0;34m\u001B[0m\u001B[0m\n\u001B[0m\u001B[1;32m   1111\u001B[0m         \u001B[0;31m# Do not call functions when jit is used\u001B[0m\u001B[0;34m\u001B[0m\u001B[0;34m\u001B[0m\u001B[0m\n\u001B[1;32m   1112\u001B[0m         \u001B[0mfull_backward_hooks\u001B[0m\u001B[0;34m,\u001B[0m \u001B[0mnon_full_backward_hooks\u001B[0m \u001B[0;34m=\u001B[0m \u001B[0;34m[\u001B[0m\u001B[0;34m]\u001B[0m\u001B[0;34m,\u001B[0m \u001B[0;34m[\u001B[0m\u001B[0;34m]\u001B[0m\u001B[0;34m\u001B[0m\u001B[0;34m\u001B[0m\u001B[0m\n",
      "\u001B[0;32m~/.conda/envs/venv_research/lib/python3.9/site-packages/torch/nn/modules/transformer.py\u001B[0m in \u001B[0;36mforward\u001B[0;34m(self, src, src_mask, src_key_padding_mask)\u001B[0m\n\u001B[1;32m    343\u001B[0m         \u001B[0;32melse\u001B[0m\u001B[0;34m:\u001B[0m\u001B[0;34m\u001B[0m\u001B[0;34m\u001B[0m\u001B[0m\n\u001B[1;32m    344\u001B[0m             \u001B[0mx\u001B[0m \u001B[0;34m=\u001B[0m \u001B[0mself\u001B[0m\u001B[0;34m.\u001B[0m\u001B[0mnorm1\u001B[0m\u001B[0;34m(\u001B[0m\u001B[0mx\u001B[0m \u001B[0;34m+\u001B[0m \u001B[0mself\u001B[0m\u001B[0;34m.\u001B[0m\u001B[0m_sa_block\u001B[0m\u001B[0;34m(\u001B[0m\u001B[0mx\u001B[0m\u001B[0;34m,\u001B[0m \u001B[0msrc_mask\u001B[0m\u001B[0;34m,\u001B[0m \u001B[0msrc_key_padding_mask\u001B[0m\u001B[0;34m)\u001B[0m\u001B[0;34m)\u001B[0m\u001B[0;34m\u001B[0m\u001B[0;34m\u001B[0m\u001B[0m\n\u001B[0;32m--> 345\u001B[0;31m             \u001B[0mx\u001B[0m \u001B[0;34m=\u001B[0m \u001B[0mself\u001B[0m\u001B[0;34m.\u001B[0m\u001B[0mnorm2\u001B[0m\u001B[0;34m(\u001B[0m\u001B[0mx\u001B[0m \u001B[0;34m+\u001B[0m \u001B[0mself\u001B[0m\u001B[0;34m.\u001B[0m\u001B[0m_ff_block\u001B[0m\u001B[0;34m(\u001B[0m\u001B[0mx\u001B[0m\u001B[0;34m)\u001B[0m\u001B[0;34m)\u001B[0m\u001B[0;34m\u001B[0m\u001B[0;34m\u001B[0m\u001B[0m\n\u001B[0m\u001B[1;32m    346\u001B[0m \u001B[0;34m\u001B[0m\u001B[0m\n\u001B[1;32m    347\u001B[0m         \u001B[0;32mreturn\u001B[0m \u001B[0mx\u001B[0m\u001B[0;34m\u001B[0m\u001B[0;34m\u001B[0m\u001B[0m\n",
      "\u001B[0;32m~/.conda/envs/venv_research/lib/python3.9/site-packages/torch/nn/modules/transformer.py\u001B[0m in \u001B[0;36m_ff_block\u001B[0;34m(self, x)\u001B[0m\n\u001B[1;32m    358\u001B[0m     \u001B[0;31m# feed forward block\u001B[0m\u001B[0;34m\u001B[0m\u001B[0;34m\u001B[0m\u001B[0m\n\u001B[1;32m    359\u001B[0m     \u001B[0;32mdef\u001B[0m \u001B[0m_ff_block\u001B[0m\u001B[0;34m(\u001B[0m\u001B[0mself\u001B[0m\u001B[0;34m,\u001B[0m \u001B[0mx\u001B[0m\u001B[0;34m:\u001B[0m \u001B[0mTensor\u001B[0m\u001B[0;34m)\u001B[0m \u001B[0;34m->\u001B[0m \u001B[0mTensor\u001B[0m\u001B[0;34m:\u001B[0m\u001B[0;34m\u001B[0m\u001B[0;34m\u001B[0m\u001B[0m\n\u001B[0;32m--> 360\u001B[0;31m         \u001B[0mx\u001B[0m \u001B[0;34m=\u001B[0m \u001B[0mself\u001B[0m\u001B[0;34m.\u001B[0m\u001B[0mlinear2\u001B[0m\u001B[0;34m(\u001B[0m\u001B[0mself\u001B[0m\u001B[0;34m.\u001B[0m\u001B[0mdropout\u001B[0m\u001B[0;34m(\u001B[0m\u001B[0mself\u001B[0m\u001B[0;34m.\u001B[0m\u001B[0mactivation\u001B[0m\u001B[0;34m(\u001B[0m\u001B[0mself\u001B[0m\u001B[0;34m.\u001B[0m\u001B[0mlinear1\u001B[0m\u001B[0;34m(\u001B[0m\u001B[0mx\u001B[0m\u001B[0;34m)\u001B[0m\u001B[0;34m)\u001B[0m\u001B[0;34m)\u001B[0m\u001B[0;34m)\u001B[0m\u001B[0;34m\u001B[0m\u001B[0;34m\u001B[0m\u001B[0m\n\u001B[0m\u001B[1;32m    361\u001B[0m         \u001B[0;32mreturn\u001B[0m \u001B[0mself\u001B[0m\u001B[0;34m.\u001B[0m\u001B[0mdropout2\u001B[0m\u001B[0;34m(\u001B[0m\u001B[0mx\u001B[0m\u001B[0;34m)\u001B[0m\u001B[0;34m\u001B[0m\u001B[0;34m\u001B[0m\u001B[0m\n\u001B[1;32m    362\u001B[0m \u001B[0;34m\u001B[0m\u001B[0m\n",
      "\u001B[0;32m~/.conda/envs/venv_research/lib/python3.9/site-packages/torch/nn/modules/module.py\u001B[0m in \u001B[0;36m_call_impl\u001B[0;34m(self, *input, **kwargs)\u001B[0m\n\u001B[1;32m   1108\u001B[0m         if not (self._backward_hooks or self._forward_hooks or self._forward_pre_hooks or _global_backward_hooks\n\u001B[1;32m   1109\u001B[0m                 or _global_forward_hooks or _global_forward_pre_hooks):\n\u001B[0;32m-> 1110\u001B[0;31m             \u001B[0;32mreturn\u001B[0m \u001B[0mforward_call\u001B[0m\u001B[0;34m(\u001B[0m\u001B[0;34m*\u001B[0m\u001B[0minput\u001B[0m\u001B[0;34m,\u001B[0m \u001B[0;34m**\u001B[0m\u001B[0mkwargs\u001B[0m\u001B[0;34m)\u001B[0m\u001B[0;34m\u001B[0m\u001B[0;34m\u001B[0m\u001B[0m\n\u001B[0m\u001B[1;32m   1111\u001B[0m         \u001B[0;31m# Do not call functions when jit is used\u001B[0m\u001B[0;34m\u001B[0m\u001B[0;34m\u001B[0m\u001B[0m\n\u001B[1;32m   1112\u001B[0m         \u001B[0mfull_backward_hooks\u001B[0m\u001B[0;34m,\u001B[0m \u001B[0mnon_full_backward_hooks\u001B[0m \u001B[0;34m=\u001B[0m \u001B[0;34m[\u001B[0m\u001B[0;34m]\u001B[0m\u001B[0;34m,\u001B[0m \u001B[0;34m[\u001B[0m\u001B[0;34m]\u001B[0m\u001B[0;34m\u001B[0m\u001B[0;34m\u001B[0m\u001B[0m\n",
      "\u001B[0;32m~/.conda/envs/venv_research/lib/python3.9/site-packages/torch/nn/modules/linear.py\u001B[0m in \u001B[0;36mforward\u001B[0;34m(self, input)\u001B[0m\n\u001B[1;32m    101\u001B[0m \u001B[0;34m\u001B[0m\u001B[0m\n\u001B[1;32m    102\u001B[0m     \u001B[0;32mdef\u001B[0m \u001B[0mforward\u001B[0m\u001B[0;34m(\u001B[0m\u001B[0mself\u001B[0m\u001B[0;34m,\u001B[0m \u001B[0minput\u001B[0m\u001B[0;34m:\u001B[0m \u001B[0mTensor\u001B[0m\u001B[0;34m)\u001B[0m \u001B[0;34m->\u001B[0m \u001B[0mTensor\u001B[0m\u001B[0;34m:\u001B[0m\u001B[0;34m\u001B[0m\u001B[0;34m\u001B[0m\u001B[0m\n\u001B[0;32m--> 103\u001B[0;31m         \u001B[0;32mreturn\u001B[0m \u001B[0mF\u001B[0m\u001B[0;34m.\u001B[0m\u001B[0mlinear\u001B[0m\u001B[0;34m(\u001B[0m\u001B[0minput\u001B[0m\u001B[0;34m,\u001B[0m \u001B[0mself\u001B[0m\u001B[0;34m.\u001B[0m\u001B[0mweight\u001B[0m\u001B[0;34m,\u001B[0m \u001B[0mself\u001B[0m\u001B[0;34m.\u001B[0m\u001B[0mbias\u001B[0m\u001B[0;34m)\u001B[0m\u001B[0;34m\u001B[0m\u001B[0;34m\u001B[0m\u001B[0m\n\u001B[0m\u001B[1;32m    104\u001B[0m \u001B[0;34m\u001B[0m\u001B[0m\n\u001B[1;32m    105\u001B[0m     \u001B[0;32mdef\u001B[0m \u001B[0mextra_repr\u001B[0m\u001B[0;34m(\u001B[0m\u001B[0mself\u001B[0m\u001B[0;34m)\u001B[0m \u001B[0;34m->\u001B[0m \u001B[0mstr\u001B[0m\u001B[0;34m:\u001B[0m\u001B[0;34m\u001B[0m\u001B[0;34m\u001B[0m\u001B[0m\n",
      "\u001B[0;31mKeyboardInterrupt\u001B[0m: "
     ]
    }
   ],
   "source": [
    "from tqdm.auto import tqdm\n",
    "import torch\n",
    "\n",
    "results_l = list()\n",
    "\n",
    "#cog2vec.eval()\n",
    "m = cog2vec.to(trainer.device).eval()\n",
    "#_dl = cv_dl\n",
    "_dl = hvs_all.to_dataloader(num_workers=4, batch_size=256)\n",
    "#sens_id = 10\n",
    "for batch_d in tqdm(_dl, desc=\"Batching\"):\n",
    "    #X_barr = batch_d['signal_arr'].to(trainer.device)\n",
    "    # Select a single sensor for now and remove the singleton dimension\n",
    "    #sens_id = np.random.randint(0, X_barr.shape[1])\n",
    "    \n",
    "    #X = X_barr.select(1, sens_id).unsqueeze(1)\n",
    "\n",
    "    with torch.no_grad():\n",
    "        feat_d = m.forward(batch_d, features_only=True, mask=False)\n",
    "        results_l.append(\n",
    "            dict(signal_arr=batch_d['signal_arr'],\n",
    "                 target_arr=batch_d['target_arr'],\n",
    "                 #signal_arr=batch_d['signal_arr'].detach().cpu().numpy(),\n",
    "                **{n:arr.detach().cpu().numpy() for n, arr in feat_d.items()}))"
   ]
  },
  {
   "cell_type": "markdown",
   "id": "5a15d3b8-64d6-4f4e-80f1-a25d51f5a207",
   "metadata": {
    "pycharm": {
     "name": "#%% md\n"
    }
   },
   "source": [
    "Shapes of each batch output"
   ]
  },
  {
   "cell_type": "code",
   "execution_count": 30,
   "id": "c253d1f3-4084-4cbd-8ae5-9954573f6dc1",
   "metadata": {
    "pycharm": {
     "name": "#%%\n"
    }
   },
   "outputs": [
    {
     "data": {
      "text/plain": [
       "{'signal_arr': torch.Size([256, 1, 256]),\n",
       " 'target_arr': torch.Size([256, 1]),\n",
       " 'x': (256, 18, 128),\n",
       " 'features': (256, 18, 128)}"
      ]
     },
     "execution_count": 30,
     "metadata": {},
     "output_type": "execute_result"
    }
   ],
   "source": [
    "{k: a.shape for k, a in results_l[0].items()}"
   ]
  },
  {
   "cell_type": "markdown",
   "id": "e6e79815-6320-4edb-95be-d40fc426f7d6",
   "metadata": {
    "pycharm": {
     "name": "#%% md\n"
    }
   },
   "source": [
    "Concat into arrays and load into pandas objects"
   ]
  },
  {
   "cell_type": "code",
   "execution_count": 39,
   "id": "e32f675f-a2d9-44c8-8473-4866ae5a814a",
   "metadata": {
    "pycharm": {
     "name": "#%%\n"
    }
   },
   "outputs": [],
   "source": [
    "all_x = np.concatenate([r['x'] for r in results_l])\n",
    "all_x_df = pd.DataFrame(all_x.reshape(all_x.shape[0], -1))\n",
    "\n",
    "all_feats = np.concatenate([r['features'] for r in results_l])\n",
    "all_feats_df = pd.DataFrame(all_feats.reshape(all_feats.shape[0], -1))\n",
    "\n",
    "# If there was a target\n",
    "all_y = np.concatenate([r['target_arr'] for r in results_l])\n",
    "all_y_s = pd.Series(all_y.squeeze(), name='target_val')"
   ]
  },
  {
   "cell_type": "markdown",
   "id": "f270d051-1436-4691-a660-7c0a0364a200",
   "metadata": {
    "pycharm": {
     "name": "#%% md\n"
    }
   },
   "source": [
    "### inspect outputs\n",
    "- x are the data from context model\n",
    "- features are data from feature extraction model (conv)"
   ]
  },
  {
   "cell_type": "code",
   "execution_count": 33,
   "id": "c537a628-ed18-40c4-89a7-9bbaf70000d1",
   "metadata": {
    "pycharm": {
     "name": "#%%\n"
    }
   },
   "outputs": [
    {
     "name": "stdout",
     "output_type": "stream",
     "text": [
      "CPU times: user 3.07 s, sys: 0 ns, total: 3.07 s\n",
      "Wall time: 3.07 s\n"
     ]
    },
    {
     "data": {
      "text/html": [
       "<div>\n",
       "<style scoped>\n",
       "    .dataframe tbody tr th:only-of-type {\n",
       "        vertical-align: middle;\n",
       "    }\n",
       "\n",
       "    .dataframe tbody tr th {\n",
       "        vertical-align: top;\n",
       "    }\n",
       "\n",
       "    .dataframe thead th {\n",
       "        text-align: right;\n",
       "    }\n",
       "</style>\n",
       "<table border=\"1\" class=\"dataframe\">\n",
       "  <thead>\n",
       "    <tr style=\"text-align: right;\">\n",
       "      <th></th>\n",
       "      <th>0</th>\n",
       "      <th>1</th>\n",
       "      <th>2</th>\n",
       "      <th>3</th>\n",
       "      <th>4</th>\n",
       "      <th>5</th>\n",
       "      <th>6</th>\n",
       "      <th>7</th>\n",
       "      <th>8</th>\n",
       "      <th>9</th>\n",
       "      <th>...</th>\n",
       "      <th>2294</th>\n",
       "      <th>2295</th>\n",
       "      <th>2296</th>\n",
       "      <th>2297</th>\n",
       "      <th>2298</th>\n",
       "      <th>2299</th>\n",
       "      <th>2300</th>\n",
       "      <th>2301</th>\n",
       "      <th>2302</th>\n",
       "      <th>2303</th>\n",
       "    </tr>\n",
       "  </thead>\n",
       "  <tbody>\n",
       "    <tr>\n",
       "      <th>count</th>\n",
       "      <td>1792.000000</td>\n",
       "      <td>1792.000000</td>\n",
       "      <td>1792.000000</td>\n",
       "      <td>1792.000000</td>\n",
       "      <td>1792.000000</td>\n",
       "      <td>1792.000000</td>\n",
       "      <td>1792.000000</td>\n",
       "      <td>1792.000000</td>\n",
       "      <td>1792.000000</td>\n",
       "      <td>1792.000000</td>\n",
       "      <td>...</td>\n",
       "      <td>1792.000000</td>\n",
       "      <td>1792.000000</td>\n",
       "      <td>1792.000000</td>\n",
       "      <td>1792.000000</td>\n",
       "      <td>1792.000000</td>\n",
       "      <td>1792.000000</td>\n",
       "      <td>1792.000000</td>\n",
       "      <td>1792.000000</td>\n",
       "      <td>1792.000000</td>\n",
       "      <td>1792.000000</td>\n",
       "    </tr>\n",
       "    <tr>\n",
       "      <th>mean</th>\n",
       "      <td>-0.479185</td>\n",
       "      <td>-0.115014</td>\n",
       "      <td>-0.263100</td>\n",
       "      <td>0.347260</td>\n",
       "      <td>-0.036701</td>\n",
       "      <td>0.665098</td>\n",
       "      <td>0.771628</td>\n",
       "      <td>0.035955</td>\n",
       "      <td>-0.217945</td>\n",
       "      <td>-1.541625</td>\n",
       "      <td>...</td>\n",
       "      <td>1.022215</td>\n",
       "      <td>0.008866</td>\n",
       "      <td>-0.100898</td>\n",
       "      <td>0.221274</td>\n",
       "      <td>-1.086501</td>\n",
       "      <td>-0.084912</td>\n",
       "      <td>0.222425</td>\n",
       "      <td>0.575184</td>\n",
       "      <td>-0.499534</td>\n",
       "      <td>1.098970</td>\n",
       "    </tr>\n",
       "    <tr>\n",
       "      <th>std</th>\n",
       "      <td>0.346889</td>\n",
       "      <td>1.602428</td>\n",
       "      <td>0.157944</td>\n",
       "      <td>0.359068</td>\n",
       "      <td>0.325324</td>\n",
       "      <td>0.369263</td>\n",
       "      <td>0.174835</td>\n",
       "      <td>0.773029</td>\n",
       "      <td>0.122478</td>\n",
       "      <td>1.354553</td>\n",
       "      <td>...</td>\n",
       "      <td>0.272323</td>\n",
       "      <td>0.550396</td>\n",
       "      <td>0.529903</td>\n",
       "      <td>0.535759</td>\n",
       "      <td>0.302170</td>\n",
       "      <td>0.168782</td>\n",
       "      <td>0.421841</td>\n",
       "      <td>1.358370</td>\n",
       "      <td>0.295342</td>\n",
       "      <td>0.669866</td>\n",
       "    </tr>\n",
       "    <tr>\n",
       "      <th>min</th>\n",
       "      <td>-1.078949</td>\n",
       "      <td>-2.203747</td>\n",
       "      <td>-0.735588</td>\n",
       "      <td>-0.266217</td>\n",
       "      <td>-0.652266</td>\n",
       "      <td>0.063489</td>\n",
       "      <td>0.471968</td>\n",
       "      <td>-1.002485</td>\n",
       "      <td>-0.502738</td>\n",
       "      <td>-3.004821</td>\n",
       "      <td>...</td>\n",
       "      <td>0.481093</td>\n",
       "      <td>-0.918609</td>\n",
       "      <td>-0.836385</td>\n",
       "      <td>-0.487682</td>\n",
       "      <td>-1.703248</td>\n",
       "      <td>-0.670286</td>\n",
       "      <td>-0.411187</td>\n",
       "      <td>-1.481032</td>\n",
       "      <td>-1.032064</td>\n",
       "      <td>0.063779</td>\n",
       "    </tr>\n",
       "    <tr>\n",
       "      <th>25%</th>\n",
       "      <td>-0.726661</td>\n",
       "      <td>-1.785953</td>\n",
       "      <td>-0.389468</td>\n",
       "      <td>-0.018830</td>\n",
       "      <td>-0.299862</td>\n",
       "      <td>0.264445</td>\n",
       "      <td>0.623795</td>\n",
       "      <td>-0.803340</td>\n",
       "      <td>-0.317629</td>\n",
       "      <td>-2.798187</td>\n",
       "      <td>...</td>\n",
       "      <td>0.934160</td>\n",
       "      <td>-0.591181</td>\n",
       "      <td>-0.691724</td>\n",
       "      <td>-0.309593</td>\n",
       "      <td>-1.340740</td>\n",
       "      <td>-0.209133</td>\n",
       "      <td>-0.251238</td>\n",
       "      <td>-0.931508</td>\n",
       "      <td>-0.821578</td>\n",
       "      <td>0.354779</td>\n",
       "    </tr>\n",
       "    <tr>\n",
       "      <th>50%</th>\n",
       "      <td>-0.655455</td>\n",
       "      <td>-0.360997</td>\n",
       "      <td>-0.224103</td>\n",
       "      <td>0.310194</td>\n",
       "      <td>-0.178781</td>\n",
       "      <td>0.703138</td>\n",
       "      <td>0.744016</td>\n",
       "      <td>-0.051098</td>\n",
       "      <td>-0.262154</td>\n",
       "      <td>-2.211086</td>\n",
       "      <td>...</td>\n",
       "      <td>1.057053</td>\n",
       "      <td>0.365308</td>\n",
       "      <td>-0.072605</td>\n",
       "      <td>0.038674</td>\n",
       "      <td>-1.094486</td>\n",
       "      <td>-0.034137</td>\n",
       "      <td>0.346529</td>\n",
       "      <td>1.082882</td>\n",
       "      <td>-0.354718</td>\n",
       "      <td>1.332679</td>\n",
       "    </tr>\n",
       "    <tr>\n",
       "      <th>75%</th>\n",
       "      <td>-0.132421</td>\n",
       "      <td>1.728733</td>\n",
       "      <td>-0.144222</td>\n",
       "      <td>0.747137</td>\n",
       "      <td>0.346981</td>\n",
       "      <td>1.042273</td>\n",
       "      <td>0.909175</td>\n",
       "      <td>0.917033</td>\n",
       "      <td>-0.130705</td>\n",
       "      <td>-0.086369</td>\n",
       "      <td>...</td>\n",
       "      <td>1.209773</td>\n",
       "      <td>0.442636</td>\n",
       "      <td>0.478944</td>\n",
       "      <td>0.833848</td>\n",
       "      <td>-0.893261</td>\n",
       "      <td>0.056453</td>\n",
       "      <td>0.655778</td>\n",
       "      <td>1.915891</td>\n",
       "      <td>-0.267637</td>\n",
       "      <td>1.693762</td>\n",
       "    </tr>\n",
       "    <tr>\n",
       "      <th>max</th>\n",
       "      <td>0.259776</td>\n",
       "      <td>2.038259</td>\n",
       "      <td>-0.001406</td>\n",
       "      <td>1.052722</td>\n",
       "      <td>0.526300</td>\n",
       "      <td>1.286232</td>\n",
       "      <td>1.293574</td>\n",
       "      <td>1.160072</td>\n",
       "      <td>0.159552</td>\n",
       "      <td>0.636299</td>\n",
       "      <td>...</td>\n",
       "      <td>1.699427</td>\n",
       "      <td>0.792790</td>\n",
       "      <td>0.709145</td>\n",
       "      <td>1.018336</td>\n",
       "      <td>-0.533509</td>\n",
       "      <td>0.239973</td>\n",
       "      <td>0.743607</td>\n",
       "      <td>2.195361</td>\n",
       "      <td>0.160558</td>\n",
       "      <td>2.016001</td>\n",
       "    </tr>\n",
       "  </tbody>\n",
       "</table>\n",
       "<p>8 rows × 2304 columns</p>\n",
       "</div>"
      ],
      "text/plain": [
       "              0            1            2            3            4     \\\n",
       "count  1792.000000  1792.000000  1792.000000  1792.000000  1792.000000   \n",
       "mean     -0.479185    -0.115014    -0.263100     0.347260    -0.036701   \n",
       "std       0.346889     1.602428     0.157944     0.359068     0.325324   \n",
       "min      -1.078949    -2.203747    -0.735588    -0.266217    -0.652266   \n",
       "25%      -0.726661    -1.785953    -0.389468    -0.018830    -0.299862   \n",
       "50%      -0.655455    -0.360997    -0.224103     0.310194    -0.178781   \n",
       "75%      -0.132421     1.728733    -0.144222     0.747137     0.346981   \n",
       "max       0.259776     2.038259    -0.001406     1.052722     0.526300   \n",
       "\n",
       "              5            6            7            8            9     ...  \\\n",
       "count  1792.000000  1792.000000  1792.000000  1792.000000  1792.000000  ...   \n",
       "mean      0.665098     0.771628     0.035955    -0.217945    -1.541625  ...   \n",
       "std       0.369263     0.174835     0.773029     0.122478     1.354553  ...   \n",
       "min       0.063489     0.471968    -1.002485    -0.502738    -3.004821  ...   \n",
       "25%       0.264445     0.623795    -0.803340    -0.317629    -2.798187  ...   \n",
       "50%       0.703138     0.744016    -0.051098    -0.262154    -2.211086  ...   \n",
       "75%       1.042273     0.909175     0.917033    -0.130705    -0.086369  ...   \n",
       "max       1.286232     1.293574     1.160072     0.159552     0.636299  ...   \n",
       "\n",
       "              2294         2295         2296         2297         2298  \\\n",
       "count  1792.000000  1792.000000  1792.000000  1792.000000  1792.000000   \n",
       "mean      1.022215     0.008866    -0.100898     0.221274    -1.086501   \n",
       "std       0.272323     0.550396     0.529903     0.535759     0.302170   \n",
       "min       0.481093    -0.918609    -0.836385    -0.487682    -1.703248   \n",
       "25%       0.934160    -0.591181    -0.691724    -0.309593    -1.340740   \n",
       "50%       1.057053     0.365308    -0.072605     0.038674    -1.094486   \n",
       "75%       1.209773     0.442636     0.478944     0.833848    -0.893261   \n",
       "max       1.699427     0.792790     0.709145     1.018336    -0.533509   \n",
       "\n",
       "              2299         2300         2301         2302         2303  \n",
       "count  1792.000000  1792.000000  1792.000000  1792.000000  1792.000000  \n",
       "mean     -0.084912     0.222425     0.575184    -0.499534     1.098970  \n",
       "std       0.168782     0.421841     1.358370     0.295342     0.669866  \n",
       "min      -0.670286    -0.411187    -1.481032    -1.032064     0.063779  \n",
       "25%      -0.209133    -0.251238    -0.931508    -0.821578     0.354779  \n",
       "50%      -0.034137     0.346529     1.082882    -0.354718     1.332679  \n",
       "75%       0.056453     0.655778     1.915891    -0.267637     1.693762  \n",
       "max       0.239973     0.743607     2.195361     0.160558     2.016001  \n",
       "\n",
       "[8 rows x 2304 columns]"
      ]
     },
     "execution_count": 33,
     "metadata": {},
     "output_type": "execute_result"
    }
   ],
   "source": [
    "%%time\n",
    "all_x_df.describe()"
   ]
  },
  {
   "cell_type": "markdown",
   "id": "8d26d690-c5e4-4a0e-bbfb-8859517b8e59",
   "metadata": {
    "pycharm": {
     "name": "#%% md\n"
    }
   },
   "source": [
    "Correlate features with speaking/not-speaking"
   ]
  },
  {
   "cell_type": "code",
   "execution_count": 40,
   "id": "2eb8d555-eb7c-429b-9ede-7cc76516bbc6",
   "metadata": {
    "pycharm": {
     "name": "#%%\n"
    }
   },
   "outputs": [],
   "source": [
    "corr_speak_df = all_x_df.corrwith(all_y_s)"
   ]
  },
  {
   "cell_type": "code",
   "execution_count": 41,
   "id": "a34b591a-de10-42c7-9b11-ae87140f595c",
   "metadata": {
    "pycharm": {
     "name": "#%%\n"
    }
   },
   "outputs": [
    {
     "data": {
      "image/png": "[encoded data removed]",
      "text/plain": [
       "<Figure size 640x480 with 1 Axes>"
      ]
     },
     "metadata": {},
     "output_type": "display_data"
    }
   ],
   "source": [
    "ax = corr_speak_df.hist()"
   ]
  },
  {
   "cell_type": "code",
   "execution_count": 42,
   "id": "da27fcd6-5676-40fe-95bc-ccd7a6d0f6c4",
   "metadata": {
    "pycharm": {
     "name": "#%%\n"
    }
   },
   "outputs": [],
   "source": [
    "def pca_and_plot(_df):\n",
    "\n",
    "    from sklearn.decomposition import PCA\n",
    "\n",
    "    _pca_arr = PCA(2).fit_transform(_df)\n",
    "\n",
    "    _pca_df = pd.DataFrame(_pca_arr)\n",
    "    \n",
    "    ax = _pca_df.plot.scatter(x=0, y=1, alpha=0.3, c=all_y_s, cmap='tab10', sharex=False)\n",
    "    fig = ax.get_figure()\n",
    "    fig.patch.set_facecolor('white')\n",
    "    return _pca_df, fig, ax"
   ]
  },
  {
   "cell_type": "code",
   "execution_count": 43,
   "id": "0dd29dd8-9456-4890-ba75-1b905673b29f",
   "metadata": {
    "pycharm": {
     "name": "#%%\n"
    }
   },
   "outputs": [
    {
     "data": {
      "image/png": "[encoded data removed]",
      "text/plain": [
       "<Figure size 640x480 with 2 Axes>"
      ]
     },
     "metadata": {},
     "output_type": "display_data"
    }
   ],
   "source": [
    "_pca_df, fig, axs = pca_and_plot(all_x_df)"
   ]
  },
  {
   "cell_type": "code",
   "execution_count": 45,
   "id": "4869dc13-4de9-4c38-ad5d-bafd67dc7783",
   "metadata": {
    "collapsed": true,
    "jupyter": {
     "outputs_hidden": true
    },
    "tags": [],
    "pycharm": {
     "name": "#%%\n"
    }
   },
   "outputs": [
    {
     "data": {
      "text/plain": [
       "<seaborn.axisgrid.PairGrid at 0x7f9eae09c6d0>"
      ]
     },
     "execution_count": 45,
     "metadata": {},
     "output_type": "execute_result"
    },
    {
     "data": {
      "image/png": "[encoded data removed]",
      "text/plain": [
       "<Figure size 581.361x500 with 6 Axes>"
      ]
     },
     "metadata": {},
     "output_type": "display_data"
    }
   ],
   "source": [
    "import seaborn as sns\n",
    "_plt_df = _pca_df.join(all_y_s)\n",
    "plt_kws = dict( hue='target_val', diag_kws=dict(common_norm=False), kind='hist',\n",
    "             diag_kind='kde',)\n",
    "sns.pairplot(_plt_df, **plt_kws)\n",
    "#sns.pairplot(_plt_df.groupby(all_y_s.name).sample(3000), **plt_kws)\n",
    "\n",
    "#sns.pairplot(_plt_df, hue='is_speaking', diag_kws=dict(common_norm=True), kind='hist',\n",
    "#             diag_kind='kde',)\n"
   ]
  },
  {
   "cell_type": "code",
   "execution_count": null,
   "id": "547f46c7-65c0-4fc2-b4a7-c65488cb2a6e",
   "metadata": {
    "pycharm": {
     "name": "#%%\n"
    }
   },
   "outputs": [],
   "source": [
    "# NxN correlation - need parallel frameworkt to be reasonable\n",
    "#all_x_corr = all_x_df.corr()"
   ]
  },
  {
   "cell_type": "markdown",
   "id": "3a815cf3-d888-4bc7-a4c2-60c4ff501def",
   "metadata": {
    "pycharm": {
     "name": "#%% md\n"
    }
   },
   "source": [
    "inspect context output features"
   ]
  },
  {
   "cell_type": "code",
   "execution_count": 46,
   "id": "88661389-4c11-4e76-91d8-a9b398d135ce",
   "metadata": {
    "pycharm": {
     "name": "#%%\n"
    }
   },
   "outputs": [],
   "source": [
    "pp_cols = np.random.choice(all_x_df.columns, 5, replace=False)\n",
    "pp_df = all_x_df[pp_cols].join(all_y_s)"
   ]
  },
  {
   "cell_type": "code",
   "execution_count": 47,
   "id": "d1f7a6c7-a549-466d-9cf1-bfb2f00f8df5",
   "metadata": {
    "tags": [],
    "pycharm": {
     "name": "#%%\n"
    }
   },
   "outputs": [
    {
     "ename": "ValueError",
     "evalue": "Cannot take a larger sample than population when 'replace=False'",
     "output_type": "error",
     "traceback": [
      "\u001B[0;31m---------------------------------------------------------------------------\u001B[0m",
      "\u001B[0;31mValueError\u001B[0m                                Traceback (most recent call last)",
      "\u001B[0;32m/tmp/ipykernel_3203904/2454828807.py\u001B[0m in \u001B[0;36m<module>\u001B[0;34m\u001B[0m\n\u001B[0;32m----> 1\u001B[0;31m sns.pairplot(pp_df.groupby(all_y_s.name).sample(4000), hue='is_speaking', kind='hist',\n\u001B[0m\u001B[1;32m      2\u001B[0m              \u001B[0mdiag_kind\u001B[0m\u001B[0;34m=\u001B[0m\u001B[0;34m'kde'\u001B[0m\u001B[0;34m,\u001B[0m \u001B[0mdiag_kws\u001B[0m\u001B[0;34m=\u001B[0m\u001B[0mdict\u001B[0m\u001B[0;34m(\u001B[0m\u001B[0mcommon_norm\u001B[0m\u001B[0;34m=\u001B[0m\u001B[0;32mFalse\u001B[0m\u001B[0;34m)\u001B[0m\u001B[0;34m,\u001B[0m\u001B[0;34m\u001B[0m\u001B[0;34m\u001B[0m\u001B[0m\n\u001B[1;32m      3\u001B[0m              \u001B[0mplot_kws\u001B[0m\u001B[0;34m=\u001B[0m\u001B[0mdict\u001B[0m\u001B[0;34m(\u001B[0m \u001B[0mbinwidth\u001B[0m\u001B[0;34m=\u001B[0m\u001B[0;36m0.1\u001B[0m\u001B[0;34m)\u001B[0m\u001B[0;34m\u001B[0m\u001B[0;34m\u001B[0m\u001B[0m\n\u001B[1;32m      4\u001B[0m             )\n",
      "\u001B[0;32m~/.conda/envs/venv_research/lib/python3.9/site-packages/pandas/core/groupby/groupby.py\u001B[0m in \u001B[0;36msample\u001B[0;34m(self, n, frac, replace, weights, random_state)\u001B[0m\n\u001B[1;32m   3801\u001B[0m                 \u001B[0msample_size\u001B[0m \u001B[0;34m=\u001B[0m \u001B[0mround\u001B[0m\u001B[0;34m(\u001B[0m\u001B[0mfrac\u001B[0m \u001B[0;34m*\u001B[0m \u001B[0mgroup_size\u001B[0m\u001B[0;34m)\u001B[0m\u001B[0;34m\u001B[0m\u001B[0;34m\u001B[0m\u001B[0m\n\u001B[1;32m   3802\u001B[0m \u001B[0;34m\u001B[0m\u001B[0m\n\u001B[0;32m-> 3803\u001B[0;31m             grp_sample = sample.sample(\n\u001B[0m\u001B[1;32m   3804\u001B[0m                 \u001B[0mgroup_size\u001B[0m\u001B[0;34m,\u001B[0m\u001B[0;34m\u001B[0m\u001B[0;34m\u001B[0m\u001B[0m\n\u001B[1;32m   3805\u001B[0m                 \u001B[0msize\u001B[0m\u001B[0;34m=\u001B[0m\u001B[0msample_size\u001B[0m\u001B[0;34m,\u001B[0m\u001B[0;34m\u001B[0m\u001B[0;34m\u001B[0m\u001B[0m\n",
      "\u001B[0;32m~/.conda/envs/venv_research/lib/python3.9/site-packages/pandas/core/sample.py\u001B[0m in \u001B[0;36msample\u001B[0;34m(obj_len, size, replace, weights, random_state)\u001B[0m\n\u001B[1;32m    148\u001B[0m             \u001B[0;32mraise\u001B[0m \u001B[0mValueError\u001B[0m\u001B[0;34m(\u001B[0m\u001B[0;34m\"Invalid weights: weights sum to zero\"\u001B[0m\u001B[0;34m)\u001B[0m\u001B[0;34m\u001B[0m\u001B[0;34m\u001B[0m\u001B[0m\n\u001B[1;32m    149\u001B[0m \u001B[0;34m\u001B[0m\u001B[0m\n\u001B[0;32m--> 150\u001B[0;31m     return random_state.choice(obj_len, size=size, replace=replace, p=weights).astype(\n\u001B[0m\u001B[1;32m    151\u001B[0m         \u001B[0mnp\u001B[0m\u001B[0;34m.\u001B[0m\u001B[0mintp\u001B[0m\u001B[0;34m,\u001B[0m \u001B[0mcopy\u001B[0m\u001B[0;34m=\u001B[0m\u001B[0;32mFalse\u001B[0m\u001B[0;34m\u001B[0m\u001B[0;34m\u001B[0m\u001B[0m\n\u001B[1;32m    152\u001B[0m     )\n",
      "\u001B[0;32mmtrand.pyx\u001B[0m in \u001B[0;36mnumpy.random.mtrand.RandomState.choice\u001B[0;34m()\u001B[0m\n",
      "\u001B[0;31mValueError\u001B[0m: Cannot take a larger sample than population when 'replace=False'"
     ]
    }
   ],
   "source": [
    "sns.pairplot(pp_df.groupby(all_y_s.name).sample(4000), hue='is_speaking', kind='hist',\n",
    "             diag_kind='kde', diag_kws=dict(common_norm=False),\n",
    "             plot_kws=dict( binwidth=0.1)\n",
    "            )"
   ]
  },
  {
   "cell_type": "code",
   "execution_count": null,
   "id": "2078e2ef-d296-4c74-aaf4-1b4484dd48da",
   "metadata": {
    "tags": [],
    "pycharm": {
     "name": "#%%\n"
    }
   },
   "outputs": [],
   "source": [
    "%%time\n",
    "sns.pairplot(pp_df.sample(10000), hue='is_speaking', kind='kde', diag_kws=dict(common_norm=False), plot_kws=dict(alpha=0.7))"
   ]
  },
  {
   "cell_type": "code",
   "execution_count": null,
   "id": "9f2fe4b4-ab84-4a26-a1e6-478f1b20ab19",
   "metadata": {
    "pycharm": {
     "name": "#%%\n"
    }
   },
   "outputs": [],
   "source": []
  }
 ],
 "metadata": {
  "kernelspec": {
   "display_name": "Python 3 (ipykernel)",
   "language": "python",
   "name": "python3"
  },
  "language_info": {
   "codemirror_mode": {
    "name": "ipython",
    "version": 3
   },
   "file_extension": ".py",
   "mimetype": "text/x-python",
   "name": "python",
   "nbconvert_exporter": "python",
   "pygments_lexer": "ipython3",
   "version": "3.9.9"
  }
 },
 "nbformat": 4,
 "nbformat_minor": 5
}